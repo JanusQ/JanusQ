{
 "cells": [
  {
   "cell_type": "markdown",
   "metadata": {},
   "source": [
    "If the cell raises error of  \"No module named 'chocoq'\", please open a new terminal and excute\n",
    "```bash\n",
    "conda activate chocoq_cpu\n",
    "```\n",
    "or \n",
    "```bash\n",
    "conda activate chocoq_gpu\n",
    "```\n",
    "enter into the `Choco-Q/` dir and excute\n",
    "```bash\n",
    "pip install .\n",
    "```\n",
    "reopen this notebook and rerun the cells."
   ]
  },
  {
   "cell_type": "markdown",
   "metadata": {},
   "source": [
    "## import the packages"
   ]
  },
  {
   "cell_type": "code",
   "execution_count": 1,
   "metadata": {},
   "outputs": [],
   "source": [
    "should_print = True # True for debug model and False for release mode.\n",
    "\n",
    "import os\n",
    "os.chdir(\"../..\")\n",
    "import sys\n",
    "sys.path.append('..')\n",
    "import logging\n",
    "logging.basicConfig(level=logging.WARN)\n",
    "\n",
    "from janusq.application.chocoq.chocoq.model import LinearConstrainedBinaryOptimization as LcboModel\n",
    "from janusq.application.chocoq.chocoq.solvers.optimizers import CobylaOptimizer, AdamOptimizer\n",
    "from janusq.application.chocoq.chocoq.solvers.qiskit import (\n",
    "    PenaltySolver, CyclicSolver, HeaSolver, ChocoSolver, \n",
    "    AerGpuProvider, AerProvider, FakeBrisbaneProvider, FakeKyivProvider, FakeTorinoProvider, DdsimProvider,\n",
    ")"
   ]
  },
  {
   "cell_type": "markdown",
   "metadata": {},
   "source": [
    "## customize the constrained problem"
   ]
  },
  {
   "cell_type": "code",
   "execution_count": 2,
   "metadata": {},
   "outputs": [
    {
     "name": "stdout",
     "output_type": "stream",
     "text": [
      "[[ 1  1 -1  0  0  0]\n",
      " [ 0  0  1  1 -1  1]]\n",
      "m:\n",
      "variables:\n",
      "x_0 (type: binary)   x_1 (type: binary)   x_2 (type: binary)   x_3 (type: binary)   x_4 (type: binary)\n",
      "\n",
      "obj:\n",
      "max 1 * x_0 * x_3 + 1 * x_1 * x_3 + 1 * x_2\n",
      "\n",
      "s.t.:\n",
      "1 * x_0 + 1 * x_1 + -1 * x_2 == 0\n",
      "1 * x_2 + 1 * x_3 + -1 * x_4 == 1\n",
      "\n",
      "penalty_lambda:\n",
      "32767\n",
      "\n",
      "\n"
     ]
    }
   ],
   "source": [
    "# ----------------------- model -----------------------\n",
    "m = LcboModel()\n",
    "x = m.addVars(5, name=\"x\") ## add five binary variables with prefix name x\n",
    "m.setObjective((x[0] + x[1])* x[3] + x[2], \"max\") ## set the maximum objective with (x[0]+x[1])x[3] + x[2]\n",
    "# m.addConstr(x[0] + x[1] + x[2] == 2)\n",
    "# m.addConstr(x[0] + x[1] == 1)\n",
    "\n",
    "m.addConstr(x[0] + x[1] - x[2] == 0) #add linear constraints\n",
    "m.addConstr(x[2] + x[3] - x[4] == 1)\n",
    "\n",
    "print(m.lin_constr_mtx) #print linear constraints matrix\n",
    "print(m) # print the information of model."
   ]
  },
  {
   "cell_type": "markdown",
   "metadata": {},
   "source": [
    "The exact solution is"
   ]
  },
  {
   "cell_type": "code",
   "execution_count": 3,
   "metadata": {},
   "outputs": [
    {
     "name": "stdout",
     "output_type": "stream",
     "text": [
      "Restricted license - for non-production use only - expires 2026-11-23\n",
      "optimize_cost: (2.0, {'x_0': 0.0, 'x_1': 1.0, 'x_2': 1.0, 'x_3': 1.0, 'x_4': 1.0})\n",
      "\n",
      "\n"
     ]
    }
   ],
   "source": [
    "optimize = m.optimize()\n",
    "print(f\"optimize_cost: {optimize}\\n\\n\")"
   ]
  },
  {
   "cell_type": "markdown",
   "metadata": {},
   "source": [
    "Solve the optimization problem by Choco-Q."
   ]
  },
  {
   "cell_type": "code",
   "execution_count": 4,
   "metadata": {},
   "outputs": [
    {
     "ename": "TypeError",
     "evalue": "Expected LcboModel or ModelOption, got <class 'janusq.application.chocoq.chocoq.model.lin_constr_bin_opt.LinearConstrainedBinaryOptimization'>",
     "output_type": "error",
     "traceback": [
      "\u001b[0;31m---------------------------------------------------------------------------\u001b[0m",
      "\u001b[0;31mTypeError\u001b[0m                                 Traceback (most recent call last)",
      "Cell \u001b[0;32mIn[4], line 5\u001b[0m\n\u001b[1;32m      3\u001b[0m \u001b[38;5;66;03m# gpu = AerGpuProvider()\u001b[39;00m\n\u001b[1;32m      4\u001b[0m aer \u001b[38;5;241m=\u001b[39m DdsimProvider()\n\u001b[0;32m----> 5\u001b[0m solver \u001b[38;5;241m=\u001b[39m \u001b[43mChocoSolver\u001b[49m\u001b[43m(\u001b[49m\n\u001b[1;32m      6\u001b[0m \u001b[43m    \u001b[49m\u001b[43mprb_model\u001b[49m\u001b[38;5;241;43m=\u001b[39;49m\u001b[43mm\u001b[49m\u001b[43m,\u001b[49m\u001b[43m  \u001b[49m\u001b[38;5;66;43;03m# the problem model\u001b[39;49;00m\n\u001b[1;32m      7\u001b[0m \u001b[43m    \u001b[49m\u001b[43moptimizer\u001b[49m\u001b[38;5;241;43m=\u001b[39;49m\u001b[43mopt\u001b[49m\u001b[43m,\u001b[49m\u001b[43m  \u001b[49m\u001b[38;5;66;43;03m# the optimizer for parameters updating.\u001b[39;49;00m\n\u001b[1;32m      8\u001b[0m \u001b[43m    \u001b[49m\u001b[43mprovider\u001b[49m\u001b[38;5;241;43m=\u001b[39;49m\u001b[43maer\u001b[49m\u001b[43m,\u001b[49m\u001b[43m  \u001b[49m\u001b[38;5;66;43;03m# quantum circuit simulator.\u001b[39;49;00m\n\u001b[1;32m      9\u001b[0m \u001b[43m    \u001b[49m\u001b[43mnum_layers\u001b[49m\u001b[38;5;241;43m=\u001b[39;49m\u001b[38;5;241;43m1\u001b[39;49m\u001b[43m,\u001b[49m\n\u001b[1;32m     10\u001b[0m \u001b[43m)\u001b[49m\n\u001b[1;32m     11\u001b[0m \u001b[38;5;28mprint\u001b[39m(solver\u001b[38;5;241m.\u001b[39mcircuit_analyze([\u001b[38;5;124m'\u001b[39m\u001b[38;5;124mdepth\u001b[39m\u001b[38;5;124m'\u001b[39m, \u001b[38;5;124m'\u001b[39m\u001b[38;5;124mwidth\u001b[39m\u001b[38;5;124m'\u001b[39m, \u001b[38;5;124m'\u001b[39m\u001b[38;5;124mculled_depth\u001b[39m\u001b[38;5;124m'\u001b[39m, \u001b[38;5;124m'\u001b[39m\u001b[38;5;124mnum_one_qubit_gates\u001b[39m\u001b[38;5;124m'\u001b[39m])) \n\u001b[1;32m     12\u001b[0m \u001b[38;5;66;03m## the circuit analyze results\u001b[39;00m\n",
      "File \u001b[0;32m~/Data/Quantum Technology and Device/Tutorial/HPCA 2025/JanusQ/janusq/../janusq/application/chocoq/chocoq/solvers/qiskit/choco.py:75\u001b[0m, in \u001b[0;36mChocoSolver.__init__\u001b[0;34m(self, prb_model, optimizer, provider, num_layers, shots, mcx_mode)\u001b[0m\n\u001b[1;32m     65\u001b[0m \u001b[38;5;28;01mdef\u001b[39;00m\u001b[38;5;250m \u001b[39m\u001b[38;5;21m__init__\u001b[39m(\n\u001b[1;32m     66\u001b[0m     \u001b[38;5;28mself\u001b[39m,\n\u001b[1;32m     67\u001b[0m     \u001b[38;5;241m*\u001b[39m,\n\u001b[0;32m   (...)\u001b[0m\n\u001b[1;32m     73\u001b[0m     mcx_mode: \u001b[38;5;28mstr\u001b[39m \u001b[38;5;241m=\u001b[39m \u001b[38;5;124m\"\u001b[39m\u001b[38;5;124mconstant\u001b[39m\u001b[38;5;124m\"\u001b[39m,\n\u001b[1;32m     74\u001b[0m ):\n\u001b[0;32m---> 75\u001b[0m     \u001b[38;5;28;43msuper\u001b[39;49m\u001b[43m(\u001b[49m\u001b[43m)\u001b[49m\u001b[38;5;241;43m.\u001b[39;49m\u001b[38;5;21;43m__init__\u001b[39;49m\u001b[43m(\u001b[49m\u001b[43mprb_model\u001b[49m\u001b[43m,\u001b[49m\u001b[43m \u001b[49m\u001b[43moptimizer\u001b[49m\u001b[43m)\u001b[49m\n\u001b[1;32m     76\u001b[0m     \u001b[38;5;28mself\u001b[39m\u001b[38;5;241m.\u001b[39mcircuit_option \u001b[38;5;241m=\u001b[39m ChCircuitOption(\n\u001b[1;32m     77\u001b[0m         provider\u001b[38;5;241m=\u001b[39mprovider,\n\u001b[1;32m     78\u001b[0m         num_layers\u001b[38;5;241m=\u001b[39mnum_layers,\n\u001b[1;32m     79\u001b[0m         shots\u001b[38;5;241m=\u001b[39mshots,\n\u001b[1;32m     80\u001b[0m         mcx_mode\u001b[38;5;241m=\u001b[39mmcx_mode,\n\u001b[1;32m     81\u001b[0m     )\n",
      "File \u001b[0;32m~/anaconda3/envs/chocoq/lib/python3.10/site-packages/chocoq/solvers/abstract_solver.py:20\u001b[0m, in \u001b[0;36mSolver.__init__\u001b[0;34m(self, prb_model, optimizer)\u001b[0m\n\u001b[1;32m     18\u001b[0m     \u001b[38;5;28mself\u001b[39m\u001b[38;5;241m.\u001b[39mmodel_option \u001b[38;5;241m=\u001b[39m prb_model\n\u001b[1;32m     19\u001b[0m \u001b[38;5;28;01melse\u001b[39;00m:\n\u001b[0;32m---> 20\u001b[0m     \u001b[38;5;28;01mraise\u001b[39;00m \u001b[38;5;167;01mTypeError\u001b[39;00m(\u001b[38;5;124mf\u001b[39m\u001b[38;5;124m\"\u001b[39m\u001b[38;5;124mExpected LcboModel or ModelOption, got \u001b[39m\u001b[38;5;132;01m{\u001b[39;00m\u001b[38;5;28mtype\u001b[39m(prb_model)\u001b[38;5;132;01m}\u001b[39;00m\u001b[38;5;124m\"\u001b[39m)\n\u001b[1;32m     21\u001b[0m \u001b[38;5;28mself\u001b[39m\u001b[38;5;241m.\u001b[39moptimizer: Optimizer \u001b[38;5;241m=\u001b[39m optimizer\n\u001b[1;32m     22\u001b[0m \u001b[38;5;28mself\u001b[39m\u001b[38;5;241m.\u001b[39mcircuit_option: CircuitOption \u001b[38;5;241m=\u001b[39m \u001b[38;5;28;01mNone\u001b[39;00m\n",
      "\u001b[0;31mTypeError\u001b[0m: Expected LcboModel or ModelOption, got <class 'janusq.application.chocoq.chocoq.model.lin_constr_bin_opt.LinearConstrainedBinaryOptimization'>"
     ]
    }
   ],
   "source": [
    "# sovler ----------------------------------------------\n",
    "opt = CobylaOptimizer(max_iter=200) # set the optimizer COBYLA, the max iteration is 200.\n",
    "# gpu = AerGpuProvider()\n",
    "aer = DdsimProvider()\n",
    "solver = ChocoSolver(\n",
    "    prb_model=m,  # the problem model\n",
    "    optimizer=opt,  # the optimizer for parameters updating.\n",
    "    provider=aer,  # quantum circuit simulator.\n",
    "    num_layers=1,\n",
    ")\n",
    "print(solver.circuit_analyze(['depth', 'width', 'culled_depth', 'num_one_qubit_gates'])) \n",
    "## the circuit analyze results"
   ]
  },
  {
   "cell_type": "code",
   "execution_count": null,
   "metadata": {},
   "outputs": [],
   "source": [
    "result = solver.solve() # solving with input solver\n",
    "print(result)"
   ]
  },
  {
   "cell_type": "code",
   "execution_count": null,
   "metadata": {},
   "outputs": [],
   "source": [
    "eval = solver.evaluation() # evaluation of the solving results\n",
    "print(eval) "
   ]
  }
 ],
 "metadata": {
  "kernelspec": {
   "display_name": "chocoq",
   "language": "python",
   "name": "python3"
  },
  "language_info": {
   "codemirror_mode": {
    "name": "ipython",
    "version": 3
   },
   "file_extension": ".py",
   "mimetype": "text/x-python",
   "name": "python",
   "nbconvert_exporter": "python",
   "pygments_lexer": "ipython3",
   "version": "3.10.0"
  }
 },
 "nbformat": 4,
 "nbformat_minor": 2
}
