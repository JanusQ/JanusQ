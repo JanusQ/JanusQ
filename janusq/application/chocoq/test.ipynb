{
 "cells": [
  {
   "cell_type": "markdown",
   "metadata": {},
   "source": [
    "If the cell raises error of  \"No module named 'chocoq'\", please open a new terminal and excute\n",
    "```bash\n",
    "conda activate chocoq_cpu\n",
    "```\n",
    "or \n",
    "```bash\n",
    "conda activate chocoq_gpu\n",
    "```\n",
    "enter into the `Choco-Q/` dir and excute\n",
    "```bash\n",
    "pip install .\n",
    "```\n",
    "reopen this notebook and rerun the cells."
   ]
  },
  {
   "cell_type": "markdown",
   "metadata": {},
   "source": [
    "## import the packages"
   ]
  },
  {
   "cell_type": "code",
   "execution_count": 1,
   "metadata": {},
   "outputs": [],
   "source": [
    "should_print = True # True for debug model and False for release mode.\n",
    "\n",
    "import os\n",
    "os.chdir(\"../..\")\n",
    "import sys\n",
    "sys.path.append('..')\n",
    "import logging\n",
    "logging.basicConfig(level=logging.WARN)\n",
    "\n",
    "from janusq.application.chocoq.chocoq.model import LinearConstrainedBinaryOptimization as LcboModel\n",
    "from janusq.application.chocoq.chocoq.solvers.optimizers import CobylaOptimizer, AdamOptimizer\n",
    "from janusq.application.chocoq.chocoq.solvers.qiskit import (\n",
    "    PenaltySolver, CyclicSolver, HeaSolver, ChocoSolver, \n",
    "    AerGpuProvider, AerProvider, FakeBrisbaneProvider, FakeKyivProvider, FakeTorinoProvider, DdsimProvider,\n",
    ")"
   ]
  },
  {
   "cell_type": "markdown",
   "metadata": {},
   "source": [
    "## customize the constrained problem"
   ]
  },
  {
   "cell_type": "code",
   "execution_count": null,
   "metadata": {},
   "outputs": [],
   "source": [
    "# ----------------------- model -----------------------\n",
    "m = LcboModel()\n",
    "x = m.addVars(5, name=\"x\") ## add five binary variables with prefix name x\n",
    "m.setObjective((x[0] + x[1])* x[3] + x[2], \"max\") ## set the maximum objective with (x[0]+x[1])x[3] + x[2]\n",
    "# m.addConstr(x[0] + x[1] + x[2] == 2)\n",
    "# m.addConstr(x[0] + x[1] == 1)\n",
    "\n",
    "m.addConstr(x[0] + x[1] - x[2] == 0) #add linear constraints\n",
    "m.addConstr(x[2] + x[3] - x[4] == 1)\n",
    "\n",
    "print(m.lin_constr_mtx) #print linear constraints matrix\n",
    "print(m) # print the information of model."
   ]
  },
  {
   "cell_type": "markdown",
   "metadata": {},
   "source": [
    "The exact solution is"
   ]
  },
  {
   "cell_type": "code",
   "execution_count": null,
   "metadata": {},
   "outputs": [],
   "source": [
    "optimize = m.optimize()\n",
    "print(f\"optimize_cost: {optimize}\\n\\n\")"
   ]
  },
  {
   "cell_type": "markdown",
   "metadata": {},
   "source": [
    "Solve the optimization problem by Choco-Q."
   ]
  },
  {
   "cell_type": "code",
   "execution_count": null,
   "metadata": {},
   "outputs": [],
   "source": [
    "# sovler ----------------------------------------------\n",
    "opt = CobylaOptimizer(max_iter=200) # set the optimizer COBYLA, the max iteration is 200.\n",
    "# gpu = AerGpuProvider()\n",
    "aer = DdsimProvider()\n",
    "solver = ChocoSolver(\n",
    "    prb_model=m,  # the problem model\n",
    "    optimizer=opt,  # the optimizer for parameters updating.\n",
    "    provider=aer,  # quantum circuit simulator.\n",
    "    num_layers=1,\n",
    ")\n",
    "print(solver.circuit_analyze(['depth', 'width', 'culled_depth', 'num_one_qubit_gates'])) \n",
    "## the circuit analyze results"
   ]
  },
  {
   "cell_type": "code",
   "execution_count": null,
   "metadata": {},
   "outputs": [],
   "source": [
    "result = solver.solve() # solving with input solver\n",
    "print(result)"
   ]
  },
  {
   "cell_type": "code",
   "execution_count": null,
   "metadata": {},
   "outputs": [],
   "source": [
    "eval = solver.evaluation() # evaluation of the solving results\n",
    "print(eval) "
   ]
  }
 ],
 "metadata": {
  "kernelspec": {
   "display_name": "chocoq_cpu",
   "language": "python",
   "name": "python3"
  },
  "language_info": {
   "codemirror_mode": {
    "name": "ipython",
    "version": 3
   },
   "file_extension": ".py",
   "mimetype": "text/x-python",
   "name": "python",
   "nbconvert_exporter": "python",
   "pygments_lexer": "ipython3",
   "version": "3.10.0"
  }
 },
 "nbformat": 4,
 "nbformat_minor": 2
}
