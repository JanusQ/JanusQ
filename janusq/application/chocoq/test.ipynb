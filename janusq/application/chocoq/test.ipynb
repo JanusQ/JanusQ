{
 "cells": [
  {
   "cell_type": "markdown",
   "metadata": {},
   "source": [
    "## import the packages"
   ]
  },
  {
   "cell_type": "code",
   "execution_count": 1,
   "metadata": {},
   "outputs": [],
   "source": [
    "should_print = True # True for debug model and False for release mode.\n",
    "\n",
    "import os\n",
    "os.chdir(\"../../..\")\n",
    "import logging\n",
    "logging.basicConfig(level=logging.WARN)\n",
    "\n",
    "from janusq.application.chocoq.chocoq.model import LinearConstrainedBinaryOptimization as LcboModel\n",
    "from janusq.application.chocoq.chocoq.solvers.optimizers import CobylaOptimizer, AdamOptimizer\n",
    "from janusq.application.chocoq.chocoq.solvers.qiskit import (\n",
    "    PenaltySolver, CyclicSolver, HeaSolver, ChocoSolver, \n",
    "    AerGpuProvider, AerProvider, FakeBrisbaneProvider, FakeKyivProvider, FakeTorinoProvider, DdsimProvider,\n",
    ")"
   ]
  },
  {
   "cell_type": "markdown",
   "metadata": {},
   "source": [
    "## customize the constrained problem"
   ]
  },
  {
   "cell_type": "code",
   "execution_count": 2,
   "metadata": {},
   "outputs": [
    {
     "name": "stdout",
     "output_type": "stream",
     "text": [
      "[[ 1  1 -1  0  0  0]\n",
      " [ 0  0  1  1 -1  1]]\n",
      "m:\n",
      "variables:\n",
      "x_0 (type: binary)   x_1 (type: binary)   x_2 (type: binary)   x_3 (type: binary)   x_4 (type: binary)\n",
      "\n",
      "obj:\n",
      "max 1 * x_0 * x_3 + 1 * x_1 * x_3 + 1 * x_2\n",
      "\n",
      "s.t.:\n",
      "1 * x_0 + 1 * x_1 + -1 * x_2 == 0\n",
      "1 * x_2 + 1 * x_3 + -1 * x_4 == 1\n",
      "\n",
      "penalty_lambda:\n",
      "32767\n",
      "\n",
      "\n"
     ]
    }
   ],
   "source": [
    "# ----------------------- model -----------------------\n",
    "m = LcboModel()\n",
    "x = m.addVars(5, name=\"x\") ## add five binary variables with prefix name x\n",
    "m.setObjective((x[0] + x[1])* x[3] + x[2], \"max\") ## set the maximum objective with (x[0]+x[1])x[3] + x[2]\n",
    "# m.addConstr(x[0] + x[1] + x[2] == 2)\n",
    "# m.addConstr(x[0] + x[1] == 1)\n",
    "\n",
    "m.addConstr(x[0] + x[1] - x[2] == 0) #add linear constraints\n",
    "m.addConstr(x[2] + x[3] - x[4] == 1)\n",
    "\n",
    "print(m.lin_constr_mtx) #print linear constraints matrix\n",
    "print(m) # print the information of model."
   ]
  },
  {
   "cell_type": "markdown",
   "metadata": {},
   "source": [
    "The exact solution is"
   ]
  },
  {
   "cell_type": "code",
   "execution_count": 3,
   "metadata": {},
   "outputs": [
    {
     "name": "stdout",
     "output_type": "stream",
     "text": [
      "Restricted license - for non-production use only - expires 2026-11-23\n",
      "optimize_cost: (2.0, {'x_0': 0.0, 'x_1': 1.0, 'x_2': 1.0, 'x_3': 1.0, 'x_4': 1.0})\n",
      "\n",
      "\n"
     ]
    }
   ],
   "source": [
    "optimize = m.optimize()\n",
    "print(f\"optimize_cost: {optimize}\\n\\n\")"
   ]
  },
  {
   "cell_type": "markdown",
   "metadata": {},
   "source": [
    "Solve the optimization problem by Choco-Q."
   ]
  },
  {
   "cell_type": "code",
   "execution_count": 4,
   "metadata": {},
   "outputs": [
    {
     "name": "stdout",
     "output_type": "stream",
     "text": [
      "best_cost: 2.0\n",
      "best_solution_case: [0.0, 1.0, 1.0, 1.0, 1.0]\n",
      "\n",
      "[127, 12, 62, None]\n"
     ]
    }
   ],
   "source": [
    "# sovler ----------------------------------------------\n",
    "opt = CobylaOptimizer(max_iter=200) # set the optimizer COBYLA, the max iteration is 200.\n",
    "# gpu = AerGpuProvider()\n",
    "aer = DdsimProvider()\n",
    "solver = ChocoSolver(\n",
    "    prb_model=m,  # the problem model\n",
    "    optimizer=opt,  # the optimizer for parameters updating.\n",
    "    provider=aer,  # quantum circuit simulator.\n",
    "    num_layers=1,\n",
    ")\n",
    "print(solver.circuit_analyze(['depth', 'width', 'culled_depth', 'num_one_qubit_gates'])) \n",
    "## the circuit analyze results"
   ]
  },
  {
   "cell_type": "code",
   "execution_count": 5,
   "metadata": {},
   "outputs": [
    {
     "name": "stdout",
     "output_type": "stream",
     "text": [
      "iteration 10, result: 1.1220703125\n",
      "iteration 20, result: 1.1396484375\n",
      "best_params: [5.2655 2.8337]\n",
      "([[0, 0, 0, 1, 0], [1, 0, 1, 0, 0], [1, 0, 1, 1, 1]], [0.0869140625, 0.7001953125, 0.212890625], 29)\n"
     ]
    }
   ],
   "source": [
    "result = solver.solve() # solving with input solver\n",
    "print(result)"
   ]
  },
  {
   "cell_type": "code",
   "execution_count": 6,
   "metadata": {},
   "outputs": [
    {
     "name": "stdout",
     "output_type": "stream",
     "text": [
      "\n",
      "[0, 0, 0, 1, 0]: 0 ~ 0.0869140625\n",
      "[1, 0, 1, 0, 0]: 1 ~ 0.7001953125\n",
      "[1, 0, 1, 1, 1]: 2 ~ 0.212890625\n",
      "\n",
      "best_solution_probs: 21.3\n",
      "in_constraint_probs: 100.0\n",
      "ARG: 0.4370117166\n",
      "mean_cost: 1.1\n",
      "\n",
      "[21.2890625, 100.0, 0.4370117165649414, 29]\n"
     ]
    }
   ],
   "source": [
    "eval = solver.evaluation() # evaluation of the solving results\n",
    "print(eval) "
   ]
  }
 ],
 "metadata": {
  "kernelspec": {
   "display_name": "chocoq",
   "language": "python",
   "name": "python3"
  },
  "language_info": {
   "codemirror_mode": {
    "name": "ipython",
    "version": 3
   },
   "file_extension": ".py",
   "mimetype": "text/x-python",
   "name": "python",
   "nbconvert_exporter": "python",
   "pygments_lexer": "ipython3",
   "version": "3.10.16"
  }
 },
 "nbformat": 4,
 "nbformat_minor": 2
}
