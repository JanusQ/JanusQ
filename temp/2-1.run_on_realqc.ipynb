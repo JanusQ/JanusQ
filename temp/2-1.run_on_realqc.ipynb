{
 "cells": [
  {
   "cell_type": "markdown",
   "metadata": {},
   "source": [
    "# Submit Quantum Circuit to the Cloud Platform"
   ]
  },
  {
   "cell_type": "markdown",
   "metadata": {},
   "source": [
    "In this notebook, we introduce the API to submit tasks to quantum cloud platform."
   ]
  },
  {
   "cell_type": "code",
   "execution_count": 1,
   "metadata": {},
   "outputs": [],
   "source": [
    "import sys\n",
    "sys.path.append('..')\n",
    "import numpy as np\n",
    "import matplotlib.pyplot as plt\n",
    "from janusq.cloud_interface import submit, get_result\n",
    "from janusq.data_objects.circuit import Circuit"
   ]
  },
  {
   "cell_type": "code",
   "execution_count": 2,
   "metadata": {},
   "outputs": [
    {
     "ename": "AttributeError",
     "evalue": "'Circuit' object has no attribute 'h'",
     "output_type": "error",
     "traceback": [
      "\u001b[0;31m---------------------------------------------------------------------------\u001b[0m",
      "\u001b[0;31mAttributeError\u001b[0m                            Traceback (most recent call last)",
      "Cell \u001b[0;32mIn[2], line 3\u001b[0m\n\u001b[1;32m      1\u001b[0m \u001b[38;5;66;03m# define a circuit\u001b[39;00m\n\u001b[1;32m      2\u001b[0m circuit \u001b[38;5;241m=\u001b[39m Circuit([], n_qubits \u001b[38;5;241m=\u001b[39m \u001b[38;5;241m3\u001b[39m)\n\u001b[0;32m----> 3\u001b[0m \u001b[43mcircuit\u001b[49m\u001b[38;5;241;43m.\u001b[39;49m\u001b[43mh\u001b[49m(\u001b[38;5;241m0\u001b[39m, [\u001b[38;5;241m0\u001b[39m])\n\u001b[1;32m      4\u001b[0m circuit\u001b[38;5;241m.\u001b[39mcx(\u001b[38;5;241m0\u001b[39m, \u001b[38;5;241m1\u001b[39m)\n\u001b[1;32m      5\u001b[0m circuit\u001b[38;5;241m.\u001b[39mcx(\u001b[38;5;241m1\u001b[39m, \u001b[38;5;241m2\u001b[39m)\n",
      "\u001b[0;31mAttributeError\u001b[0m: 'Circuit' object has no attribute 'h'"
     ]
    }
   ],
   "source": [
    "# define a circuit\n",
    "circuit = Circuit([], n_qubits = 4)\n",
    "circuit.h(0, 0)\n",
    "circuit.cx(0, 1, 1)\n",
    "circuit.cx(1, 2, 2)\n",
    "circuit.cx(2, 3, 3)\n",
    "print(circuit)"
   ]
  },
  {
   "cell_type": "code",
   "execution_count": null,
   "metadata": {},
   "outputs": [
    {
     "name": "stdout",
     "output_type": "stream",
     "text": [
      "{'status': 0, 'msg': '成功', 'data': {'result_id': 'a79880a1a8824a1e89bd5e6c9fee97b8'}}\n"
     ]
    }
   ],
   "source": [
    "# submit it to the cloud\n",
    "label = 'GHZ'\n",
    "shots = 3000\n",
    "result = submit(circuit=circuit, label=label, shots=shots, run_type='simulator', API_TOKEN='')\n",
    "print(result)"
   ]
  },
  {
   "cell_type": "markdown",
   "metadata": {},
   "source": [
    "If the token is not valid, the circuit will be executed simulated locally. Otherwise, it will be executed on the cloud platform."
   ]
  },
  {
   "cell_type": "code",
   "execution_count": 3,
   "metadata": {},
   "outputs": [
    {
     "ename": "NameError",
     "evalue": "name 'result' is not defined",
     "output_type": "error",
     "traceback": [
      "\u001b[0;31m---------------------------------------------------------------------------\u001b[0m",
      "\u001b[0;31mNameError\u001b[0m                                 Traceback (most recent call last)",
      "Cell \u001b[0;32mIn[3], line 2\u001b[0m\n\u001b[1;32m      1\u001b[0m \u001b[38;5;66;03m# get the result and plot the distribution\u001b[39;00m\n\u001b[0;32m----> 2\u001b[0m result_id \u001b[38;5;241m=\u001b[39m \u001b[43mresult\u001b[49m[\u001b[38;5;124m'\u001b[39m\u001b[38;5;124mdata\u001b[39m\u001b[38;5;124m'\u001b[39m][\u001b[38;5;124m'\u001b[39m\u001b[38;5;124mresult_id\u001b[39m\u001b[38;5;124m'\u001b[39m]\n\u001b[1;32m      3\u001b[0m result \u001b[38;5;241m=\u001b[39m get_result(result_id, run_type\u001b[38;5;241m=\u001b[39m\u001b[38;5;124m'\u001b[39m\u001b[38;5;124msimulator\u001b[39m\u001b[38;5;124m'\u001b[39m, result_format\u001b[38;5;241m=\u001b[39m\u001b[38;5;124m'\u001b[39m\u001b[38;5;124mprobs\u001b[39m\u001b[38;5;124m'\u001b[39m)\n\u001b[1;32m      4\u001b[0m \u001b[38;5;28mprint\u001b[39m(result)\n",
      "\u001b[0;31mNameError\u001b[0m: name 'result' is not defined"
     ]
    }
   ],
   "source": [
    "# get the result and plot the distribution\n",
    "result_id = result['data']['result_id']\n",
    "result = get_result(result_id, run_type='simulator', result_format='probs')\n",
    "print(result)\n",
    "\n",
    "x = range(len(result))\n",
    "\n",
    "plt.bar(x, result)\n",
    "plt.xlabel('Bitstring')\n",
    "plt.ylabel('Prob')\n",
    "plt.title('Prob distribution for GHZ')\n",
    "plt.show()"
   ]
  },
  {
   "cell_type": "code",
   "execution_count": null,
   "metadata": {},
   "outputs": [],
   "source": []
  }
 ],
 "metadata": {
  "kernelspec": {
   "display_name": "Python 3",
   "language": "python",
   "name": "python3"
  },
  "language_info": {
   "codemirror_mode": {
    "name": "ipython",
    "version": 3
   },
   "file_extension": ".py",
   "mimetype": "text/x-python",
   "name": "python",
   "nbconvert_exporter": "python",
   "pygments_lexer": "ipython3",
   "version": "3.10.12"
  }
 },
 "nbformat": 4,
 "nbformat_minor": 2
}
