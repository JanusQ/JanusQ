{
 "cells": [
  {
   "cell_type": "markdown",
   "metadata": {},
   "source": [
    "# Unitary Decomposition Based on JanusQ-CT\n",
    "\n",
    "**Author:** Congliang Lang \\& Siwei Tan  \n",
    "\n",
    "**Date:** 8/4/2024\n",
    "\n",
    "Based on \"[QuCT: A Framework for Analyzing Quantum Circuit by Extracting Contextual and Topological Features (MICRO 2023][1]\"\n",
    "\n",
    "[1]: https://scholar.google.com/scholar_url?url=https://dl.acm.org/doi/abs/10.1145/3613424.3614274%3Fcasa_token%3DffjIB1hQ4ZwAAAAA:8MajDLrDOC74WoeMf7r7AoQ-koxCa4E1TNqQg3GSDz03xUX6XdE3toNTM-YdM_e4rKEusMceJ6BGJg&hl=zh-CN&sa=T&oi=gsb&ct=res&cd=0&d=11146218754516883150&ei=42YSZpPlFL6s6rQPtt6x6Ac&scisig=AFWwaeYaiu2hyx8HUJ_7Buf9Mwom\n",
    "\n",
    "The expressiveness of gate vectors enables JanusQ-CT to reconstruct sub-circuits via gate vectors, which is a necessary ability for tasks involving circuit generation, such as the unitary decomposition. Unitary decomposition is a task that takes a unitary as input and decomposes it into matrices of basic gates, resulting in an equivalent circuit."
   ]
  },
  {
   "cell_type": "code",
   "execution_count": 1,
   "metadata": {},
   "outputs": [
    {
     "name": "stderr",
     "output_type": "stream",
     "text": [
      "2024-04-21 02:44:49,989\tWARNING services.py:1996 -- WARNING: The object store is using /tmp instead of /dev/shm because /dev/shm has only 67104768 bytes available. This will harm performance! You may be able to free up space by deleting files in /dev/shm. If you are inside a Docker container, you can increase /dev/shm size by passing '--shm-size=0.83gb' to 'docker run' (or add it to the run_options list in a Ray cluster config). Make sure to set this to more than 30% of available RAM.\n",
      "2024-04-21 02:44:51,552\tINFO worker.py:1724 -- Started a local Ray instance.\n"
     ]
    }
   ],
   "source": [
    "import sys\n",
    "sys.path.append('..')\n",
    "import os\n",
    "os.chdir(\"..\")\n",
    "import logging\n",
    "logging.basicConfig(level=logging.WARN)\n",
    "import ray\n",
    "ray.init(log_to_driver=False)\n",
    "from qiskit.quantum_info import random_unitary\n",
    "from janusq.data_objects.circuit import qiskit_to_circuit\n",
    "from janusq.data_objects.backend import  LinearBackend\n",
    "from janusq.analysis.vectorization import RandomwalkModel\n",
    "from janusq.data_objects.random_circuit import random_circuits\n",
    "from janusq.analysis.unitary_decompostion import decompose\n",
    "import time"
   ]
  },
  {
   "cell_type": "markdown",
   "metadata": {},
   "source": [
    "## Construct U2V model\n",
    "\n",
    "The U2V model serves as the bridge between unitaries and gate vectors, where the sub-circuits reconstructed from these candidate vectors will replace the search space of QFAST. To build such a model, we obtain a U2V dataset composed of <$unitary,~\\{vectors\\}$> pairs, derived from a set of random circuits generated with the same scheme mentioned in Section~\\ref{sec:equ_prediction}."
   ]
  },
  {
   "cell_type": "code",
   "execution_count": 2,
   "metadata": {},
   "outputs": [],
   "source": [
    "n_qubits = 4\n",
    "backend = LinearBackend(n_qubits, 1, basis_two_gates = ['crz'])"
   ]
  },
  {
   "cell_type": "code",
   "execution_count": 3,
   "metadata": {},
   "outputs": [
    {
     "name": "stderr",
     "output_type": "stream",
     "text": [
      "100%|█████████████████████████████████████████████| 6/6 [00:13<00:00,  2.20s/it]\n"
     ]
    },
    {
     "name": "stdout",
     "output_type": "stream",
     "text": [
      "len(Us) =  994 len(gate_vecs) =  994\n",
      "Start construct U2VMdoel\n",
      "Finish construct U2VMdoel, costing 21.951562881469727s\n"
     ]
    }
   ],
   "source": [
    "from janusq.analysis.unitary_decompostion import U2VModel\n",
    "\n",
    "n_step = 2\n",
    "\n",
    "dataset = random_circuits(backend, n_circuits=50, n_gate_list=[30, 50, 100], two_qubit_prob_list=[.4], reverse=False)\n",
    "\n",
    "vec_model = RandomwalkModel(\n",
    "    n_step, 4 ** n_step, backend, directions=('parallel', 'next'))\n",
    "vec_model.train(dataset, multi_process=True,\n",
    "                        remove_redundancy=False)\n",
    "\n",
    "u2v_model = U2VModel(vec_model)\n",
    "data = u2v_model.construct_data(dataset, multi_process=False)\n",
    "u2v_model.train(data, n_qubits)\n"
   ]
  },
  {
   "cell_type": "markdown",
   "metadata": {},
   "source": [
    "## Decompose a Unitary"
   ]
  },
  {
   "cell_type": "code",
   "execution_count": null,
   "metadata": {},
   "outputs": [],
   "source": [
    "# generate a random unitary\n",
    "unitary = random_unitary(2**n_qubits).data\n",
    "\n",
    "# apply decomposition\n",
    "start_time = time.time()\n",
    "quct_circuit = decompose(unitary, allowed_dist = 0.2, backend = backend, u2v_model = u2v_model, multi_process = False)\n",
    "quct_time = time.time() - start_time\n",
    "\n",
    "\n",
    "print(quct_time)\n",
    "\n",
    "str(quct_circuit)"
   ]
  },
  {
   "cell_type": "code",
   "execution_count": null,
   "metadata": {},
   "outputs": [],
   "source": [
    "# compare it with the qsd method\n",
    "from qiskit.synthesis.unitary.qsd import qs_decomposition\n",
    "\n",
    "start_time =time.time()\n",
    "qc = qs_decomposition(unitary)\n",
    "\n",
    "qsd_circuit = qiskit_to_circuit(qc)\n",
    "qsd_time = time.time() - start_time\n",
    "\n",
    "print(qsd_time)\n",
    "\n",
    "str(qsd_circuit)"
   ]
  },
  {
   "cell_type": "code",
   "execution_count": null,
   "metadata": {},
   "outputs": [],
   "source": [
    "synthesis_method_result = [qsd_circuit,  quct_circuit]\n",
    "synthesis_method_time = [qsd_time,  quct_time]\n",
    "for res, tim in zip(synthesis_method_result, synthesis_method_time):\n",
    "    print(f\"#gate: {res.n_gates}, #two_qubit_gate: {res.num_two_qubit_gate}, depth: {res.depth}, time: {tim} \\n\")"
   ]
  }
 ],
 "metadata": {
  "kernelspec": {
   "display_name": "Python 3 (ipykernel)",
   "language": "python",
   "name": "python3"
  },
  "language_info": {
   "codemirror_mode": {
    "name": "ipython",
    "version": 3
   },
   "file_extension": ".py",
   "mimetype": "text/x-python",
   "name": "python",
   "nbconvert_exporter": "python",
   "pygments_lexer": "ipython3",
   "version": "3.10.12"
  }
 },
 "nbformat": 4,
 "nbformat_minor": 4
}
