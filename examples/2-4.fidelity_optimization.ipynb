{
 "cells": [
  {
   "cell_type": "code",
   "execution_count": 1,
   "metadata": {},
   "outputs": [
    {
     "name": "stderr",
     "output_type": "stream",
     "text": [
      "2024-04-15 03:06:09,855\tWARNING services.py:1996 -- WARNING: The object store is using /tmp instead of /dev/shm because /dev/shm has only 66961408 bytes available. This will harm performance! You may be able to free up space by deleting files in /dev/shm. If you are inside a Docker container, you can increase /dev/shm size by passing '--shm-size=10.24gb' to 'docker run' (or add it to the run_options list in a Ray cluster config). Make sure to set this to more than 30% of available RAM.\n",
      "2024-04-15 03:06:09,993\tINFO worker.py:1724 -- Started a local Ray instance.\n"
     ]
    }
   ],
   "source": [
    "import sys\n",
    "sys.path.append('..')\n",
    "import os\n",
    "os.chdir(\"..\")\n",
    "import logging\n",
    "logging.basicConfig(level=logging.WARN)\n",
    "import ray\n",
    "ray.init(log_to_driver=False)\n",
    "from janusq.analysis.fidelity_prediction import FidelityModel\n",
    "from janusq.simulator.gate_error_model import GateErrorModel\n",
    "\n",
    "from janusq.analysis.vectorization import RandomwalkModel\n",
    "\n",
    "from janusq.data_objects.random_circuit import random_circuits\n",
    "from janusq.data_objects.backend import FullyConnectedBackend\n",
    "\n",
    "from janusq.simulator.noisy_simulator import NoisySimulator\n",
    "import random\n",
    "\n",
    "from janusq.tools.ray_func import map"
   ]
  },
  {
   "cell_type": "markdown",
   "metadata": {},
   "source": [
    "# Noise Optimization Based on JanusQ-CT\n",
    "\n",
    "\n",
    "**Author:** Congliang Lang \\& Siwei Tan  \n",
    "\n",
    "**Date:** 7/4/2024\n",
    "\n",
    "Based on \"[QuCT: A Framework for Analyzing Quantum Circuit by Extracting Contextual and Topological Features (MICRO 2023][1]\"\n",
    "\n",
    "[1]: https://scholar.google.com/scholar_url?url=https://dl.acm.org/doi/abs/10.1145/3613424.3614274%3Fcasa_token%3DffjIB1hQ4ZwAAAAA:8MajDLrDOC74WoeMf7r7AoQ-koxCa4E1TNqQg3GSDz03xUX6XdE3toNTM-YdM_e4rKEusMceJ6BGJg&hl=zh-CN&sa=T&oi=gsb&ct=res&cd=0&d=11146218754516883150&ei=42YSZpPlFL6s6rQPtt6x6Ac&scisig=AFWwaeYaiu2hyx8HUJ_7Buf9Mwom\n",
    "\n",
    "The accurate fidelity prediction enables JanusQ-CT to guide the noise optimization. In this notebook, we introduce two optimization strategies."
   ]
  },
  {
   "cell_type": "markdown",
   "metadata": {},
   "source": [
    "## Mapping\n",
    "\n",
    "A typical compilation flow includes routing and scheduling. The routing pass transforms the circuit to satisfy the processor topology. Clearly, it inserts SWAP gates to change the qubit mapping, ensuring that all two-qubit gates can be implemented by the coupler of the processor. By precisely predicting the fidelity, QuCT can be integrated with existing compilers to find the routing solution with the best fidelity. \n",
    "\n",
    "For example, wecan use Janus-CT to guide the mapping of qiskit."
   ]
  },
  {
   "cell_type": "code",
   "execution_count": 2,
   "metadata": {},
   "outputs": [
    {
     "name": "stderr",
     "output_type": "stream",
     "text": [
      "100%|██████████| 501/501 [00:04<00:00, 104.23it/s]\n"
     ]
    }
   ],
   "source": [
    "# build a simulator\n",
    "\n",
    "n_qubits = 5\n",
    "n_steps = 1\n",
    "n_walks = 20\n",
    "backend = FullyConnectedBackend(n_qubits)\n",
    "\n",
    "circuits = random_circuits(backend, n_circuits=500, n_gate_list=[30, 50, 100], two_qubit_prob_list=[.4], reverse=True)\n",
    "vec_model = RandomwalkModel(n_steps = n_steps, n_walks = n_walks, backend = backend)\n",
    "vec_model.train(circuits, multi_process=False, remove_redundancy = False)\n",
    "\n",
    "all_paths = vec_model.all_paths()\n",
    "high_error_paths = random.choices(all_paths, k = 20)\n",
    "\n",
    "error_model = GateErrorModel.random_model(backend=backend, high_error_paths=high_error_paths)\n",
    "error_model.vec_model = vec_model\n",
    "\n",
    "simulator = NoisySimulator(backend=backend, gate_error_model = error_model)"
   ]
  },
  {
   "cell_type": "code",
   "execution_count": 3,
   "metadata": {},
   "outputs": [
    {
     "name": "stderr",
     "output_type": "stream",
     "text": [
      "400it [00:00, 623920.27it/s]\n",
      "101it [00:00, 545908.12it/s]\n"
     ]
    }
   ],
   "source": [
    "# train a fidelity model\n",
    "ground_truth_fidelities = map(lambda circuit: simulator.obtain_circuit_fidelity(circuit)[0], circuits, show_progress=False, multi_process=True)\n",
    "\n",
    "fidelity_model = FidelityModel(vec_model)\n",
    "fidelity_model.train((circuits, ground_truth_fidelities))"
   ]
  },
  {
   "cell_type": "code",
   "execution_count": 4,
   "metadata": {},
   "outputs": [],
   "source": [
    "# generate a set of benchmarking circuits\n",
    "\n",
    "from janusq.data_objects.algorithms import get_algs\n",
    "from janusq.optimizations.scheduling.scheduling_ct import Scheduler\n",
    "from janusq.optimizations.mapping.mapping_ct import Mapper\n",
    "algs = ['qft', 'hs', 'ising', 'qknn', 'qsvm', 'vqc', 'ghz', 'grover']\n",
    "benchmarking_circuits = get_algs(n_qubits, backend, algs)"
   ]
  },
  {
   "cell_type": "markdown",
   "metadata": {},
   "source": [
    "We evaluate the mapping guided by JanusQ-CT model with the qiskit optimizer with level = 3."
   ]
  },
  {
   "cell_type": "code",
   "execution_count": 5,
   "metadata": {},
   "outputs": [
    {
     "name": "stdout",
     "output_type": "stream",
     "text": [
      "before mapping:  0.8322933616698449 after mapping:  0.8322441293645302\n",
      "before mapping:  0.5885327581245511 after mapping:  0.39103071029283903\n",
      "before mapping:  0.7760552314133228 after mapping:  0.6745903136071159\n",
      "before mapping:  0.5833476691646966 after mapping:  0.5786318729330259\n",
      "before mapping:  0.6649542614672598 after mapping:  0.7817944085682973\n",
      "before mapping:  0.7355183450114785 after mapping:  0.790338687882546\n",
      "before mapping:  0.03257843042598762 after mapping:  0.04238801140860788\n",
      "before mapping:  0.7572329685895777 after mapping:  0.2701394685084738\n"
     ]
    }
   ],
   "source": [
    "from janusq.data_objects.backend import LinearBackend\n",
    "\n",
    "\n",
    "mapper = Mapper(fidelity_model)\n",
    "mapping_backend = LinearBackend(n_qubits)\n",
    "\n",
    "baseline_fidelities, opt_fidelities = [], []\n",
    "for circuit in benchmarking_circuits:\n",
    "    baseline_fidelities.append(simulator.obtain_circuit_fidelity(circuit)[0])\n",
    "    \n",
    "    opt_circuit = mapper.run(circuit, mapping_backend, return_candidates=False)\n",
    "    opt_fidelity = simulator.obtain_circuit_fidelity(opt_circuit)[0]\n",
    "    \n",
    "    opt_fidelities.append(opt_fidelity)\n",
    "    print('before mapping: ', baseline_fidelities[-1], 'after mapping: ', opt_fidelities[-1])"
   ]
  },
  {
   "cell_type": "code",
   "execution_count": 6,
   "metadata": {},
   "outputs": [
    {
     "data": {
      "text/plain": [
       "<matplotlib.legend.Legend at 0x7f959811e230>"
      ]
     },
     "execution_count": 6,
     "metadata": {},
     "output_type": "execute_result"
    },
    {
     "data": {
      "image/png": "[encoded data removed]",
      "text/plain": [
       "<Figure size 1500x500 with 1 Axes>"
      ]
     },
     "metadata": {},
     "output_type": "display_data"
    }
   ],
   "source": [
    "import matplotlib.pyplot as plt\n",
    "import numpy as np\n",
    "fig, axes = plt.subplots(figsize=(15, 5))  \n",
    "x = [i for i in range(len(benchmarking_circuits))]\n",
    "x = np.array(x) * 20\n",
    "# axes.bar(x,reals_baseline,width =2,label='reals_baseline')\n",
    "\n",
    "\n",
    "baseline_fidelities = np.array(baseline_fidelities)\n",
    "opt_fidelities = np.array(opt_fidelities)\n",
    "axes.bar(x+4,baseline_fidelities,width =2,label='baseline')\n",
    "axes.bar(x+6,opt_fidelities,width =2,label='janusq mapping')\n",
    "\n",
    "axes.set_xticks(x)\n",
    "axes.set_xticklabels(algs)\n",
    "fig.legend()"
   ]
  },
  {
   "cell_type": "markdown",
   "metadata": {},
   "source": [
    "## Scheduling\n",
    "\n",
    "We can also use Janus-CT to guide the scheduling."
   ]
  },
  {
   "cell_type": "code",
   "execution_count": 7,
   "metadata": {},
   "outputs": [
    {
     "name": "stdout",
     "output_type": "stream",
     "text": [
      "before scheduling:  0.826010710460614 after scheduling:  0.7669839265676653\n",
      "before scheduling:  0.6020079252543498 after scheduling:  0.512846906056753\n",
      "before scheduling:  0.6684779675808471 after scheduling:  0.7508043028513363\n",
      "before scheduling:  0.7271505686660833 after scheduling:  0.5079828724730381\n",
      "before scheduling:  0.7861623909199362 after scheduling:  0.7685734599070344\n",
      "before scheduling:  0.7244812459597059 after scheduling:  0.7503905886788945\n",
      "before scheduling:  0.05535610171542282 after scheduling:  0.2520792551664671\n",
      "before scheduling:  0.7792155502825151 after scheduling:  0.7504847743355849\n"
     ]
    }
   ],
   "source": [
    "scheduler = Scheduler(fidelity_model)\n",
    "mapping_backend = LinearBackend(n_qubits)\n",
    "\n",
    "baseline_fidelities, opt_fidelities = [], []\n",
    "for circuit in benchmarking_circuits:\n",
    "    baseline_fidelities.append(simulator.obtain_circuit_fidelity(circuit)[0])\n",
    "    \n",
    "    opt_circuit = scheduler.run(circuit, timeout=60)\n",
    "    opt_fidelity = simulator.obtain_circuit_fidelity(opt_circuit)[0]\n",
    "    \n",
    "    opt_fidelities.append(opt_fidelity)\n",
    "    print('before scheduling: ', baseline_fidelities[-1], 'after scheduling: ', opt_fidelities[-1])"
   ]
  },
  {
   "cell_type": "code",
   "execution_count": 8,
   "metadata": {},
   "outputs": [
    {
     "data": {
      "text/plain": [
       "<matplotlib.legend.Legend at 0x7f94f80fdc60>"
      ]
     },
     "execution_count": 8,
     "metadata": {},
     "output_type": "execute_result"
    },
    {
     "data": {
      "image/png": "[encoded data removed]",
      "text/plain": [
       "<Figure size 1500x500 with 1 Axes>"
      ]
     },
     "metadata": {},
     "output_type": "display_data"
    }
   ],
   "source": [
    "import matplotlib.pyplot as plt\n",
    "import numpy as np\n",
    "fig, axes = plt.subplots(figsize=(15, 5))\n",
    "x = [i for i in range(len(benchmarking_circuits))]\n",
    "x = np.array(x) * 20\n",
    "# axes.bar(x,reals_baseline,width =2,label='reals_baseline')\n",
    "\n",
    "\n",
    "baseline_fidelities = np.array(baseline_fidelities)\n",
    "opt_fidelities = np.array(opt_fidelities)\n",
    "axes.bar(x+4,baseline_fidelities,width =2,label='baseline')\n",
    "axes.bar(x+6,opt_fidelities,width =2,label='janusq scheduling')\n",
    "\n",
    "axes.set_xticks(x)\n",
    "axes.set_xticklabels(algs)\n",
    "fig.legend()"
   ]
  }
 ],
 "metadata": {
  "kernelspec": {
   "display_name": "janusq",
   "language": "python",
   "name": "python3"
  },
  "language_info": {
   "codemirror_mode": {
    "name": "ipython",
    "version": 3
   },
   "file_extension": ".py",
   "mimetype": "text/x-python",
   "name": "python",
   "nbconvert_exporter": "python",
   "pygments_lexer": "ipython3",
   "version": "3.10.12"
  }
 },
 "nbformat": 4,
 "nbformat_minor": 2
}
