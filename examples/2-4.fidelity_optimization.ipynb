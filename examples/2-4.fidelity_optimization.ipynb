{
 "cells": [
  {
   "cell_type": "code",
   "execution_count": 1,
   "metadata": {},
   "outputs": [
    {
     "name": "stderr",
     "output_type": "stream",
     "text": [
      "2024-04-15 12:04:43,339\tWARNING services.py:1996 -- WARNING: The object store is using /tmp instead of /dev/shm because /dev/shm has only 67092480 bytes available. This will harm performance! You may be able to free up space by deleting files in /dev/shm. If you are inside a Docker container, you can increase /dev/shm size by passing '--shm-size=10.24gb' to 'docker run' (or add it to the run_options list in a Ray cluster config). Make sure to set this to more than 30% of available RAM.\n",
      "2024-04-15 12:04:43,478\tINFO worker.py:1724 -- Started a local Ray instance.\n"
     ]
    }
   ],
   "source": [
    "import sys\n",
    "sys.path.append('..')\n",
    "import os\n",
    "os.chdir(\"..\")\n",
    "import logging\n",
    "logging.basicConfig(level=logging.WARN)\n",
    "import ray\n",
    "ray.init(log_to_driver=False)\n",
    "from janusq.analysis.fidelity_prediction import FidelityModel\n",
    "from janusq.simulator.gate_error_model import GateErrorModel\n",
    "\n",
    "from janusq.analysis.vectorization import RandomwalkModel\n",
    "\n",
    "from janusq.data_objects.random_circuit import random_circuits\n",
    "from janusq.data_objects.backend import FullyConnectedBackend\n",
    "\n",
    "from janusq.simulator.noisy_simulator import NoisySimulator\n",
    "import random\n",
    "\n",
    "from janusq.tools.ray_func import map"
   ]
  },
  {
   "cell_type": "markdown",
   "metadata": {},
   "source": [
    "# Noise Optimization Based on JanusQ-CT\n",
    "\n",
    "\n",
    "**Author:** Congliang Lang \\& Siwei Tan  \n",
    "\n",
    "**Date:** 7/4/2024\n",
    "\n",
    "Based on \"[QuCT: A Framework for Analyzing Quantum Circuit by Extracting Contextual and Topological Features (MICRO 2023][1]\"\n",
    "\n",
    "[1]: https://scholar.google.com/scholar_url?url=https://dl.acm.org/doi/abs/10.1145/3613424.3614274%3Fcasa_token%3DffjIB1hQ4ZwAAAAA:8MajDLrDOC74WoeMf7r7AoQ-koxCa4E1TNqQg3GSDz03xUX6XdE3toNTM-YdM_e4rKEusMceJ6BGJg&hl=zh-CN&sa=T&oi=gsb&ct=res&cd=0&d=11146218754516883150&ei=42YSZpPlFL6s6rQPtt6x6Ac&scisig=AFWwaeYaiu2hyx8HUJ_7Buf9Mwom\n",
    "\n",
    "The accurate fidelity prediction enables JanusQ-CT to guide the noise optimization. In this notebook, we introduce two optimization strategies."
   ]
  },
  {
   "cell_type": "markdown",
   "metadata": {},
   "source": [
    "## Mapping\n",
    "\n",
    "A typical compilation flow includes routing and scheduling. The routing pass transforms the circuit to satisfy the processor topology. Clearly, it inserts SWAP gates to change the qubit mapping, ensuring that all two-qubit gates can be implemented by the coupler of the processor. By precisely predicting the fidelity, QuCT can be integrated with existing compilers to find the routing solution with the best fidelity. \n",
    "\n",
    "For example, wecan use Janus-CT to guide the mapping of qiskit."
   ]
  },
  {
   "cell_type": "code",
   "execution_count": 2,
   "metadata": {},
   "outputs": [
    {
     "name": "stderr",
     "output_type": "stream",
     "text": [
      "100%|██████████| 501/501 [00:04<00:00, 102.20it/s]\n"
     ]
    }
   ],
   "source": [
    "# build a simulator\n",
    "\n",
    "n_qubits = 5\n",
    "n_steps = 1\n",
    "n_walks = 20\n",
    "backend = FullyConnectedBackend(n_qubits)\n",
    "\n",
    "circuits = random_circuits(backend, n_circuits=500, n_gate_list=[30, 50, 100], two_qubit_prob_list=[.4], reverse=True)\n",
    "vec_model = RandomwalkModel(n_steps = n_steps, n_walks = n_walks, backend = backend)\n",
    "vec_model.train(circuits, multi_process=False, remove_redundancy = False)\n",
    "\n",
    "all_paths = vec_model.all_paths()\n",
    "high_error_paths = random.choices(all_paths, k = 20)\n",
    "\n",
    "error_model = GateErrorModel.random_model(backend=backend, high_error_paths=high_error_paths)\n",
    "error_model.vec_model = vec_model\n",
    "\n",
    "simulator = NoisySimulator(backend=backend, gate_error_model = error_model)"
   ]
  },
  {
   "cell_type": "code",
   "execution_count": 3,
   "metadata": {},
   "outputs": [
    {
     "name": "stderr",
     "output_type": "stream",
     "text": [
      "400it [00:00, 717588.37it/s]\n",
      "101it [00:00, 401159.76it/s]\n"
     ]
    }
   ],
   "source": [
    "# train a fidelity model\n",
    "ground_truth_fidelities = map(lambda circuit: simulator.obtain_circuit_fidelity(circuit)[0], circuits, show_progress=False, multi_process=True)\n",
    "\n",
    "fidelity_model = FidelityModel(vec_model)\n",
    "fidelity_model.train((circuits, ground_truth_fidelities))"
   ]
  },
  {
   "cell_type": "code",
   "execution_count": 4,
   "metadata": {},
   "outputs": [],
   "source": [
    "# generate a set of benchmarking circuits\n",
    "\n",
    "from janusq.data_objects.algorithms import get_algs\n",
    "from janusq.optimizations.scheduling.scheduling_ct import Scheduler\n",
    "from janusq.optimizations.mapping.mapping_ct import Mapper\n",
    "algs = ['qft', 'hs', 'ising', 'qknn', 'qsvm', 'vqc', 'ghz', 'grover']\n",
    "benchmarking_circuits = get_algs(n_qubits, backend, algs)"
   ]
  },
  {
   "cell_type": "markdown",
   "metadata": {},
   "source": [
    "We evaluate the mapping guided by JanusQ-CT model with the qiskit optimizer with level = 3."
   ]
  },
  {
   "cell_type": "code",
   "execution_count": 5,
   "metadata": {},
   "outputs": [
    {
     "name": "stdout",
     "output_type": "stream",
     "text": [
      "before mapping:  0.8468643862508903 after mapping:  0.80528241625794\n",
      "before mapping:  0.6527507355818722 after mapping:  0.3491754482059587\n",
      "before mapping:  0.6392269311819576 after mapping:  0.6430955270799081\n",
      "before mapping:  0.4610838345378488 after mapping:  0.4033986950703866\n",
      "before mapping:  0.755029005017045 after mapping:  0.7249739505784821\n",
      "before mapping:  0.7782815803446674 after mapping:  0.8032818441594051\n"
     ]
    },
    {
     "name": "stdout",
     "output_type": "stream",
     "text": [
      "before mapping:  0.14445817122707233 after mapping:  0.02028377012755932\n",
      "before mapping:  0.8000859956236692 after mapping:  0.27595145033109647\n"
     ]
    }
   ],
   "source": [
    "from janusq.data_objects.backend import LinearBackend\n",
    "\n",
    "\n",
    "mapper = Mapper(fidelity_model)\n",
    "mapping_backend = LinearBackend(n_qubits)\n",
    "\n",
    "baseline_fidelities, opt_fidelities = [], []\n",
    "for circuit in benchmarking_circuits:\n",
    "    baseline_fidelities.append(simulator.obtain_circuit_fidelity(circuit)[0])\n",
    "    \n",
    "    opt_circuit = mapper.run(circuit, mapping_backend, return_candidates=False)\n",
    "    opt_fidelity = simulator.obtain_circuit_fidelity(opt_circuit)[0]\n",
    "    \n",
    "    opt_fidelities.append(opt_fidelity)\n",
    "    print('before mapping: ', baseline_fidelities[-1], 'after mapping: ', opt_fidelities[-1])"
   ]
  },
  {
   "cell_type": "code",
   "execution_count": 6,
   "metadata": {},
   "outputs": [
    {
     "data": {
      "text/plain": [
       "<matplotlib.legend.Legend at 0x7f05b01c4160>"
      ]
     },
     "execution_count": 6,
     "metadata": {},
     "output_type": "execute_result"
    },
    {
     "data": {
      "image/png": "[encoded data removed]",
      "text/plain": [
       "<Figure size 1500x500 with 1 Axes>"
      ]
     },
     "metadata": {},
     "output_type": "display_data"
    }
   ],
   "source": [
    "import matplotlib.pyplot as plt\n",
    "import numpy as np\n",
    "fig, axes = plt.subplots(figsize=(15, 5))  \n",
    "x = [i for i in range(len(benchmarking_circuits))]\n",
    "x = np.array(x) * 20\n",
    "# axes.bar(x,reals_baseline,width =2,label='reals_baseline')\n",
    "\n",
    "\n",
    "baseline_fidelities = np.array(baseline_fidelities)\n",
    "opt_fidelities = np.array(opt_fidelities)\n",
    "axes.bar(x+4,baseline_fidelities,width =2,label='baseline')\n",
    "axes.bar(x+6,opt_fidelities,width =2,label='janusq mapping')\n",
    "\n",
    "axes.set_xticks(x)\n",
    "axes.set_xticklabels(algs)\n",
    "fig.legend()"
   ]
  },
  {
   "cell_type": "markdown",
   "metadata": {},
   "source": [
    "## Scheduling\n",
    "\n",
    "We can also use Janus-CT to guide the scheduling."
   ]
  },
  {
   "cell_type": "code",
   "execution_count": 7,
   "metadata": {},
   "outputs": [
    {
     "name": "stdout",
     "output_type": "stream",
     "text": [
      "before scheduling:  0.8575567808229195 after scheduling:  0.8265296248861358\n",
      "before scheduling:  0.5519546448948294 after scheduling:  0.5930374932112042\n",
      "before scheduling:  0.6292589713502703 after scheduling:  0.7233748320296598\n",
      "before scheduling:  0.5360385607360103 after scheduling:  0.5793270924498369\n",
      "before scheduling:  0.8364063107788157 after scheduling:  0.7592752958006319\n",
      "before scheduling:  0.778391375915137 after scheduling:  0.8008837957680706\n",
      "before scheduling:  0.1534899016419541 after scheduling:  0.13539029432359068\n",
      "before scheduling:  0.8099484140859392 after scheduling:  0.6385036484092896\n"
     ]
    }
   ],
   "source": [
    "scheduler = Scheduler(fidelity_model)\n",
    "mapping_backend = LinearBackend(n_qubits)\n",
    "\n",
    "baseline_fidelities, opt_fidelities = [], []\n",
    "for circuit in benchmarking_circuits:\n",
    "    baseline_fidelities.append(simulator.obtain_circuit_fidelity(circuit)[0])\n",
    "    \n",
    "    opt_circuit = scheduler.run(circuit, timeout=60)\n",
    "    opt_fidelity = simulator.obtain_circuit_fidelity(opt_circuit)[0]\n",
    "    \n",
    "    opt_fidelities.append(opt_fidelity)\n",
    "    print('before scheduling: ', baseline_fidelities[-1], 'after scheduling: ', opt_fidelities[-1])"
   ]
  },
  {
   "cell_type": "code",
   "execution_count": 8,
   "metadata": {},
   "outputs": [
    {
     "data": {
      "text/plain": [
       "<matplotlib.legend.Legend at 0x7f05b01316f0>"
      ]
     },
     "execution_count": 8,
     "metadata": {},
     "output_type": "execute_result"
    },
    {
     "data": {
      "image/png": "[encoded data removed]",
      "text/plain": [
       "<Figure size 1500x500 with 1 Axes>"
      ]
     },
     "metadata": {},
     "output_type": "display_data"
    }
   ],
   "source": [
    "import matplotlib.pyplot as plt\n",
    "import numpy as np\n",
    "fig, axes = plt.subplots(figsize=(15, 5))\n",
    "x = [i for i in range(len(benchmarking_circuits))]\n",
    "x = np.array(x) * 20\n",
    "# axes.bar(x,reals_baseline,width =2,label='reals_baseline')\n",
    "\n",
    "\n",
    "baseline_fidelities = np.array(baseline_fidelities)\n",
    "opt_fidelities = np.array(opt_fidelities)\n",
    "axes.bar(x+4,baseline_fidelities,width =2,label='baseline')\n",
    "axes.bar(x+6,opt_fidelities,width =2,label='janusq scheduling')\n",
    "\n",
    "axes.set_xticks(x)\n",
    "axes.set_xticklabels(algs)\n",
    "fig.legend()"
   ]
  }
 ],
 "metadata": {
  "kernelspec": {
   "display_name": "janusq",
   "language": "python",
   "name": "python3"
  },
  "language_info": {
   "codemirror_mode": {
    "name": "ipython",
    "version": 3
   },
   "file_extension": ".py",
   "mimetype": "text/x-python",
   "name": "python",
   "nbconvert_exporter": "python",
   "pygments_lexer": "ipython3",
   "version": "3.10.12"
  }
 },
 "nbformat": 4,
 "nbformat_minor": 2
}
