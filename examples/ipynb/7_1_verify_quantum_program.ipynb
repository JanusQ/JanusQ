{
 "cells": [
  {
   "cell_type": "markdown",
   "metadata": {},
   "source": [
    "# Verify quantum program by Janus-MorphQPV\n",
    "\n",
    "**Author:** Siwei Tan & Debin Xiang\n",
    "\n",
    "**Date:** 12/4/2024\n",
    "\n",
    "Based on paper \"[MorphQPV: Exploiting Isomorphism in Quantum Programs to Facilitate Confident Verification](https://dl.acm.org/doi/10.1145/3620666.3651360)\"\n",
    "\n",
    "\n",
    "MorphQPV is a tool to facilitate confident assertion-based verification in quantum computing. It provides a framework for analyzing and verifying quantum circuits using a new type of formalism. It defines an assertion statement that consists of assume-guarantee primitives and tracepoint pragma to label the target quantum state. Then, we can characterize the ground-truth relation between states using isomorphism-based approximation, which can effectively get the program states under various inputs while avoiding repeated executions. Finally, the verification is formulated as a constraint optimization problem with a confidence estimation model to enable rigorous analysis. \n",
    "\n",
    "\n",
    "<div style=\"text-align:center;\">\n",
    "    <img src=\"../picture/7_morphqpv_overview.png\"  width=\"90%\" height=\"90%\">\n",
    "</div>\n",
    "\n",
    "\n",
    "The figure above presents the verification workflow of MorphQPV\n",
    "to verify quantum program, consisting of three steps:\n",
    "\n",
    "Step 1. assertion statement. We label the states in the program via tracepoint pragma. Subsequently, each tracepoint records the time and the associated qubits, which is used to\n",
    "describe the expected program behavior with these states.\n",
    "We define an assume-guarantee assertion with predicates to\n",
    "specify: \n",
    "(a) the ranges of these states, represented as objective\n",
    "functions for each state, e.g., 𝑃1 (𝜌T1 ) and 𝑃2 (𝜌T2 ) in Figure 2;\n",
    "and (b) the relation between these states, represented as a\n",
    "objective function involving multiple states, e.g., 𝑃3 (𝜌T1 , 𝜌T2 ).\n",
    "The predicate is validated on the classical computers.\n",
    "\n",
    "Step 2. program characterization. MorphQPV characterizes\n",
    "the natural relations between quantum states by running the\n",
    "program on the quantum hardware. The characterization\n",
    "begins with a one-shot input sampling to record the labeled\n",
    "states across different inputs. By exploiting isomorphism, it\n",
    "then builds approximation functions based on the sampling\n",
    "results, e.g., 𝜌T1 = 𝑓1 (𝜌in), representing the relations between\n",
    "the input and the labeled states. These approximation functions can be efficiently computed to obtain tracepoint states on classical computers.\n",
    "\n",
    "Step 3. assertion validation. MorphQPV validates the assertion by checking whether the relations in the program satisfy the expected constraints in the assertion. Instead of\n",
    "testing tremendous inputs to identify the error, we apply a global search that packs the predicates and the approximation functions into a constraint maximization problem.\n",
    "The assume-guarantee assertion is true only if the maximum objective is less than 0. When the program is incorrect, the maximum argument 𝜌_in is the counter-example resulting in\n",
    "the bug. When the program is correct, MorphQPV estimates\n",
    "the confidence based on the accuracy of the characterization."
   ]
  },
  {
   "cell_type": "markdown",
   "metadata": {},
   "source": [
    "## Example of using MorphQPV"
   ]
  },
  {
   "cell_type": "code",
   "execution_count": null,
   "metadata": {
    "vscode": {
     "languageId": "plaintext"
    }
   },
   "outputs": [],
   "source": [
    "from morphQPV import MorphQC,Config\n",
    "from morphQPV import IsPure,Equal,NotEqual\n",
    "from morphQPV import StateVector,Expectation\n",
    "from morphQPV import pauliX,pauliY,pauliZ,hadamard\n",
    "import numpy as np\n",
    "myconfig = Config()\n",
    "myconfig.solver = 'sgd' ## set the stochastic gradient descent method to solve the assertion\n",
    "with MorphQC(config=myconfig) as morphQC:\n",
    "    ### morphQC is a quantum circuit, the gate is applyed to the qubits in the order of the list\n",
    "    ## we can add tracepoint to label the quantum state\n",
    "    morphQC.add_tracepoint(0,1) ## the state after the first 3 qubits is labeled as tracepoint 0\n",
    "    morphQC.assume(0,IsPure()) ## the state in tracepoint 0 is assumed to be pure\n",
    "    morphQC.assume(0,Equal(Expectation(pauliX@pauliY)),0.4)\n",
    "    morphQC.x([1,3]) ## apply x gate to  qubit 1 and 3\n",
    "    morphQC.y([0,1,2])  ## apply y gate to qubit 0,1,2\n",
    "    for i in range(4):\n",
    "        morphQC.cnot([i, i+1]) ## apply cnot gate to qubit i and i+1\n",
    "    morphQC.s([0,2,4]) ## apply s gate to qubit 0,2,4\n",
    "    morphQC.add_tracepoint(2,4) ## the state after qubit 2 and 4 is labeled as tracepoint 1\n",
    "    morphQC.assume(1,IsPure())  ## the state in tracepoint 1 is assumed to be pure\n",
    "    morphQC.rz([0,1,2,3,4],np.pi/3) ## apply rz gate to qubit 0,1,2,3,4\n",
    "    morphQC.h([0,1,2,3,4]) ## apply h gate to qubit 0,1,2,3,4\n",
    "    morphQC.rx([0,1,2,3,4],np.pi/3) ## apply rx(pi/3) gate to qubit 0,1,2,3,4\n",
    "    morphQC.ry([0,1,2,3,4],np.pi/3) ## apply ry(pi/3) gate to qubit 0,1,2,3,4\n",
    "    morphQC.add_tracepoint(0,3) ## the state after qubit 0 and 3 is labeled as tracepoint 2\n",
    "    morphQC.assume(2,IsPure()) ## the state in tracepoint 2 is assumed to be pure\n",
    "    morphQC.assume([0,2],Equal(Expectation(pauliX@pauliY)),)\n",
    "    morphQC.guarantee([1,2],Equal()) ## the state in tracepoint 1 and 2 are guaranteed to be equal\n",
    "    morphQC.guarantee([0,1],NotEqual()) ## the state in tracepoint 0,1 and 2 are guaranteed to be different\n",
    "print(morphQC.assertion) ## print the assertion statement and verify result\n"
   ]
  },
  {
   "cell_type": "markdown",
   "metadata": {},
   "source": [
    "### verify a quantum lock"
   ]
  },
  {
   "cell_type": "code",
   "execution_count": null,
   "metadata": {
    "vscode": {
     "languageId": "plaintext"
    }
   },
   "outputs": [],
   "source": []
  }
 ],
 "metadata": {
  "language_info": {
   "name": "python"
  }
 },
 "nbformat": 4,
 "nbformat_minor": 2
}
