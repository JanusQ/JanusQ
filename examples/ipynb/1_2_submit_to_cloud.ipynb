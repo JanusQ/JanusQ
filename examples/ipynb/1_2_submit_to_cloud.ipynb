{
 "cells": [
  {
   "cell_type": "markdown",
   "metadata": {},
   "source": [
    "# Submit Quantum Circuit to the Cloud Platform\n",
    "\n",
    "In this notebook, we introduce the API to submit tasks to quantum cloud platform."
   ]
  },
  {
   "cell_type": "code",
   "execution_count": 1,
   "metadata": {},
   "outputs": [],
   "source": [
    "import os\n",
    "os.chdir(\"..\")\n",
    "import sys\n",
    "sys.path.append('..')\n",
    "import logging\n",
    "logging.basicConfig(level=logging.WARN)\n",
    "\n",
    "import matplotlib.pyplot as plt\n",
    "from janusq.cloud_interface import submit, get_result\n",
    "from janusq.data_objects.circuit import Circuit"
   ]
  },
  {
   "cell_type": "code",
   "execution_count": 2,
   "metadata": {},
   "outputs": [
    {
     "name": "stdout",
     "output_type": "stream",
     "text": [
      "     ┌───┐ ░       ░       ░       ░ \n",
      "q_0: ┤ H ├─░───■───░───────░───────░─\n",
      "     └───┘ ░ ┌─┴─┐ ░       ░       ░ \n",
      "q_1: ──────░─┤ X ├─░───■───░───────░─\n",
      "           ░ └───┘ ░ ┌─┴─┐ ░       ░ \n",
      "q_2: ──────░───────░─┤ X ├─░───■───░─\n",
      "           ░       ░ └───┘ ░ ┌─┴─┐ ░ \n",
      "q_3: ──────░───────░───────░─┤ X ├─░─\n",
      "           ░       ░       ░ └───┘ ░ \n"
     ]
    }
   ],
   "source": [
    "# define a circuit\n",
    "qc = Circuit([], n_qubits = 4)\n",
    "qc.h(0, 0)\n",
    "qc.cx(0, 1, 1)\n",
    "qc.cx(1, 2, 2)\n",
    "qc.cx(2, 3, 3)\n",
    "print(qc)"
   ]
  },
  {
   "cell_type": "code",
   "execution_count": 3,
   "metadata": {},
   "outputs": [
    {
     "name": "stdout",
     "output_type": "stream",
     "text": [
      "{'circuit': [[{'name': 'h', 'qubits': [0], 'params': []}], [{'name': 'cx', 'qubits': [0, 1], 'params': []}], [{'name': 'cx', 'qubits': [1, 2], 'params': []}], [{'name': 'cx', 'qubits': [2, 3], 'params': []}]], 'shots': 3000, 'run_type': 'simulator', 'label': 'GHZ', 'is_async': True, 'n_qubits': 4}\n"
     ]
    }
   ],
   "source": [
    "# submit it to the cloud\n",
    "result = submit(circuit=qc, label='GHZ', shots=3000, run_type='simulator', API_TOKEN=\"\")"
   ]
  },
  {
   "cell_type": "markdown",
   "metadata": {},
   "source": [
    "If the token is not valid, the circuit will be simulated locally. Otherwise, it will be executed on the cloud platform."
   ]
  },
  {
   "cell_type": "code",
   "execution_count": 4,
   "metadata": {},
   "outputs": [
    {
     "name": "stdout",
     "output_type": "stream",
     "text": [
      "[0.49166667 0.         0.         0.         0.         0.\n",
      " 0.         0.         0.         0.         0.         0.\n",
      " 0.         0.         0.         0.50833333]\n"
     ]
    },
    {
     "data": {
      "image/png": "[encoded data removed]",
      "text/plain": [
       "<Figure size 640x480 with 1 Axes>"
      ]
     },
     "metadata": {},
     "output_type": "display_data"
    }
   ],
   "source": [
    "# get the result and plot the distribution\n",
    "result_id = result['data']['result_id']\n",
    "result = get_result(result_id, run_type='simulator', result_format='probs')\n",
    "print(result)\n",
    "\n",
    "x = range(len(result))\n",
    "\n",
    "plt.bar(x, result)\n",
    "plt.xlabel('Bitstring')\n",
    "plt.ylabel('Prob')\n",
    "plt.title('Prob distribution for GHZ')\n",
    "plt.show()"
   ]
  }
 ],
 "metadata": {
  "kernelspec": {
   "display_name": "janusq",
   "language": "python",
   "name": "python3"
  },
  "language_info": {
   "codemirror_mode": {
    "name": "ipython",
    "version": 3
   },
   "file_extension": ".py",
   "mimetype": "text/x-python",
   "name": "python",
   "nbconvert_exporter": "python",
   "pygments_lexer": "ipython3",
   "version": "3.10.16"
  }
 },
 "nbformat": 4,
 "nbformat_minor": 2
}
