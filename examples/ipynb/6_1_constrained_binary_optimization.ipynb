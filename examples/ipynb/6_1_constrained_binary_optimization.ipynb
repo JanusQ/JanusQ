{
 "cells": [
  {
   "cell_type": "markdown",
   "metadata": {},
   "source": [
    "# Constained Binary Optimization with Commute Hamiltonian-based QAOA\n",
    "\n",
    "**Author:** Debin Xiang & Qifan Jiang\n",
    "\n",
    "**Date:** 02/02/2025\n",
    "\n",
    "Based on paper \"[Choco-Q: Commute Hamiltonian-based QAOA for Constrained Binary Optimization][1]\" (HPCA 2025)\n",
    "\n",
    "[1]: https://ieeexplore.ieee.org/document/TBD\n",
    "\n",
    "Constrained binary optimization aims to find an optimal assignment to minimize or maximize the objective meanwhile satisfying the constraints, which is a representative NP problem in various domains, including transportation, scheduling, and economy. Quantum approximate optimization algorithms (QAOA) provide a promising methodology for solving this problem by exploiting the parallelism of quantum entanglement. However, existing QAOA approaches based on penalty-term or Hamiltonian simulation fail to thoroughly encode the constraints, leading to extremely low success rate and long searching latency.\n",
    "\n",
    "In this notebook, we introduce Choco-Q, a formal and universal framework for constrained binary optimization problems, which comprehensively covers all constraints and exhibits high deployability for current quantum devices.\n",
    "\n",
    "<div style=\"text-align:center;\">\n",
    "    <img src=\"../picture/6_1_commute_constrained.jpg\"  width=\"45%\" height=\"45%\">\n",
    "</div>\n",
    "\n",
    "The main innovation of Choco-Q is to embed the commute Hamiltonian as the driver Hamiltonian, resulting in a much more general encoding formulation that can deal with arbitrary linear constraints. In quantum mechanics, Heisenberg’s picture states that if the Hamiltonian commutes with an operator, the expectation of the operator remains invariant during the evolution. With this understanding, we can deduce that if a Hamiltonian commutes with the constraints operator, the states will be restricted to a subspace where each state adheres to the constraints, as shown in the figure above.\n",
    "\n",
    "**Execute this notebook with the virtual environment for Choco-Q to avoid package conflicts.**"
   ]
  },
  {
   "cell_type": "code",
   "execution_count": 1,
   "metadata": {},
   "outputs": [],
   "source": [
    "import os\n",
    "os.chdir(\"..\")\n",
    "import sys\n",
    "sys.path.append('..')\n",
    "import logging\n",
    "logging.basicConfig(level=logging.WARN)\n",
    "\n",
    "from janusq.application.chocoq.chocoq.model import LinearConstrainedBinaryOptimization as LcboModel\n",
    "from janusq.application.chocoq.chocoq.solvers.optimizers import CobylaOptimizer, AdamOptimizer\n",
    "from janusq.application.chocoq.chocoq.solvers.qiskit import (\n",
    "    PenaltySolver, CyclicSolver, HeaSolver, ChocoSolver, \n",
    "    AerGpuProvider, AerProvider, FakeBrisbaneProvider, FakeKyivProvider, FakeTorinoProvider, DdsimProvider,\n",
    ")"
   ]
  },
  {
   "cell_type": "markdown",
   "metadata": {},
   "source": [
    "## Configure the problem"
   ]
  },
  {
   "cell_type": "code",
   "execution_count": 2,
   "metadata": {},
   "outputs": [
    {
     "name": "stdout",
     "output_type": "stream",
     "text": [
      "Model:\n",
      "- variables: x_0 (type: binary)   x_1 (type: binary)   x_2 (type: binary)   x_3 (type: binary)   x_4 (type: binary)\n",
      "- obj: max 1 * x_0 * x_3 + 1 * x_1 * x_3 + 1 * x_2\n",
      "- s.t.:\n",
      "1 * x_0 + 1 * x_1 + -1 * x_2 == 0\n",
      "1 * x_2 + 1 * x_3 + -1 * x_4 == 1\n",
      "- penalty_lambda: 32767\n",
      "\n",
      "Linear Constraints Matrix:\n",
      "[[ 1  1 -1  0  0  0]\n",
      " [ 0  0  1  1 -1  1]]\n",
      "\n",
      "Restricted license - for non-production use only - expires 2026-11-23\n",
      "Classical optimized cost and assignment: (2.0, {'x_0': 0.0, 'x_1': 1.0, 'x_2': 1.0, 'x_3': 1.0, 'x_4': 1.0})\n",
      "\n"
     ]
    }
   ],
   "source": [
    "# configure the constrained binary optimization with LcboModel\n",
    "m = LcboModel()\n",
    "x = m.addVars(5, name=\"x\") # add five binary variables with prefix name x\n",
    "m.setObjective((x[0] + x[1])* x[3] + x[2], \"max\") # set the maximum objective with (x[0]+x[1])x[3] + x[2]\n",
    "m.addConstr(x[0] + x[1] - x[2] == 0) # add linear constraints\n",
    "m.addConstr(x[2] + x[3] - x[4] == 1)\n",
    "\n",
    "print(m)\n",
    "print(f\"Linear Constraints Matrix:\\n{m.lin_constr_mtx}\\n\")\n",
    "\n",
    "optimize = m.optimize()\n",
    "print(f\"Classical optimized cost and assignment: {optimize}\\n\")"
   ]
  },
  {
   "cell_type": "markdown",
   "metadata": {},
   "source": [
    "## Initialize Choco-Q solver"
   ]
  },
  {
   "cell_type": "code",
   "execution_count": 3,
   "metadata": {},
   "outputs": [
    {
     "name": "stdout",
     "output_type": "stream",
     "text": [
      "Circuit Depth: 127\n",
      "Circuit Width: 12\n",
      "Circuit Culled Depth: 62\n",
      "Circuit Num One Qubit Gates: None\n"
     ]
    }
   ],
   "source": [
    "# set the optimizer and provider for Choco-Q\n",
    "opt = CobylaOptimizer(max_iter=200) # set the optimizer COBYLA, the max iteration is 200.\n",
    "# gpu = AerGpuProvider()\n",
    "aer = DdsimProvider()\n",
    "solver = ChocoSolver(\n",
    "    prb_model=m,  # the problem model\n",
    "    optimizer=opt,  # the optimizer for parameters updating.\n",
    "    provider=aer,  # quantum circuit simulator.\n",
    "    num_layers=1,\n",
    ")\n",
    "\n",
    "## analyze the circuit\n",
    "circuit_depth, circuit_width, culled_depth, num_one_qubit_gates = solver.circuit_analyze(['depth', 'width', 'culled_depth', 'num_one_qubit_gates'])\n",
    "print(f\"Circuit Depth: {circuit_depth}\")\n",
    "print(f\"Circuit Width: {circuit_width}\")\n",
    "print(f\"Circuit Culled Depth: {culled_depth}\")\n",
    "print(f\"Circuit Num One Qubit Gates: {num_one_qubit_gates}\")"
   ]
  },
  {
   "cell_type": "markdown",
   "metadata": {},
   "source": [
    "## Using Choco-Q API to solve the problem"
   ]
  },
  {
   "cell_type": "code",
   "execution_count": 4,
   "metadata": {},
   "outputs": [
    {
     "name": "stdout",
     "output_type": "stream",
     "text": [
      "Quantum optimized assignment:\n",
      "Solution Probability: 0.046875, Assignment: [0, 0, 0, 1, 0]\n",
      "Solution Probability: 0.7861328125, Assignment: [1, 0, 1, 0, 0]\n",
      "Solution Probability: 0.1669921875, Assignment: [1, 0, 1, 1, 1]\n"
     ]
    }
   ],
   "source": [
    "# solve by Choco-Q\n",
    "state_list, prob_list, iter_count = solver.solve()\n",
    "result_dict = {prob: state for state, prob in zip(state_list, prob_list)}\n",
    "print(f\"Quantum optimized assignment:\")\n",
    "for prob, state in result_dict.items():\n",
    "    print(f\"Solution Probability: {prob}, Assignment: {state}\")"
   ]
  },
  {
   "cell_type": "code",
   "execution_count": 5,
   "metadata": {},
   "outputs": [
    {
     "name": "stdout",
     "output_type": "stream",
     "text": [
      "Best Solution Probability: 16.69921875\n",
      "In Constraints Probability: 100.0\n",
      "ARG: 0.439941404050293\n",
      "Iteration count: 29\n"
     ]
    }
   ],
   "source": [
    "# evaluate the solution\n",
    "best_solution_prob, in_constraints_prob, ARG, iter_count = solver.evaluation()\n",
    "print(f\"Best Solution Probability: {best_solution_prob}\")\n",
    "print(f\"In Constraints Probability: {in_constraints_prob}\")\n",
    "print(f\"ARG: {ARG}\")\n",
    "print(f\"Iteration count: {iter_count}\")"
   ]
  }
 ],
 "metadata": {
  "kernelspec": {
   "display_name": "chocoq",
   "language": "python",
   "name": "python3"
  },
  "language_info": {
   "codemirror_mode": {
    "name": "ipython",
    "version": 3
   },
   "file_extension": ".py",
   "mimetype": "text/x-python",
   "name": "python",
   "nbconvert_exporter": "python",
   "pygments_lexer": "ipython3",
   "version": "3.10.16"
  }
 },
 "nbformat": 4,
 "nbformat_minor": 2
}
