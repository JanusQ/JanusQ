{
 "cells": [
  {
   "cell_type": "markdown",
   "metadata": {},
   "source": [
    "# Getting Start\n",
    "\n",
    "## Install JanusQ\n",
    "\n",
    "JanusQ can be installed by docker, wheel, and soruce code. Docker is recommended, as all functions have been tested on it. Linux (Ubuntu 22.04 latest) platform and Python (3.10) is prefered when instaling by wheel or soruce code.\n",
    "\n",
    "**From docker (Recommended)**\n",
    "\n",
    "Pull docker image\n",
    "\n",
    "```bash\n",
    "  docker pull janusq/janusq:latest\n",
    "```\n",
    "\n",
    "Run docker image\n",
    "\n",
    "```bash\n",
    "  docker run -itd -p 8888:22 -p 9999:23 --name tutorial janusq/janusq\n",
    "```\n",
    "\n",
    "The docker can be accessed via\n",
    "\n",
    "```bash\n",
    "  ssh root@localhost -p 8888\n",
    "```\n",
    "\n",
    "or\n",
    "\n",
    "```bash\n",
    "  docker exec -it tutorial bash\n",
    "```\n",
    "\n",
    "The source code is in \"/JanusQ/janusq\" and examples can be directly run in \"/JanusQ/examples/ipynb\". The jupyter notebook can be visited in http://localhost:9999/lab.\n",
    "\n",
    "**From wheel**\n",
    "\n",
    "Download [janusq.whl](https://github.com/JanusQ/JanusQ/blob/main/dist/janusq-0.1.0-py3-none-any.whl) and install with `pip`\n",
    "\n",
    "```bash\n",
    "  pip install janusq.whl\n",
    "```  \n",
    "\n",
    "**From source code**\n",
    "\n",
    "Pull the source code from github and install the dependencies\n",
    "\n",
    "```bash\n",
    "  git clone git@github.com:JanusQ/JanusQ.git\n",
    "  cd JanusQ\n",
    "  pip install -r requirements.txt\n",
    "```  \n",
    "\n",
    "Set up for HyQSAT\n",
    "\n",
    "```bash\n",
    "  cd ./janusq/application/hyqsat/solver\n",
    "  cmake .\n",
    "  make install\n",
    "```  \n",
    "\n",
    "Set up for Choco-Q (CPU)\n",
    "\n",
    "```bash\n",
    "  cd ./janusq/application/chocoq\n",
    "  conda env create -f environment_cpu.yml\n",
    "  conda activate chocoq_cpu\n",
    "  pip install .\n",
    "```\n",
    "\n",
    "Set up for Choco-Q (GPU)\n",
    "\n",
    "```bash\n",
    "  cd ./janusq/application/chocoq\n",
    "  conda env create -f environment_gpu.yml\n",
    "  conda activate chocoq_qpu\n",
    "  pip install .\n",
    "```\n",
    "\n",
    "## Structure of JanusQ\n",
    "\n",
    "- QuCT\n",
    "  - Vectorization\n",
    "    - \"janusq/analysis/vectorization.py\": Python script to generate the path table and vecterization of circuits, which serves as a upstream model for various analysis and optimization tasks.\n",
    "  - Fidelity preidiction and optimization\n",
    "    - \"janusq/analysis/fidelity_prediction.py\": Python script to train a downstream model for circuit fidelity prediction.\n",
    "    - \"janusq/optimization/mapping/mapping_ct.py\"：Python script of a typical compilation flow, including routing and scheduling. The compilation flow transforms the circuit to satisfy the processor topology so as to optimize the circuit fidelity based on the prediction model.\n",
    "  - Unitary decomposition\n",
    "    - \"janusq/analysis/unitary_decompostion.py\": Python script that takes a unitary as input and decomposes it into matrices of basic gates, resulting in an equivalent circuit.\n",
    "- MorphQPV\n",
    "  - \"janusq/verification/morphqpv\": Directory holding the implementation of the MorphQPV algorithm, which is a quantum program verification tool.\n",
    "- QuFEM\n",
    "  - \"janusq/calibration/readout_mitigation/qufem/benchmarking.py\": Python script to generate a circuit for measuring calibration matrices.\n",
    "  - \"janusq/calibration/readout_mitigation/qufem/mitigation.py\": Python script to implement iterative calibration, which includes quantifying interactions between qubits and constructing Bayesian networks.\n",
    "  - \"janusq/calibration/readout_mitigation/qufem/tools.py\": Python script to implement data format conversion.\n",
    "- HyQSAT\n",
    "  - \"janusq/application/hyqsat/common\": Directory holding common functions about cnf files, such as \"read_cnf.py\".\n",
    "  - \"janusq/application/hyqsat/solver/solver.py\": Python script holding different APIs used to solve sat problem.\n",
    "- Choco-Q\n",
    "  - \"janusq/application/chocoq\": Directory holding the implementation of Choco-Q.\n",
    "\n",
    "## Q&A\n",
    "\n",
    "1. Error \"Permission denied 'minisat_core'\"\n",
    "\n",
    "    Run following command\n",
    "\n",
    "    ```bash\n",
    "      chmod +x janusq/hyqsat/minisat_core\n",
    "    ```\n",
    "\n",
    "2. Error \"Library not loaded: @rpath/libpython3.10.dylib\" \n",
    "\n",
    "    Run following command\n",
    "\n",
    "    ```bash\n",
    "      install_name_tool -add_rpath /path/to/python3.10/lib janusq/hyqsat/minisat_core\n",
    "    ```"
   ]
  },
  {
   "cell_type": "markdown",
   "metadata": {},
   "source": [
    "## Test JanusQ"
   ]
  },
  {
   "cell_type": "code",
   "execution_count": 1,
   "metadata": {},
   "outputs": [],
   "source": [
    "import os\n",
    "os.chdir(\"..\")\n",
    "import sys\n",
    "sys.path.append('..')\n",
    "import logging\n",
    "logging.basicConfig(level=logging.WARN)"
   ]
  },
  {
   "cell_type": "markdown",
   "metadata": {},
   "source": [
    "### Test QuCT"
   ]
  },
  {
   "cell_type": "code",
   "execution_count": 2,
   "metadata": {},
   "outputs": [
    {
     "name": "stderr",
     "output_type": "stream",
     "text": [
      "100%|██████████| 300/300 [00:00<00:00, 385.82it/s]\n"
     ]
    }
   ],
   "source": [
    "# test QuCT\n",
    "from janusq.objects.backend import LinearBackend\n",
    "from janusq.objects.random_circuit import random_circuits\n",
    "from janusq.analysis.vectorization import RandomwalkModel\n",
    "\n",
    "# define backend\n",
    "n_qubits = 8\n",
    "n_steps = 1\n",
    "n_walks = 20\n",
    "backend = LinearBackend(n_qubits, 1)\n",
    "\n",
    "# construct circuit dataset\n",
    "circuits = random_circuits(backend, n_circuits=300, n_gate_list=[30, 50, 100], two_qubit_prob_list=[.4], reverse=True)\n",
    "\n",
    "# train vectorization model\n",
    "up_model = RandomwalkModel(n_steps = n_steps, n_walks = n_walks, backend = backend)\n",
    "up_model.train(circuits, multi_process=False, remove_redundancy = False)"
   ]
  },
  {
   "cell_type": "markdown",
   "metadata": {},
   "source": [
    "### Test QuFEM"
   ]
  },
  {
   "cell_type": "code",
   "execution_count": 3,
   "metadata": {},
   "outputs": [
    {
     "name": "stderr",
     "output_type": "stream",
     "text": [
      "/Users/chutianyao/anaconda3/envs/janusq/lib/python3.10/site-packages/numpy/linalg/linalg.py:2154: RuntimeWarning: divide by zero encountered in det\n",
      "  r = _umath_linalg.det(a, signature=signature)\n",
      "/Users/chutianyao/anaconda3/envs/janusq/lib/python3.10/site-packages/numpy/linalg/linalg.py:2154: RuntimeWarning: invalid value encountered in det\n",
      "  r = _umath_linalg.det(a, signature=signature)\n"
     ]
    },
    {
     "name": "stdout",
     "output_type": "stream",
     "text": [
      "[{'101': 23, '110': 11, '001': 769, '100': 287, '111': 3, '011': 23, '010': 303, '000': 8581}, {'011': 309, '111': 13, '110': 1, '100': 7, '001': 9127, '101': 275, '010': 4, '000': 264}, {'111': 2, '011': 19, '110': 14, '100': 252, '001': 808, '101': 28, '010': 293, '000': 8584}, {'101': 2, '011': 741, '111': 20, '100': 22, '001': 70, '110': 266, '000': 794, '010': 8085}, {'101': 31, '011': 8558, '111': 278, '100': 3, '110': 4, '001': 851, '000': 33, '010': 242}, {'101': 2, '100': 25, '110': 239, '001': 67, '010': 8105, '000': 786, '111': 17, '011': 759}, {'101': 24, '110': 13, '100': 253, '001': 823, '111': 1, '011': 24, '010': 321, '000': 8541}, {'110': 1, '001': 9109, '100': 12, '010': 6, '000': 277, '101': 269, '111': 11, '011': 315}, {'011': 21, '110': 6, '001': 731, '100': 286, '101': 29, '010': 299, '000': 8628}, {'111': 28, '100': 8498, '110': 291, '001': 27, '010': 16, '000': 390, '101': 750}, {'010': 1, '000': 13, '110': 7, '001': 406, '100': 247, '011': 8, '111': 321, '101': 8997}, {'011': 2, '111': 30, '100': 8467, '110': 302, '001': 36, '101': 753, '010': 17, '000': 393}, {'001': 4, '110': 8075, '100': 793, '011': 34, '111': 652, '101': 64, '000': 33, '010': 345}, {'010': 10, '100': 21, '110': 240, '001': 41, '011': 384, '111': 8449, '101': 855}, {'101': 70, '011': 24, '111': 682, '001': 2, '110': 8013, '100': 808, '000': 34, '010': 367}, {'011': 1, '111': 20, '100': 8555, '110': 288, '001': 45, '010': 14, '000': 362, '101': 715}, {'000': 15, '011': 15, '111': 311, '110': 5, '100': 249, '001': 403, '101': 9002}, {'011': 4, '111': 32, '001': 32, '110': 309, '100': 8495, '101': 784, '010': 10, '000': 334}, {'011': 28, '110': 6, '001': 726, '100': 254, '101': 16, '010': 296, '000': 8674}, {'010': 13, '000': 274, '101': 306, '111': 11, '011': 310, '100': 8, '001': 9078}, {'101': 21, '011': 29, '111': 3, '110': 12, '100': 278, '001': 750, '010': 296, '000': 8611}, {'101': 2, '011': 763, '111': 21, '100': 21, '001': 55, '110': 256, '000': 803, '010': 8079}, {'101': 22, '011': 8551, '111': 325, '110': 5, '001': 828, '000': 20, '010': 249}, {'101': 3, '100': 19, '001': 82, '110': 226, '010': 8196, '000': 735, '111': 18, '011': 721}, {'101': 26, '110': 5, '100': 275, '001': 728, '111': 1, '011': 27, '010': 289, '000': 8649}, {'001': 9046, '100': 11, '010': 13, '000': 289, '101': 293, '111': 7, '011': 341}]\n"
     ]
    }
   ],
   "source": [
    "# test QuFEM (readout calibration)\n",
    "from janusq.objects.backend import LinearBackend\n",
    "from janusq.objects.algorithms import get_algorithm_circuits\n",
    "from janusq.simulator.noisy_simulator import NoisySimulator\n",
    "from janusq.simulator.readout_error_model import ReadoutErrorModel\n",
    "from janusq.calibration.readout_mitigation.qufem import EnumeratedProtocol\n",
    "\n",
    "# define backend and circuit\n",
    "n_qubits = 3\n",
    "backend = LinearBackend(n_qubits, 1)\n",
    "circuit = get_algorithm_circuits(n_qubits, backend, algs = ['ghz'])[0]\n",
    "\n",
    "# simulate noisy readout\n",
    "samples = 10000\n",
    "simulator = NoisySimulator(backend, readout_error_model = ReadoutErrorModel.random_model(backend))\n",
    "output_noise = simulator.execute(circuit,samples)\n",
    "\n",
    "# readout calibration\n",
    "protocol = EnumeratedProtocol(n_qubits)\n",
    "real_bstrs, circuits_protocol = protocol.gen_circuits()\n",
    "all_statuscnts = [\n",
    "    simulator.execute(cir_protocol, samples) \n",
    "    for cir_protocol in circuits_protocol\n",
    "]\n",
    "print(all_statuscnts)"
   ]
  },
  {
   "cell_type": "markdown",
   "metadata": {},
   "source": [
    "### Test HyQSAT"
   ]
  },
  {
   "cell_type": "code",
   "execution_count": 4,
   "metadata": {},
   "outputs": [
    {
     "name": "stdout",
     "output_type": "stream",
     "text": [
      "([(-3, 7, 36), (-3, -42, -48), (-41, -47, -49), (8, 17, -40), (-21, -31, -39), (-22, 36, 49), (14, 27, 38), (6, 15, -18), (6, 7, -43), (-7, 23, 34), (2, -13, 14), (2, -42, 47), (3, -33, -35), (40, 44, 49), (31, 36, 50), (-3, -36, -37), (26, -29, 43), (15, 29, -45), (-11, 18, 24), (6, -26, -47), (-10, -33, -50), (6, 16, 32), (-34, 37, 41), (7, -17, -28), (19, -44, 46), (7, 22, -48), (3, 34, 39), (31, -43, 46), (23, -27, 32), (-18, 37, -50), (5, 11, 20), (6, -24, -45), (-14, -23, -34), (20, 21, -22), (-17, 24, 50), (-24, -25, -27), (3, 21, 35), (-26, -36, 47), (-28, -45, 49), (-6, 12, -21), (-15, -17, -39), (2, -14, 41), (-23, 25, 36), (-3, -39, -40), (20, 35, 50), (27, 31, -39), (-15, -40, 45), (34, 35, 50), (-1, 12, -48), (18, -30, -35), (-24, -25, 27), (-4, -12, -33), (-24, -37, -43), (31, -37, -44), (-9, 14, -38), (-16, 33, 34), (4, -5, -35), (-3, -19, -21), (-29, -35, -36), (7, 36, -43), (14, 30, 41), (-7, -24, -35), (6, 35, -42), (-1, -15, 39), (-16, 27, 49), (-10, -37, 49), (-3, -46, 50), (20, 34, -41), (-1, 23, 28), (-12, -20, -30), (-24, 29, -37), (5, 12, -44), (-2, -6, 48), (-2, -43, -49), (1, 24, -50), (-7, -44, -50), (4, -41, 43), (-11, 13, 15), (-3, -11, 23), (33, 41, 48), (9, 23, -49), (1, -43, 47), (16, -29, -40), (3, 19, 30), (19, -34, 48), (14, -16, -44), (-12, 38, -45), (-4, -14, -31), (-1, 35, -48), (-13, 19, 45), (-7, 9, 42), (-1, 8, -15), (-13, -14, -44), (-31, -37, -43), (-27, -29, 47), (4, 7, 17), (7, 10, 35), (17, 20, -25), (-5, 35, -42), (-5, 24, -50), (2, -21, -26), (-8, -21, 45), (-16, 33, 49), (6, 16, -38), (5, 21, 37), (8, 31, 38), (14, -21, 33), (-5, 20, 40), (-9, -29, 31), (-7, -22, 42), (8, 26, -48), (33, -38, 48), (-34, 46, 49), (-14, 25, -46), (4, 18, -46), (-12, -31, 36), (12, 14, -18), (-7, -16, 46), (7, -8, 9), (-22, -42, 49), (-15, 22, 38), (34, -41, 47), (22, -26, 32), (-21, -25, -45), (-11, -26, 32), (15, -25, 26), (-1, 25, 46), (-14, 30, -31), (-9, 12, -22), (-18, 26, -35), (-16, -21, -32), (-21, 31, -49), (9, 11, 41), (-13, 19, -30), (4, 6, -10), (3, -4, -22), (-18, -25, -50), (4, 9, -40), (20, 37, 46), (22, -27, -29), (3, 14, 34), (3, 20, -31), (2, -26, -50), (17, -29, 38), (12, -41, -49), (15, -35, -43), (-22, -23, -49), (-9, 33, 48), (26, 29, 35), (27, 37, -50), (-7, -43, 46), (-8, -37, -46), (-24, 36, -40), (15, -44, 46), (-3, -16, 36), (9, 43, -48), (-4, -25, 44), (-7, -22, 37), (-17, -22, -31), (-11, 17, -48), (23, -28, 34), (23, -39, -48), (-1, -23, -37), (14, -19, 27), (-6, -22, 33), (-6, -26, -32), (18, -20, -46), (22, 27, 43), (-13, 34, 49), (3, -35, -46), (32, 39, -43), (6, -9, -39), (-16, 27, 39), (-15, -17, 25), (27, 34, -43), (5, -6, 49), (11, 14, -38), (-38, 40, 47), (-14, 17, 37), (29, 36, 39), (1, -28, -39), (14, -16, -18), (15, -40, 50), (18, 37, -42), (-13, 31, 33), (2, 33, -42), (-3, 8, -22), (1, 23, -31), (-20, 26, -45), (11, 42, 49), (11, 29, -43), (-20, -21, 30), (23, -35, 45), (-14, -30, 38), (-9, -29, 48), (11, -18, -23), (-1, -29, -41), (5, 26, 41), (-7, -30, 44), (-6, 38, -41), (-15, 46, 48), (-10, -18, -47), (-32, 38, 46), (12, -32, 46), (14, 31, 40), (2, -18, 49), (27, 28, -38), (14, -16, -21), (12, 15, -29), (5, 34, 49), (-12, 14, 22), (20, 30, 33), (22, -24, 25), (4, -23, -48), (9, -30, -36), (12, -35, 44), (3, -21, 38), (-11, 33, 49)], {1, 2, 3, 4, 5, 6, 7, 8, 9, 10, 11, 12, 13, 14, 15, 16, 17, 18, 19, 20, 21, 22, 23, 24, 25, 26, 27, 28, 29, 30, 31, 32, 33, 34, 35, 36, 37, 38, 39, 40, 41, 42, 43, 44, 45, 46, 47, 48, 49, 50})\n"
     ]
    }
   ],
   "source": [
    "# test HyQSAT\n",
    "from janusq.application.hyqsat import readCNF\n",
    "\n",
    "# input cnf flie\n",
    "file_path = \"./data/cnf_examples/UF50/uf50-01.cnf\"\n",
    "print(readCNF(file_path))"
   ]
  },
  {
   "cell_type": "markdown",
   "metadata": {},
   "source": [
    "### Test Choco-Q\n",
    "\n",
    "Activate the virtual environment \"chocoq_cpu\" or \"chocoq_qpu\""
   ]
  },
  {
   "cell_type": "code",
   "execution_count": 1,
   "metadata": {},
   "outputs": [
    {
     "name": "stdout",
     "output_type": "stream",
     "text": [
      "[[ 1  1 -1  0  0  0]\n",
      " [ 0  0  1  1 -1  1]]\n",
      "m:\n",
      "variables:\n",
      "x_0 (type: binary)   x_1 (type: binary)   x_2 (type: binary)   x_3 (type: binary)   x_4 (type: binary)\n",
      "\n",
      "obj:\n",
      "max 1 * x_0 * x_3 + 1 * x_1 * x_3 + 1 * x_2\n",
      "\n",
      "s.t.:\n",
      "1 * x_0 + 1 * x_1 + -1 * x_2 == 0\n",
      "1 * x_2 + 1 * x_3 + -1 * x_4 == 1\n",
      "\n",
      "penalty_lambda:\n",
      "32767\n",
      "\n",
      "\n",
      "Restricted license - for non-production use only - expires 2025-11-24\n",
      "optimize_cost: (2.0, {'x_0': 0.0, 'x_1': 1.0, 'x_2': 1.0, 'x_3': 1.0, 'x_4': 1.0})\n",
      "\n",
      "\n"
     ]
    },
    {
     "ename": "TypeError",
     "evalue": "Expected LcboModel or ModelOption, got <class 'janusq.application.chocoq.chocoq.model.lin_constr_bin_opt.LinearConstrainedBinaryOptimization'>",
     "output_type": "error",
     "traceback": [
      "\u001b[0;31m---------------------------------------------------------------------------\u001b[0m",
      "\u001b[0;31mTypeError\u001b[0m                                 Traceback (most recent call last)",
      "Cell \u001b[0;32mIn[1], line 36\u001b[0m\n\u001b[1;32m     34\u001b[0m \u001b[38;5;66;03m# gpu = AerGpuProvider()\u001b[39;00m\n\u001b[1;32m     35\u001b[0m aer \u001b[38;5;241m=\u001b[39m DdsimProvider()\n\u001b[0;32m---> 36\u001b[0m solver \u001b[38;5;241m=\u001b[39m \u001b[43mChocoSolver\u001b[49m\u001b[43m(\u001b[49m\n\u001b[1;32m     37\u001b[0m \u001b[43m    \u001b[49m\u001b[43mprb_model\u001b[49m\u001b[38;5;241;43m=\u001b[39;49m\u001b[43mm\u001b[49m\u001b[43m,\u001b[49m\u001b[43m  \u001b[49m\u001b[38;5;66;43;03m# the problem model\u001b[39;49;00m\n\u001b[1;32m     38\u001b[0m \u001b[43m    \u001b[49m\u001b[43moptimizer\u001b[49m\u001b[38;5;241;43m=\u001b[39;49m\u001b[43mopt\u001b[49m\u001b[43m,\u001b[49m\u001b[43m  \u001b[49m\u001b[38;5;66;43;03m# the optimizer for parameters updating.\u001b[39;49;00m\n\u001b[1;32m     39\u001b[0m \u001b[43m    \u001b[49m\u001b[43mprovider\u001b[49m\u001b[38;5;241;43m=\u001b[39;49m\u001b[43maer\u001b[49m\u001b[43m,\u001b[49m\u001b[43m  \u001b[49m\u001b[38;5;66;43;03m# quantum circuit simulator.\u001b[39;49;00m\n\u001b[1;32m     40\u001b[0m \u001b[43m    \u001b[49m\u001b[43mnum_layers\u001b[49m\u001b[38;5;241;43m=\u001b[39;49m\u001b[38;5;241;43m1\u001b[39;49m\u001b[43m,\u001b[49m\n\u001b[1;32m     41\u001b[0m \u001b[43m)\u001b[49m\n\u001b[1;32m     42\u001b[0m \u001b[38;5;28mprint\u001b[39m(solver\u001b[38;5;241m.\u001b[39mcircuit_analyze([\u001b[38;5;124m'\u001b[39m\u001b[38;5;124mdepth\u001b[39m\u001b[38;5;124m'\u001b[39m, \u001b[38;5;124m'\u001b[39m\u001b[38;5;124mwidth\u001b[39m\u001b[38;5;124m'\u001b[39m, \u001b[38;5;124m'\u001b[39m\u001b[38;5;124mculled_depth\u001b[39m\u001b[38;5;124m'\u001b[39m, \u001b[38;5;124m'\u001b[39m\u001b[38;5;124mnum_one_qubit_gates\u001b[39m\u001b[38;5;124m'\u001b[39m])) \n\u001b[1;32m     43\u001b[0m \u001b[38;5;66;03m## the circuit analyze results\u001b[39;00m\n",
      "File \u001b[0;32m~/Data/Quantum Technology and Device/Tutorial/HPCA 2025/JanusQ/examples/../janusq/application/chocoq/chocoq/solvers/qiskit/choco.py:75\u001b[0m, in \u001b[0;36mChocoSolver.__init__\u001b[0;34m(self, prb_model, optimizer, provider, num_layers, shots, mcx_mode)\u001b[0m\n\u001b[1;32m     65\u001b[0m \u001b[38;5;28;01mdef\u001b[39;00m \u001b[38;5;21m__init__\u001b[39m(\n\u001b[1;32m     66\u001b[0m     \u001b[38;5;28mself\u001b[39m,\n\u001b[1;32m     67\u001b[0m     \u001b[38;5;241m*\u001b[39m,\n\u001b[0;32m   (...)\u001b[0m\n\u001b[1;32m     73\u001b[0m     mcx_mode: \u001b[38;5;28mstr\u001b[39m \u001b[38;5;241m=\u001b[39m \u001b[38;5;124m\"\u001b[39m\u001b[38;5;124mconstant\u001b[39m\u001b[38;5;124m\"\u001b[39m,\n\u001b[1;32m     74\u001b[0m ):\n\u001b[0;32m---> 75\u001b[0m     \u001b[38;5;28;43msuper\u001b[39;49m\u001b[43m(\u001b[49m\u001b[43m)\u001b[49m\u001b[38;5;241;43m.\u001b[39;49m\u001b[38;5;21;43m__init__\u001b[39;49m\u001b[43m(\u001b[49m\u001b[43mprb_model\u001b[49m\u001b[43m,\u001b[49m\u001b[43m \u001b[49m\u001b[43moptimizer\u001b[49m\u001b[43m)\u001b[49m\n\u001b[1;32m     76\u001b[0m     \u001b[38;5;28mself\u001b[39m\u001b[38;5;241m.\u001b[39mcircuit_option \u001b[38;5;241m=\u001b[39m ChCircuitOption(\n\u001b[1;32m     77\u001b[0m         provider\u001b[38;5;241m=\u001b[39mprovider,\n\u001b[1;32m     78\u001b[0m         num_layers\u001b[38;5;241m=\u001b[39mnum_layers,\n\u001b[1;32m     79\u001b[0m         shots\u001b[38;5;241m=\u001b[39mshots,\n\u001b[1;32m     80\u001b[0m         mcx_mode\u001b[38;5;241m=\u001b[39mmcx_mode,\n\u001b[1;32m     81\u001b[0m     )\n",
      "File \u001b[0;32m~/anaconda3/envs/chocoq_cpu/lib/python3.10/site-packages/chocoq/solvers/abstract_solver.py:20\u001b[0m, in \u001b[0;36mSolver.__init__\u001b[0;34m(self, prb_model, optimizer)\u001b[0m\n\u001b[1;32m     18\u001b[0m     \u001b[38;5;28mself\u001b[39m\u001b[38;5;241m.\u001b[39mmodel_option \u001b[38;5;241m=\u001b[39m prb_model\n\u001b[1;32m     19\u001b[0m \u001b[38;5;28;01melse\u001b[39;00m:\n\u001b[0;32m---> 20\u001b[0m     \u001b[38;5;28;01mraise\u001b[39;00m \u001b[38;5;167;01mTypeError\u001b[39;00m(\u001b[38;5;124mf\u001b[39m\u001b[38;5;124m\"\u001b[39m\u001b[38;5;124mExpected LcboModel or ModelOption, got \u001b[39m\u001b[38;5;132;01m{\u001b[39;00m\u001b[38;5;28mtype\u001b[39m(prb_model)\u001b[38;5;132;01m}\u001b[39;00m\u001b[38;5;124m\"\u001b[39m)\n\u001b[1;32m     21\u001b[0m \u001b[38;5;28mself\u001b[39m\u001b[38;5;241m.\u001b[39moptimizer: Optimizer \u001b[38;5;241m=\u001b[39m optimizer\n\u001b[1;32m     22\u001b[0m \u001b[38;5;28mself\u001b[39m\u001b[38;5;241m.\u001b[39mcircuit_option: CircuitOption \u001b[38;5;241m=\u001b[39m \u001b[38;5;28;01mNone\u001b[39;00m\n",
      "\u001b[0;31mTypeError\u001b[0m: Expected LcboModel or ModelOption, got <class 'janusq.application.chocoq.chocoq.model.lin_constr_bin_opt.LinearConstrainedBinaryOptimization'>"
     ]
    }
   ],
   "source": [
    "import os\n",
    "os.chdir(\"..\")\n",
    "import sys\n",
    "sys.path.append('..')\n",
    "import logging\n",
    "logging.basicConfig(level=logging.WARN)\n",
    "\n",
    "# test Choco-Q\n",
    "from janusq.application.chocoq.chocoq.model import LinearConstrainedBinaryOptimization as LcboModel\n",
    "from janusq.application.chocoq.chocoq.solvers.optimizers import CobylaOptimizer, AdamOptimizer\n",
    "from janusq.application.chocoq.chocoq.solvers.qiskit import (\n",
    "    PenaltySolver, CyclicSolver, HeaSolver, ChocoSolver, \n",
    "    AerGpuProvider, AerProvider, FakeBrisbaneProvider, FakeKyivProvider, FakeTorinoProvider, DdsimProvider,\n",
    ")\n",
    "\n",
    "# ----------------------- model -----------------------\n",
    "m = LcboModel()\n",
    "x = m.addVars(5, name=\"x\") ## add five binary variables with prefix name x\n",
    "m.setObjective((x[0] + x[1])* x[3] + x[2], \"max\") ## set the maximum objective with (x[0]+x[1])x[3] + x[2]\n",
    "# m.addConstr(x[0] + x[1] + x[2] == 2)\n",
    "# m.addConstr(x[0] + x[1] == 1)\n",
    "\n",
    "m.addConstr(x[0] + x[1] - x[2] == 0) #add linear constraints\n",
    "m.addConstr(x[2] + x[3] - x[4] == 1)\n",
    "\n",
    "print(m.lin_constr_mtx) #print linear constraints matrix\n",
    "print(m) # print the information of model.\n",
    "\n",
    "optimize = m.optimize()\n",
    "print(f\"optimize_cost: {optimize}\\n\\n\")\n",
    "\n",
    "# sovler ----------------------------------------------\n",
    "opt = CobylaOptimizer(max_iter=200) # set the optimizer COBYLA, the max iteration is 200.\n",
    "# gpu = AerGpuProvider()\n",
    "aer = DdsimProvider()\n",
    "solver = ChocoSolver(\n",
    "    prb_model=m,  # the problem model\n",
    "    optimizer=opt,  # the optimizer for parameters updating.\n",
    "    provider=aer,  # quantum circuit simulator.\n",
    "    num_layers=1,\n",
    ")\n",
    "print(solver.circuit_analyze(['depth', 'width', 'culled_depth', 'num_one_qubit_gates'])) \n",
    "## the circuit analyze results\n",
    "\n",
    "result = solver.solve() # solving with input solver\n",
    "print(result)\n",
    "\n",
    "eval = solver.evaluation() # evaluation of the solving results\n",
    "print(eval) "
   ]
  }
 ],
 "metadata": {
  "kernelspec": {
   "display_name": "chocoq_cpu",
   "language": "python",
   "name": "python3"
  },
  "language_info": {
   "codemirror_mode": {
    "name": "ipython",
    "version": 3
   },
   "file_extension": ".py",
   "mimetype": "text/x-python",
   "name": "python",
   "nbconvert_exporter": "python",
   "pygments_lexer": "ipython3",
   "version": "3.10.0"
  }
 },
 "nbformat": 4,
 "nbformat_minor": 4
}
