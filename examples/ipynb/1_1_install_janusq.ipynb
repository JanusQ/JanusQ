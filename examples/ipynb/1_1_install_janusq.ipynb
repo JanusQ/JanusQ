{
 "cells": [
  {
   "cell_type": "markdown",
   "metadata": {},
   "source": [
    "# Getting Start\n",
    "\n",
    "## Install JanusQ\n",
    "\n",
    "JanusQ can be installed by docker, wheel, and soruce code. Docker is recommended, as all functions have been tested on it. Linux (Ubuntu 22.04 latest) platform and Python (3.10) is prefered when instaling by wheel or soruce code.\n",
    "\n",
    "**From docker (Recommended)**\n",
    "\n",
    "Pull docker image\n",
    "\n",
    "```bash\n",
    "  docker pull janusq/janusq:latest\n",
    "```\n",
    "\n",
    "Run docker image\n",
    "\n",
    "```bash\n",
    "  docker run -itd -p 8888:22 -p 9999:23 --name tutorial janusq/janusq\n",
    "```\n",
    "\n",
    "The docker can be accessed via\n",
    "\n",
    "```bash\n",
    "  ssh root@localhost -p 8888\n",
    "```\n",
    "\n",
    "or\n",
    "\n",
    "```bash\n",
    "  docker exec -it tutorial bash\n",
    "```\n",
    "\n",
    "The source code is in \"/JanusQ/janusq\" and examples can be directly run in \"/JanusQ/examples/ipynb\". The jupyter notebook can be visited in http://localhost:9999/lab.\n",
    "\n",
    "**From wheel**\n",
    "\n",
    "Download [janusq.whl](https://github.com/JanusQ/JanusQ/blob/main/dist/janusq-0.1.0-py3-none-any.whl) and install with `pip`\n",
    "\n",
    "```bash\n",
    "  pip install janusq.whl\n",
    "```  \n",
    "\n",
    "**From source code**\n",
    "\n",
    "Pull the source code from github and install the dependencies\n",
    "\n",
    "```bash\n",
    "  git clone git@github.com:JanusQ/JanusQ.git\n",
    "  cd JanusQ\n",
    "  pip install -r requirements.txt\n",
    "```  \n",
    "\n",
    "Set up for HyQSAT\n",
    "\n",
    "```bash\n",
    "  cd ./hyqsat\n",
    "  cmake .\n",
    "  make install\n",
    "  cp libm* ../janusq/hyqsat\n",
    "  cp minisat_core ../janusq/hyqsat\n",
    "```  \n",
    "\n",
    "## Structure of JanusQ\n",
    "\n",
    "- QuCT\n",
    "  - Vectorization\n",
    "    - \"janusq/analysis/vectorization.py\": Python script to generate the path table and vecterization of circuits, which serves as a upstream model for various analysis and optimization tasks.\n",
    "  - Fidelity preidiction and optimization\n",
    "    - \"janusq/analysis/fidelity_prediction.py\": Python script to train a downstream model for circuit fidelity prediction.\n",
    "    - \"janusq/optimizations/mapping/mapping_ct.py\"：Python script of a typical compilation flow, including routing and scheduling. The compilation flow transforms the circuit to satisfy the processor topology so as to optimize the circuit fidelity based on the prediction model.\n",
    "  - Unitary decomposition\n",
    "    - \"janusq/analysis/unitary_decompostion.py\": Python script that takes a unitary as input and decomposes it into matrices of basic gates, resulting in an equivalent circuit.\n",
    "- MorphQPV\n",
    "- QuFEM\n",
    "  - \"janusq/optimizations/readout_mitigation/fem/benchmarking.py\": Python script to generate a circuit for measuring calibration matrices.\n",
    "  - \"janusq/optimizations/readout_mitigation/fem/mitigation.py\": Python script to implement iterative calibration, which includes quantifying interactions between qubits and constructing Bayesian networks.\n",
    "  - \"janusq/optimizations/readout_mitigation/fem/tools.py\": Python script to implement data format conversion.\n",
    "- HyQSAT\n",
    "  - \"janusq/hyqsat/common\": Directory holding common functions about cnf files, such as \"read_cnf.py\".\n",
    "  - \"janusq/hyqsat/solver.py\": Python script holding different APIs used to solve sat problem.\n",
    "- Choco-Q\n",
    "\n",
    "## Q&A\n",
    "\n",
    "1. Error \"Permission denied 'minisat_core'\"\n",
    "\n",
    "    Run following command\n",
    "\n",
    "    ```bash\n",
    "      chmod +x janusq/hyqsat/minisat_core\n",
    "    ```\n",
    "\n",
    "2. Error \"Library not loaded: @rpath/libpython3.10.dylib\" \n",
    "\n",
    "    Run following command\n",
    "\n",
    "    ```bash\n",
    "      install_name_tool -add_rpath /path/to/python3.10/lib janusq/hyqsat/minisat_core\n",
    "    ```"
   ]
  },
  {
   "cell_type": "markdown",
   "metadata": {},
   "source": [
    "## Test JanusQ"
   ]
  },
  {
   "cell_type": "code",
   "execution_count": 1,
   "metadata": {},
   "outputs": [],
   "source": [
    "import os\n",
    "os.chdir(\"..\")\n",
    "import sys\n",
    "sys.path.append('..')\n",
    "import logging\n",
    "logging.basicConfig(level=logging.WARN)"
   ]
  },
  {
   "cell_type": "markdown",
   "metadata": {},
   "source": [
    "### Test QuCT"
   ]
  },
  {
   "cell_type": "code",
   "execution_count": 2,
   "metadata": {},
   "outputs": [
    {
     "name": "stderr",
     "output_type": "stream",
     "text": [
      "100%|██████████| 300/300 [00:00<00:00, 380.62it/s]\n"
     ]
    }
   ],
   "source": [
    "# test quct\n",
    "from janusq.data_objects.backend import LinearBackend\n",
    "from janusq.data_objects.random_circuit import random_circuits\n",
    "from janusq.analysis.vectorization import RandomwalkModel\n",
    "\n",
    "# define a 10-qubit backend\n",
    "n_qubits = 8\n",
    "n_steps = 1\n",
    "n_walks = 20\n",
    "backend = LinearBackend(n_qubits, 1)\n",
    "\n",
    "circuits = random_circuits(backend, n_circuits=300, n_gate_list=[30, 50, 100], two_qubit_prob_list=[.4], reverse=True)\n",
    "\n",
    "up_model = RandomwalkModel(n_steps = n_steps, n_walks = n_walks, backend = backend)\n",
    "up_model.train(circuits, multi_process=False, remove_redundancy = False)"
   ]
  },
  {
   "cell_type": "markdown",
   "metadata": {},
   "source": [
    "### Test QuFEM"
   ]
  },
  {
   "cell_type": "code",
   "execution_count": 3,
   "metadata": {},
   "outputs": [
    {
     "name": "stderr",
     "output_type": "stream",
     "text": [
      "/Users/chutianyao/anaconda3/envs/janusq/lib/python3.10/site-packages/numpy/linalg/linalg.py:2180: RuntimeWarning: divide by zero encountered in det\n",
      "  r = _umath_linalg.det(a, signature=signature)\n",
      "/Users/chutianyao/anaconda3/envs/janusq/lib/python3.10/site-packages/numpy/linalg/linalg.py:2180: RuntimeWarning: invalid value encountered in det\n",
      "  r = _umath_linalg.det(a, signature=signature)\n"
     ]
    },
    {
     "name": "stdout",
     "output_type": "stream",
     "text": [
      "[{'011': 5, '100': 41, '001': 335, '101': 1, '010': 133, '000': 9485}, {'000': 974, '010': 12, '101': 39, '011': 115, '100': 4, '001': 8856}, {'011': 6, '110': 2, '100': 44, '001': 296, '000': 9514, '010': 136, '101': 2}, {'011': 290, '111': 1, '100': 1, '001': 24, '110': 32, '000': 615, '010': 9037}, {'101': 5, '000': 55, '010': 893, '111': 30, '011': 8445, '110': 2, '001': 570}, {'100': 4, '001': 19, '110': 30, '010': 9033, '000': 616, '111': 1, '011': 297}, {'101': 1, '110': 1, '100': 35, '001': 317, '011': 6, '010': 131, '000': 9509}, {'001': 8869, '100': 6, '111': 2, '011': 120, '101': 40, '010': 12, '000': 951}, {'101': 1, '100': 35, '001': 279, '011': 5, '010': 135, '000': 9545}, {'111': 4, '100': 9462, '001': 2, '110': 142, '010': 3, '000': 86, '101': 301}, {'110': 11, '001': 77, '100': 969, '111': 114, '000': 10, '101': 8819}, {'111': 1, '001': 2, '110': 149, '100': 9474, '010': 3, '000': 67, '101': 304}, {'101': 24, '011': 2, '111': 286, '110': 8992, '100': 612, '000': 4, '010': 80}, {'000': 1, '010': 10, '001': 7, '110': 948, '100': 62, '111': 8355, '011': 68, '101': 549}, {'011': 1, '111': 306, '110': 8966, '100': 629, '000': 3, '010': 71, '101': 24}, {'111': 6, '010': 1, '000': 77, '001': 5, '100': 9445, '110': 151, '101': 315}, {'000': 8, '011': 2, '111': 106, '001': 69, '100': 966, '110': 10, '101': 8839}, {'111': 1, '000': 81, '010': 1, '001': 2, '100': 9500, '110': 126, '101': 289}, {'101': 1, '110': 4, '100': 42, '001': 287, '011': 4, '010': 130, '000': 9532}, {'011': 114, '101': 40, '010': 16, '000': 892, '100': 2, '001': 8936}, {'101': 2, '100': 37, '001': 329, '011': 5, '010': 139, '000': 9488}, {'100': 1, '110': 27, '001': 25, '011': 300, '010': 9048, '000': 599}, {'101': 2, '110': 3, '001': 508, '000': 57, '010': 964, '111': 28, '011': 8438}, {'100': 4, '001': 27, '110': 37, '010': 9012, '000': 643, '111': 2, '011': 275}, {'100': 31, '001': 320, '011': 7, '010': 109, '000': 9533}, {'001': 8874, '100': 10, '111': 1, '011': 119, '101': 37, '010': 13, '000': 946}]\n"
     ]
    }
   ],
   "source": [
    "# test readout calibration\n",
    "from janusq.simulator.noisy_simulator import NoisySimulator\n",
    "from janusq.data_objects.backend import LinearBackend\n",
    "from janusq.simulator.readout_error_model import ReadoutErrorModel\n",
    "from janusq.optimizations.readout_mitigation.fem import  EnumeratedProtocol\n",
    "from janusq.data_objects.algorithms import get_algorithm_circuits\n",
    "\n",
    "n_qubits = 3\n",
    "backend = LinearBackend(n_qubits, 1)\n",
    "circuit = get_algorithm_circuits(n_qubits, backend, algs = ['ghz'])[0]\n",
    "\n",
    "samples = 10000\n",
    "\n",
    "simulator = NoisySimulator(\n",
    "    backend, readout_error_model = ReadoutErrorModel.random_model(backend))\n",
    "output_noise = simulator.execute(circuit,samples)\n",
    "\n",
    "\n",
    "protocol = EnumeratedProtocol(n_qubits)\n",
    "real_bstrs, circuits_protocol = protocol.gen_circuits()\n",
    "\n",
    "all_statuscnts = [\n",
    "    simulator.execute(cir_protocol, samples)\n",
    "    for cir_protocol in circuits_protocol\n",
    "]\n",
    "\n",
    "print(all_statuscnts)\n"
   ]
  },
  {
   "cell_type": "markdown",
   "metadata": {},
   "source": [
    "### Test HyQSAT"
   ]
  },
  {
   "cell_type": "code",
   "execution_count": 4,
   "metadata": {},
   "outputs": [
    {
     "name": "stdout",
     "output_type": "stream",
     "text": [
      "([(-3, 7, 36), (-3, -42, -48), (-41, -47, -49), (8, 17, -40), (-21, -31, -39), (-22, 36, 49), (14, 27, 38), (6, 15, -18), (6, 7, -43), (-7, 23, 34), (2, -13, 14), (2, -42, 47), (3, -33, -35), (40, 44, 49), (31, 36, 50), (-3, -36, -37), (26, -29, 43), (15, 29, -45), (-11, 18, 24), (6, -26, -47), (-10, -33, -50), (6, 16, 32), (-34, 37, 41), (7, -17, -28), (19, -44, 46), (7, 22, -48), (3, 34, 39), (31, -43, 46), (23, -27, 32), (-18, 37, -50), (5, 11, 20), (6, -24, -45), (-14, -23, -34), (20, 21, -22), (-17, 24, 50), (-24, -25, -27), (3, 21, 35), (-26, -36, 47), (-28, -45, 49), (-6, 12, -21), (-15, -17, -39), (2, -14, 41), (-23, 25, 36), (-3, -39, -40), (20, 35, 50), (27, 31, -39), (-15, -40, 45), (34, 35, 50), (-1, 12, -48), (18, -30, -35), (-24, -25, 27), (-4, -12, -33), (-24, -37, -43), (31, -37, -44), (-9, 14, -38), (-16, 33, 34), (4, -5, -35), (-3, -19, -21), (-29, -35, -36), (7, 36, -43), (14, 30, 41), (-7, -24, -35), (6, 35, -42), (-1, -15, 39), (-16, 27, 49), (-10, -37, 49), (-3, -46, 50), (20, 34, -41), (-1, 23, 28), (-12, -20, -30), (-24, 29, -37), (5, 12, -44), (-2, -6, 48), (-2, -43, -49), (1, 24, -50), (-7, -44, -50), (4, -41, 43), (-11, 13, 15), (-3, -11, 23), (33, 41, 48), (9, 23, -49), (1, -43, 47), (16, -29, -40), (3, 19, 30), (19, -34, 48), (14, -16, -44), (-12, 38, -45), (-4, -14, -31), (-1, 35, -48), (-13, 19, 45), (-7, 9, 42), (-1, 8, -15), (-13, -14, -44), (-31, -37, -43), (-27, -29, 47), (4, 7, 17), (7, 10, 35), (17, 20, -25), (-5, 35, -42), (-5, 24, -50), (2, -21, -26), (-8, -21, 45), (-16, 33, 49), (6, 16, -38), (5, 21, 37), (8, 31, 38), (14, -21, 33), (-5, 20, 40), (-9, -29, 31), (-7, -22, 42), (8, 26, -48), (33, -38, 48), (-34, 46, 49), (-14, 25, -46), (4, 18, -46), (-12, -31, 36), (12, 14, -18), (-7, -16, 46), (7, -8, 9), (-22, -42, 49), (-15, 22, 38), (34, -41, 47), (22, -26, 32), (-21, -25, -45), (-11, -26, 32), (15, -25, 26), (-1, 25, 46), (-14, 30, -31), (-9, 12, -22), (-18, 26, -35), (-16, -21, -32), (-21, 31, -49), (9, 11, 41), (-13, 19, -30), (4, 6, -10), (3, -4, -22), (-18, -25, -50), (4, 9, -40), (20, 37, 46), (22, -27, -29), (3, 14, 34), (3, 20, -31), (2, -26, -50), (17, -29, 38), (12, -41, -49), (15, -35, -43), (-22, -23, -49), (-9, 33, 48), (26, 29, 35), (27, 37, -50), (-7, -43, 46), (-8, -37, -46), (-24, 36, -40), (15, -44, 46), (-3, -16, 36), (9, 43, -48), (-4, -25, 44), (-7, -22, 37), (-17, -22, -31), (-11, 17, -48), (23, -28, 34), (23, -39, -48), (-1, -23, -37), (14, -19, 27), (-6, -22, 33), (-6, -26, -32), (18, -20, -46), (22, 27, 43), (-13, 34, 49), (3, -35, -46), (32, 39, -43), (6, -9, -39), (-16, 27, 39), (-15, -17, 25), (27, 34, -43), (5, -6, 49), (11, 14, -38), (-38, 40, 47), (-14, 17, 37), (29, 36, 39), (1, -28, -39), (14, -16, -18), (15, -40, 50), (18, 37, -42), (-13, 31, 33), (2, 33, -42), (-3, 8, -22), (1, 23, -31), (-20, 26, -45), (11, 42, 49), (11, 29, -43), (-20, -21, 30), (23, -35, 45), (-14, -30, 38), (-9, -29, 48), (11, -18, -23), (-1, -29, -41), (5, 26, 41), (-7, -30, 44), (-6, 38, -41), (-15, 46, 48), (-10, -18, -47), (-32, 38, 46), (12, -32, 46), (14, 31, 40), (2, -18, 49), (27, 28, -38), (14, -16, -21), (12, 15, -29), (5, 34, 49), (-12, 14, 22), (20, 30, 33), (22, -24, 25), (4, -23, -48), (9, -30, -36), (12, -35, 44), (3, -21, 38), (-11, 33, 49)], {1, 2, 3, 4, 5, 6, 7, 8, 9, 10, 11, 12, 13, 14, 15, 16, 17, 18, 19, 20, 21, 22, 23, 24, 25, 26, 27, 28, 29, 30, 31, 32, 33, 34, 35, 36, 37, 38, 39, 40, 41, 42, 43, 44, 45, 46, 47, 48, 49, 50})\n"
     ]
    }
   ],
   "source": [
    "# test hyqsat calibration\n",
    "from janusq.hyqsat import readCNF\n",
    "\n",
    "# input cnf flie\n",
    "file_path = \"cnf_examples/UF50/uf50-01.cnf\"\n",
    "print(readCNF(file_path))"
   ]
  }
 ],
 "metadata": {
  "kernelspec": {
   "display_name": "janusq",
   "language": "python",
   "name": "python3"
  },
  "language_info": {
   "codemirror_mode": {
    "name": "ipython",
    "version": 3
   },
   "file_extension": ".py",
   "mimetype": "text/x-python",
   "name": "python",
   "nbconvert_exporter": "python",
   "pygments_lexer": "ipython3",
   "version": "3.10.16"
  }
 },
 "nbformat": 4,
 "nbformat_minor": 4
}
