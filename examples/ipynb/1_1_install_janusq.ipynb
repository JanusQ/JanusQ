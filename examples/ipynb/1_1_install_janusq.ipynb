{
 "cells": [
  {
   "cell_type": "markdown",
   "metadata": {},
   "source": [
    "# Getting Start\n",
    "\n",
    "## Install JanusQ\n",
    "\n",
    "JanusQ can be installed by docker, wheel, and soruce code. Docker is recommended, as all functions have been tested on it. Linux (Ubuntu 22.04 latest) platform and Python (3.10) is prefered when instaling by wheel or soruce code.\n",
    "\n",
    "**From docker (Recommended)**\n",
    "\n",
    "Pull docker image\n",
    "\n",
    "```bash\n",
    "  docker pull janusq/janusq:latest\n",
    "```\n",
    "\n",
    "Run docker image\n",
    "\n",
    "```bash\n",
    "  docker run -itd -p 8888:22 -p 9999:23 --name tutorial janusq/janusq\n",
    "```\n",
    "\n",
    "The docker can be accessed via\n",
    "\n",
    "```bash\n",
    "  ssh root@localhost -p 8888\n",
    "```\n",
    "\n",
    "or\n",
    "\n",
    "```bash\n",
    "  docker exec -it tutorial bash\n",
    "```\n",
    "\n",
    "The source code is in \"/JanusQ/janusq\" and examples can be directly run in \"/JanusQ/examples/ipynb\". The jupyter notebook can be visited in http://localhost:9999/lab.\n",
    "\n",
    "**From wheel**\n",
    "\n",
    "Download [janusq.whl](https://github.com/JanusQ/JanusQ/blob/main/dist/janusq-0.1.0-py3-none-any.whl) and install with `pip`\n",
    "\n",
    "```bash\n",
    "  pip install janusq.whl\n",
    "```  \n",
    "\n",
    "**From source code**\n",
    "\n",
    "Pull the source code from github and install the dependencies\n",
    "\n",
    "```bash\n",
    "  git clone git@github.com:JanusQ/JanusQ.git\n",
    "  cd JanusQ\n",
    "  conda create -n janusq python=3.10\n",
    "  pip install -r requirements.txt\n",
    "```  \n",
    "\n",
    "Set up for HyQSAT\n",
    "\n",
    "```bash\n",
    "  cd ./janusq/application/hyqsat/solver\n",
    "  cmake .\n",
    "  make install\n",
    "```  \n",
    "\n",
    "Set up for Choco-Q\n",
    "\n",
    "- For Linux with CPU\n",
    "\n",
    "```bash\n",
    "  cd ./janusq/application/chocoq\n",
    "  conda env create -f environment_linux_cpu.yml\n",
    "```\n",
    "\n",
    "- For Linux with GPU\n",
    "\n",
    "```bash\n",
    "  cd ./janusq/application/chocoq\n",
    "  conda env create -f environment_linux_gpu.yml\n",
    "```\n",
    "\n",
    "- For MasOS\n",
    "\n",
    "```bash\n",
    "  cd ./janusq/application/chocoq\n",
    "  conda env create -f environment_macos.yml\n",
    "```\n",
    "\n",
    "## Structure of JanusQ\n",
    "\n",
    "- QuCT\n",
    "  - Vectorization\n",
    "    - \"janusq/analysis/vectorization.py\": Python script to generate the path table and vecterization of circuits, which serves as a upstream model for various analysis and optimization tasks.\n",
    "  - Fidelity preidiction and optimization\n",
    "    - \"janusq/analysis/fidelity_prediction.py\": Python script to train a downstream model for circuit fidelity prediction.\n",
    "    - \"janusq/optimization/mapping/mapping_ct.py\"：Python script of a typical compilation flow, including routing and scheduling. The compilation flow transforms the circuit to satisfy the processor topology so as to optimize the circuit fidelity based on the prediction model.\n",
    "  - Unitary decomposition\n",
    "    - \"janusq/analysis/unitary_decompostion.py\": Python script that takes a unitary as input and decomposes it into matrices of basic gates, resulting in an equivalent circuit.\n",
    "- MorphQPV\n",
    "  - \"janusq/verification/morphqpv\": Directory holding the implementation of the MorphQPV algorithm, which is a quantum program verification tool.\n",
    "- QuFEM\n",
    "  - \"janusq/calibration/readout_mitigation/qufem/benchmarking.py\": Python script to generate a circuit for measuring calibration matrices.\n",
    "  - \"janusq/calibration/readout_mitigation/qufem/mitigation.py\": Python script to implement iterative calibration, which includes quantifying interactions between qubits and constructing Bayesian networks.\n",
    "  - \"janusq/calibration/readout_mitigation/qufem/tools.py\": Python script to implement data format conversion.\n",
    "- HyQSAT\n",
    "  - \"janusq/application/hyqsat/common\": Directory holding common functions about cnf files, such as \"read_cnf.py\".\n",
    "  - \"janusq/application/hyqsat/solver/solver.py\": Python script holding different APIs used to solve sat problem.\n",
    "- Choco-Q\n",
    "  - \"janusq/application/chocoq\": Directory holding the implementation of Choco-Q.\n",
    "\n",
    "## Q&A\n",
    "\n",
    "1. Error \"Permission denied 'minisat_core'\"\n",
    "\n",
    "    Run following command\n",
    "\n",
    "    ```bash\n",
    "      chmod +x janusq/application/hyqsat/solver/minisat_core\n",
    "    ```\n",
    "\n",
    "2. Error \"Library not loaded: @rpath/libpython3.10.dylib\" \n",
    "\n",
    "    Run following command\n",
    "\n",
    "    ```bash\n",
    "      install_name_tool -add_rpath /path/to/python3.10/lib janusq/application/hyqsat/solver/minisat_core\n",
    "    ```"
   ]
  },
  {
   "cell_type": "markdown",
   "metadata": {},
   "source": [
    "## Test JanusQ"
   ]
  },
  {
   "cell_type": "code",
   "execution_count": 1,
   "metadata": {},
   "outputs": [],
   "source": [
    "import os\n",
    "os.chdir(\"../..\")\n",
    "import logging\n",
    "logging.basicConfig(level=logging.WARN)"
   ]
  },
  {
   "cell_type": "markdown",
   "metadata": {},
   "source": [
    "### Test QuCT"
   ]
  },
  {
   "cell_type": "code",
   "execution_count": 2,
   "metadata": {},
   "outputs": [
    {
     "name": "stderr",
     "output_type": "stream",
     "text": [
      "100%|██████████| 300/300 [00:00<00:00, 381.10it/s]\n"
     ]
    }
   ],
   "source": [
    "# test QuCT\n",
    "from janusq.objects.backend import LinearBackend\n",
    "from janusq.objects.random_circuit import random_circuits\n",
    "from janusq.analysis.vectorization import RandomwalkModel\n",
    "\n",
    "# define backend\n",
    "n_qubits = 8\n",
    "n_steps = 1\n",
    "n_walks = 20\n",
    "backend = LinearBackend(n_qubits, 1)\n",
    "\n",
    "# construct circuit dataset\n",
    "circuits = random_circuits(backend, n_circuits=300, n_gate_list=[30, 50, 100], two_qubit_prob_list=[.4], reverse=True)\n",
    "\n",
    "# train vectorization model\n",
    "up_model = RandomwalkModel(n_steps = n_steps, n_walks = n_walks, backend = backend)\n",
    "up_model.train(circuits, multi_process=False, remove_redundancy = False)"
   ]
  },
  {
   "cell_type": "markdown",
   "metadata": {},
   "source": [
    "### Test MorphQPV"
   ]
  },
  {
   "cell_type": "code",
   "execution_count": 3,
   "metadata": {},
   "outputs": [
    {
     "name": "stderr",
     "output_type": "stream",
     "text": [
      "producing input circuits for random sampling: 100%|██████████| 8/8 [00:00<00:00, 588.76it/s]\n",
      "producing input states for random sampling: 100%|██████████| 8/8 [00:00<00:00, 166.75it/s]\n",
      "producing output states:   0%|          | 0/8 [00:00<?, ?it/s]/Users/chutianyao/anaconda3/envs/janusq/lib/python3.10/site-packages/pennylane/_qubit_device.py:653: UserWarning: Requested state or density matrix with finite shots; the returned state information is analytic and is unaffected by sampling. To silence this warning, set shots=None on the device.\n",
      "  warnings.warn(\n",
      "producing output states: 100%|██████████| 8/8 [00:00<00:00, 298.39it/s]\n",
      "sgd optimizing converge:  67%|██████▋   | 670/1000 [00:41<00:20, 16.29it/s, loss=3.0515246, min_loss=0.5092561]\n"
     ]
    },
    {
     "name": "stdout",
     "output_type": "stream",
     "text": [
      "{'assume': [([0], IsPure, ()), ([0], Equal, (0.4,)), ([1], IsPure, ())], 'gurrantee': [([0, 1], NotEqual, ())], 'verify': {'optimal_input_state': Array([ 0.60621727-0.23338176j, -0.13886145+0.4294483j ,\n",
      "        0.40029827+0.20627585j, -0.41366568-0.01615516j], dtype=complex64), 'optimal_gurrantee_value': Array(0.33473182, dtype=float32), 'is_assume_satisfied': [Array(0.01565218, dtype=float32), Array(0.14357759, dtype=float32), Array(0.01529455, dtype=float32)]}}\n"
     ]
    }
   ],
   "source": [
    "# test MorphQPV\n",
    "from janusq.verification.morphqpv import MorphQC,Config\n",
    "from janusq.verification.morphqpv import IsPure,Equal,NotEqual\n",
    "from janusq.verification.morphqpv import Expectation\n",
    "from janusq.verification.morphqpv import pauliX,pauliY\n",
    "\n",
    "# define quantum program with assertions\n",
    "myconfig = Config()\n",
    "myconfig.solver = 'sgd'\n",
    "with MorphQC(config=myconfig) as morphQC:\n",
    "    morphQC.add_tracepoint(0,1) ## the state after the first 3 qubits is labeled as tracepoint 0\n",
    "    morphQC.assume(0,IsPure()) ## the state in tracepoint 0 is assumed to be pure\n",
    "    morphQC.assume(0,Equal(Expectation(pauliX@pauliY)),0.4)\n",
    "    morphQC.x([1,3])\n",
    "    morphQC.y([0,1,2])\n",
    "    for i in range(4):\n",
    "        morphQC.cnot([i, i+1])\n",
    "    morphQC.s([0,2,4])\n",
    "    morphQC.add_tracepoint(2,4) ## the state after qubit 2 and 4 is labeled as tracepoint 1\n",
    "    morphQC.assume(1,IsPure()) ## the state in tracepoint 1 is assumed to be pure\n",
    "    morphQC.guarantee([0,1],NotEqual()) ## the state in tracepoint 0,1 and 2 are guaranteed to be different\n",
    "print(morphQC.assertion)"
   ]
  },
  {
   "cell_type": "markdown",
   "metadata": {},
   "source": [
    "### Test QuFEM"
   ]
  },
  {
   "cell_type": "code",
   "execution_count": 4,
   "metadata": {},
   "outputs": [
    {
     "name": "stderr",
     "output_type": "stream",
     "text": [
      "/Users/chutianyao/anaconda3/envs/janusq/lib/python3.10/site-packages/numpy/linalg/linalg.py:2154: RuntimeWarning: divide by zero encountered in det\n",
      "  r = _umath_linalg.det(a, signature=signature)\n",
      "/Users/chutianyao/anaconda3/envs/janusq/lib/python3.10/site-packages/numpy/linalg/linalg.py:2154: RuntimeWarning: invalid value encountered in det\n",
      "  r = _umath_linalg.det(a, signature=signature)\n"
     ]
    },
    {
     "name": "stdout",
     "output_type": "stream",
     "text": [
      "[{'011': 5, '110': 2, '100': 280, '001': 641, '101': 22, '010': 53, '000': 8997}, {'001': 9577, '100': 1, '000': 42, '111': 2, '011': 60, '101': 318}, {'011': 1, '100': 280, '001': 649, '101': 26, '010': 51, '000': 8993}, {'111': 20, '000': 1, '110': 318, '011': 639, '010': 9022}, {'001': 4, '111': 283, '110': 1, '010': 46, '011': 9666}, {'111': 17, '000': 1, '110': 293, '011': 621, '010': 9068}, {'011': 6, '110': 2, '001': 608, '100': 283, '101': 24, '010': 66, '000': 9011}, {'010': 1, '000': 41, '101': 323, '111': 1, '011': 54, '100': 1, '001': 9579}, {'011': 4, '110': 2, '100': 276, '001': 597, '101': 14, '010': 51, '000': 9056}, {'111': 9, '100': 8801, '001': 28, '110': 65, '010': 2, '000': 455, '101': 640}, {'000': 2, '011': 2, '111': 51, '100': 37, '001': 440, '101': 9468}, {'111': 2, '100': 8870, '001': 24, '110': 59, '000': 437, '101': 608}, {'011': 38, '111': 641, '000': 1, '010': 391, '100': 2, '110': 8927}, {'010': 3, '101': 2, '110': 48, '011': 445, '111': 9502}, {'111': 603, '011': 36, '010': 459, '110': 8902}, {'111': 3, '011': 1, '100': 8843, '001': 36, '110': 60, '010': 2, '000': 434, '101': 621}, {'000': 2, '110': 2, '100': 46, '001': 485, '011': 5, '111': 61, '101': 9399}, {'111': 2, '100': 8891, '001': 40, '110': 56, '101': 597, '000': 414}, {'101': 14, '110': 2, '001': 659, '100': 298, '011': 8, '010': 68, '000': 8951}, {'111': 2, '000': 44, '011': 56, '101': 317, '001': 9581}, {'011': 3, '110': 3, '100': 272, '001': 587, '101': 14, '010': 67, '000': 9054}, {'111': 18, '000': 2, '110': 289, '011': 654, '010': 9037}, {'001': 2, '111': 293, '110': 3, '010': 56, '011': 9646}, {'110': 300, '001': 1, '111': 23, '011': 612, '000': 2, '010': 9062}, {'110': 1, '100': 262, '001': 636, '101': 19, '011': 4, '010': 50, '000': 9028}, {'111': 5, '011': 55, '000': 39, '101': 312, '001': 9589}]\n"
     ]
    }
   ],
   "source": [
    "# test QuFEM (readout calibration)\n",
    "from janusq.objects.backend import LinearBackend\n",
    "from janusq.objects.algorithms import get_algorithm_circuits\n",
    "from janusq.simulator.noisy_simulator import NoisySimulator\n",
    "from janusq.simulator.readout_error_model import ReadoutErrorModel\n",
    "from janusq.calibration.readout_mitigation.qufem import EnumeratedProtocol\n",
    "\n",
    "# define backend and circuit\n",
    "n_qubits = 3\n",
    "backend = LinearBackend(n_qubits, 1)\n",
    "circuit = get_algorithm_circuits(n_qubits, backend, algs = ['ghz'])[0]\n",
    "\n",
    "# simulate noisy readout\n",
    "samples = 10000\n",
    "simulator = NoisySimulator(backend, readout_error_model = ReadoutErrorModel.random_model(backend))\n",
    "output_noise = simulator.execute(circuit,samples)\n",
    "\n",
    "# readout calibration\n",
    "protocol = EnumeratedProtocol(n_qubits)\n",
    "real_bstrs, circuits_protocol = protocol.gen_circuits()\n",
    "all_statuscnts = [\n",
    "    simulator.execute(cir_protocol, samples) \n",
    "    for cir_protocol in circuits_protocol\n",
    "]\n",
    "print(all_statuscnts)"
   ]
  },
  {
   "cell_type": "markdown",
   "metadata": {},
   "source": [
    "### Test HyQSAT"
   ]
  },
  {
   "cell_type": "code",
   "execution_count": 5,
   "metadata": {},
   "outputs": [
    {
     "name": "stdout",
     "output_type": "stream",
     "text": [
      "([(-3, 7, 36), (-3, -42, -48), (-41, -47, -49), (8, 17, -40), (-21, -31, -39), (-22, 36, 49), (14, 27, 38), (6, 15, -18), (6, 7, -43), (-7, 23, 34), (2, -13, 14), (2, -42, 47), (3, -33, -35), (40, 44, 49), (31, 36, 50), (-3, -36, -37), (26, -29, 43), (15, 29, -45), (-11, 18, 24), (6, -26, -47), (-10, -33, -50), (6, 16, 32), (-34, 37, 41), (7, -17, -28), (19, -44, 46), (7, 22, -48), (3, 34, 39), (31, -43, 46), (23, -27, 32), (-18, 37, -50), (5, 11, 20), (6, -24, -45), (-14, -23, -34), (20, 21, -22), (-17, 24, 50), (-24, -25, -27), (3, 21, 35), (-26, -36, 47), (-28, -45, 49), (-6, 12, -21), (-15, -17, -39), (2, -14, 41), (-23, 25, 36), (-3, -39, -40), (20, 35, 50), (27, 31, -39), (-15, -40, 45), (34, 35, 50), (-1, 12, -48), (18, -30, -35), (-24, -25, 27), (-4, -12, -33), (-24, -37, -43), (31, -37, -44), (-9, 14, -38), (-16, 33, 34), (4, -5, -35), (-3, -19, -21), (-29, -35, -36), (7, 36, -43), (14, 30, 41), (-7, -24, -35), (6, 35, -42), (-1, -15, 39), (-16, 27, 49), (-10, -37, 49), (-3, -46, 50), (20, 34, -41), (-1, 23, 28), (-12, -20, -30), (-24, 29, -37), (5, 12, -44), (-2, -6, 48), (-2, -43, -49), (1, 24, -50), (-7, -44, -50), (4, -41, 43), (-11, 13, 15), (-3, -11, 23), (33, 41, 48), (9, 23, -49), (1, -43, 47), (16, -29, -40), (3, 19, 30), (19, -34, 48), (14, -16, -44), (-12, 38, -45), (-4, -14, -31), (-1, 35, -48), (-13, 19, 45), (-7, 9, 42), (-1, 8, -15), (-13, -14, -44), (-31, -37, -43), (-27, -29, 47), (4, 7, 17), (7, 10, 35), (17, 20, -25), (-5, 35, -42), (-5, 24, -50), (2, -21, -26), (-8, -21, 45), (-16, 33, 49), (6, 16, -38), (5, 21, 37), (8, 31, 38), (14, -21, 33), (-5, 20, 40), (-9, -29, 31), (-7, -22, 42), (8, 26, -48), (33, -38, 48), (-34, 46, 49), (-14, 25, -46), (4, 18, -46), (-12, -31, 36), (12, 14, -18), (-7, -16, 46), (7, -8, 9), (-22, -42, 49), (-15, 22, 38), (34, -41, 47), (22, -26, 32), (-21, -25, -45), (-11, -26, 32), (15, -25, 26), (-1, 25, 46), (-14, 30, -31), (-9, 12, -22), (-18, 26, -35), (-16, -21, -32), (-21, 31, -49), (9, 11, 41), (-13, 19, -30), (4, 6, -10), (3, -4, -22), (-18, -25, -50), (4, 9, -40), (20, 37, 46), (22, -27, -29), (3, 14, 34), (3, 20, -31), (2, -26, -50), (17, -29, 38), (12, -41, -49), (15, -35, -43), (-22, -23, -49), (-9, 33, 48), (26, 29, 35), (27, 37, -50), (-7, -43, 46), (-8, -37, -46), (-24, 36, -40), (15, -44, 46), (-3, -16, 36), (9, 43, -48), (-4, -25, 44), (-7, -22, 37), (-17, -22, -31), (-11, 17, -48), (23, -28, 34), (23, -39, -48), (-1, -23, -37), (14, -19, 27), (-6, -22, 33), (-6, -26, -32), (18, -20, -46), (22, 27, 43), (-13, 34, 49), (3, -35, -46), (32, 39, -43), (6, -9, -39), (-16, 27, 39), (-15, -17, 25), (27, 34, -43), (5, -6, 49), (11, 14, -38), (-38, 40, 47), (-14, 17, 37), (29, 36, 39), (1, -28, -39), (14, -16, -18), (15, -40, 50), (18, 37, -42), (-13, 31, 33), (2, 33, -42), (-3, 8, -22), (1, 23, -31), (-20, 26, -45), (11, 42, 49), (11, 29, -43), (-20, -21, 30), (23, -35, 45), (-14, -30, 38), (-9, -29, 48), (11, -18, -23), (-1, -29, -41), (5, 26, 41), (-7, -30, 44), (-6, 38, -41), (-15, 46, 48), (-10, -18, -47), (-32, 38, 46), (12, -32, 46), (14, 31, 40), (2, -18, 49), (27, 28, -38), (14, -16, -21), (12, 15, -29), (5, 34, 49), (-12, 14, 22), (20, 30, 33), (22, -24, 25), (4, -23, -48), (9, -30, -36), (12, -35, 44), (3, -21, 38), (-11, 33, 49)], {1, 2, 3, 4, 5, 6, 7, 8, 9, 10, 11, 12, 13, 14, 15, 16, 17, 18, 19, 20, 21, 22, 23, 24, 25, 26, 27, 28, 29, 30, 31, 32, 33, 34, 35, 36, 37, 38, 39, 40, 41, 42, 43, 44, 45, 46, 47, 48, 49, 50})\n"
     ]
    }
   ],
   "source": [
    "# test HyQSAT\n",
    "from janusq.application.hyqsat import readCNF\n",
    "\n",
    "# input cnf flie\n",
    "file_path = \"./examples/data/cnf_examples/UF50/uf50-01.cnf\"\n",
    "print(readCNF(file_path))"
   ]
  },
  {
   "cell_type": "markdown",
   "metadata": {},
   "source": [
    "### Test Choco-Q\n",
    "\n",
    "Activate the corresponding virtual environment for Choco-Q\n",
    "\n",
    "```bash\n",
    "  conda activate chocoq\n",
    "```"
   ]
  },
  {
   "cell_type": "code",
   "execution_count": 1,
   "metadata": {},
   "outputs": [
    {
     "name": "stdout",
     "output_type": "stream",
     "text": [
      "Restricted license - for non-production use only - expires 2026-11-23\n",
      "Optimized cost and assignment: (2.0, {'x_0': 0.0, 'x_1': 1.0, 'x_2': 1.0, 'x_3': 1.0, 'x_4': 1.0})\n",
      "\n",
      "\n"
     ]
    }
   ],
   "source": [
    "import os\n",
    "os.chdir(\"../..\")\n",
    "import logging\n",
    "logging.basicConfig(level=logging.WARN)\n",
    "\n",
    "# test Choco-Q\n",
    "from janusq.application.chocoq.chocoq.model import LinearConstrainedBinaryOptimization as LcboModel\n",
    "\n",
    "m = LcboModel()\n",
    "x = m.addVars(5, name=\"x\")\n",
    "m.setObjective((x[0] + x[1])* x[3] + x[2], \"max\")\n",
    "m.addConstr(x[0] + x[1] - x[2] == 0)\n",
    "m.addConstr(x[2] + x[3] - x[4] == 1)\n",
    "optimize = m.optimize()\n",
    "print(f\"Optimized cost and assignment: {optimize}\\n\\n\")"
   ]
  }
 ],
 "metadata": {
  "kernelspec": {
   "display_name": "janusq",
   "language": "python",
   "name": "python3"
  },
  "language_info": {
   "codemirror_mode": {
    "name": "ipython",
    "version": 3
   },
   "file_extension": ".py",
   "mimetype": "text/x-python",
   "name": "python",
   "nbconvert_exporter": "python",
   "pygments_lexer": "ipython3",
   "version": "3.10.16"
  }
 },
 "nbformat": 4,
 "nbformat_minor": 4
}
