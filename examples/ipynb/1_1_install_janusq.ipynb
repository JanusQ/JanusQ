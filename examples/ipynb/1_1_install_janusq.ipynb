{
 "cells": [
  {
   "cell_type": "markdown",
   "metadata": {},
   "source": [
    "# Getting Start\n",
    "\n",
    "### Installation of JanusQ\n",
    "JanusQ can be installed by docker, wheel, and soruce code. Docker is recommended, as all functions have been tested on it.\n",
    "Linux (Ubuntu 22.04 latest) platform and Python (3.10) is prefered when instaling by wheel or soruce code.\n",
    "\n",
    "**From docker.**\n",
    "Pull docker using docker \n",
    "        \n",
    "        docker pull janusq/janusq:latest\n",
    "\n",
    "The code is in \"/JanusQ\". The examples that can be directly run is in \"/JanusQ/examples\"\n",
    "\n",
    "**From wheel.**\n",
    "Download janusq.whl from \"JanusQ-main/dist\".\n",
    "\n",
    "        pip install janusq.whl\n",
    "\n",
    "**From source code.**\n",
    "Run following commends.\n",
    "\n",
    "        git clone git@github.com:JanusQ/JanusQ.git\n",
    "        cd JanusQ\n",
    "        pip install -r requirements.txt\n",
    "\n",
    "### Structure of JanusQ\n",
    "\n",
    "- JanusCT\n",
    "  - vectorization\n",
    "    - janusq/analysis/vectorization.py: This python script holds code related to the generation of path table and the vecterization of circuits\n",
    "  - fidelity preidiction\n",
    "    - janusq/analysis/fidelity_prediction.py: This python script holds code related to training a model and using it to predict the fidelity of a circuit.\n",
    "  - fidelity optimization\n",
    "    -  janusq/optimizations/mapping/mapping_ct.py：This python script holds code related to a typical compilation flow includes routing and scheduling. The routing pass transforms the circuit to satisfy the processor topology.\n",
    "  - unitary decomposition\n",
    "    - janusq/analysis/unitary_decompostion.py: This python script holds code related to takes a unitary as input and decomposes it into matrices of basic gates, resulting in an equivalent circuit.\n",
    "  - bug identification: identify the potential bugs in the quantum algorithm implementation.\n",
    "- JanusFEM\n",
    "  - benchmarking.py. Generate a circuit for measuring calibration matrices.\n",
    "  - mitigation.py. Implement iterative calibration, which includes quantifying interactions between qubits and constructing Bayesian networks.\n",
    "  - tools.py. Implement data format conversion.\n",
    "- HyQSAT\n",
    "  - hyqsat/common: This dir stores common functions about cnf files, such as readCNF.\n",
    "  - hyqsat/solveSatBy**.py: The main python function; use to solve sat problem.\n",
    "- time crystal\n",
    "\n",
    "### Note\n",
    "1. Permission denied 'minisat_core'  \n",
    "This file have no executable permission. You need run `chmod +x janusq/hyqsat/minisat_core` in bash."
   ]
  },
  {
   "cell_type": "markdown",
   "metadata": {},
   "source": [
    "### Test JanusQ"
   ]
  },
  {
   "cell_type": "code",
   "execution_count": 1,
   "metadata": {},
   "outputs": [],
   "source": [
    "import os\n",
    "os.chdir(\"..\")\n",
    "import sys\n",
    "sys.path.append('..')\n",
    "import logging\n",
    "logging.basicConfig(level=logging.WARN)"
   ]
  },
  {
   "cell_type": "markdown",
   "metadata": {},
   "source": [
    "#### Test QuCT"
   ]
  },
  {
   "cell_type": "code",
   "execution_count": 2,
   "metadata": {},
   "outputs": [
    {
     "name": "stderr",
     "output_type": "stream",
     "text": [
      "100%|██████████| 300/300 [00:00<00:00, 389.73it/s]\n"
     ]
    }
   ],
   "source": [
    "# test quct\n",
    "from janusq.data_objects.backend import LinearBackend\n",
    "from janusq.data_objects.random_circuit import random_circuits\n",
    "from janusq.analysis.vectorization import RandomwalkModel\n",
    "\n",
    "# define a 10-qubit backend\n",
    "n_qubits = 8\n",
    "n_steps = 1\n",
    "n_walks = 20\n",
    "backend = LinearBackend(n_qubits, 1)\n",
    "\n",
    "circuits = random_circuits(backend, n_circuits=300, n_gate_list=[30, 50, 100], two_qubit_prob_list=[.4], reverse=True)\n",
    "\n",
    "up_model = RandomwalkModel(n_steps = n_steps, n_walks = n_walks, backend = backend)\n",
    "up_model.train(circuits, multi_process=False, remove_redundancy = False)"
   ]
  },
  {
   "cell_type": "markdown",
   "metadata": {},
   "source": [
    "#### Test QuFEM"
   ]
  },
  {
   "cell_type": "code",
   "execution_count": 3,
   "metadata": {},
   "outputs": [
    {
     "name": "stderr",
     "output_type": "stream",
     "text": [
      "/Users/chutianyao/anaconda3/envs/janusq/lib/python3.10/site-packages/numpy/linalg/linalg.py:2180: RuntimeWarning: divide by zero encountered in det\n",
      "  r = _umath_linalg.det(a, signature=signature)\n",
      "/Users/chutianyao/anaconda3/envs/janusq/lib/python3.10/site-packages/numpy/linalg/linalg.py:2180: RuntimeWarning: invalid value encountered in det\n",
      "  r = _umath_linalg.det(a, signature=signature)\n"
     ]
    },
    {
     "name": "stdout",
     "output_type": "stream",
     "text": [
      "[{'011': 10, '110': 9, '001': 634, '100': 335, '101': 28, '010': 279, '000': 8705}, {'111': 12, '011': 290, '000': 831, '010': 24, '101': 348, '100': 42, '001': 8453}, {'111': 3, '011': 23, '110': 13, '001': 609, '100': 373, '101': 21, '000': 8680, '010': 278}, {'101': 1, '011': 620, '111': 32, '010': 8863, '000': 97, '100': 2, '001': 6, '110': 379}, {'101': 2, '110': 30, '001': 83, '011': 8664, '111': 365, '000': 14, '010': 842}, {'011': 656, '111': 23, '100': 5, '001': 6, '110': 370, '000': 89, '010': 8851}, {'011': 20, '110': 12, '100': 344, '001': 555, '101': 20, '010': 323, '000': 8726}, {'011': 264, '111': 12, '010': 23, '000': 796, '101': 349, '110': 1, '100': 32, '001': 8523}, {'101': 27, '110': 7, '100': 363, '001': 646, '111': 1, '011': 26, '010': 273, '000': 8657}, {'011': 1, '111': 15, '000': 274, '010': 6, '001': 19, '100': 8803, '110': 300, '101': 582}, {'011': 7, '111': 309, '110': 27, '001': 262, '100': 814, '000': 21, '101': 8560}, {'011': 1, '111': 19, '100': 8782, '110': 286, '001': 27, '010': 15, '000': 264, '101': 606}, {'110': 8998, '100': 89, '111': 605, '011': 21, '000': 5, '010': 282}, {'101': 69, '001': 2, '100': 10, '110': 864, '010': 33, '011': 305, '111': 8717}, {'101': 6, '110': 8997, '100': 95, '011': 16, '111': 599, '000': 1, '010': 286}, {'001': 25, '100': 8802, '110': 280, '101': 571, '010': 4, '000': 293, '011': 2, '111': 23}, {'011': 13, '111': 276, '110': 25, '001': 309, '100': 805, '000': 28, '101': 8544}, {'111': 18, '011': 3, '001': 17, '100': 8796, '110': 276, '010': 11, '000': 279, '101': 600}, {'101': 29, '110': 13, '001': 571, '100': 348, '111': 1, '011': 17, '010': 291, '000': 8730}, {'110': 1, '001': 8489, '100': 41, '111': 11, '011': 291, '010': 33, '000': 792, '101': 342}, {'011': 24, '101': 29, '110': 7, '100': 345, '001': 544, '010': 286, '000': 8765}, {'011': 612, '111': 32, '100': 7, '001': 4, '110': 371, '000': 84, '010': 8890}, {'101': 5, '110': 35, '001': 84, '011': 8634, '111': 362, '000': 5, '010': 875}, {'101': 1, '011': 598, '111': 19, '010': 8898, '000': 97, '001': 5, '100': 1, '110': 381}, {'011': 16, '110': 18, '001': 583, '100': 374, '101': 18, '010': 273, '000': 8718}, {'010': 30, '000': 868, '111': 14, '011': 281, '101': 356, '100': 36, '001': 8415}]\n"
     ]
    }
   ],
   "source": [
    "# test readout calibration\n",
    "from janusq.simulator.noisy_simulator import NoisySimulator\n",
    "from janusq.data_objects.backend import LinearBackend\n",
    "from janusq.simulator.readout_error_model import ReadoutErrorModel\n",
    "from janusq.optimizations.readout_mitigation.fem import  EnumeratedProtocol\n",
    "from janusq.data_objects.algorithms import get_algorithm_circuits\n",
    "\n",
    "n_qubits = 3\n",
    "backend = LinearBackend(n_qubits, 1)\n",
    "circuit = get_algorithm_circuits(n_qubits, backend, algs = ['ghz'])[0]\n",
    "\n",
    "samples = 10000\n",
    "\n",
    "simulator = NoisySimulator(\n",
    "    backend, readout_error_model = ReadoutErrorModel.random_model(backend))\n",
    "output_noise = simulator.execute(circuit,samples)\n",
    "\n",
    "\n",
    "protocol = EnumeratedProtocol(n_qubits)\n",
    "real_bstrs, circuits_protocol = protocol.gen_circuits()\n",
    "\n",
    "all_statuscnts = [\n",
    "    simulator.execute(cir_protocol, samples)\n",
    "    for cir_protocol in circuits_protocol\n",
    "]\n",
    "\n",
    "print(all_statuscnts)\n"
   ]
  },
  {
   "cell_type": "markdown",
   "metadata": {},
   "source": [
    "#### Test HyQSAT"
   ]
  },
  {
   "cell_type": "code",
   "execution_count": 4,
   "metadata": {},
   "outputs": [
    {
     "name": "stdout",
     "output_type": "stream",
     "text": [
      "([(-3, 7, 36), (-3, -42, -48), (-41, -47, -49), (8, 17, -40), (-21, -31, -39), (-22, 36, 49), (14, 27, 38), (6, 15, -18), (6, 7, -43), (-7, 23, 34), (2, -13, 14), (2, -42, 47), (3, -33, -35), (40, 44, 49), (31, 36, 50), (-3, -36, -37), (26, -29, 43), (15, 29, -45), (-11, 18, 24), (6, -26, -47), (-10, -33, -50), (6, 16, 32), (-34, 37, 41), (7, -17, -28), (19, -44, 46), (7, 22, -48), (3, 34, 39), (31, -43, 46), (23, -27, 32), (-18, 37, -50), (5, 11, 20), (6, -24, -45), (-14, -23, -34), (20, 21, -22), (-17, 24, 50), (-24, -25, -27), (3, 21, 35), (-26, -36, 47), (-28, -45, 49), (-6, 12, -21), (-15, -17, -39), (2, -14, 41), (-23, 25, 36), (-3, -39, -40), (20, 35, 50), (27, 31, -39), (-15, -40, 45), (34, 35, 50), (-1, 12, -48), (18, -30, -35), (-24, -25, 27), (-4, -12, -33), (-24, -37, -43), (31, -37, -44), (-9, 14, -38), (-16, 33, 34), (4, -5, -35), (-3, -19, -21), (-29, -35, -36), (7, 36, -43), (14, 30, 41), (-7, -24, -35), (6, 35, -42), (-1, -15, 39), (-16, 27, 49), (-10, -37, 49), (-3, -46, 50), (20, 34, -41), (-1, 23, 28), (-12, -20, -30), (-24, 29, -37), (5, 12, -44), (-2, -6, 48), (-2, -43, -49), (1, 24, -50), (-7, -44, -50), (4, -41, 43), (-11, 13, 15), (-3, -11, 23), (33, 41, 48), (9, 23, -49), (1, -43, 47), (16, -29, -40), (3, 19, 30), (19, -34, 48), (14, -16, -44), (-12, 38, -45), (-4, -14, -31), (-1, 35, -48), (-13, 19, 45), (-7, 9, 42), (-1, 8, -15), (-13, -14, -44), (-31, -37, -43), (-27, -29, 47), (4, 7, 17), (7, 10, 35), (17, 20, -25), (-5, 35, -42), (-5, 24, -50), (2, -21, -26), (-8, -21, 45), (-16, 33, 49), (6, 16, -38), (5, 21, 37), (8, 31, 38), (14, -21, 33), (-5, 20, 40), (-9, -29, 31), (-7, -22, 42), (8, 26, -48), (33, -38, 48), (-34, 46, 49), (-14, 25, -46), (4, 18, -46), (-12, -31, 36), (12, 14, -18), (-7, -16, 46), (7, -8, 9), (-22, -42, 49), (-15, 22, 38), (34, -41, 47), (22, -26, 32), (-21, -25, -45), (-11, -26, 32), (15, -25, 26), (-1, 25, 46), (-14, 30, -31), (-9, 12, -22), (-18, 26, -35), (-16, -21, -32), (-21, 31, -49), (9, 11, 41), (-13, 19, -30), (4, 6, -10), (3, -4, -22), (-18, -25, -50), (4, 9, -40), (20, 37, 46), (22, -27, -29), (3, 14, 34), (3, 20, -31), (2, -26, -50), (17, -29, 38), (12, -41, -49), (15, -35, -43), (-22, -23, -49), (-9, 33, 48), (26, 29, 35), (27, 37, -50), (-7, -43, 46), (-8, -37, -46), (-24, 36, -40), (15, -44, 46), (-3, -16, 36), (9, 43, -48), (-4, -25, 44), (-7, -22, 37), (-17, -22, -31), (-11, 17, -48), (23, -28, 34), (23, -39, -48), (-1, -23, -37), (14, -19, 27), (-6, -22, 33), (-6, -26, -32), (18, -20, -46), (22, 27, 43), (-13, 34, 49), (3, -35, -46), (32, 39, -43), (6, -9, -39), (-16, 27, 39), (-15, -17, 25), (27, 34, -43), (5, -6, 49), (11, 14, -38), (-38, 40, 47), (-14, 17, 37), (29, 36, 39), (1, -28, -39), (14, -16, -18), (15, -40, 50), (18, 37, -42), (-13, 31, 33), (2, 33, -42), (-3, 8, -22), (1, 23, -31), (-20, 26, -45), (11, 42, 49), (11, 29, -43), (-20, -21, 30), (23, -35, 45), (-14, -30, 38), (-9, -29, 48), (11, -18, -23), (-1, -29, -41), (5, 26, 41), (-7, -30, 44), (-6, 38, -41), (-15, 46, 48), (-10, -18, -47), (-32, 38, 46), (12, -32, 46), (14, 31, 40), (2, -18, 49), (27, 28, -38), (14, -16, -21), (12, 15, -29), (5, 34, 49), (-12, 14, 22), (20, 30, 33), (22, -24, 25), (4, -23, -48), (9, -30, -36), (12, -35, 44), (3, -21, 38), (-11, 33, 49)], {1, 2, 3, 4, 5, 6, 7, 8, 9, 10, 11, 12, 13, 14, 15, 16, 17, 18, 19, 20, 21, 22, 23, 24, 25, 26, 27, 28, 29, 30, 31, 32, 33, 34, 35, 36, 37, 38, 39, 40, 41, 42, 43, 44, 45, 46, 47, 48, 49, 50})\n"
     ]
    }
   ],
   "source": [
    "# test hyqsat calibration\n",
    "from janusq.hyqsat import readCNF\n",
    "\n",
    "# input cnf flie\n",
    "file_path = \"cnf_examples/UF50/uf50-01.cnf\"\n",
    "print(readCNF(file_path))"
   ]
  }
 ],
 "metadata": {
  "kernelspec": {
   "display_name": "janusq",
   "language": "python",
   "name": "python3"
  },
  "language_info": {
   "codemirror_mode": {
    "name": "ipython",
    "version": 3
   },
   "file_extension": ".py",
   "mimetype": "text/x-python",
   "name": "python",
   "nbconvert_exporter": "python",
   "pygments_lexer": "ipython3",
   "version": "3.10.16"
  }
 },
 "nbformat": 4,
 "nbformat_minor": 4
}
