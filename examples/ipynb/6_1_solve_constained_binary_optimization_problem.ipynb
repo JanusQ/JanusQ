{
 "cells": [
  {
   "cell_type": "markdown",
   "metadata": {},
   "source": [
    "# Constained Binary Optimization with Commute Hamiltonian-based QAOA (TBD)\n",
    "\n",
    "**Author:** Debin Xiang\n",
    "\n",
    "**Date:** 10/12/2024\n",
    "\n",
    "Based on paper \"[Choco-Q: Commute Hamiltonian-based QAOA for Constrained Binary Optimization][1]\" (Accepted by HPCA 2025)\n",
    "\n",
    "[1]: https://ieeexplore.ieee.org/document/TBD"
   ]
  }
 ],
 "metadata": {
  "kernelspec": {
   "display_name": "Python 3 (ipykernel)",
   "language": "python",
   "name": "python3"
  },
  "language_info": {
   "codemirror_mode": {
    "name": "ipython",
    "version": 3
   },
   "file_extension": ".py",
   "mimetype": "text/x-python",
   "name": "python",
   "nbconvert_exporter": "python",
   "pygments_lexer": "ipython3",
   "version": "3.10.14"
  }
 },
 "nbformat": 4,
 "nbformat_minor": 4
}
