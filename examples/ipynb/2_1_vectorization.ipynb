{
 "cells": [
  {
   "cell_type": "markdown",
   "metadata": {},
   "source": [
    "# Vectorization Model of QuCT\n",
    "**Author:** Siwei Tan  \n",
    "\n",
    "**Date:** 7/4/2024\n",
    "\n",
    "Based on paper \"[QuCT: A Framework for Analyzing Quantum Circuit by Extracting Contextual and Topological Features][1]\" (MICRO 2023)\n",
    "\n",
    "[1]: https://dl.acm.org/doi/10.1145/3613424.3614274\n",
    "\n",
    "In the current Noisy Intermediate-Scale Quantum era, quantum circuit analysis is an essential technique for designing high-performance quantum programs. Current analysis methods exhibit either accuracy limitations or high computational complexity for obtaining precise results. To reduce this tradeoff, we propose QuCT, a unified framework for extracting, analyzing, and optimizing quantum circuits. The main innovation of QuCT is to vectorize each gate with each element, quantitatively describing the degree of the interaction with neighboring gates. Extending from the vectorization model, we can develope multiple downstream models for fidelity prediction and unitary decomposition, etc. In this tutorial, we introduce the APIs of the vectorization model in QuCT."
   ]
  },
  {
   "cell_type": "code",
   "execution_count": 1,
   "metadata": {},
   "outputs": [],
   "source": [
    "%matplotlib inline\n",
    "\n",
    "import os\n",
    "os.chdir(\"..\")\n",
    "import sys\n",
    "sys.path.append('..')\n",
    "import logging\n",
    "logging.basicConfig(level=logging.WARN)\n",
    "\n",
    "import random\n",
    "import numpy as np\n",
    "\n",
    "from janusq.analysis.vectorization import RandomwalkModel, extract_device\n",
    "from janusq.data_objects.random_circuit import random_circuits, random_circuit\n",
    "from janusq.data_objects.backend import GridBackend"
   ]
  },
  {
   "cell_type": "markdown",
   "metadata": {},
   "source": [
    "## Vectorization Flow\n",
    "Below is the workflow to vectorize a gate in the quantum circuit. The gate is vectorized by two steps. The first step runs random walks to extract circuit features in the neighbor of the gates. the second step use a table comparison to generate the gate vector.\n",
    "\n",
    "<div style=\"text-align:center;\">\n",
    "    <img src=\"../picture/2_1_feature_extraction.jpg\"  width=\"70%\" height=\"70%\">\n",
    "</div>"
   ]
  },
  {
   "cell_type": "markdown",
   "metadata": {},
   "source": [
    "## Random walk\n",
    "We apply random walk to extract the topological and contextual information of gates in the quantum circuit. Here is a example of random walk."
   ]
  },
  {
   "cell_type": "code",
   "execution_count": 2,
   "metadata": {},
   "outputs": [
    {
     "name": "stdout",
     "output_type": "stream",
     "text": [
      "       ┌────────────────┐  ░                      ░ ┌─────────────────┐  ░ »\n",
      "q_0: ──┤ U(3π/5,2π/5,π) ├──░──────────■───────────░─┤ U(3π/5,π/5,π/5) ├──░─»\n",
      "     ┌─┴────────────────┴┐ ░        ┌─┴─┐         ░ └─────────────────┘  ░ »\n",
      "q_1: ┤ U(7π/5,3π/5,9π/5) ├─░────────┤ X ├─────────░──────────────────────░─»\n",
      "     ├───────────────────┤ ░ ┌──────┴───┴───────┐ ░ ┌──────────────────┐ ░ »\n",
      "q_2: ┤ U(9π/5,4π/5,3π/5) ├─░─┤ U(8π/5,4π/5,π/5) ├─░─┤ U(7π/5,π/5,2π/5) ├─░─»\n",
      "     ├───────────────────┤ ░ └──────────────────┘ ░ └──────────────────┘ ░ »\n",
      "q_3: ┤ U(4π/5,2π/5,8π/5) ├─░──────────────────────░──────────────────────░─»\n",
      "     └───────────────────┘ ░                      ░                      ░ »\n",
      "«                          ░                     ░ \n",
      "«q_0: ─────────────────────░─────────────────────░─\n",
      "«                          ░                     ░ \n",
      "«q_1: ─────────────────────░─────────────────────░─\n",
      "«     ┌──────────────────┐ ░ ┌─────────────────┐ ░ \n",
      "«q_2: ┤ U(π/5,π/10,8π/5) ├─░─┤ U(2π,2π/5,2π/5) ├─░─\n",
      "«     └──────────────────┘ ░ └─────────────────┘ ░ \n",
      "«q_3: ─────────────────────░─────────────────────░─\n",
      "«                          ░                     ░ \n",
      "target gate: {'name': 'u', 'qubits': [1], 'params': [4.39822971502571, 1.8849555921538759, 5.654866776461628]}\n",
      "generate paths: {'u-1, parallel, u-0', 'u-1, parallel, u-0, parallel, u-2', 'u-1, parallel, u-3', 'u-1, parallel, u-0, next, u-2', 'u-1, parallel, u-0, next, cx-0-1', 'u-1', 'u-1, parallel, u-2', 'u-1, next, cx-0-1', 'u-1, next, u-2', 'u-1, parallel, u-0, parallel, u-3'}\n"
     ]
    }
   ],
   "source": [
    "from janusq.analysis.vectorization import walk_from_gate\n",
    "\n",
    "# generate a backend and a circuit\n",
    "backend = GridBackend(2, 2)\n",
    "circuit = random_circuit(backend, 10, .5, False)\n",
    "print(circuit)\n",
    "\n",
    "# choose a target gate\n",
    "gate = random.choice(circuit.gates)\n",
    "\n",
    "# apply random walk\n",
    "paths = walk_from_gate(circuit, gate, 4, 2, backend.adjlist)\n",
    "\n",
    "print('target gate:', gate)\n",
    "print('generate paths:', paths)"
   ]
  },
  {
   "cell_type": "markdown",
   "metadata": {},
   "source": [
    "The above code generates the example path list of a random circuit. Each path is represented as `<gate_name>-<qubit_index>[, <dependency>, <gate_name>-<qubit_index>]`. For example, `u-2, parallel, cx-0-1, parallel, u-3` means that a U gate on qubit 2 is executed in parallel with a CX gate on qubits 0, 1 and a U gate on qubit 3. "
   ]
  },
  {
   "cell_type": "markdown",
   "metadata": {},
   "source": [
    "## Construction of Path Table\n",
    "\n",
    "For a gate that requires vectorization, we compare it with a path table. The path table is off-line generated by applying random walks to a circuit dataset. To limits the size of the table, the table is usually hardware-specific."
   ]
  },
  {
   "cell_type": "code",
   "execution_count": 3,
   "metadata": {},
   "outputs": [
    {
     "name": "stderr",
     "output_type": "stream",
     "text": [
      "100%|██████████| 102/102 [00:00<00:00, 214.66it/s]\n"
     ]
    },
    {
     "name": "stdout",
     "output_type": "stream",
     "text": [
      "length of the path table is 445\n"
     ]
    }
   ],
   "source": [
    "# define the information of the quantum device\n",
    "n_qubits = 6\n",
    "backend = GridBackend(2, 3)\n",
    "\n",
    "# generate a dataset including varous random circuits\n",
    "circuit_dataset = random_circuits(backend, n_circuits=100, n_gate_list=[30, 50, 100], two_qubit_prob_list=[.4], reverse=True)\n",
    "\n",
    "# apply random work to consturct the vectorization model with a path table\n",
    "n_steps = 1\n",
    "n_walks = 100\n",
    "up_model = RandomwalkModel(n_steps = n_steps, n_walks = n_walks, backend = backend, decay= .5)\n",
    "up_model.train(circuit_dataset, multi_process=False)\n",
    "print('length of the path table is', len(up_model.pathtable))"
   ]
  },
  {
   "cell_type": "markdown",
   "metadata": {},
   "source": [
    "# Gate Vectorization\n",
    "\n",
    "As mentioned above, the vectorization of a gate is performed by comparing the generated paths with a path table. In JanusQ, we provide an API for it."
   ]
  },
  {
   "cell_type": "code",
   "execution_count": 4,
   "metadata": {},
   "outputs": [
    {
     "name": "stdout",
     "output_type": "stream",
     "text": [
      "vector is [0.5 0.5 0.5 0.5 0.  0.  0.5 0.  0.5 1.  0.  0.  0.5 0.  0.  0.  0.  0.\n",
      " 0.  0.  0.  0.  0.5 0.  0.  0.  0.  0.  0.5 0.  0.  0.  0.  0.  0.  0.\n",
      " 0. ]\n"
     ]
    }
   ],
   "source": [
    "# generate a circuit\n",
    "circuit = random_circuit(backend, 10, .5, False)\n",
    "\n",
    "# choose a target gate\n",
    "gate = random.choice(circuit.gates)\n",
    "\n",
    "# vectorization\n",
    "vec = up_model.vectorize(circuit, [gate])[0]\n",
    "print('vector is', vec)"
   ]
  },
  {
   "cell_type": "markdown",
   "metadata": {},
   "source": [
    "The indexes of the non-zero elements in the vector is same to the indexes of the generated paths in the path table, which is verified by following codes."
   ]
  },
  {
   "cell_type": "code",
   "execution_count": 5,
   "metadata": {},
   "outputs": [
    {
     "name": "stdout",
     "output_type": "stream",
     "text": [
      "[0, 1, 2, 3, 6, 8, 9, 12, 22, 28] = [0, 28, 1, 2, 3, 6, 22, 8, 9, 12]\n"
     ]
    }
   ],
   "source": [
    "# validate the vectorization\n",
    "indexes = np.argwhere(vec > 0).flatten()\n",
    "generated_paths = walk_from_gate(circuit, gate, 100, 1, backend.adjlist)\n",
    "device = extract_device(gate)\n",
    "print(list(indexes), '=', up_model.indices_of_paths(device, generated_paths))"
   ]
  },
  {
   "cell_type": "markdown",
   "metadata": {},
   "source": [
    "## Sub-circuit Reconstruction\n",
    "The vectorization of QuCT also allows the reconstruction of the sub-circuit around the gate by its vector."
   ]
  },
  {
   "cell_type": "code",
   "execution_count": 6,
   "metadata": {},
   "outputs": [
    {
     "name": "stdout",
     "output_type": "stream",
     "text": [
      "      ┌──────────────────────────┐ ░                                   ░      »\n",
      "q_0: ─┤ U(5.3992,5.2086,0.46458) ├─░───────────────────────────────■───░──────»\n",
      "      └┬───────────────────────┬─┘ ░                               │   ░      »\n",
      "q_1: ──┤ U(4.802,5.3146,3.443) ├───░───────────────────────────────┼───░──────»\n",
      "      ┌┴───────────────────────┴─┐ ░ ┌──────────────────────────┐  │   ░      »\n",
      "q_2: ─┤ U(0.67875,3.1333,2.3294) ├─░─┤ U(5.2502,1.6739,0.52743) ├──┼───░───■──»\n",
      "     ┌┴──────────────────────────┤ ░ └──────────────────────────┘┌─┴─┐ ░   │  »\n",
      "q_3: ┤ U(0.016824,4.0638,2.9548) ├─░─────────────────────────────┤ X ├─░───┼──»\n",
      "     └┬─────────────────────────┬┘ ░                             └───┘ ░   │  »\n",
      "q_4: ─┤ U(5.2491,1.8757,3.8353) ├──░──────────────■────────────────────░───┼──»\n",
      "      ├─────────────────────────┤  ░            ┌─┴─┐                  ░ ┌─┴─┐»\n",
      "q_5: ─┤ U(5.8717,1.4803,1.3123) ├──░────────────┤ X ├──────────────────░─┤ X ├»\n",
      "      └─────────────────────────┘  ░            └───┘                  ░ └───┘»\n",
      "«      ░ \n",
      "«q_0: ─░─\n",
      "«      ░ \n",
      "«q_1: ─░─\n",
      "«      ░ \n",
      "«q_2: ─░─\n",
      "«      ░ \n",
      "«q_3: ─░─\n",
      "«      ░ \n",
      "«q_4: ─░─\n",
      "«      ░ \n",
      "«q_5: ─░─\n",
      "«      ░ \n"
     ]
    }
   ],
   "source": [
    "# reconstruct the circuit from the vector\n",
    "circuit = up_model.reconstruct(device, vec)\n",
    "print(circuit)"
   ]
  }
 ],
 "metadata": {
  "kernelspec": {
   "display_name": "janusq",
   "language": "python",
   "name": "python3"
  },
  "language_info": {
   "codemirror_mode": {
    "name": "ipython",
    "version": 3
   },
   "file_extension": ".py",
   "mimetype": "text/x-python",
   "name": "python",
   "nbconvert_exporter": "python",
   "pygments_lexer": "ipython3",
   "version": "3.10.16"
  }
 },
 "nbformat": 4,
 "nbformat_minor": 4
}
