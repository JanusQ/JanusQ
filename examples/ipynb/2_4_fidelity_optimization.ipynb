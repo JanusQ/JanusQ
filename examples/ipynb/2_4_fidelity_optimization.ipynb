{
 "cells": [
  {
   "cell_type": "markdown",
   "metadata": {},
   "source": [
    "# Fidelity Optimization Based on QuCT\n",
    "\n",
    "**Author:** Congliang Lang & Siwei Tan  \n",
    "\n",
    "**Date:** 7/4/2024\n",
    "\n",
    "Based on paper \"[QuCT: A Framework for Analyzing Quantum Circuit by Extracting Contextual and Topological Features][1]\" (MICRO 2023)\n",
    "\n",
    "[1]: https://dl.acm.org/doi/10.1145/3613424.3614274"
   ]
  },
  {
   "cell_type": "code",
   "execution_count": 1,
   "metadata": {},
   "outputs": [
    {
     "name": "stderr",
     "output_type": "stream",
     "text": [
      "2025-01-09 18:58:02,610\tINFO worker.py:1724 -- Started a local Ray instance.\n"
     ]
    }
   ],
   "source": [
    "import os\n",
    "os.chdir(\"..\")\n",
    "import sys\n",
    "sys.path.append('..')\n",
    "import logging\n",
    "logging.basicConfig(level=logging.WARN)\n",
    "\n",
    "import random\n",
    "import ray\n",
    "ray.init(log_to_driver=False)\n",
    "\n",
    "from janusq.analysis.fidelity_prediction import FidelityModel\n",
    "from janusq.simulator.gate_error_model import GateErrorModel\n",
    "\n",
    "from janusq.analysis.vectorization import RandomwalkModel\n",
    "\n",
    "from janusq.data_objects.random_circuit import random_circuits\n",
    "from janusq.data_objects.backend import FullyConnectedBackend\n",
    "\n",
    "from janusq.simulator.noisy_simulator import NoisySimulator\n",
    "\n",
    "from janusq.tools.ray_func import map"
   ]
  },
  {
   "cell_type": "markdown",
   "metadata": {},
   "source": [
    "# Noise Optimization Based on QuCT\n",
    "\n",
    "\n",
    "**Author:** Congliang Lang \\& Siwei Tan  \n",
    "\n",
    "**Date:** 7/4/2024\n",
    "\n",
    "Based on \"[QuCT: A Framework for Analyzing Quantum Circuit by Extracting Contextual and Topological Features (MICRO 2023][1]\"\n",
    "\n",
    "[1]: https://scholar.google.com/scholar_url?url=https://dl.acm.org/doi/abs/10.1145/3613424.3614274%3Fcasa_token%3DffjIB1hQ4ZwAAAAA:8MajDLrDOC74WoeMf7r7AoQ-koxCa4E1TNqQg3GSDz03xUX6XdE3toNTM-YdM_e4rKEusMceJ6BGJg&hl=zh-CN&sa=T&oi=gsb&ct=res&cd=0&d=11146218754516883150&ei=42YSZpPlFL6s6rQPtt6x6Ac&scisig=AFWwaeYaiu2hyx8HUJ_7Buf9Mwom\n",
    "\n",
    "The accurate fidelity prediction enables QuCT to guide the noise optimization. In this notebook, we introduce the optimization strategies."
   ]
  },
  {
   "cell_type": "code",
   "execution_count": 2,
   "metadata": {},
   "outputs": [
    {
     "name": "stderr",
     "output_type": "stream",
     "text": [
      "100%|██████████| 84/84 [00:00<00:00, 197.55it/s]\n"
     ]
    }
   ],
   "source": [
    "# build a simulator\n",
    "\n",
    "n_qubits = 5\n",
    "n_steps = 1\n",
    "n_walks = 20\n",
    "backend = FullyConnectedBackend(n_qubits)\n",
    "\n",
    "circuits = random_circuits(backend, n_circuits=50, n_gate_list=list(range(10, 150, 10)), two_qubit_prob_list=[0.3, 0.4, 0.6], reverse=True)\n",
    "up_model = RandomwalkModel(n_steps = n_steps, n_walks = n_walks, backend = backend)\n",
    "up_model.train(circuits, multi_process=False, remove_redundancy = False)\n",
    "\n",
    "all_paths = up_model.all_paths()\n",
    "high_error_paths = random.choices(all_paths, k = 20)\n",
    "\n",
    "error_model = GateErrorModel.random_model(backend=backend, high_error_paths=high_error_paths)\n",
    "error_model.vec_model = up_model\n",
    "\n",
    "simulator = NoisySimulator(backend=backend, gate_error_model = error_model)"
   ]
  },
  {
   "cell_type": "code",
   "execution_count": 3,
   "metadata": {},
   "outputs": [
    {
     "name": "stderr",
     "output_type": "stream",
     "text": [
      "WARNING:root:len(train dataset) = 67, len(validation dataset) = 17\n",
      "67it [00:00, 652014.77it/s]\n",
      "17it [00:00, 321185.44it/s]\n"
     ]
    },
    {
     "name": "stdout",
     "output_type": "stream",
     "text": [
      "epoch: 100, \t epoch loss = 6.603154182434082, \t validation loss = 0.7545537948608398\n",
      "epoch: 200, \t epoch loss = 1.5930513143539429, \t validation loss = 0.27234703302383423\n",
      "epoch: 300, \t epoch loss = 0.6379082202911377, \t validation loss = 0.227732315659523\n",
      "epoch: 400, \t epoch loss = 0.28282949328422546, \t validation loss = 0.2158118337392807\n",
      "finish taining with 429 epoch\n"
     ]
    },
    {
     "data": {
      "text/plain": [
       "{'circuit_bias': Array([-25.996347], dtype=float32),\n",
       " 'gate_params': Array([[8.56070900e+00, 0.00000000e+00, 1.01876335e+01, 3.84065700e+00,\n",
       "         7.65420151e+00, 0.00000000e+00, 6.52831411e+00, 1.23310347e+01,\n",
       "         0.00000000e+00, 1.06876259e+01, 3.83904529e+00, 0.00000000e+00,\n",
       "         3.01716971e+00, 1.43618643e+00, 6.11124468e+00, 2.79243159e+00,\n",
       "         4.67849541e+00, 7.65895176e+00, 1.41613674e+01, 1.01708050e+01,\n",
       "         0.00000000e+00, 4.78182268e+00, 6.89649582e+00, 6.33966732e+00,\n",
       "         8.12528038e+00, 7.52784729e+00, 5.47617626e+00, 1.22318258e+01,\n",
       "         7.61039877e+00, 6.03664112e+00, 1.34964359e+00, 0.00000000e+00,\n",
       "         4.34381866e+00, 1.02006521e+01, 1.30769434e+01, 0.00000000e+00,\n",
       "         3.33549428e+00, 7.09749460e+00, 0.00000000e+00, 0.00000000e+00,\n",
       "         0.00000000e+00],\n",
       "        [2.95067072e+00, 8.51592255e+00, 2.74381280e+00, 0.00000000e+00,\n",
       "         2.25233698e+00, 1.23278360e+01, 6.44571447e+00, 0.00000000e+00,\n",
       "         0.00000000e+00, 8.88718510e+00, 4.60159922e+00, 2.95542455e+00,\n",
       "         1.38190591e+00, 0.00000000e+00, 7.64817190e+00, 1.37101440e+01,\n",
       "         7.77413368e+00, 1.13659716e+01, 0.00000000e+00, 0.00000000e+00,\n",
       "         4.02788925e+00, 2.37889433e+00, 7.38037634e+00, 6.70291996e+00,\n",
       "         1.21034050e+01, 0.00000000e+00, 2.55827188e+00, 0.00000000e+00,\n",
       "         1.32891977e+00, 3.13277507e+00, 1.45759935e+01, 1.33291388e+00,\n",
       "         7.98907232e+00, 0.00000000e+00, 0.00000000e+00, 1.04536095e+01,\n",
       "         8.36155128e+00, 7.43077421e+00, 1.20298748e+01, 1.15666533e+01,\n",
       "         0.00000000e+00],\n",
       "        [8.55894470e+00, 6.44435072e+00, 0.00000000e+00, 5.32582903e+00,\n",
       "         7.52359533e+00, 6.11369467e+00, 0.00000000e+00, 4.59873390e+00,\n",
       "         8.77414131e+00, 9.55360115e-01, 2.74800730e+00, 0.00000000e+00,\n",
       "         0.00000000e+00, 9.55795527e-01, 4.93516731e+00, 1.18850021e+01,\n",
       "         9.13522339e+00, 0.00000000e+00, 8.03214073e+00, 1.95140958e-01,\n",
       "         2.61473489e+00, 3.67804265e+00, 2.50952220e+00, 4.39905405e+00,\n",
       "         6.60155535e+00, 0.00000000e+00, 1.46127567e+01, 8.21326160e+00,\n",
       "         5.85630417e+00, 1.42758112e+01, 5.58040762e+00, 8.60916042e+00,\n",
       "         8.59140968e+00, 8.12964022e-01, 1.92880325e+01, 1.61423504e+00,\n",
       "         0.00000000e+00, 0.00000000e+00, 0.00000000e+00, 7.60245657e+00,\n",
       "         0.00000000e+00],\n",
       "        [6.53153753e+00, 0.00000000e+00, 0.00000000e+00, 0.00000000e+00,\n",
       "         0.00000000e+00, 5.32776070e+00, 4.53923130e+00, 0.00000000e+00,\n",
       "         2.25907087e+00, 1.44521570e+00, 0.00000000e+00, 0.00000000e+00,\n",
       "         0.00000000e+00, 0.00000000e+00, 0.00000000e+00, 2.60509181e+00,\n",
       "         1.20732737e+01, 2.44106579e+00, 9.62169266e+00, 3.37306476e+00,\n",
       "         8.33661270e+00, 6.00054884e+00, 5.58989668e+00, 0.00000000e+00,\n",
       "         5.70985937e+00, 1.23208547e+00, 2.35801244e+00, 0.00000000e+00,\n",
       "         0.00000000e+00, 6.14542007e+00, 5.33485317e+00, 0.00000000e+00,\n",
       "         3.64514351e-01, 1.51731396e+00, 1.03001156e+01, 1.99853837e+00,\n",
       "         0.00000000e+00, 1.31252050e+00, 0.00000000e+00, 0.00000000e+00,\n",
       "         2.75997138e+00],\n",
       "        [1.38673234e+00, 0.00000000e+00, 4.94278479e+00, 7.52559710e+00,\n",
       "         3.02356124e+00, 0.00000000e+00, 7.22855186e+00, 0.00000000e+00,\n",
       "         8.51734638e+00, 1.06915703e+01, 0.00000000e+00, 0.00000000e+00,\n",
       "         0.00000000e+00, 0.00000000e+00, 0.00000000e+00, 1.16063433e+01,\n",
       "         0.00000000e+00, 0.00000000e+00, 9.15575802e-01, 1.17357092e+01,\n",
       "         1.15395088e+01, 1.18561401e+01, 0.00000000e+00, 1.47646379e+00,\n",
       "         3.75563407e+00, 3.07978797e+00, 1.17351809e+01, 8.27118969e+00,\n",
       "         6.96896219e+00, 2.48747969e+00, 7.82988739e+00, 1.90030217e+00,\n",
       "         2.03925776e+00, 0.00000000e+00, 3.36558533e+00, 3.23400408e-01,\n",
       "         5.91631126e+00, 2.75597930e+00, 8.57300663e+00, 0.00000000e+00,\n",
       "         0.00000000e+00],\n",
       "        [9.27673435e+00, 1.40262747e+01, 2.35755692e+01, 2.30684586e+01,\n",
       "         0.00000000e+00, 1.93774624e+01, 1.60098934e+01, 1.22482033e+01,\n",
       "         1.04567547e+01, 1.92950649e+01, 8.61227226e+00, 1.62412667e+00,\n",
       "         1.07395144e+01, 1.01948109e+01, 8.37282467e+00, 3.47872168e-01,\n",
       "         6.61772728e+00, 1.50054324e+00, 2.03769064e+00, 1.12737017e+01,\n",
       "         1.47524128e+01, 0.00000000e+00, 9.36553383e+00, 5.92252207e+00,\n",
       "         1.01736851e+01, 1.05289364e+01, 1.40000572e+01, 5.65000772e+00,\n",
       "         0.00000000e+00, 0.00000000e+00, 0.00000000e+00, 0.00000000e+00,\n",
       "         3.94046164e+00, 9.67887688e+00, 0.00000000e+00, 0.00000000e+00,\n",
       "         0.00000000e+00, 0.00000000e+00, 0.00000000e+00, 0.00000000e+00,\n",
       "         0.00000000e+00],\n",
       "        [4.69454765e+00, 2.97066593e+01, 2.80400610e+00, 1.42727146e+01,\n",
       "         1.18934431e+01, 3.01845131e+01, 1.16221771e+01, 9.15067863e+00,\n",
       "         1.37327166e+01, 1.83060627e+01, 2.43294430e+00, 1.56955147e+01,\n",
       "         0.00000000e+00, 1.08999901e+01, 5.92869902e+00, 1.69013805e+01,\n",
       "         6.29647350e+00, 9.81205463e+00, 1.20215769e+01, 1.74606743e+01,\n",
       "         2.23095322e+00, 2.74886203e+00, 9.69298744e+00, 1.03979063e+01,\n",
       "         2.74534059e+00, 1.15757637e+01, 5.60603571e+00, 0.00000000e+00,\n",
       "         1.46223850e+01, 0.00000000e+00, 0.00000000e+00, 0.00000000e+00,\n",
       "         2.89097929e+00, 1.11679325e+01, 0.00000000e+00, 0.00000000e+00,\n",
       "         0.00000000e+00, 0.00000000e+00, 0.00000000e+00, 0.00000000e+00,\n",
       "         0.00000000e+00],\n",
       "        [7.67898655e+00, 8.42986202e+00, 2.97004929e+01, 7.79601192e+00,\n",
       "         3.01787052e+01, 4.03212547e+00, 2.62860107e+00, 3.37659097e+00,\n",
       "         3.69364333e+00, 9.23131406e-01, 0.00000000e+00, 0.00000000e+00,\n",
       "         4.94515181e+00, 0.00000000e+00, 0.00000000e+00, 3.33762258e-01,\n",
       "         1.24972277e+01, 0.00000000e+00, 0.00000000e+00, 8.30180550e+00,\n",
       "         1.23122253e+01, 9.35672474e+00, 1.14087982e+01, 1.14210881e-03,\n",
       "         4.49265385e+00, 0.00000000e+00, 0.00000000e+00, 6.44114971e+00,\n",
       "         1.13830671e+01, 0.00000000e+00, 1.96924553e+01, 1.25390224e+01,\n",
       "         0.00000000e+00, 0.00000000e+00, 0.00000000e+00, 0.00000000e+00,\n",
       "         0.00000000e+00, 0.00000000e+00, 0.00000000e+00, 0.00000000e+00,\n",
       "         0.00000000e+00],\n",
       "        [0.00000000e+00, 1.34731257e+00, 1.26885185e+01, 7.97830725e+00,\n",
       "         5.32849312e+00, 1.45649338e+01, 8.21036625e+00, 5.57551146e+00,\n",
       "         6.98112869e+00, 5.84843731e+00, 1.76521969e+01, 1.30848951e+01,\n",
       "         1.07342806e+01, 2.47990370e+00, 1.09219587e+00, 1.02980213e+01,\n",
       "         1.97868657e+00, 1.09781380e+01, 5.92576218e+00, 9.81310749e+00,\n",
       "         2.05593338e+01, 1.48134356e+01, 1.14082207e-03, 4.47805452e+00,\n",
       "         6.41740417e+00, 5.73926449e+00, 7.84824610e+00, 1.19777322e+00,\n",
       "         5.65031576e+00, 0.00000000e+00, 2.14078827e+01, 1.15694599e+01,\n",
       "         1.30964890e+01, 1.62327271e+01, 2.12603416e+01, 0.00000000e+00,\n",
       "         0.00000000e+00, 0.00000000e+00, 0.00000000e+00, 0.00000000e+00,\n",
       "         0.00000000e+00],\n",
       "        [1.59950647e+01, 2.35749321e+01, 1.50799723e+01, 2.03677692e+01,\n",
       "         5.70518398e+00, 9.26878738e+00, 1.75990219e+01, 5.47325706e+00,\n",
       "         8.01486731e-01, 1.76604519e+01, 0.00000000e+00, 1.42761755e+01,\n",
       "         8.58062840e+00, 1.32613945e+00, 0.00000000e+00, 4.33646536e+00,\n",
       "         2.10111866e+01, 7.84440851e+00, 0.00000000e+00, 1.55071774e+01,\n",
       "         1.20370350e+01, 1.90312684e+00, 0.00000000e+00, 8.30540371e+00,\n",
       "         1.74638329e+01, 1.23133554e+01, 1.46359186e+01, 0.00000000e+00,\n",
       "         1.20767498e+01, 3.13629293e+00, 1.90346503e+00, 2.14182339e+01,\n",
       "         1.55727615e+01, 1.73465309e+01, 8.94163895e+00, 0.00000000e+00,\n",
       "         0.00000000e+00, 0.00000000e+00, 0.00000000e+00, 0.00000000e+00,\n",
       "         0.00000000e+00],\n",
       "        [0.00000000e+00, 8.03441715e+00, 1.58663769e+01, 1.13720703e+01,\n",
       "         1.41720104e+01, 0.00000000e+00, 0.00000000e+00, 1.76191553e-01,\n",
       "         2.60195112e+00, 0.00000000e+00, 0.00000000e+00, 1.20766535e+01,\n",
       "         1.01853981e+01, 1.17128391e+01, 1.30182333e+01, 6.62904119e+00,\n",
       "         1.98306522e+01, 1.44679737e+01, 1.12569561e+01, 8.96782970e+00,\n",
       "         1.69003296e+01, 3.36407304e+00, 1.20226765e+01, 0.00000000e+00,\n",
       "         1.26860580e+01, 1.93555088e+01, 5.59193993e+00, 0.00000000e+00,\n",
       "         1.10374081e+00, 1.62201595e+01, 2.12673340e+01, 1.55457563e+01,\n",
       "         1.73263626e+01, 0.00000000e+00, 0.00000000e+00, 0.00000000e+00,\n",
       "         0.00000000e+00, 0.00000000e+00, 0.00000000e+00, 0.00000000e+00,\n",
       "         0.00000000e+00],\n",
       "        [1.17889585e+01, 7.38926411e+00, 7.34267282e+00, 4.41101074e+00,\n",
       "         1.15401039e+01, 1.21123466e+01, 7.27070284e+00, 6.90116835e+00,\n",
       "         4.80406189e+00, 6.00023651e+00, 7.55017090e+00, 1.18638191e+01,\n",
       "         2.30653019e+01, 2.03668861e+01, 5.57833147e+00, 1.76149158e+01,\n",
       "         1.93759880e+01, 1.09029913e+01, 1.27624774e+00, 4.92711449e+00,\n",
       "         8.96589756e+00, 1.25141783e+01, 6.29738617e+00, 2.05546627e+01,\n",
       "         1.48086205e+01, 2.32981434e+01, 7.61503363e+00, 0.00000000e+00,\n",
       "         9.61677074e+00, 1.10401368e+00, 1.56486387e+01, 2.98096824e+00,\n",
       "         1.08096862e+00, 0.00000000e+00, 0.00000000e+00, 0.00000000e+00,\n",
       "         0.00000000e+00, 0.00000000e+00, 0.00000000e+00, 0.00000000e+00,\n",
       "         0.00000000e+00],\n",
       "        [1.82826157e+01, 1.27081060e+01, 9.62061787e+00, 1.56801920e+01,\n",
       "         0.00000000e+00, 6.34762383e+00, 2.37586331e+00, 7.28016520e+00,\n",
       "         1.17265100e+01, 0.00000000e+00, 8.34079361e+00, 2.50708151e+00,\n",
       "         8.13621330e+00, 7.35766697e+00, 6.59768534e+00, 6.71022367e+00,\n",
       "         1.26704149e+01, 2.32876854e+01, 1.93494034e+01, 5.74335384e+00,\n",
       "         8.57185745e+00, 7.84465933e+00, 1.12498827e+01, 2.35162520e+00,\n",
       "         0.00000000e+00, 1.20650797e+01, 1.15156984e+01, 7.99903011e+00,\n",
       "         1.90344739e+00, 1.97047253e+01, 1.25414515e+01, 0.00000000e+00,\n",
       "         3.93877435e+00, 1.30930929e+01, 9.68009281e+00, 0.00000000e+00,\n",
       "         0.00000000e+00, 0.00000000e+00, 0.00000000e+00, 0.00000000e+00,\n",
       "         0.00000000e+00],\n",
       "        [0.00000000e+00, 0.00000000e+00, 1.25646229e+01, 2.34387279e+00,\n",
       "         1.20997667e+00, 7.60143137e+00, 2.55369830e+00, 1.47053230e+00,\n",
       "         2.10069790e+01, 1.17398062e+01, 1.10273533e+01, 1.17387753e+01,\n",
       "         0.00000000e+00, 0.00000000e+00, 1.32635438e+00, 1.46101551e+01,\n",
       "         6.04100323e+00, 1.98290138e+01, 1.09486043e+00, 1.09817610e+01,\n",
       "         1.44571695e+01, 1.47465191e+01, 0.00000000e+00, 1.01603537e+01,\n",
       "         6.43844271e+00, 1.13831644e+01, 1.15215816e+01, 9.61860561e+00,\n",
       "         3.13311052e+00, 7.97453213e+00, 2.87440729e+00, 1.11653080e+01,\n",
       "         1.56403608e+01, 3.00126505e+00, 8.93874836e+00, 0.00000000e+00,\n",
       "         0.00000000e+00, 0.00000000e+00, 0.00000000e+00, 0.00000000e+00,\n",
       "         0.00000000e+00],\n",
       "        [2.09982700e+01, 0.00000000e+00, 3.08465576e+00, 1.11548710e+01,\n",
       "         1.10401440e+01, 8.28630447e+00, 1.17440653e+01, 3.76526165e+00,\n",
       "         3.13115215e+00, 6.14445972e+00, 0.00000000e+00, 7.43558168e+00,\n",
       "         3.34039497e+00, 0.00000000e+00, 2.10133781e+01, 0.00000000e+00,\n",
       "         1.17107306e+01, 0.00000000e+00, 1.55299520e+01, 7.09722424e+00,\n",
       "         1.30183077e+01, 1.13881998e+01, 2.23686910e+00, 1.03938036e+01,\n",
       "         9.67900372e+00, 1.05396748e+01, 6.42337132e+00, 1.40019741e+01,\n",
       "         1.20137334e+00, 1.12461185e+01, 2.34391522e+00, 1.15638199e+01,\n",
       "         0.00000000e+00, 1.07523453e+00, 0.00000000e+00, 0.00000000e+00,\n",
       "         0.00000000e+00, 0.00000000e+00, 0.00000000e+00, 0.00000000e+00,\n",
       "         0.00000000e+00]], dtype=float32)}"
      ]
     },
     "execution_count": 3,
     "metadata": {},
     "output_type": "execute_result"
    }
   ],
   "source": [
    "# train a fidelity model\n",
    "ground_truth_fidelities = map(lambda circuit: simulator.obtain_circuit_fidelity(circuit)[0], circuits, show_progress=False, multi_process=False)\n",
    "\n",
    "fidelity_model = FidelityModel(up_model)\n",
    "fidelity_model.train((circuits, ground_truth_fidelities))"
   ]
  },
  {
   "cell_type": "code",
   "execution_count": 4,
   "metadata": {},
   "outputs": [
    {
     "name": "stderr",
     "output_type": "stream",
     "text": [
      "/Users/chutianyao/anaconda3/envs/janusq/lib/python3.10/site-packages/numpy/linalg/linalg.py:2180: RuntimeWarning: divide by zero encountered in det\n",
      "  r = _umath_linalg.det(a, signature=signature)\n",
      "/Users/chutianyao/anaconda3/envs/janusq/lib/python3.10/site-packages/numpy/linalg/linalg.py:2180: RuntimeWarning: invalid value encountered in det\n",
      "  r = _umath_linalg.det(a, signature=signature)\n"
     ]
    }
   ],
   "source": [
    "# generate a set of benchmarking circuits\n",
    "\n",
    "from janusq.data_objects.algorithms import get_algorithm_circuits\n",
    "from janusq.optimizations.scheduling.scheduling_ct import Scheduler\n",
    "from janusq.optimizations.mapping.mapping_ct import Mapper\n",
    "algs = ['qft', 'hs', 'ising', 'qknn', 'qsvm', 'vqc', 'grover']\n",
    "benchmarking_circuits = get_algorithm_circuits(n_qubits, backend, algs)"
   ]
  },
  {
   "cell_type": "markdown",
   "metadata": {},
   "source": [
    "## Scheduling\n",
    "\n",
    "We can use Janus-CT to guide the scheduling."
   ]
  },
  {
   "cell_type": "code",
   "execution_count": 5,
   "metadata": {},
   "outputs": [
    {
     "name": "stdout",
     "output_type": "stream",
     "text": [
      "before scheduling:  0.9694583006311561 after scheduling:  0.9795045499459926\n",
      "before scheduling:  0.9765367956887477 after scheduling:  0.9757208909020327\n",
      "before scheduling:  0.9792671650533176 after scheduling:  0.9800286423454228\n",
      "before scheduling:  0.9657057836040606 after scheduling:  0.9764709053873476\n",
      "before scheduling:  0.966449447493346 after scheduling:  0.9745429553124276\n",
      "before scheduling:  0.9229912551421154 after scheduling:  0.9140007943251224\n",
      "before scheduling:  0.8480812074215802 after scheduling:  0.8785230849999538\n"
     ]
    }
   ],
   "source": [
    "scheduler = Scheduler(fidelity_model)\n",
    "\n",
    "baseline_fidelities, opt_fidelities = [], []\n",
    "for circuit in benchmarking_circuits:\n",
    "    baseline_fidelities.append(simulator.obtain_circuit_fidelity(circuit)[0])\n",
    "    \n",
    "    opt_circuit = scheduler.run(circuit, timeout=60)\n",
    "    opt_fidelity = simulator.obtain_circuit_fidelity(opt_circuit)[0]\n",
    "    \n",
    "    opt_fidelities.append(opt_fidelity)\n",
    "    print('before scheduling: ', baseline_fidelities[-1], 'after scheduling: ', opt_fidelities[-1])"
   ]
  },
  {
   "cell_type": "code",
   "execution_count": 6,
   "metadata": {},
   "outputs": [
    {
     "data": {
      "text/plain": [
       "<matplotlib.legend.Legend at 0x411c9fa30>"
      ]
     },
     "execution_count": 6,
     "metadata": {},
     "output_type": "execute_result"
    },
    {
     "data": {
      "image/png": "[encoded data removed]",
      "text/plain": [
       "<Figure size 1500x500 with 1 Axes>"
      ]
     },
     "metadata": {},
     "output_type": "display_data"
    }
   ],
   "source": [
    "import matplotlib.pyplot as plt\n",
    "import numpy as np\n",
    "fig, axes = plt.subplots(figsize=(15, 5))\n",
    "x = [i for i in range(len(benchmarking_circuits))]\n",
    "x = np.array(x) * 20\n",
    "# axes.bar(x,reals_baseline,width =2,label='reals_baseline')\n",
    "\n",
    "\n",
    "baseline_fidelities = np.array(baseline_fidelities)\n",
    "opt_fidelities = np.array(opt_fidelities)\n",
    "axes.bar(x+4,1-baseline_fidelities,width =2,label='baseline')\n",
    "axes.bar(x+6,1-opt_fidelities,width =2,label='janusq scheduling')\n",
    "\n",
    "plt.title('comparison of error')\n",
    "axes.set_xticks(x)\n",
    "axes.set_xticklabels(algs)\n",
    "fig.legend()"
   ]
  }
 ],
 "metadata": {
  "kernelspec": {
   "display_name": "janusq",
   "language": "python",
   "name": "python3"
  },
  "language_info": {
   "codemirror_mode": {
    "name": "ipython",
    "version": 3
   },
   "file_extension": ".py",
   "mimetype": "text/x-python",
   "name": "python",
   "nbconvert_exporter": "python",
   "pygments_lexer": "ipython3",
   "version": "3.10.16"
  }
 },
 "nbformat": 4,
 "nbformat_minor": 4
}
