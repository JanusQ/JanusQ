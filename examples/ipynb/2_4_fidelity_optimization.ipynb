{
 "cells": [
  {
   "cell_type": "markdown",
   "metadata": {},
   "source": [
    "# Fidelity Optimization Based on QuCT\n",
    "\n",
    "**Author:** Congliang Lang & Siwei Tan  \n",
    "\n",
    "**Date:** 7/4/2024\n",
    "\n",
    "Based on paper \"[QuCT: A Framework for Analyzing Quantum Circuit by Extracting Contextual and Topological Features][1]\" (MICRO 2023)\n",
    "\n",
    "[1]: https://dl.acm.org/doi/10.1145/3613424.3614274\n",
    "\n",
    "The accurate fidelity prediction enables QuCT to guide the noise optimization. In this notebook, we introduce the optimization strategies."
   ]
  },
  {
   "cell_type": "code",
   "execution_count": 1,
   "metadata": {},
   "outputs": [
    {
     "name": "stderr",
     "output_type": "stream",
     "text": [
      "2025-02-08 11:00:00,341\tINFO worker.py:1724 -- Started a local Ray instance.\n"
     ]
    }
   ],
   "source": [
    "import os\n",
    "os.chdir(\"../..\")\n",
    "import logging\n",
    "logging.basicConfig(level=logging.WARN)\n",
    "\n",
    "import random\n",
    "import ray\n",
    "ray.init(log_to_driver=False)\n",
    "\n",
    "from janusq.objects.random_circuit import random_circuits\n",
    "from janusq.objects.backend import FullyConnectedBackend\n",
    "from janusq.analysis.vectorization import RandomwalkModel\n",
    "from janusq.analysis.fidelity_prediction import FidelityModel\n",
    "from janusq.simulator.gate_error_model import GateErrorModel\n",
    "from janusq.simulator.noisy_simulator import NoisySimulator\n",
    "from janusq.tools.ray_func import map"
   ]
  },
  {
   "cell_type": "code",
   "execution_count": 2,
   "metadata": {},
   "outputs": [
    {
     "name": "stderr",
     "output_type": "stream",
     "text": [
      "100%|██████████| 84/84 [00:01<00:00, 44.09it/s] \n"
     ]
    }
   ],
   "source": [
    "# build a simulator\n",
    "\n",
    "n_qubits = 5\n",
    "n_steps = 1\n",
    "n_walks = 20\n",
    "backend = FullyConnectedBackend(n_qubits)\n",
    "\n",
    "circuits = random_circuits(backend, n_circuits=50, n_gate_list=list(range(10, 150, 10)), two_qubit_prob_list=[0.3, 0.4, 0.6], reverse=True)\n",
    "up_model = RandomwalkModel(n_steps = n_steps, n_walks = n_walks, backend = backend)\n",
    "up_model.train(circuits, multi_process=False, remove_redundancy = False)\n",
    "\n",
    "all_paths = up_model.all_paths()\n",
    "high_error_paths = random.choices(all_paths, k = 20)\n",
    "\n",
    "error_model = GateErrorModel.random_model(backend=backend, high_error_paths=high_error_paths)\n",
    "error_model.vec_model = up_model\n",
    "\n",
    "simulator = NoisySimulator(backend=backend, gate_error_model = error_model)"
   ]
  },
  {
   "cell_type": "code",
   "execution_count": 3,
   "metadata": {},
   "outputs": [
    {
     "name": "stderr",
     "output_type": "stream",
     "text": [
      "WARNING:root:len(train dataset) = 67, len(validation dataset) = 17\n",
      "67it [00:00, 826524.61it/s]\n",
      "17it [00:00, 87274.38it/s]\n"
     ]
    },
    {
     "name": "stdout",
     "output_type": "stream",
     "text": [
      "epoch: 100, \t epoch loss = 9.463730812072754, \t validation loss = 0.5332390069961548\n",
      "epoch: 200, \t epoch loss = 2.3650245666503906, \t validation loss = 0.2983757555484772\n",
      "finish taining with 293 epoch\n"
     ]
    },
    {
     "data": {
      "text/plain": [
       "{'circuit_bias': Array([-12.311683], dtype=float32),\n",
       " 'gate_params': Array([[8.33579826e+00, 4.70527124e+00, 7.48498082e-01, 5.94867468e+00,\n",
       "         1.51086056e+00, 3.70859861e+00, 4.11591721e+00, 9.00371134e-01,\n",
       "         4.11027479e+00, 5.23336792e+00, 5.23372555e+00, 2.41510201e+00,\n",
       "         1.91800606e+00, 4.01583385e+00, 1.63241708e+00, 1.18407078e+01,\n",
       "         8.94400406e+00, 1.10913458e+01, 1.04254456e+01, 5.24967003e+00,\n",
       "         9.31919479e+00, 8.36327362e+00, 1.07229519e+01, 8.30880642e+00,\n",
       "         6.92525148e+00, 1.10803528e+01, 4.66235971e+00, 2.17081547e+00,\n",
       "         1.04598532e+01, 9.52064753e-01, 6.85901165e+00, 1.20747471e+01,\n",
       "         1.00805521e+01, 1.01291389e+01, 2.93418241e+00, 5.01366854e+00,\n",
       "         9.78184891e+00, 8.59428120e+00, 9.29835510e+00, 8.60708904e+00,\n",
       "         7.20987606e+00],\n",
       "        [4.68869060e-01, 1.37573123e-01, 4.42455244e+00, 6.67117596e+00,\n",
       "         3.70861435e+00, 4.70719004e+00, 2.99908209e+00, 6.94288135e-01,\n",
       "         5.11833096e+00, 2.41626453e+00, 3.23054905e-04, 1.37328625e-01,\n",
       "         2.29409766e+00, 2.13494062e+00, 1.51676846e+00, 3.12692952e+00,\n",
       "         3.16148376e+00, 2.20805955e+00, 3.00821924e+00, 3.67278695e+00,\n",
       "         7.64810038e+00, 1.20752192e+01, 7.61468029e+00, 1.94090080e+00,\n",
       "         1.17763109e+01, 4.94804716e+00, 7.60520840e+00, 6.52340603e+00,\n",
       "         2.71701664e-01, 2.54234076e+00, 6.86861897e+00, 2.10896993e+00,\n",
       "         2.54035306e+00, 2.93177032e+00, 5.75571966e+00, 2.80268502e+00,\n",
       "         1.32336044e+01, 1.16525459e+01, 3.73334706e-01, 0.00000000e+00,\n",
       "         0.00000000e+00],\n",
       "        [4.37509203e+00, 3.38725209e+00, 4.11054850e+00, 1.91769445e+00,\n",
       "         7.52482700e+00, 3.93914938e+00, 5.11664867e+00, 2.28982496e+00,\n",
       "         1.71666932e+00, 2.61231351e+00, 4.37400913e+00, 2.14078760e+00,\n",
       "         7.49073863e-01, 4.63655680e-01, 1.87112367e+00, 1.01213531e+01,\n",
       "         7.88089275e+00, 7.69613504e+00, 1.06353645e+01, 1.19288225e+01,\n",
       "         5.15352297e+00, 1.07111855e+01, 8.09003067e+00, 9.68362522e+00,\n",
       "         7.99030304e+00, 1.11345034e+01, 4.03429317e+00, 1.09472170e+01,\n",
       "         7.40080547e+00, 1.24152527e+01, 9.33439636e+00, 5.73843336e+00,\n",
       "         9.71418858e+00, 5.74879169e+00, 8.33137321e+00, 6.68875742e+00,\n",
       "         7.21876240e+00, 0.00000000e+00, 8.92163372e+00, 6.16232204e+00,\n",
       "         2.57079148e+00],\n",
       "        [4.01267767e+00, 1.86980128e+00, 3.93804002e+00, 5.98827171e+00,\n",
       "         9.05246639e+00, 5.94788504e+00, 4.20976114e+00, 2.63359427e+00,\n",
       "         2.12740421e+00, 3.70462012e+00, 3.70525312e+00, 4.21012640e+00,\n",
       "         1.71441519e+00, 2.99215102e+00, 1.80616903e+00, 1.28787899e+01,\n",
       "         1.20061312e+01, 6.25193453e+00, 6.89202118e+00, 1.00737391e+01,\n",
       "         7.20278215e+00, 6.44150162e+00, 8.72081089e+00, 1.28924341e+01,\n",
       "         8.21770287e+00, 1.14021950e+01, 9.15511513e+00, 4.61469889e+00,\n",
       "         1.09788828e+01, 1.01425734e+01, 9.96990776e+00, 7.38951826e+00,\n",
       "         8.13588333e+00, 6.50094318e+00, 1.16247158e+01, 1.23547163e+01,\n",
       "         1.16960211e+01, 1.11581421e+01, 0.00000000e+00, 7.37414074e+00,\n",
       "         1.66209996e+00],\n",
       "        [1.63245380e+00, 5.99017286e+00, 7.80361080e+00, 2.14129639e+00,\n",
       "         3.25169468e+00, 4.11655140e+00, 1.81070483e+00, 4.42267466e+00,\n",
       "         3.22675274e-04, 3.38761640e+00, 9.02015984e-01, 2.61245465e+00,\n",
       "         6.88539028e-01, 2.63630939e+00, 3.25142050e+00, 1.04733734e+01,\n",
       "         9.90008354e+00, 5.95868540e+00, 8.99958229e+00, 7.90081978e+00,\n",
       "         6.14395332e+00, 7.22838020e+00, 1.07228975e+01, 1.38355160e+01,\n",
       "         8.00514412e+00, 2.75361371e+00, 5.14916325e+00, 2.86456752e+00,\n",
       "         4.06224489e+00, 6.94395971e+00, 2.54797912e+00, 6.56679392e+00,\n",
       "         1.16151342e+01, 6.87462425e+00, 8.79355145e+00, 6.12831974e+00,\n",
       "         8.06547165e+00, 0.00000000e+00, 2.32006645e+00, 0.00000000e+00,\n",
       "         3.33755398e+00],\n",
       "        [1.30213242e+01, 6.24628782e+00, 7.22462273e+00, 7.89457273e+00,\n",
       "         6.88982105e+00, 6.13516617e+00, 1.00715380e+01, 5.14604950e+00,\n",
       "         5.24059820e+00, 9.31603909e+00, 7.64209270e+00, 1.65610809e+01,\n",
       "         1.76272736e+01, 8.09020710e+00, 7.60199833e+00, 9.68352032e+00,\n",
       "         1.04990320e+01, 1.51917763e+01, 1.59052114e+01, 1.61421986e+01,\n",
       "         1.34814272e+01, 1.33884516e+01, 1.54394226e+01, 1.36847258e+01,\n",
       "         1.23171940e+01, 1.10908451e+01, 1.17223616e+01, 3.73050070e+00,\n",
       "         5.76358032e+00, 6.80142021e+00, 1.62642574e+01, 6.57181025e+00,\n",
       "         6.64613581e+00, 1.35862560e+01, 0.00000000e+00, 0.00000000e+00,\n",
       "         0.00000000e+00, 0.00000000e+00, 0.00000000e+00, 0.00000000e+00,\n",
       "         0.00000000e+00],\n",
       "        [1.10308571e+01, 1.15919800e+01, 2.53863192e+00, 6.86980677e+00,\n",
       "         8.13693428e+00, 4.61778450e+00, 6.56552458e+00, 2.10569048e+00,\n",
       "         7.40416574e+00, 6.87220669e+00, 7.38677979e+00, 7.74883747e+00,\n",
       "         9.03014278e+00, 1.20775557e+01, 6.69060659e+00, 1.11623354e+01,\n",
       "         1.12747765e+01, 1.21438408e+01, 1.11179304e+01, 1.61569653e+01,\n",
       "         9.78606892e+00, 1.05892777e+00, 5.26526022e+00, 1.04666634e+01,\n",
       "         1.10304155e+01, 9.43520546e+00, 8.60974216e+00, 1.16161823e+01,\n",
       "         1.19416418e+01, 1.35251322e+01, 1.33979826e+01, 5.76957846e+00,\n",
       "         6.80143452e+00, 0.00000000e+00, 0.00000000e+00, 0.00000000e+00,\n",
       "         0.00000000e+00, 0.00000000e+00, 0.00000000e+00, 0.00000000e+00,\n",
       "         0.00000000e+00],\n",
       "        [5.14628792e+00, 8.22471523e+00, 4.06001663e+00, 1.23003578e+01,\n",
       "         4.61777210e+00, 5.02603340e+00, 1.34517632e+01, 1.09502230e+01,\n",
       "         2.86061120e+00, 6.90923166e+00, 1.23515711e+01, 9.16303825e+00,\n",
       "         1.35621805e+01, 1.19426193e+01, 2.92911172e+00, 5.01071882e+00,\n",
       "         1.32424364e+01, 1.52111311e+01, 1.16582336e+01, 8.92664146e+00,\n",
       "         1.10407171e+01, 1.09171705e+01, 1.66847980e+00, 1.16228256e+01,\n",
       "         7.21558332e+00, 1.19388599e+01, 6.92967367e+00, 1.55573568e+01,\n",
       "         1.24130344e+01, 6.96132326e+00, 9.53860283e+00, 1.09569845e+01,\n",
       "         1.62631302e+01, 1.35832033e+01, 1.39282885e+01, 0.00000000e+00,\n",
       "         0.00000000e+00, 0.00000000e+00, 0.00000000e+00, 0.00000000e+00,\n",
       "         0.00000000e+00],\n",
       "        [3.15281272e+00, 7.88624573e+00, 1.18531227e+01, 1.01309710e+01,\n",
       "         3.12264323e+00, 3.00415468e+00, 1.28883829e+01, 7.70417213e+00,\n",
       "         1.20181417e+01, 1.04821014e+01, 1.24210720e+01, 9.90473175e+00,\n",
       "         1.10946712e+01, 1.09520035e+01, 1.01468973e+01, 1.25349846e+01,\n",
       "         1.15820665e+01, 1.30600481e+01, 1.34765978e+01, 7.89669418e+00,\n",
       "         1.36845512e+01, 6.50476074e+00, 9.82384205e+00, 9.24714661e+00,\n",
       "         9.61432457e+00, 1.12782841e+01, 1.04643021e+01, 1.00769606e+01,\n",
       "         8.81875038e+00, 1.24150906e+01, 6.95836592e+00, 1.09583378e+01,\n",
       "         5.43939161e+00, 5.28711414e+00, 6.35487938e+00, 0.00000000e+00,\n",
       "         0.00000000e+00, 0.00000000e+00, 0.00000000e+00, 0.00000000e+00,\n",
       "         0.00000000e+00],\n",
       "        [9.46038187e-01, 1.04580708e+01, 1.21662140e+01, 8.79484177e+00,\n",
       "         8.98089314e+00, 1.05000124e+01, 6.12523556e+00, 7.31597233e+00,\n",
       "         2.91648746e+00, 1.17031431e+01, 5.74124432e+00, 1.00815020e+01,\n",
       "         1.23554573e+01, 8.86242771e+00, 1.16991148e+01, 5.74910593e+00,\n",
       "         2.79394078e+00, 7.21465206e+00, 0.00000000e+00, 1.52048473e+01,\n",
       "         2.88855982e+00, 1.23208885e+01, 0.00000000e+00, 1.66093087e+00,\n",
       "         4.21351814e+00, 1.03140421e+01, 1.29636211e+01, 1.10323467e+01,\n",
       "         1.00762596e+01, 8.81767273e+00, 9.43321419e+00, 1.17249823e+01,\n",
       "         1.39286251e+01, 9.90430069e+00, 9.32489014e+00, 0.00000000e+00,\n",
       "         0.00000000e+00, 0.00000000e+00, 0.00000000e+00, 0.00000000e+00,\n",
       "         0.00000000e+00],\n",
       "        [1.25746336e+01, 2.74061012e+00, 1.93936670e+00, 8.00533962e+00,\n",
       "         1.14081020e+01, 5.02331591e+00, 1.13269691e+01, 1.28978300e+01,\n",
       "         8.31380844e+00, 7.99345398e+00, 6.91107750e+00, 1.10915928e+01,\n",
       "         4.03476334e+00, 4.95806599e+00, 1.15778942e+01, 1.16739311e+01,\n",
       "         2.62986869e-01, 2.54134083e+00, 9.89714241e+00, 4.61708450e+00,\n",
       "         9.72086048e+00, 9.82209110e+00, 6.52617502e+00, 2.89938951e+00,\n",
       "         1.14463024e+01, 5.26490784e+00, 4.22834826e+00, 1.06927042e+01,\n",
       "         6.92639160e+00, 1.22894592e+01, 9.18659115e+00, 6.56513500e+00,\n",
       "         6.64318895e+00, 7.53654003e+00, 0.00000000e+00, 0.00000000e+00,\n",
       "         0.00000000e+00, 0.00000000e+00, 0.00000000e+00, 0.00000000e+00,\n",
       "         0.00000000e+00],\n",
       "        [1.07099915e+01, 6.43726492e+00, 1.45473852e+01, 1.07088690e+01,\n",
       "         8.72155094e+00, 7.20087051e+00, 1.65588112e+01, 1.20815191e+01,\n",
       "         1.76286449e+01, 8.36135387e+00, 1.38423119e+01, 1.25752783e+01,\n",
       "         1.34497910e+01, 1.07182922e+01, 1.17846870e+01, 1.11385441e+01,\n",
       "         6.92573643e+00, 1.23517303e+01, 1.04016953e+01, 1.31021404e+01,\n",
       "         1.16983519e+01, 8.85840702e+00, 1.49173985e+01, 8.32929707e+00,\n",
       "         9.24338818e+00, 9.61137390e+00, 1.68707371e+01, 6.51088953e+00,\n",
       "         1.21407318e+01, 1.61661186e+01, 0.00000000e+00, 8.73716640e+00,\n",
       "         6.52439213e+00, 1.22883005e+01, 1.07188931e+01, 0.00000000e+00,\n",
       "         0.00000000e+00, 0.00000000e+00, 0.00000000e+00, 0.00000000e+00,\n",
       "         0.00000000e+00],\n",
       "        [1.06468964e+01, 1.24208994e+01, 3.66536665e+00, 1.25519562e+01,\n",
       "         5.94809055e+00, 8.94468594e+00, 2.19994497e+00, 8.99953461e+00,\n",
       "         1.20093613e+01, 1.04300251e+01, 1.19369392e+01, 7.89237452e+00,\n",
       "         9.03057003e+00, 2.52288866e+00, 1.33885412e+01, 8.17473412e+00,\n",
       "         1.16334276e+01, 9.09247112e+00, 1.56387358e+01, 1.55221796e+01,\n",
       "         1.49079218e+01, 1.68662281e+01, 1.01336336e+01, 1.11115522e+01,\n",
       "         1.55600576e+01, 9.54562950e+00, 3.32731485e+00, 1.10955887e+01,\n",
       "         3.73155093e+00, 9.18771362e+00, 6.35261917e+00, 9.90343094e+00,\n",
       "         9.32832718e+00, 1.07093124e+01, 7.54139042e+00, 0.00000000e+00,\n",
       "         0.00000000e+00, 0.00000000e+00, 0.00000000e+00, 0.00000000e+00,\n",
       "         0.00000000e+00],\n",
       "        [1.61393967e+01, 0.00000000e+00, 2.32142115e+00, 1.00091562e+01,\n",
       "         1.54359255e+01, 8.18369007e+00, 9.09289646e+00, 3.72713089e-01,\n",
       "         0.00000000e+00, 1.10411777e+01, 6.16595554e+00, 0.00000000e+00,\n",
       "         1.14466648e+01, 0.00000000e+00, 8.59953403e+00, 1.09198751e+01,\n",
       "         1.07002792e+01, 0.00000000e+00, 0.00000000e+00, 1.03151808e+01,\n",
       "         2.57148385e+00, 1.29694700e+01, 9.30162144e+00, 0.00000000e+00,\n",
       "         8.74503517e+00, 7.38192225e+00, 1.66378772e+00, 6.63877487e+00,\n",
       "         1.09413376e+01, 5.42824650e+00, 6.52177334e+00, 5.44430637e+00,\n",
       "         5.28529930e+00, 1.35215912e+01, 1.33927746e+01, 0.00000000e+00,\n",
       "         0.00000000e+00, 0.00000000e+00, 0.00000000e+00, 0.00000000e+00,\n",
       "         0.00000000e+00],\n",
       "        [1.09495859e+01, 1.25311375e+01, 6.93987799e+00, 7.59765005e+00,\n",
       "         1.16848917e+01, 6.51518250e+00, 1.09823732e+01, 1.43533430e+01,\n",
       "         1.10308971e+01, 9.90273380e+00, 9.97095585e+00, 1.16198788e+01,\n",
       "         7.74749565e+00, 1.30543232e+01, 2.15711474e+00, 9.33466625e+00,\n",
       "         4.65160227e+00, 1.24180603e+01, 1.51945715e+01, 8.98342800e+00,\n",
       "         1.59073544e+01, 7.31650639e+00, 6.85412359e+00, 8.06227970e+00,\n",
       "         5.73428440e+00, 1.31052494e+01, 1.04046173e+01, 1.35594635e+01,\n",
       "         1.19291048e+01, 1.55143213e+01, 1.56278553e+01, 1.05501258e+00,\n",
       "         5.42308187e+00, 1.09404669e+01, 6.63117790e+00, 0.00000000e+00,\n",
       "         0.00000000e+00, 0.00000000e+00, 0.00000000e+00, 0.00000000e+00,\n",
       "         0.00000000e+00]], dtype=float32)}"
      ]
     },
     "execution_count": 3,
     "metadata": {},
     "output_type": "execute_result"
    }
   ],
   "source": [
    "# train a fidelity model\n",
    "ground_truth_fidelities = map(lambda circuit: simulator.obtain_circuit_fidelity(circuit)[0], circuits, show_progress=False, multi_process=False)\n",
    "\n",
    "fidelity_model = FidelityModel(up_model)\n",
    "fidelity_model.train((circuits, ground_truth_fidelities))"
   ]
  },
  {
   "cell_type": "code",
   "execution_count": 4,
   "metadata": {},
   "outputs": [
    {
     "name": "stderr",
     "output_type": "stream",
     "text": [
      "/Users/chutianyao/anaconda3/envs/janusq/lib/python3.10/site-packages/numpy/linalg/linalg.py:2154: RuntimeWarning: divide by zero encountered in det\n",
      "  r = _umath_linalg.det(a, signature=signature)\n",
      "/Users/chutianyao/anaconda3/envs/janusq/lib/python3.10/site-packages/numpy/linalg/linalg.py:2154: RuntimeWarning: invalid value encountered in det\n",
      "  r = _umath_linalg.det(a, signature=signature)\n"
     ]
    }
   ],
   "source": [
    "from janusq.objects.algorithms import get_algorithm_circuits\n",
    "from janusq.optimization.scheduling.scheduling_ct import Scheduler\n",
    "\n",
    "# generate a set of benchmarking circuits\n",
    "algs = ['qft', 'hs', 'ising', 'qknn', 'qsvm', 'vqc', 'grover']\n",
    "benchmarking_circuits = get_algorithm_circuits(n_qubits, backend, algs)"
   ]
  },
  {
   "cell_type": "markdown",
   "metadata": {},
   "source": [
    "## Scheduling\n",
    "\n",
    "We can use Janus-CT to guide the scheduling."
   ]
  },
  {
   "cell_type": "code",
   "execution_count": 5,
   "metadata": {},
   "outputs": [
    {
     "name": "stdout",
     "output_type": "stream",
     "text": [
      "before scheduling:  0.9605322247712037 after scheduling:  0.97374506762734\n",
      "before scheduling:  0.9836962280623418 after scheduling:  0.9835787087103484\n",
      "before scheduling:  0.9487587116201699 after scheduling:  0.983164334191766\n",
      "before scheduling:  0.9430294315267226 after scheduling:  0.9601354092080708\n",
      "before scheduling:  0.9660965928695326 after scheduling:  0.9626671979169927\n",
      "before scheduling:  0.8987987440137623 after scheduling:  0.89105835878593\n",
      "before scheduling:  0.8383853475948918 after scheduling:  0.9309604583046649\n"
     ]
    }
   ],
   "source": [
    "scheduler = Scheduler(fidelity_model)\n",
    "\n",
    "baseline_fidelities, opt_fidelities = [], []\n",
    "for circuit in benchmarking_circuits:\n",
    "    baseline_fidelities.append(simulator.obtain_circuit_fidelity(circuit)[0])\n",
    "    \n",
    "    opt_circuit = scheduler.run(circuit, timeout=60)\n",
    "    opt_fidelity = simulator.obtain_circuit_fidelity(opt_circuit)[0]\n",
    "    \n",
    "    opt_fidelities.append(opt_fidelity)\n",
    "    print('before scheduling: ', baseline_fidelities[-1], 'after scheduling: ', opt_fidelities[-1])"
   ]
  },
  {
   "cell_type": "code",
   "execution_count": 6,
   "metadata": {},
   "outputs": [
    {
     "data": {
      "text/plain": [
       "<matplotlib.legend.Legend at 0x3d4007c70>"
      ]
     },
     "execution_count": 6,
     "metadata": {},
     "output_type": "execute_result"
    },
    {
     "data": {
      "image/png": "[encoded data removed]",
      "text/plain": [
       "<Figure size 1500x500 with 1 Axes>"
      ]
     },
     "metadata": {},
     "output_type": "display_data"
    }
   ],
   "source": [
    "import matplotlib.pyplot as plt\n",
    "import numpy as np\n",
    "\n",
    "fig, axes = plt.subplots(figsize=(15, 5))\n",
    "x = [i for i in range(len(benchmarking_circuits))]\n",
    "x = np.array(x) * 20\n",
    "# axes.bar(x,reals_baseline,width =2,label='reals_baseline')\n",
    "\n",
    "baseline_fidelities = np.array(baseline_fidelities)\n",
    "opt_fidelities = np.array(opt_fidelities)\n",
    "axes.bar(x+4,1-baseline_fidelities,width =2,label='baseline')\n",
    "axes.bar(x+6,1-opt_fidelities,width =2,label='janusq scheduling')\n",
    "\n",
    "plt.title('comparison of error')\n",
    "axes.set_xticks(x)\n",
    "axes.set_xticklabels(algs)\n",
    "fig.legend()"
   ]
  }
 ],
 "metadata": {
  "kernelspec": {
   "display_name": "janusq",
   "language": "python",
   "name": "python3"
  },
  "language_info": {
   "codemirror_mode": {
    "name": "ipython",
    "version": 3
   },
   "file_extension": ".py",
   "mimetype": "text/x-python",
   "name": "python",
   "nbconvert_exporter": "python",
   "pygments_lexer": "ipython3",
   "version": "3.10.16"
  }
 },
 "nbformat": 4,
 "nbformat_minor": 4
}
