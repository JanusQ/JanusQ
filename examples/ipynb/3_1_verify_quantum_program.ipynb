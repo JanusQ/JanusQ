{
 "cells": [
  {
   "cell_type": "markdown",
   "metadata": {},
   "source": [
    "# Verify quantum program by MorphQPV\n",
    "\n",
    "**Author:** Debin Xiang & Siwei Tan\n",
    "\n",
    "**Date:** 12/4/2024\n",
    "\n",
    "Based on paper \"[MorphQPV: Exploiting Isomorphism in Quantum Programs to Facilitate Confident Verification][1]\" (ASPLOS 2024)\n",
    "\n",
    "[1]: https://dl.acm.org/doi/10.1145/3620666.3651360\n",
    "\n",
    "MorphQPV is a tool to facilitate confident assertion-based verification in quantum computing. It provides a framework for analyzing and verifying quantum circuits using a new type of formalism. It defines an assertion statement that consists of assume-guarantee primitives and tracepoint pragma to label the target quantum state. Then, we can characterize the ground-truth relation between states using isomorphism-based approximation, which can effectively get the program states under various inputs while avoiding repeated executions. Finally, the verification is formulated as a constraint optimization problem with a confidence estimation model to enable rigorous analysis. \n",
    "\n",
    "\n",
    "<div style=\"text-align:center;\">\n",
    "    <img src=\"../picture/3_1_morphqpv_overview.png\"  width=\"90%\" height=\"90%\">\n",
    "</div>\n",
    "\n",
    "\n",
    "The figure above presents the verification workflow of MorphQPV\n",
    "to verify quantum program, consisting of three steps:\n",
    "\n",
    "Step 1. assertion statement. We label the states in the program via tracepoint pragma. Subsequently, each tracepoint records the time and the associated qubits, which is used to\n",
    "describe the expected program behavior with these states.\n",
    "We define an assume-guarantee assertion with predicates to\n",
    "specify: \n",
    "(a) the ranges of these states, represented as objective\n",
    "functions for each state, e.g., 𝑃1 (𝜌T1 ) and 𝑃2 (𝜌T2 ) in Figure 2;\n",
    "and (b) the relation between these states, represented as a\n",
    "objective function involving multiple states, e.g., 𝑃3 (𝜌T1 , 𝜌T2 ).\n",
    "The predicate is validated on the classical computers.\n",
    "\n",
    "Step 2. program characterization. MorphQPV characterizes\n",
    "the natural relations between quantum states by running the\n",
    "program on the quantum hardware. The characterization\n",
    "begins with a one-shot input sampling to record the labeled\n",
    "states across different inputs. By exploiting isomorphism, it\n",
    "then builds approximation functions based on the sampling\n",
    "results, e.g., 𝜌T1 = 𝑓1 (𝜌in), representing the relations between\n",
    "the input and the labeled states. These approximation functions can be efficiently computed to obtain tracepoint states on classical computers.\n",
    "\n",
    "Step 3. assertion validation. MorphQPV validates the assertion by checking whether the relations in the program satisfy the expected constraints in the assertion. Instead of\n",
    "testing tremendous inputs to identify the error, we apply a global search that packs the predicates and the approximation functions into a constraint maximization problem.\n",
    "The assume-guarantee assertion is true only if the maximum objective is less than 0. When the program is incorrect, the maximum argument 𝜌_in is the counter-example resulting in\n",
    "the bug. When the program is correct, MorphQPV estimates\n",
    "the confidence based on the accuracy of the characterization."
   ]
  },
  {
   "cell_type": "code",
   "execution_count": 1,
   "metadata": {},
   "outputs": [],
   "source": [
    "import os\n",
    "os.chdir(\"../..\")\n",
    "import logging\n",
    "logging.basicConfig(level=logging.WARN)\n",
    "\n",
    "import numpy as np\n",
    "\n",
    "from janusq.verification.morphqpv import MorphQC,Config\n",
    "from janusq.verification.morphqpv import IsPure,Equal,NotEqual\n",
    "from janusq.verification.morphqpv import StateVector,Expectation\n",
    "from janusq.verification.morphqpv import pauliX,pauliY,pauliZ,hadamard"
   ]
  },
  {
   "cell_type": "markdown",
   "metadata": {},
   "source": [
    "## Example of using MorphQPV"
   ]
  },
  {
   "cell_type": "markdown",
   "metadata": {},
   "source": [
    "### verify a quantum block"
   ]
  },
  {
   "cell_type": "code",
   "execution_count": 2,
   "metadata": {},
   "outputs": [
    {
     "name": "stderr",
     "output_type": "stream",
     "text": [
      "producing input circuits for random sampling: 100%|██████████| 8/8 [00:00<00:00, 27.68it/s]\n",
      "producing input states for random sampling: 100%|██████████| 8/8 [00:00<00:00, 16.63it/s]\n",
      "producing output states:   0%|          | 0/8 [00:00<?, ?it/s]/Users/chutianyao/anaconda3/envs/janusq/lib/python3.10/site-packages/pennylane/_qubit_device.py:653: UserWarning: Requested state or density matrix with finite shots; the returned state information is analytic and is unaffected by sampling. To silence this warning, set shots=None on the device.\n",
      "  warnings.warn(\n",
      "producing output states: 100%|██████████| 8/8 [00:00<00:00, 21.24it/s]\n",
      "producing input circuits for random sampling: 100%|██████████| 8/8 [00:00<00:00, 75.15it/s]\n",
      "producing input states for random sampling: 100%|██████████| 8/8 [00:00<00:00, 25.78it/s]\n",
      "producing output states: 100%|██████████| 8/8 [00:00<00:00, 19.24it/s]\n",
      "sgd optimizing: 100%|██████████| 1000/1000 [15:19<00:00,  1.09it/s, loss=51.8218, min_loss=51.8218]     \n"
     ]
    },
    {
     "name": "stdout",
     "output_type": "stream",
     "text": [
      "{'assume': [([0], IsPure, ()), ([0], Equal, (0.4,)), ([1], IsPure, ()), ([2], IsPure, ()), ([0, 2], Equal, ())], 'gurrantee': [([1, 2], Equal, ()), ([0, 1], NotEqual, ())], 'verify': {'optimal_input_state': Array([ 0.31564528+0.23546517j, -0.37839434+0.5465096j ,\n",
      "       -0.18528774+0.3119534j ,  0.49633217-0.14578386j], dtype=complex64), 'optimal_gurrantee_value': Array(0.32781845, dtype=float32), 'is_assume_satisfied': [Array(0.38241148, dtype=float32), Array(48.011234, dtype=float32), Array(0.33951998, dtype=float32), Array(0.23542643, dtype=float32), Array(0.31035656, dtype=float32), Array(0.6224472, dtype=float32), Array(0.32781845, dtype=float32)]}}\n"
     ]
    }
   ],
   "source": [
    "myconfig = Config()\n",
    "myconfig.solver = 'sgd' ## set the stochastic gradient descent method to solve the assertion\n",
    "with MorphQC(config=myconfig) as morphQC:\n",
    "    ### morphQC is a quantum circuit, the gate is applyed to the qubits in the order of the list\n",
    "    ## we can add tracepoint to label the quantum state\n",
    "    morphQC.add_tracepoint(0,1) ## the state after the first 3 qubits is labeled as tracepoint 0\n",
    "    morphQC.assume(0,IsPure()) ## the state in tracepoint 0 is assumed to be pure\n",
    "    morphQC.assume(0,Equal(Expectation(pauliX@pauliY)),0.4)\n",
    "    morphQC.x([1,3]) ## apply x gate to  qubit 1 and 3\n",
    "    morphQC.y([0,1,2])  ## apply y gate to qubit 0,1,2\n",
    "    for i in range(4):\n",
    "        morphQC.cnot([i, i+1]) ## apply cnot gate to qubit i and i+1\n",
    "    morphQC.s([0,2,4]) ## apply s gate to qubit 0,2,4\n",
    "    morphQC.add_tracepoint(2,4) ## the state after qubit 2 and 4 is labeled as tracepoint 1\n",
    "    morphQC.assume(1,IsPure())  ## the state in tracepoint 1 is assumed to be pure\n",
    "    morphQC.rz([0,1,2,3,4],np.pi/3) ## apply rz gate to qubit 0,1,2,3,4\n",
    "    morphQC.h([0,1,2,3,4]) ## apply h gate to qubit 0,1,2,3,4\n",
    "    morphQC.rx([0,1,2,3,4],np.pi/3) ## apply rx(pi/3) gate to qubit 0,1,2,3,4\n",
    "    morphQC.ry([0,1,2,3,4],np.pi/3) ## apply ry(pi/3) gate to qubit 0,1,2,3,4\n",
    "    morphQC.add_tracepoint(0,3) ## the state after qubit 0 and 3 is labeled as tracepoint 2\n",
    "    morphQC.assume(2,IsPure()) ## the state in tracepoint 2 is assumed to be pure\n",
    "    morphQC.assume([0,2],Equal(Expectation(pauliX@pauliY)),)\n",
    "    morphQC.guarantee([1,2],Equal()) ## the state in tracepoint 1 and 2 are guaranteed to be equal\n",
    "    morphQC.guarantee([0,1],NotEqual()) ## the state in tracepoint 0,1 and 2 are guaranteed to be different\n",
    "print(morphQC.assertion) ## print the assertion statement and verify result\n"
   ]
  }
 ],
 "metadata": {
  "kernelspec": {
   "display_name": "janusq",
   "language": "python",
   "name": "python3"
  },
  "language_info": {
   "codemirror_mode": {
    "name": "ipython",
    "version": 3
   },
   "file_extension": ".py",
   "mimetype": "text/x-python",
   "name": "python",
   "nbconvert_exporter": "python",
   "pygments_lexer": "ipython3",
   "version": "3.10.16"
  }
 },
 "nbformat": 4,
 "nbformat_minor": 2
}
