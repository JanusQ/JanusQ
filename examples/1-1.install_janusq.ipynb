{
 "cells": [
  {
   "cell_type": "markdown",
   "metadata": {},
   "source": [
    "# Getting Start\n",
    "\n",
    "### Installation of JanusQ\n",
    "JanusQ can be installed by docker, wheel, and soruce code. Docker is recommended, as all functions have been tested on it.\n",
    "Linux (Ubuntu 22.04 latest) platform and Python (3.10) is prefered when instaling by wheel or soruce code.\n",
    "\n",
    "**From docker.**\n",
    "Pull docker using docker \n",
    "        \n",
    "        docker pull jxhhhh/janusq:latest\n",
    "\n",
    "The code is in \"/home/JanusQ-main\". The examples that can be directly run is in \"/home/JanusQ-main/examples\"\n",
    "\n",
    "**From wheel.**\n",
    "Download janusq.whl from \"JanusQ-main/dist\".\n",
    "\n",
    "        pip install janusq.whl\n",
    "\n",
    "**From source code.**\n",
    "Run following commends.\n",
    "\n",
    "        git clone git@github.com:JanusQ/JanusQ.git\n",
    "        cd JanusQ\n",
    "        pip install -r requirements.txt\n",
    "\n",
    "### Structure of JanusQ\n",
    "\n",
    "- JanusCT\n",
    "  - vectorization\n",
    "  - fidelity preidiction\n",
    "  - fidelity optimization\n",
    "  - unitary decomposition\n",
    "  - bug identification\n",
    "- JanusFEM\n",
    "  - readout calibration\n",
    "- HyQSAT\n",
    "  - solve sat domain problem\n",
    "- time crystal\n",
    "\n",
    "### Note\n",
    "1. Permission denied 'minisat_core'  \n",
    "chmod +x janusq/hyqsat/minisat_core"
   ]
  },
  {
   "cell_type": "markdown",
   "metadata": {},
   "source": [
    "### Test JanusQ"
   ]
  },
  {
   "cell_type": "code",
   "execution_count": 4,
   "metadata": {},
   "outputs": [],
   "source": [
    "import sys\n",
    "sys.path.append('..')"
   ]
  },
  {
   "cell_type": "markdown",
   "metadata": {},
   "source": [
    "#### Test Janus-CT"
   ]
  },
  {
   "cell_type": "code",
   "execution_count": 5,
   "metadata": {},
   "outputs": [
    {
     "name": "stderr",
     "output_type": "stream",
     "text": [
      "2024-04-16 11:28:00,596 - INFO: start random walk for 300 circuits\n",
      "100%|██████████| 300/300 [00:01<00:00, 151.83it/s]\n",
      "2024-04-16 11:28:02,575 - INFO: count path\n",
      "2024-04-16 11:28:02,606 - INFO: device size after random walk = 15\n",
      "2024-04-16 11:28:02,607 - INFO: 0's path table size = 11\n",
      "2024-04-16 11:28:02,607 - INFO: 1's path table size = 16\n",
      "2024-04-16 11:28:02,607 - INFO: 2's path table size = 19\n",
      "2024-04-16 11:28:02,608 - INFO: 3's path table size = 19\n",
      "2024-04-16 11:28:02,608 - INFO: 4's path table size = 19\n",
      "2024-04-16 11:28:02,608 - INFO: 5's path table size = 19\n",
      "2024-04-16 11:28:02,609 - INFO: 6's path table size = 16\n",
      "2024-04-16 11:28:02,609 - INFO: 7's path table size = 11\n",
      "2024-04-16 11:28:02,609 - INFO: (0, 1)'s path table size = 13\n",
      "2024-04-16 11:28:02,610 - INFO: (1, 2)'s path table size = 18\n",
      "2024-04-16 11:28:02,610 - INFO: (3, 4)'s path table size = 21\n",
      "2024-04-16 11:28:02,611 - INFO: (2, 3)'s path table size = 21\n",
      "2024-04-16 11:28:02,611 - INFO: (6, 7)'s path table size = 13\n",
      "2024-04-16 11:28:02,611 - INFO: (4, 5)'s path table size = 21\n",
      "2024-04-16 11:28:02,612 - INFO: (5, 6)'s path table size = 18\n"
     ]
    }
   ],
   "source": [
    "# test janus-ct\n",
    "from janusq.data_objects.backend import LinearBackend\n",
    "from janusq.data_objects.random_circuit import random_circuits\n",
    "from janusq.analysis.vectorization import RandomwalkModel\n",
    "# define a 10-qubit backend\n",
    "n_qubits = 8\n",
    "n_steps = 1\n",
    "n_walks = 20\n",
    "backend = LinearBackend(n_qubits, 1)\n",
    "\n",
    "circuits = random_circuits(backend, n_circuits=300, n_gate_list=[30, 50, 100], two_qubit_prob_list=[.4], reverse=True)\n",
    "\n",
    "vec_model = RandomwalkModel(n_steps = n_steps, n_walks = n_walks, backend = backend)\n",
    "vec_model.train(circuits, multi_process=False, remove_redundancy = False)"
   ]
  },
  {
   "cell_type": "markdown",
   "metadata": {},
   "source": [
    "#### Test Janus-FEM"
   ]
  },
  {
   "cell_type": "code",
   "execution_count": 6,
   "metadata": {},
   "outputs": [
    {
     "ename": "ImportError",
     "evalue": "cannot import name 'get_algs' from 'janusq.data_objects.algorithms' (/home/JanusQ-main/examples/../janusq/data_objects/algorithms/__init__.py)",
     "output_type": "error",
     "traceback": [
      "\u001b[0;31m---------------------------------------------------------------------------\u001b[0m",
      "\u001b[0;31mImportError\u001b[0m                               Traceback (most recent call last)",
      "Cell \u001b[0;32mIn[6], line 7\u001b[0m\n\u001b[1;32m      5\u001b[0m \u001b[38;5;28;01mfrom\u001b[39;00m \u001b[38;5;21;01mjanusq\u001b[39;00m\u001b[38;5;21;01m.\u001b[39;00m\u001b[38;5;21;01msimulator\u001b[39;00m\u001b[38;5;21;01m.\u001b[39;00m\u001b[38;5;21;01mreadout_error_model\u001b[39;00m \u001b[38;5;28;01mimport\u001b[39;00m ReadoutErrorModel\n\u001b[1;32m      6\u001b[0m \u001b[38;5;28;01mfrom\u001b[39;00m \u001b[38;5;21;01mjanusq\u001b[39;00m\u001b[38;5;21;01m.\u001b[39;00m\u001b[38;5;21;01moptimizations\u001b[39;00m\u001b[38;5;21;01m.\u001b[39;00m\u001b[38;5;21;01mreadout_mitigation\u001b[39;00m\u001b[38;5;21;01m.\u001b[39;00m\u001b[38;5;21;01mfem\u001b[39;00m \u001b[38;5;28;01mimport\u001b[39;00m  EnumeratedProtocol\n\u001b[0;32m----> 7\u001b[0m \u001b[38;5;28;01mfrom\u001b[39;00m \u001b[38;5;21;01mjanusq\u001b[39;00m\u001b[38;5;21;01m.\u001b[39;00m\u001b[38;5;21;01mdata_objects\u001b[39;00m\u001b[38;5;21;01m.\u001b[39;00m\u001b[38;5;21;01malgorithms\u001b[39;00m \u001b[38;5;28;01mimport\u001b[39;00m get_algs\n\u001b[1;32m      9\u001b[0m n_qubits \u001b[38;5;241m=\u001b[39m \u001b[38;5;241m3\u001b[39m\n\u001b[1;32m     10\u001b[0m backend \u001b[38;5;241m=\u001b[39m LinearBackend(n_qubits, \u001b[38;5;241m1\u001b[39m)\n",
      "\u001b[0;31mImportError\u001b[0m: cannot import name 'get_algs' from 'janusq.data_objects.algorithms' (/home/JanusQ-main/examples/../janusq/data_objects/algorithms/__init__.py)"
     ]
    }
   ],
   "source": [
    "# test readout calibration\n",
    "\n",
    "from janusq.simulator.noisy_simulator import NoisySimulator\n",
    "from janusq.data_objects.backend import LinearBackend\n",
    "from janusq.simulator.readout_error_model import ReadoutErrorModel\n",
    "from janusq.optimizations.readout_mitigation.fem import  EnumeratedProtocol\n",
    "from janusq.data_objects.algorithms import get_algs\n",
    "\n",
    "n_qubits = 3\n",
    "backend = LinearBackend(n_qubits, 1)\n",
    "circuit = get_algs(n_qubits, backend, algs = ['ghz'])[0]\n",
    "\n",
    "samples = 10000\n",
    "\n",
    "simulator = NoisySimulator(\n",
    "    backend, readout_error_model = ReadoutErrorModel.random_model(backend))\n",
    "output_noise = simulator.execute(circuit,samples)\n",
    "\n",
    "\n",
    "protocol = EnumeratedProtocol(n_qubits)\n",
    "real_bstrs, circuits_protocol = protocol.gen_circuits()\n",
    "\n",
    "all_statuscnts = [\n",
    "    simulator.execute(cir_protocol, samples)\n",
    "    for cir_protocol in circuits_protocol\n",
    "]\n",
    "\n",
    "print(all_statuscnts)\n"
   ]
  },
  {
   "cell_type": "markdown",
   "metadata": {},
   "source": [
    "#### Test Janus-SAT"
   ]
  },
  {
   "cell_type": "code",
   "execution_count": null,
   "metadata": {},
   "outputs": [],
   "source": [
    "# test hyqsat calibration\n",
    "# input cnf flie\n",
    "file_path = \"cnf_examples/uf50-01.cnf\"\n",
    "from janusq.hyqsat import readCNF\n",
    "\n",
    "print(readCNF(file_path))"
   ]
  }
 ],
 "metadata": {
  "kernelspec": {
   "display_name": "test_hyqsat",
   "language": "python",
   "name": "python3"
  },
  "language_info": {
   "codemirror_mode": {
    "name": "ipython",
    "version": 3
   },
   "file_extension": ".py",
   "mimetype": "text/x-python",
   "name": "python",
   "nbconvert_exporter": "python",
   "pygments_lexer": "ipython3",
   "version": "3.10.12"
  }
 },
 "nbformat": 4,
 "nbformat_minor": 2
}
