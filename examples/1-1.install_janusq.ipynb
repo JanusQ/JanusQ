{
 "cells": [
  {
   "cell_type": "markdown",
   "metadata": {},
   "source": [
    "# Getting Start\n",
    "\n",
    "### Installation of JanusQ\n",
    "JanusQ can be installed by docker, wheel, and soruce code. Docker is recommended, as all functions have been tested on it.\n",
    "Linux (Ubuntu 22.04 latest) platform and Python (3.10) is prefered when instaling by wheel or soruce code.\n",
    "\n",
    "**From docker.**\n",
    "Pull docker using docker \n",
    "        \n",
    "        docker pull jxhhhh/janusq:latest\n",
    "\n",
    "The code is in \"/home/JanusQ-main\". The examples that can be directly run is in \"/home/JanusQ-main/examples\"\n",
    "\n",
    "**From wheel.**\n",
    "Download janusq.whl from \"JanusQ-main/dist\".\n",
    "\n",
    "        pip install janusq.whl\n",
    "\n",
    "**From source code.**\n",
    "Run following commends.\n",
    "\n",
    "        git clone git@github.com:JanusQ/JanusQ.git\n",
    "        cd JanusQ\n",
    "        pip install -r requirements.txt\n",
    "\n",
    "### Structure of JanusQ\n",
    "\n",
    "- JanusCT\n",
    "  - vectorization\n",
    "  - fidelity preidiction\n",
    "  - fidelity optimization\n",
    "  - unitary decomposition\n",
    "  - bug identification\n",
    "- JanusFEM\n",
    "  - benchmarking.py. Generate a circuit for measuring calibration matrices.\n",
    "  - mitigation.py. Implement iterative calibration, which includes quantifying interactions between qubits and constructing Bayesian networks.\n",
    "  - tools.py. Implement data format conversion.\n",
    "- HyQSAT\n",
    "  - solve sat domain problem\n",
    "- time crystal\n",
    "\n",
    "### Note\n",
    "1. Permission denied 'minisat_core'  \n",
    "chmod +x janusq/hyqsat/minisat_core"
   ]
  },
  {
   "cell_type": "markdown",
   "metadata": {},
   "source": [
    "### Test JanusQ"
   ]
  },
  {
   "cell_type": "code",
   "execution_count": 1,
   "metadata": {},
   "outputs": [],
   "source": [
    "import sys\n",
    "sys.path.append('..')\n",
    "\n",
    "import logging\n",
    "logging.basicConfig(level=logging.ERROR)"
   ]
  },
  {
   "cell_type": "markdown",
   "metadata": {},
   "source": [
    "#### Test Janus-CT"
   ]
  },
  {
   "cell_type": "code",
   "execution_count": 2,
   "metadata": {},
   "outputs": [
    {
     "name": "stderr",
     "output_type": "stream",
     "text": [
      "100%|██████████| 300/300 [00:02<00:00, 136.59it/s]\n"
     ]
    }
   ],
   "source": [
    "# test janus-ct\n",
    "from janusq.data_objects.backend import LinearBackend\n",
    "from janusq.data_objects.random_circuit import random_circuits\n",
    "from janusq.analysis.vectorization import RandomwalkModel\n",
    "# define a 10-qubit backend\n",
    "n_qubits = 8\n",
    "n_steps = 1\n",
    "n_walks = 20\n",
    "backend = LinearBackend(n_qubits, 1)\n",
    "\n",
    "circuits = random_circuits(backend, n_circuits=300, n_gate_list=[30, 50, 100], two_qubit_prob_list=[.4], reverse=True)\n",
    "\n",
    "vec_model = RandomwalkModel(n_steps = n_steps, n_walks = n_walks, backend = backend)\n",
    "vec_model.train(circuits, multi_process=False, remove_redundancy = False)"
   ]
  },
  {
   "cell_type": "markdown",
   "metadata": {},
   "source": [
    "#### Test Janus-FEM"
   ]
  },
  {
   "cell_type": "code",
   "execution_count": 3,
   "metadata": {},
   "outputs": [
    {
     "name": "stdout",
     "output_type": "stream",
     "text": [
      "[{'110': 2, '101': 10, '011': 14, '100': 81, '001': 701, '010': 245, '000': 8947}, {'100': 1, '010': 5, '000': 118, '101': 91, '111': 4, '011': 222, '001': 9559}, {'110': 2, '101': 11, '011': 26, '100': 98, '001': 707, '010': 256, '000': 8900}, {'100': 3, '110': 86, '001': 44, '011': 612, '111': 12, '000': 566, '010': 8677}, {'110': 2, '101': 7, '000': 2, '010': 92, '001': 660, '111': 84, '011': 9153}, {'101': 1, '100': 4, '001': 43, '111': 6, '011': 636, '110': 75, '000': 581, '010': 8654}, {'101': 4, '110': 3, '011': 14, '100': 75, '001': 710, '010': 218, '000': 8976}, {'100': 2, '111': 1, '011': 259, '101': 99, '010': 4, '000': 118, '001': 9517}, {'101': 7, '110': 2, '011': 13, '100': 79, '001': 655, '010': 245, '000': 8999}, {'001': 56, '011': 1, '111': 15, '110': 193, '010': 15, '000': 885, '101': 657, '100': 8178}, {'010': 1, '000': 11, '100': 90, '001': 912, '011': 19, '111': 221, '101': 8746}, {'011': 1, '111': 17, '001': 62, '010': 24, '000': 880, '110': 199, '101': 607, '100': 8210}, {'101': 31, '100': 541, '001': 5, '011': 60, '111': 586, '110': 7895, '000': 64, '010': 818}, {'000': 1, '010': 8, '100': 5, '001': 56, '110': 97, '101': 579, '011': 890, '111': 8364}, {'001': 4, '101': 44, '100': 570, '011': 57, '111': 551, '000': 52, '010': 847, '110': 7875}, {'011': 1, '111': 11, '001': 70, '110': 232, '101': 600, '010': 19, '000': 895, '100': 8172}, {'110': 2, '000': 12, '100': 102, '001': 935, '011': 28, '111': 227, '101': 8694}, {'011': 2, '111': 23, '001': 54, '110': 215, '101': 583, '010': 25, '000': 873, '100': 8225}, {'110': 1, '101': 5, '011': 15, '100': 84, '001': 667, '010': 225, '000': 9003}, {'101': 92, '111': 3, '011': 219, '010': 3, '000': 117, '001': 9566}, {'110': 3, '011': 14, '100': 87, '101': 9, '001': 703, '010': 232, '000': 8952}, {'001': 43, '100': 5, '110': 77, '111': 1, '011': 662, '000': 566, '010': 8646}, {'101': 6, '100': 1, '001': 599, '000': 7, '010': 97, '111': 81, '011': 9209}, {'100': 3, '110': 91, '001': 46, '111': 7, '011': 631, '000': 589, '010': 8633}, {'101': 4, '110': 4, '011': 16, '100': 82, '001': 731, '010': 228, '000': 8935}, {'100': 1, '111': 2, '011': 272, '101': 97, '010': 1, '000': 118, '001': 9509}]\n"
     ]
    }
   ],
   "source": [
    "# test readout calibration\n",
    "from janusq.simulator.noisy_simulator import NoisySimulator\n",
    "from janusq.data_objects.backend import LinearBackend\n",
    "from janusq.simulator.readout_error_model import ReadoutErrorModel\n",
    "from janusq.optimizations.readout_mitigation.fem import  EnumeratedProtocol\n",
    "from janusq.data_objects.algorithms import get_algorithm_circuits\n",
    "\n",
    "n_qubits = 3\n",
    "backend = LinearBackend(n_qubits, 1)\n",
    "circuit = get_algorithm_circuits(n_qubits, backend, algs = ['ghz'])[0]\n",
    "\n",
    "samples = 10000\n",
    "\n",
    "simulator = NoisySimulator(\n",
    "    backend, readout_error_model = ReadoutErrorModel.random_model(backend))\n",
    "output_noise = simulator.execute(circuit,samples)\n",
    "\n",
    "\n",
    "protocol = EnumeratedProtocol(n_qubits)\n",
    "real_bstrs, circuits_protocol = protocol.gen_circuits()\n",
    "\n",
    "all_statuscnts = [\n",
    "    simulator.execute(cir_protocol, samples)\n",
    "    for cir_protocol in circuits_protocol\n",
    "]\n",
    "\n",
    "print(all_statuscnts)\n"
   ]
  },
  {
   "cell_type": "markdown",
   "metadata": {},
   "source": [
    "#### Test Janus-SAT"
   ]
  },
  {
   "cell_type": "code",
   "execution_count": null,
   "metadata": {},
   "outputs": [],
   "source": [
    "# test hyqsat calibration\n",
    "# input cnf flie\n",
    "file_path = \"cnf_examples/uf50-01.cnf\"\n",
    "from janusq.hyqsat import readCNF\n",
    "\n",
    "print(readCNF(file_path))"
   ]
  }
 ],
 "metadata": {
  "kernelspec": {
   "display_name": "test_hyqsat",
   "language": "python",
   "name": "python3"
  },
  "language_info": {
   "codemirror_mode": {
    "name": "ipython",
    "version": 3
   },
   "file_extension": ".py",
   "mimetype": "text/x-python",
   "name": "python",
   "nbconvert_exporter": "python",
   "pygments_lexer": "ipython3",
   "version": "3.10.12"
  }
 },
 "nbformat": 4,
 "nbformat_minor": 2
}
