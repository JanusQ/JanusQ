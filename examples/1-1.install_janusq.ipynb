{
 "cells": [
  {
   "cell_type": "markdown",
   "metadata": {},
   "source": [
    "# Getting Start\n",
    "\n",
    "### Installation of JanusQ\n",
    "JanusQ can be installed by docker, wheel, and soruce code. Docker is recommended, as all functions have been tested on it.\n",
    "Linux (Ubuntu 22.04 latest) platform and Python (3.10) is prefered when instaling by wheel or soruce code.\n",
    "\n",
    "**From docker.**\n",
    "Pull docker using docker \n",
    "        \n",
    "        docker pull janusq/janusq:latest\n",
    "\n",
    "The code is in \"/JanusQ\". The examples that can be directly run is in \"/JanusQ/examples\"\n",
    "\n",
    "**From wheel.**\n",
    "Download janusq.whl from \"JanusQ-main/dist\".\n",
    "\n",
    "        pip install janusq.whl\n",
    "\n",
    "**From source code.**\n",
    "Run following commends.\n",
    "\n",
    "        git clone git@github.com:JanusQ/JanusQ.git\n",
    "        cd JanusQ\n",
    "        pip install -r requirements.txt\n",
    "\n",
    "### Structure of JanusQ\n",
    "\n",
    "- JanusCT\n",
    "  - vectorization\n",
    "    - janusq/analysis/vectorization.py: This python script holds code related to the generation of path table and the vecterization of circuits\n",
    "  - fidelity preidiction\n",
    "    - janusq/analysis/fidelity_prediction.py: This python script holds code related to training a model and using it to predict the fidelity of a circuit.\n",
    "  - fidelity optimization\n",
    "    -  janusq/optimizations/mapping/mapping_ct.py：This python script holds code related to a typical compilation flow includes routing and scheduling. The routing pass transforms the circuit to satisfy the processor topology.\n",
    "  - unitary decomposition\n",
    "    - janusq/analysis/unitary_decompostion.py: This python script holds code related to takes a unitary as input and decomposes it into matrices of basic gates, resulting in an equivalent circuit.\n",
    "  - bug identification: identify the potential bugs in the quantum algorithm implementation.\n",
    "- JanusFEM\n",
    "  - benchmarking.py. Generate a circuit for measuring calibration matrices.\n",
    "  - mitigation.py. Implement iterative calibration, which includes quantifying interactions between qubits and constructing Bayesian networks.\n",
    "  - tools.py. Implement data format conversion.\n",
    "- HyQSAT\n",
    "  - hyqsat/common: This dir stores common functions about cnf files, such as readCNF.\n",
    "  - hyqsat/solveSatBy**.py: The main python function; use to solve sat problem.\n",
    "- time crystal\n",
    "\n",
    "### Note\n",
    "1. Permission denied 'minisat_core'  \n",
    "This file have no executable permission. You need run `chmod +x janusq/hyqsat/minisat_core` in bash."
   ]
  },
  {
   "cell_type": "markdown",
   "metadata": {},
   "source": [
    "### Test JanusQ"
   ]
  },
  {
   "cell_type": "code",
   "execution_count": 1,
   "metadata": {},
   "outputs": [],
   "source": [
    "import sys\n",
    "sys.path.append('..')\n",
    "import logging\n",
    "logging.basicConfig(level=logging.ERROR)"
   ]
  },
  {
   "cell_type": "markdown",
   "metadata": {},
   "source": [
    "#### Test Janus-CT"
   ]
  },
  {
   "cell_type": "code",
   "execution_count": 2,
   "metadata": {},
   "outputs": [
    {
     "name": "stderr",
     "output_type": "stream",
     "text": [
      "100%|██████████| 300/300 [00:02<00:00, 136.59it/s]\n"
     ]
    }
   ],
   "source": [
    "# test janus-ct\n",
    "from janusq.data_objects.backend import LinearBackend\n",
    "from janusq.data_objects.random_circuit import random_circuits\n",
    "from janusq.analysis.vectorization import RandomwalkModel\n",
    "# define a 10-qubit backend\n",
    "n_qubits = 8\n",
    "n_steps = 1\n",
    "n_walks = 20\n",
    "backend = LinearBackend(n_qubits, 1)\n",
    "\n",
    "circuits = random_circuits(backend, n_circuits=300, n_gate_list=[30, 50, 100], two_qubit_prob_list=[.4], reverse=True)\n",
    "\n",
    "up_model = RandomwalkModel(n_steps = n_steps, n_walks = n_walks, backend = backend)\n",
    "up_model.train(circuits, multi_process=False, remove_redundancy = False)"
   ]
  },
  {
   "cell_type": "markdown",
   "metadata": {},
   "source": [
    "#### Test Janus-FEM"
   ]
  },
  {
   "cell_type": "code",
   "execution_count": 3,
   "metadata": {},
   "outputs": [
    {
     "name": "stdout",
     "output_type": "stream",
     "text": [
      "[{'110': 2, '101': 10, '011': 14, '100': 81, '001': 701, '010': 245, '000': 8947}, {'100': 1, '010': 5, '000': 118, '101': 91, '111': 4, '011': 222, '001': 9559}, {'110': 2, '101': 11, '011': 26, '100': 98, '001': 707, '010': 256, '000': 8900}, {'100': 3, '110': 86, '001': 44, '011': 612, '111': 12, '000': 566, '010': 8677}, {'110': 2, '101': 7, '000': 2, '010': 92, '001': 660, '111': 84, '011': 9153}, {'101': 1, '100': 4, '001': 43, '111': 6, '011': 636, '110': 75, '000': 581, '010': 8654}, {'101': 4, '110': 3, '011': 14, '100': 75, '001': 710, '010': 218, '000': 8976}, {'100': 2, '111': 1, '011': 259, '101': 99, '010': 4, '000': 118, '001': 9517}, {'101': 7, '110': 2, '011': 13, '100': 79, '001': 655, '010': 245, '000': 8999}, {'001': 56, '011': 1, '111': 15, '110': 193, '010': 15, '000': 885, '101': 657, '100': 8178}, {'010': 1, '000': 11, '100': 90, '001': 912, '011': 19, '111': 221, '101': 8746}, {'011': 1, '111': 17, '001': 62, '010': 24, '000': 880, '110': 199, '101': 607, '100': 8210}, {'101': 31, '100': 541, '001': 5, '011': 60, '111': 586, '110': 7895, '000': 64, '010': 818}, {'000': 1, '010': 8, '100': 5, '001': 56, '110': 97, '101': 579, '011': 890, '111': 8364}, {'001': 4, '101': 44, '100': 570, '011': 57, '111': 551, '000': 52, '010': 847, '110': 7875}, {'011': 1, '111': 11, '001': 70, '110': 232, '101': 600, '010': 19, '000': 895, '100': 8172}, {'110': 2, '000': 12, '100': 102, '001': 935, '011': 28, '111': 227, '101': 8694}, {'011': 2, '111': 23, '001': 54, '110': 215, '101': 583, '010': 25, '000': 873, '100': 8225}, {'110': 1, '101': 5, '011': 15, '100': 84, '001': 667, '010': 225, '000': 9003}, {'101': 92, '111': 3, '011': 219, '010': 3, '000': 117, '001': 9566}, {'110': 3, '011': 14, '100': 87, '101': 9, '001': 703, '010': 232, '000': 8952}, {'001': 43, '100': 5, '110': 77, '111': 1, '011': 662, '000': 566, '010': 8646}, {'101': 6, '100': 1, '001': 599, '000': 7, '010': 97, '111': 81, '011': 9209}, {'100': 3, '110': 91, '001': 46, '111': 7, '011': 631, '000': 589, '010': 8633}, {'101': 4, '110': 4, '011': 16, '100': 82, '001': 731, '010': 228, '000': 8935}, {'100': 1, '111': 2, '011': 272, '101': 97, '010': 1, '000': 118, '001': 9509}]\n"
     ]
    }
   ],
   "source": [
    "# test readout calibration\n",
    "from janusq.simulator.noisy_simulator import NoisySimulator\n",
    "from janusq.data_objects.backend import LinearBackend\n",
    "from janusq.simulator.readout_error_model import ReadoutErrorModel\n",
    "from janusq.optimizations.readout_mitigation.fem import  EnumeratedProtocol\n",
    "from janusq.data_objects.algorithms import get_algorithm_circuits\n",
    "\n",
    "n_qubits = 3\n",
    "backend = LinearBackend(n_qubits, 1)\n",
    "circuit = get_algorithm_circuits(n_qubits, backend, algs = ['ghz'])[0]\n",
    "\n",
    "samples = 10000\n",
    "\n",
    "simulator = NoisySimulator(\n",
    "    backend, readout_error_model = ReadoutErrorModel.random_model(backend))\n",
    "output_noise = simulator.execute(circuit,samples)\n",
    "\n",
    "\n",
    "protocol = EnumeratedProtocol(n_qubits)\n",
    "real_bstrs, circuits_protocol = protocol.gen_circuits()\n",
    "\n",
    "all_statuscnts = [\n",
    "    simulator.execute(cir_protocol, samples)\n",
    "    for cir_protocol in circuits_protocol\n",
    "]\n",
    "\n",
    "print(all_statuscnts)\n"
   ]
  },
  {
   "cell_type": "markdown",
   "metadata": {},
   "source": [
    "#### Test Janus-SAT"
   ]
  },
  {
   "cell_type": "code",
   "execution_count": 4,
   "metadata": {},
   "outputs": [
    {
     "name": "stdout",
     "output_type": "stream",
     "text": [
      "([(-3, 7, 36), (-3, -42, -48), (-41, -47, -49), (8, 17, -40), (-21, -31, -39), (-22, 36, 49), (14, 27, 38), (6, 15, -18), (6, 7, -43), (-7, 23, 34), (2, -13, 14), (2, -42, 47), (3, -33, -35), (40, 44, 49), (31, 36, 50), (-3, -36, -37), (26, -29, 43), (15, 29, -45), (-11, 18, 24), (6, -26, -47), (-10, -33, -50), (6, 16, 32), (-34, 37, 41), (7, -17, -28), (19, -44, 46), (7, 22, -48), (3, 34, 39), (31, -43, 46), (23, -27, 32), (-18, 37, -50), (5, 11, 20), (6, -24, -45), (-14, -23, -34), (20, 21, -22), (-17, 24, 50), (-24, -25, -27), (3, 21, 35), (-26, -36, 47), (-28, -45, 49), (-6, 12, -21), (-15, -17, -39), (2, -14, 41), (-23, 25, 36), (-3, -39, -40), (20, 35, 50), (27, 31, -39), (-15, -40, 45), (34, 35, 50), (-1, 12, -48), (18, -30, -35), (-24, -25, 27), (-4, -12, -33), (-24, -37, -43), (31, -37, -44), (-9, 14, -38), (-16, 33, 34), (4, -5, -35), (-3, -19, -21), (-29, -35, -36), (7, 36, -43), (14, 30, 41), (-7, -24, -35), (6, 35, -42), (-1, -15, 39), (-16, 27, 49), (-10, -37, 49), (-3, -46, 50), (20, 34, -41), (-1, 23, 28), (-12, -20, -30), (-24, 29, -37), (5, 12, -44), (-2, -6, 48), (-2, -43, -49), (1, 24, -50), (-7, -44, -50), (4, -41, 43), (-11, 13, 15), (-3, -11, 23), (33, 41, 48), (9, 23, -49), (1, -43, 47), (16, -29, -40), (3, 19, 30), (19, -34, 48), (14, -16, -44), (-12, 38, -45), (-4, -14, -31), (-1, 35, -48), (-13, 19, 45), (-7, 9, 42), (-1, 8, -15), (-13, -14, -44), (-31, -37, -43), (-27, -29, 47), (4, 7, 17), (7, 10, 35), (17, 20, -25), (-5, 35, -42), (-5, 24, -50), (2, -21, -26), (-8, -21, 45), (-16, 33, 49), (6, 16, -38), (5, 21, 37), (8, 31, 38), (14, -21, 33), (-5, 20, 40), (-9, -29, 31), (-7, -22, 42), (8, 26, -48), (33, -38, 48), (-34, 46, 49), (-14, 25, -46), (4, 18, -46), (-12, -31, 36), (12, 14, -18), (-7, -16, 46), (7, -8, 9), (-22, -42, 49), (-15, 22, 38), (34, -41, 47), (22, -26, 32), (-21, -25, -45), (-11, -26, 32), (15, -25, 26), (-1, 25, 46), (-14, 30, -31), (-9, 12, -22), (-18, 26, -35), (-16, -21, -32), (-21, 31, -49), (9, 11, 41), (-13, 19, -30), (4, 6, -10), (3, -4, -22), (-18, -25, -50), (4, 9, -40), (20, 37, 46), (22, -27, -29), (3, 14, 34), (3, 20, -31), (2, -26, -50), (17, -29, 38), (12, -41, -49), (15, -35, -43), (-22, -23, -49), (-9, 33, 48), (26, 29, 35), (27, 37, -50), (-7, -43, 46), (-8, -37, -46), (-24, 36, -40), (15, -44, 46), (-3, -16, 36), (9, 43, -48), (-4, -25, 44), (-7, -22, 37), (-17, -22, -31), (-11, 17, -48), (23, -28, 34), (23, -39, -48), (-1, -23, -37), (14, -19, 27), (-6, -22, 33), (-6, -26, -32), (18, -20, -46), (22, 27, 43), (-13, 34, 49), (3, -35, -46), (32, 39, -43), (6, -9, -39), (-16, 27, 39), (-15, -17, 25), (27, 34, -43), (5, -6, 49), (11, 14, -38), (-38, 40, 47), (-14, 17, 37), (29, 36, 39), (1, -28, -39), (14, -16, -18), (15, -40, 50), (18, 37, -42), (-13, 31, 33), (2, 33, -42), (-3, 8, -22), (1, 23, -31), (-20, 26, -45), (11, 42, 49), (11, 29, -43), (-20, -21, 30), (23, -35, 45), (-14, -30, 38), (-9, -29, 48), (11, -18, -23), (-1, -29, -41), (5, 26, 41), (-7, -30, 44), (-6, 38, -41), (-15, 46, 48), (-10, -18, -47), (-32, 38, 46), (12, -32, 46), (14, 31, 40), (2, -18, 49), (27, 28, -38), (14, -16, -21), (12, 15, -29), (5, 34, 49), (-12, 14, 22), (20, 30, 33), (22, -24, 25), (4, -23, -48), (9, -30, -36), (12, -35, 44), (3, -21, 38), (-11, 33, 49)], {1, 2, 3, 4, 5, 6, 7, 8, 9, 10, 11, 12, 13, 14, 15, 16, 17, 18, 19, 20, 21, 22, 23, 24, 25, 26, 27, 28, 29, 30, 31, 32, 33, 34, 35, 36, 37, 38, 39, 40, 41, 42, 43, 44, 45, 46, 47, 48, 49, 50})\n"
     ]
    }
   ],
   "source": [
    "# test hyqsat calibration\n",
    "# input cnf flie\n",
    "file_path = \"cnf_examples/UF50/uf50-01.cnf\"\n",
    "from janusq.hyqsat import readCNF\n",
    "\n",
    "print(readCNF(file_path))"
   ]
  }
 ],
 "metadata": {
  "kernelspec": {
   "display_name": "Python 3 (ipykernel)",
   "language": "python",
   "name": "python3"
  },
  "language_info": {
   "codemirror_mode": {
    "name": "ipython",
    "version": 3
   },
   "file_extension": ".py",
   "mimetype": "text/x-python",
   "name": "python",
   "nbconvert_exporter": "python",
   "pygments_lexer": "ipython3",
   "version": "3.10.12"
  }
 },
 "nbformat": 4,
 "nbformat_minor": 4
}
