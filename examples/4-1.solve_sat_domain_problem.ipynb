{
 "cells": [
  {
   "cell_type": "code",
   "execution_count": 1,
   "metadata": {},
   "outputs": [],
   "source": [
    "import sys\n",
    "sys.path.append('..')\n",
    "\n",
    "from janusq.hyqsat import solveByHyqsat, solveByMinisat"
   ]
  },
  {
   "cell_type": "markdown",
   "metadata": {},
   "source": [
    "# Solving 3-SAT Problem with Hybrid Quantum-Classical SAT solver \n",
    "\n",
    "**Author:** Hanyu Zhang \\& Siwei Tan\n",
    "\n",
    "**Date:** 9/4/2024\n",
    "\n",
    "Based on paper \"[QuFEM: Fast and Accurate Quantum Readout Calibration Using the Finite Element Method][1]\"\n",
    "\n",
    "[1]: https://scholar.google.com/scholar_url?url=https://dl.acm.org/doi/abs/10.1145/3613424.3614274%3Fcasa_token%3DffjIB1hQ4ZwAAAAA:8MajDLrDOC74WoeMf7r7AoQ-koxCa4E1TNqQg3GSDz03xUX6XdE3toNTM-YdM_e4rKEusMceJ6BGJg&hl=zh-CN&sa=T&oi=gsb&ct=res&cd=0&d=11146218754516883150&ei=42YSZpPlFL6s6rQPtt6x6Ac&scisig=AFWwaeYaiu2hyx8HUJ_7Buf9Mwom\n",
    "\n",
    "\n",
    "Quantum readout is the operation that read the information from quantum bits (qubits) into classical bits. Quantum readout noise turns out to be the most significant source of error, which greatly affects the measurement fidelity. In most quantum algorithms, outputs are probability distributions of bit strings, obtained through repeated circuit executions. These bit strings exist in a space represented by $\\left \\{ 0,1 \\right \\} ^{N_q}$, where $N_q$ is the number of qubits. The observed probability of a specific bit string reflects its amplitude in the measured quantum superposition state."
   ]
  },
  {
   "cell_type": "code",
   "execution_count": 2,
   "metadata": {},
   "outputs": [],
   "source": [
    "# input cnf flie\n",
    "file_path = \"cnf_examples/uf50-01.cnf\"\n",
    "# if verbose\n",
    "verbose = True\n",
    "# cpuLim time (s). 0 means infinite\n",
    "cpuLim = 0\n",
    "# memLim . 0 means infinite\n",
    "memLim = 0\n",
    "# isStrict\n",
    "strictp = True"
   ]
  },
  {
   "cell_type": "code",
   "execution_count": 3,
   "metadata": {},
   "outputs": [
    {
     "name": "stderr",
     "output_type": "stream",
     "text": [
      "2024-04-16 11:29:28,163 - INFO: WARNING: for repeatability, setting FPU to use double precision\n",
      "2024-04-16 11:29:28,164 - INFO: sys.path.append('/home/JanusQ-main/examples/../janusq/hyqsat/python/')\n",
      "2024-04-16 11:29:28,164 - INFO: Quantum method:\n",
      "2024-04-16 11:29:28,164 - INFO: /home/JanusQ-main/examples/cnf_examples/uf50-01.cnf\n",
      "2024-04-16 11:29:29,378 - INFO: ============================[ Problem Statistics ]=============================\n",
      "2024-04-16 11:29:29,379 - INFO: |                                                                             |\n",
      "2024-04-16 11:29:29,380 - INFO: |  Number of variables:            50                                         |\n",
      "2024-04-16 11:29:29,380 - INFO: |  Number of clauses:             218                                         |\n",
      "2024-04-16 11:29:29,381 - INFO: ============================[ Search Statistics ]==============================\n",
      "2024-04-16 11:29:29,381 - INFO: | Conflicts |          ORIGINAL         |          LEARNT          | Progress |\n",
      "2024-04-16 11:29:29,382 - INFO: |           |    Vars  Clauses Literals |    Limit  Clauses Lit/Cl |          |\n",
      "2024-04-16 11:29:29,382 - INFO: ===============================================================================\n",
      "2024-04-16 11:29:29,383 - INFO: ===============================================================================\n",
      "2024-04-16 11:29:29,383 - INFO: restarts              : 1\n",
      "2024-04-16 11:29:29,384 - INFO: conflicts             : 11             (1 /sec)\n",
      "2024-04-16 11:29:29,384 - INFO: conflict cost         : 0.09 ms\n",
      "2024-04-16 11:29:29,385 - INFO: decisions             : 3              (0.00 % random) (0 /sec)\n",
      "2024-04-16 11:29:29,385 - INFO: decisions cost        : 0.024 ms\n",
      "2024-04-16 11:29:29,386 - INFO: propagations          : 265            (36 /sec)\n",
      "2024-04-16 11:29:29,386 - INFO: propagations cost     : 0.277 ms\n",
      "2024-04-16 11:29:29,387 - INFO: conflict literals     : 47             (4.08 % deleted)\n",
      "2024-04-16 11:29:29,387 - INFO: actual CPU time       : 7.3537 s\n",
      "2024-04-16 11:29:29,387 - INFO: this problem time     : 0.53 ms\n",
      "2024-04-16 11:29:29,388 - INFO: annealing time        : 0 ms\n",
      "2024-04-16 11:29:29,388 - INFO: quantum count         : 0\n",
      "2024-04-16 11:29:29,389 - INFO: simulate time         : 1.16098 s\n",
      "2024-04-16 11:29:29,389 - INFO: quantum success number   : 11\n",
      "2024-04-16 11:29:29,390 - INFO: quantum conflict number   : 8\n",
      "2024-04-16 11:29:29,390 - INFO: quantum one time solve number   : 0\n",
      "2024-04-16 11:29:29,391 - INFO: delta conflict time              : -1 ms\n",
      "2024-04-16 11:29:29,391 - INFO: \n",
      "2024-04-16 11:29:29,391 - INFO: SATISFIABLE\n",
      "2024-04-16 11:29:29,392 - INFO: SAT\n",
      "2024-04-16 11:29:29,392 - INFO: -1 2 -3 4 5 6 7 8 9 -10 -11 12 -13 14 -15 -16 -17 -18 19 20 -21 -22 23 -24 -25 -26 27 -28 -29 -30 -31 -32 -33 -34 35 36 37 -38 39 -40 -41 -42 -43 -44 -45 -46 -47 48 49 -50 0\n",
      "2024-04-16 11:29:29,393 - INFO: ^0 1 ^2 3 4 5 6 7 8 ^9 ^10 11 ^12 13 ^14 ^15 ^16 ^17 18 19 ^20 ^21 22 ^23 ^24 ^25 26 ^27 ^28 ^29 ^30 ^31 ^32 ^33 34 35 36 ^37 38 ^39 ^40 ^41 ^42 ^43 ^44 ^45 ^46 47 48 ^49\n",
      "2024-04-16 11:29:29,393 - INFO: \n",
      "2024-04-16 11:29:29,394 - INFO: \n",
      "2024-04-16 11:29:29,394 - INFO: /home/JanusQ-main/examples/cnf_examples/uf50-01.cnf has been solved.\n"
     ]
    },
    {
     "data": {
      "text/plain": [
       "{'restarts': 1,\n",
       " 'conflicts': 11,\n",
       " 'conflict cost': 0.09,\n",
       " 'decisions': 0,\n",
       " 'propagations': 0,\n",
       " 'conflict literals': 47,\n",
       " 'actual CPU time': 7.3537,\n",
       " 'this problem time': 0.53,\n",
       " 'annealing time': 0.0,\n",
       " 'quantum count': 0,\n",
       " 'simulate time': 1.16098,\n",
       " 'quantum success number': 11,\n",
       " 'quantum conflict number': 8,\n",
       " 'quantum one time solve number': 0,\n",
       " 'isSatisfiable': True,\n",
       " 'isSat': True}"
      ]
     },
     "execution_count": 3,
     "metadata": {},
     "output_type": "execute_result"
    }
   ],
   "source": [
    "# solve by hyqsat\n",
    "solveByHyqsat(file_path, verb=verbose, cpuLim=cpuLim, memLim=memLim)"
   ]
  },
  {
   "cell_type": "code",
   "execution_count": 4,
   "metadata": {},
   "outputs": [
    {
     "name": "stderr",
     "output_type": "stream",
     "text": [
      "2024-04-16 11:29:29,565 - INFO: WARNING: for repeatability, setting FPU to use double precision\n",
      "2024-04-16 11:29:29,566 - INFO: Original method:\n",
      "2024-04-16 11:29:29,566 - INFO: /home/JanusQ-main/examples/cnf_examples/uf50-01.cnf\n",
      "2024-04-16 11:29:29,620 - INFO: ============================[ Problem Statistics ]=============================\n",
      "2024-04-16 11:29:29,620 - INFO: |                                                                             |\n",
      "2024-04-16 11:29:29,621 - INFO: |  Number of variables:            50                                         |\n",
      "2024-04-16 11:29:29,621 - INFO: |  Number of clauses:             218                                         |\n",
      "2024-04-16 11:29:29,622 - INFO: ============================[ Search Statistics ]==============================\n",
      "2024-04-16 11:29:29,622 - INFO: | Conflicts |          ORIGINAL         |          LEARNT          | Progress |\n",
      "2024-04-16 11:29:29,623 - INFO: |           |    Vars  Clauses Literals |    Limit  Clauses Lit/Cl |          |\n",
      "2024-04-16 11:29:29,623 - INFO: ===============================================================================\n",
      "2024-04-16 11:29:29,623 - INFO: ===============================================================================\n",
      "2024-04-16 11:29:29,624 - INFO: restarts              : 1\n",
      "2024-04-16 11:29:29,624 - INFO: conflicts             : 16             (303 /sec)\n",
      "2024-04-16 11:29:29,625 - INFO: conflict cost         : 0.107 ms\n",
      "2024-04-16 11:29:29,625 - INFO: decisions             : 36             (0.00 % random) (683 /sec)\n",
      "2024-04-16 11:29:29,626 - INFO: decisions cost        : 0.043 ms\n",
      "2024-04-16 11:29:29,626 - INFO: propagations          : 344            (6524 /sec)\n",
      "2024-04-16 11:29:29,627 - INFO: propagations cost     : 0.215 ms\n",
      "2024-04-16 11:29:29,627 - INFO: conflict literals     : 65             (19.75 % deleted)\n",
      "2024-04-16 11:29:29,627 - INFO: actual CPU time       : 0.052729 s\n",
      "2024-04-16 11:29:29,628 - INFO: this problem time     : 0.444 ms\n",
      "2024-04-16 11:29:29,628 - INFO: annealing time        : 0 ms\n",
      "2024-04-16 11:29:29,629 - INFO: quantum count         : 0\n",
      "2024-04-16 11:29:29,629 - INFO: simulate time         : 0 s\n",
      "2024-04-16 11:29:29,629 - INFO: quantum success number   : 0\n",
      "2024-04-16 11:29:29,630 - INFO: quantum conflict number   : 0\n",
      "2024-04-16 11:29:29,630 - INFO: quantum one time solve number   : 0\n",
      "2024-04-16 11:29:29,631 - INFO: delta conflict time              : -1 ms\n",
      "2024-04-16 11:29:29,631 - INFO: \n",
      "2024-04-16 11:29:29,632 - INFO: SATISFIABLE\n",
      "2024-04-16 11:29:29,632 - INFO: SAT\n",
      "2024-04-16 11:29:29,632 - INFO: -1 2 -3 4 5 6 7 8 9 -10 -11 12 -13 14 -15 -16 -17 -18 19 20 -21 -22 23 -24 -25 -26 27 -28 -29 -30 -31 -32 -33 -34 35 36 37 -38 39 -40 -41 -42 -43 -44 -45 -46 -47 48 49 -50 0\n",
      "2024-04-16 11:29:29,633 - INFO: ^0 1 ^2 3 4 5 6 7 8 ^9 ^10 11 ^12 13 ^14 ^15 ^16 ^17 18 19 ^20 ^21 22 ^23 ^24 ^25 26 ^27 ^28 ^29 ^30 ^31 ^32 ^33 34 35 36 ^37 38 ^39 ^40 ^41 ^42 ^43 ^44 ^45 ^46 47 48 ^49\n",
      "2024-04-16 11:29:29,633 - INFO: \n",
      "2024-04-16 11:29:29,634 - INFO: \n",
      "2024-04-16 11:29:29,634 - INFO: /home/JanusQ-main/examples/cnf_examples/uf50-01.cnf has been solved.\n"
     ]
    },
    {
     "data": {
      "text/plain": [
       "{'restarts': 1,\n",
       " 'conflicts': 16,\n",
       " 'conflict cost': 0.107,\n",
       " 'decisions': 0,\n",
       " 'propagations': 0,\n",
       " 'conflict literals': 65,\n",
       " 'actual CPU time': 0.052729,\n",
       " 'this problem time': 0.444,\n",
       " 'annealing time': 0.0,\n",
       " 'quantum count': 0,\n",
       " 'simulate time': 0.0,\n",
       " 'quantum success number': 0,\n",
       " 'quantum conflict number': 0,\n",
       " 'quantum one time solve number': 0,\n",
       " 'isSatisfiable': True,\n",
       " 'isSat': True}"
      ]
     },
     "execution_count": 4,
     "metadata": {},
     "output_type": "execute_result"
    }
   ],
   "source": [
    "# solve by minisat\n",
    "solveByMinisat(file_path, verb=verbose, cpuLim=cpuLim, memLim=memLim)"
   ]
  },
  {
   "cell_type": "code",
   "execution_count": null,
   "metadata": {},
   "outputs": [],
   "source": []
  }
 ],
 "metadata": {
  "kernelspec": {
   "display_name": "base",
   "language": "python",
   "name": "python3"
  },
  "language_info": {
   "codemirror_mode": {
    "name": "ipython",
    "version": 3
   },
   "file_extension": ".py",
   "mimetype": "text/x-python",
   "name": "python",
   "nbconvert_exporter": "python",
   "pygments_lexer": "ipython3",
   "version": "3.10.12"
  }
 },
 "nbformat": 4,
 "nbformat_minor": 2
}
