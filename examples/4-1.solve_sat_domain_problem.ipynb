{
 "cells": [
  {
   "cell_type": "markdown",
   "metadata": {},
   "source": [
    "# Solving 3-SAT Problem with Hybrid Quantum-Classical solver \n",
    "\n",
    "**Author:** Xinghui Jia \\& Siwei Tan\n",
    "\n",
    "**Date:** 9/4/2024\n",
    "\n",
    "Based on paper \"[Janus-CT: A Hybrid Approach for 3-SAT Problems by Integrating Quantum Annealer with CDCL][1]\"\n",
    "\n",
    "[1]: https://ieeexplore.ieee.org/abstract/document/10071022/\n",
    "\n",
    "\n",
    "A propositional satisfiability (SAT) problem is to find an assignment for each variable to satisfy a given Boolean formula. A typical SAT problem is composed of multiple clauses represented as a disjunction of Boolean variables. 3-SAT problem is a special case of the SAT problem that has no more than three variables in each clause. \n",
    "\n",
    "3-SAT problem is a fundamental problem in various applications, such as artificial intelligence, circuit analysis, and protein structure prediction. Since the 3-SAT problem is an NP-complete problem, the time complexity of classical algorithms increases exponentially with the number of clauses and variables. We observe that the classical CDCL algorithm has the advantage of solving larger problems, while QA is more suitable for solving small but hard problems. To combine their advantages, we introduce Janus-SAT in this notebook, a hybrid approach that integrates quantum annealing (QA) with the classical Conflict-Driven Clause Learning (CDCL) algorithm to enable end-to-end acceleration for solving 3-SAT problems. \n",
    "\n",
    "\n",
    "<div style=\"text-align:center;\">\n",
    "    <img src=\"./pictures/4-1.hyqsat.png\"  width=\"45%\" height=\"45%\">\n",
    "</div>\n",
    "\n",
    "The figure above shows the workflow of Janus-CT. It features a cross-iterative process. The CDCL algorithm searches for the solution. During the search, it identifies and sends the hard sub-problem to QA. Janus-CT designed a fast compilation flow to embed the problem and optimize the noise. It also designs multiple strategies to guide the search of CDCL using the QA results."
   ]
  },
  {
   "cell_type": "code",
   "execution_count": 1,
   "metadata": {},
   "outputs": [],
   "source": [
    "import sys\n",
    "import os\n",
    "import logging\n",
    "\n",
    "sys.path.append('..')\n",
    "\n",
    "from janusq.hyqsat import solve_by_janusct, solve_by_minisat"
   ]
  },
  {
   "cell_type": "code",
   "execution_count": 2,
   "metadata": {},
   "outputs": [],
   "source": [
    "# Configure the model\n",
    "file_path = \"cnf_examples/UF100/uf100-01.cnf\"  # input cnf flie\n",
    "cpu_lim = 0  # limit the cpu time (s). 0 means infinite\n",
    "mem_lim = 0  # limit the memory 0 means infinite\n",
    "strictp = True  # isStrict"
   ]
  },
  {
   "cell_type": "markdown",
   "metadata": {},
   "source": [
    "### Using Janus-SAT API to Solve the Problem\n",
    "\n",
    "We can use a QA simulator or real-world QA hardware to solve the SAT roblem. For example, here we use the simualtor."
   ]
  },
  {
   "cell_type": "code",
   "execution_count": 3,
   "metadata": {},
   "outputs": [
    {
     "data": {
      "text/plain": [
       "{'restarts': 1,\n",
       " 'conflicts': 7,\n",
       " 'conflict cost': 0.069,\n",
       " 'decisions': 2,\n",
       " 'decisions cost': 0.03,\n",
       " 'propagations': 322,\n",
       " 'propagations cost': 0.25,\n",
       " 'conflict literals': 49,\n",
       " 'actual CPU time': 7299.27,\n",
       " 'solving time': 2.25,\n",
       " 'annealing time': 1.8,\n",
       " 'simulation time': 937.689,\n",
       " 'quantum count': 15,\n",
       " 'quantum success number': 7,\n",
       " 'quantum conflict number': 8,\n",
       " 'quantum one time solve number': 0,\n",
       " 'is satisfiable': True,\n",
       " 'is sat': True}"
      ]
     },
     "execution_count": 3,
     "metadata": {},
     "output_type": "execute_result"
    }
   ],
   "source": [
    "# solve by Janus-SAT\n",
    "solve_by_janusct(file_path, verb=False, cpu_lim=cpu_lim, mem_lim=mem_lim)"
   ]
  },
  {
   "cell_type": "markdown",
   "metadata": {},
   "source": [
    "Note that when using the simulator, the solving time is estimated as (CDCL time + number of QA $\\times$ 120 $\\mu s$)."
   ]
  },
  {
   "cell_type": "markdown",
   "metadata": {},
   "source": [
    "### Comparision to MiniSAT\n",
    "\n",
    "We compare it to the MiniSAT solver."
   ]
  },
  {
   "cell_type": "code",
   "execution_count": 4,
   "metadata": {},
   "outputs": [
    {
     "data": {
      "text/plain": [
       "{'restarts': 3,\n",
       " 'conflicts': 384,\n",
       " 'conflict cost': 2.575,\n",
       " 'decisions': 463,\n",
       " 'decisions cost': 0.433,\n",
       " 'propagations': 9130,\n",
       " 'propagations cost': 5.632,\n",
       " 'conflict literals': 2416,\n",
       " 'actual CPU time': 96.573,\n",
       " 'solving time': 10.273,\n",
       " 'annealing time': 0.0,\n",
       " 'simulation time': 0.0,\n",
       " 'quantum count': 0,\n",
       " 'quantum success number': 0,\n",
       " 'quantum conflict number': 0,\n",
       " 'quantum one time solve number': 0,\n",
       " 'is satisfiable': True,\n",
       " 'is sat': True}"
      ]
     },
     "execution_count": 4,
     "metadata": {},
     "output_type": "execute_result"
    }
   ],
   "source": [
    "# solve by minisat\n",
    "solve_by_minisat(file_path, verb=False, cpu_lim=cpu_lim, mem_lim=mem_lim)"
   ]
  },
  {
   "cell_type": "code",
   "execution_count": 5,
   "metadata": {},
   "outputs": [
    {
     "name": "stdout",
     "output_type": "stream",
     "text": [
      "{'restarts': {'janus': 5, 'minisat': 9}, 'conflicts': {'janus': 59, 'minisat': 755}, 'conflict cost': {'janus': 0.438, 'minisat': 4.856999999999999}, 'decisions': {'janus': 9, 'minisat': 958}, 'decisions cost': {'janus': 0.11399999999999999, 'minisat': 0.895}, 'propagations': {'janus': 1846, 'minisat': 17399}, 'propagations cost': {'janus': 1.4569999999999999, 'minisat': 10.632}, 'conflict literals': {'janus': 365, 'minisat': 4558}, 'actual CPU time': {'janus': 36601.96, 'minisat': 361.793}, 'solving time': {'janus': 17.467, 'minisat': 19.482999999999997}}\n"
     ]
    }
   ],
   "source": [
    "all_result = {}\n",
    "dir_name = 'cnf_examples/test'\n",
    "result_key = ['restarts', 'conflicts', 'conflict cost', 'decisions', 'decisions cost', 'propagations', 'propagations cost', 'conflict literals', 'actual CPU time', 'solving time']\n",
    "for filename in os.listdir(dir_name):\n",
    "    janusq_res = solve_by_janusct(os.path.join(dir_name, filename), verb=False)\n",
    "    minisat_res = solve_by_minisat(os.path.join(dir_name, filename), verb=False)\n",
    "    for key in result_key:\n",
    "        if key not in all_result:\n",
    "            all_result[key] = {\n",
    "                'janus': 0,\n",
    "                'minisat': 0\n",
    "            }\n",
    "        else:\n",
    "            all_result[key]['janus'] += janusq_res[key]\n",
    "            all_result[key]['minisat'] += minisat_res[key]\n",
    "\n",
    "print(all_result)    "
   ]
  },
  {
   "cell_type": "code",
   "execution_count": 6,
   "metadata": {},
   "outputs": [
    {
     "data": {
      "text/html": [
       "<div>\n",
       "<style scoped>\n",
       "    .dataframe tbody tr th:only-of-type {\n",
       "        vertical-align: middle;\n",
       "    }\n",
       "\n",
       "    .dataframe tbody tr th {\n",
       "        vertical-align: top;\n",
       "    }\n",
       "\n",
       "    .dataframe thead th {\n",
       "        text-align: right;\n",
       "    }\n",
       "</style>\n",
       "<table border=\"1\" class=\"dataframe\">\n",
       "  <thead>\n",
       "    <tr style=\"text-align: right;\">\n",
       "      <th></th>\n",
       "      <th>restarts</th>\n",
       "      <th>conflicts</th>\n",
       "      <th>conflict cost</th>\n",
       "      <th>decisions</th>\n",
       "      <th>decisions cost</th>\n",
       "      <th>propagations</th>\n",
       "      <th>propagations cost</th>\n",
       "      <th>conflict literals</th>\n",
       "      <th>actual CPU time</th>\n",
       "      <th>solving time</th>\n",
       "    </tr>\n",
       "  </thead>\n",
       "  <tbody>\n",
       "    <tr>\n",
       "      <th>janus</th>\n",
       "      <td>5</td>\n",
       "      <td>59</td>\n",
       "      <td>0.438</td>\n",
       "      <td>9</td>\n",
       "      <td>0.114</td>\n",
       "      <td>1846</td>\n",
       "      <td>1.457</td>\n",
       "      <td>365</td>\n",
       "      <td>36601.960</td>\n",
       "      <td>17.467</td>\n",
       "    </tr>\n",
       "    <tr>\n",
       "      <th>minisat</th>\n",
       "      <td>9</td>\n",
       "      <td>755</td>\n",
       "      <td>4.857</td>\n",
       "      <td>958</td>\n",
       "      <td>0.895</td>\n",
       "      <td>17399</td>\n",
       "      <td>10.632</td>\n",
       "      <td>4558</td>\n",
       "      <td>361.793</td>\n",
       "      <td>19.483</td>\n",
       "    </tr>\n",
       "  </tbody>\n",
       "</table>\n",
       "</div>"
      ],
      "text/plain": [
       "         restarts  conflicts  conflict cost  decisions  decisions cost  \\\n",
       "janus           5         59          0.438          9           0.114   \n",
       "minisat         9        755          4.857        958           0.895   \n",
       "\n",
       "         propagations  propagations cost  conflict literals  actual CPU time  \\\n",
       "janus            1846              1.457                365        36601.960   \n",
       "minisat         17399             10.632               4558          361.793   \n",
       "\n",
       "         solving time  \n",
       "janus          17.467  \n",
       "minisat        19.483  "
      ]
     },
     "execution_count": 6,
     "metadata": {},
     "output_type": "execute_result"
    }
   ],
   "source": [
    "import pandas as pd\n",
    "\n",
    "df = pd.DataFrame(all_result)\n",
    "df"
   ]
  }
 ],
 "metadata": {
  "kernelspec": {
   "display_name": "Python 3 (ipykernel)",
   "language": "python",
   "name": "python3"
  },
  "language_info": {
   "codemirror_mode": {
    "name": "ipython",
    "version": 3
   },
   "file_extension": ".py",
   "mimetype": "text/x-python",
   "name": "python",
   "nbconvert_exporter": "python",
   "pygments_lexer": "ipython3",
   "version": "3.10.14"
  }
 },
 "nbformat": 4,
 "nbformat_minor": 4
}
