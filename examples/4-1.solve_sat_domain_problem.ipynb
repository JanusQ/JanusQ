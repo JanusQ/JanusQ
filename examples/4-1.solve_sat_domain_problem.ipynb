{
 "cells": [
  {
   "cell_type": "markdown",
   "metadata": {},
   "source": [
    "# Solving 3-SAT Problem with Hybrid Quantum-Classical solver \n",
    "\n",
    "**Author:** Xinghui Jia \\& Siwei Tan\n",
    "\n",
    "**Date:** 9/4/2024\n",
    "\n",
    "Based on paper \"[Janus-CT: A Hybrid Approach for 3-SAT Problems by Integrating Quantum Annealer with CDCL][1]\"\n",
    "\n",
    "[1]: https://ieeexplore.ieee.org/abstract/document/10071022/\n",
    "\n",
    "\n",
    "A propositional satisfiability (SAT) problem is to find an assignment for each variable to satisfy a given Boolean formula. A typical SAT problem is composed of multiple clauses represented as a disjunction of Boolean variables. 3-SAT problem is a special case of the SAT problem that has no more than three variables in each clause. \n",
    "\n",
    "3-SAT problem is a fundamental problem in various applications, such as artificial intelligence, circuit analysis, and protein structure prediction. Since the 3-SAT problem is an NP-complete problem, the time complexity of classical algorithms increases exponentially with the number of clauses and variables. We observe that the classical CDCL algorithm has the advantage of solving larger problems, while QA is more suitable for solving small but hard problems. To combine their advantages, we introduce Janus-SAT in this notebook, a hybrid approach that integrates quantum annealing (QA) with the classical Conflict-Driven Clause Learning (CDCL) algorithm to enable end-to-end acceleration for solving 3-SAT problems. \n",
    "\n",
    "\n",
    "<div style=\"text-align:center;\">\n",
    "    <img src=\"./pictures/4-1.hyqsat.png\"  width=\"45%\" height=\"45%\">\n",
    "</div>\n",
    "\n",
    "The figure above shows the workflow of Janus-CT. It features a cross-iterative process. The CDCL algorithm searches for the solution. During the search, it identifies and sends the hard sub-problem to QA. Janus-CT designed a fast compilation flow to embed the problem and optimize the noise. It also designs multiple strategies to guide the search of CDCL using the QA results."
   ]
  },
  {
   "cell_type": "code",
   "execution_count": 1,
   "metadata": {},
   "outputs": [],
   "source": [
    "import sys\n",
    "sys.path.append('..')\n",
    "\n",
    "from janusq.hyqsat import solve_by_janusct, solve_by_minisat"
   ]
  },
  {
   "cell_type": "code",
   "execution_count": 2,
   "metadata": {},
   "outputs": [],
   "source": [
    "# Configure the model\n",
    "file_path = \"cnf_examples/uf50-01.cnf\"  # input cnf flie\n",
    "cpu_lim = 0  # limit the cpu time (s). 0 means infinite\n",
    "mem_lim = 0  # limit the memory 0 means infinite\n",
    "strictp = True  # isStrict"
   ]
  },
  {
   "cell_type": "markdown",
   "metadata": {},
   "source": [
    "### Using Janus-SAT API to Solve the Problem\n",
    "\n",
    "We can use a QA simulator or real-world QA hardware to solve the SAT roblem. For example, here we use the simualtor."
   ]
  },
  {
   "cell_type": "code",
   "execution_count": 8,
   "metadata": {},
   "outputs": [
    {
     "name": "stderr",
     "output_type": "stream",
     "text": [
      "2024-04-16 11:48:36,408 - INFO: WARNING: for repeatability, setting FPU to use double precision\n",
      "2024-04-16 11:48:36,408 - INFO: sys.path.append('/home/JanusQ-main/examples/../janusq/hyqsat/python/')\n",
      "2024-04-16 11:48:36,409 - INFO: Quantum method:\n",
      "2024-04-16 11:48:36,409 - INFO: /home/JanusQ-main/examples/cnf_examples/uf50-01.cnf\n"
     ]
    },
    {
     "name": "stderr",
     "output_type": "stream",
     "text": [
      "2024-04-16 11:48:37,618 - INFO: SATISFIABLE\n",
      "2024-04-16 11:48:37,619 - INFO: SAT\n",
      "2024-04-16 11:48:37,619 - INFO: -1 2 -3 4 5 6 7 8 9 -10 -11 12 -13 14 -15 -16 -17 -18 19 20 -21 -22 23 -24 -25 -26 27 -28 -29 -30 -31 -32 -33 -34 35 36 37 -38 39 -40 -41 -42 -43 -44 -45 -46 -47 48 49 -50 0\n",
      "2024-04-16 11:48:37,619 - INFO: ^0 1 ^2 3 4 5 6 7 8 ^9 ^10 11 ^12 13 ^14 ^15 ^16 ^17 18 19 ^20 ^21 22 ^23 ^24 ^25 26 ^27 ^28 ^29 ^30 ^31 ^32 ^33 34 35 36 ^37 38 ^39 ^40 ^41 ^42 ^43 ^44 ^45 ^46 47 48 ^49\n",
      "2024-04-16 11:48:37,620 - INFO: \n",
      "2024-04-16 11:48:37,620 - INFO: \n",
      "2024-04-16 11:48:37,621 - INFO: /home/JanusQ-main/examples/cnf_examples/uf50-01.cnf has been solved.\n"
     ]
    },
    {
     "data": {
      "text/plain": [
       "{'isSatisfiable': True, 'isSat': True}"
      ]
     },
     "execution_count": 8,
     "metadata": {},
     "output_type": "execute_result"
    }
   ],
   "source": [
    "# solve by Janus-SAT\n",
    "solve_by_janusct(file_path, verb=False, cpu_lim=cpu_lim, mem_lim=mem_lim)"
   ]
  },
  {
   "cell_type": "markdown",
   "metadata": {},
   "source": [
    "Note that when using the simulator, the solving time is estimated as (CDCL time + number of QA $\\times$ 120 $\\mu s$)."
   ]
  },
  {
   "cell_type": "markdown",
   "metadata": {},
   "source": [
    "### Comparision to MiniSAT\n",
    "\n",
    "We compare it to the MiniSAT solver."
   ]
  },
  {
   "cell_type": "code",
   "execution_count": 10,
   "metadata": {},
   "outputs": [
    {
     "name": "stderr",
     "output_type": "stream",
     "text": [
      "2024-04-16 11:49:46,178 - INFO: WARNING: for repeatability, setting FPU to use double precision\n",
      "2024-04-16 11:49:46,179 - INFO: Original method:\n",
      "2024-04-16 11:49:46,179 - INFO: /home/JanusQ-main/examples/cnf_examples/uf50-01.cnf\n",
      "2024-04-16 11:49:46,233 - INFO: ============================[ Problem Statistics ]=============================\n",
      "2024-04-16 11:49:46,234 - INFO: |                                                                             |\n",
      "2024-04-16 11:49:46,234 - INFO: |  Number of variables:            50                                         |\n",
      "2024-04-16 11:49:46,234 - INFO: |  Number of clauses:             218                                         |\n",
      "2024-04-16 11:49:46,235 - INFO: ============================[ Search Statistics ]==============================\n",
      "2024-04-16 11:49:46,235 - INFO: | Conflicts |          ORIGINAL         |          LEARNT          | Progress |\n",
      "2024-04-16 11:49:46,235 - INFO: |           |    Vars  Clauses Literals |    Limit  Clauses Lit/Cl |          |\n",
      "2024-04-16 11:49:46,236 - INFO: ===============================================================================\n",
      "2024-04-16 11:49:46,237 - INFO: ===============================================================================\n",
      "2024-04-16 11:49:46,237 - INFO: restarts              : 1\n",
      "2024-04-16 11:49:46,238 - INFO: conflicts             : 16             (277 /sec)\n",
      "2024-04-16 11:49:46,238 - INFO: conflict cost         : 0.107 ms\n",
      "2024-04-16 11:49:46,238 - INFO: decisions             : 36             (0.00 % random) (623 /sec)\n",
      "2024-04-16 11:49:46,239 - INFO: decisions cost        : 0.044 ms\n",
      "2024-04-16 11:49:46,240 - INFO: propagations          : 344            (5952 /sec)\n",
      "2024-04-16 11:49:46,240 - INFO: propagations cost     : 0.215 ms\n",
      "2024-04-16 11:49:46,240 - INFO: conflict literals     : 65             (19.75 % deleted)\n",
      "2024-04-16 11:49:46,241 - INFO: actual CPU time       : 0.057791 s\n",
      "2024-04-16 11:49:46,241 - INFO: this problem time     : 0.47 ms\n",
      "2024-04-16 11:49:46,241 - INFO: annealing time        : 0 ms\n",
      "2024-04-16 11:49:46,241 - INFO: quantum count         : 0\n",
      "2024-04-16 11:49:46,242 - INFO: simulate time         : 0 s\n",
      "2024-04-16 11:49:46,243 - INFO: quantum success number   : 0\n",
      "2024-04-16 11:49:46,243 - INFO: quantum conflict number   : 0\n",
      "2024-04-16 11:49:46,244 - INFO: quantum one time solve number   : 0\n",
      "2024-04-16 11:49:46,244 - INFO: delta conflict time              : -1 ms\n",
      "2024-04-16 11:49:46,244 - INFO: \n",
      "2024-04-16 11:49:46,244 - INFO: SATISFIABLE\n",
      "2024-04-16 11:49:46,245 - INFO: SAT\n",
      "2024-04-16 11:49:46,245 - INFO: -1 2 -3 4 5 6 7 8 9 -10 -11 12 -13 14 -15 -16 -17 -18 19 20 -21 -22 23 -24 -25 -26 27 -28 -29 -30 -31 -32 -33 -34 35 36 37 -38 39 -40 -41 -42 -43 -44 -45 -46 -47 48 49 -50 0\n",
      "2024-04-16 11:49:46,246 - INFO: ^0 1 ^2 3 4 5 6 7 8 ^9 ^10 11 ^12 13 ^14 ^15 ^16 ^17 18 19 ^20 ^21 22 ^23 ^24 ^25 26 ^27 ^28 ^29 ^30 ^31 ^32 ^33 34 35 36 ^37 38 ^39 ^40 ^41 ^42 ^43 ^44 ^45 ^46 47 48 ^49\n",
      "2024-04-16 11:49:46,246 - INFO: \n",
      "2024-04-16 11:49:46,247 - INFO: \n",
      "2024-04-16 11:49:46,247 - INFO: /home/JanusQ-main/examples/cnf_examples/uf50-01.cnf has been solved.\n"
     ]
    },
    {
     "data": {
      "text/plain": [
       "{'restarts': 1,\n",
       " 'conflicts': 16,\n",
       " 'conflict cost': 0.107,\n",
       " 'decisions': 0,\n",
       " 'propagations': 0,\n",
       " 'conflict literals': 65,\n",
       " 'actual CPU time': 0.057791,\n",
       " 'this problem time': 0.47,\n",
       " 'annealing time': 0.0,\n",
       " 'quantum count': 0,\n",
       " 'simulate time': 0.0,\n",
       " 'quantum success number': 0,\n",
       " 'quantum conflict number': 0,\n",
       " 'quantum one time solve number': 0,\n",
       " 'isSatisfiable': True,\n",
       " 'isSat': True}"
      ]
     },
     "execution_count": 10,
     "metadata": {},
     "output_type": "execute_result"
    }
   ],
   "source": [
    "# solve by minisat\n",
    "solve_by_minisat(file_path, verb=True, cpu_lim=cpu_lim, mem_lim=mem_lim)"
   ]
  },
  {
   "cell_type": "code",
   "execution_count": null,
   "metadata": {},
   "outputs": [],
   "source": []
  }
 ],
 "metadata": {
  "kernelspec": {
   "display_name": "base",
   "language": "python",
   "name": "python3"
  },
  "language_info": {
   "codemirror_mode": {
    "name": "ipython",
    "version": 3
   },
   "file_extension": ".py",
   "mimetype": "text/x-python",
   "name": "python",
   "nbconvert_exporter": "python",
   "pygments_lexer": "ipython3",
   "version": "3.10.12"
  }
 },
 "nbformat": 4,
 "nbformat_minor": 2
}
