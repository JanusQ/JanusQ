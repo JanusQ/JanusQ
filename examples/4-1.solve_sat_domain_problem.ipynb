{
 "cells": [
  {
   "cell_type": "code",
   "execution_count": 1,
   "metadata": {},
   "outputs": [],
   "source": [
    "import sys\n",
    "sys.path.append('..')\n",
    "\n",
    "from janusq.hyqsat import solveByHyqsat, solveByMinisat"
   ]
  },
  {
   "cell_type": "markdown",
   "metadata": {},
   "source": [
    "# Solving 3-SAT Problem with Hybrid Quantum-Classical SAT solver \n",
    "\n",
    "**Author:** Hanyu Zhang \\& Siwei Tan\n",
    "\n",
    "**Date:** 9/4/2024\n",
    "\n",
    "Based on paper \"[QuFEM: Fast and Accurate Quantum Readout Calibration Using the Finite Element Method][1]\"\n",
    "\n",
    "[1]: https://scholar.google.com/scholar_url?url=https://dl.acm.org/doi/abs/10.1145/3613424.3614274%3Fcasa_token%3DffjIB1hQ4ZwAAAAA:8MajDLrDOC74WoeMf7r7AoQ-koxCa4E1TNqQg3GSDz03xUX6XdE3toNTM-YdM_e4rKEusMceJ6BGJg&hl=zh-CN&sa=T&oi=gsb&ct=res&cd=0&d=11146218754516883150&ei=42YSZpPlFL6s6rQPtt6x6Ac&scisig=AFWwaeYaiu2hyx8HUJ_7Buf9Mwom\n",
    "\n",
    "\n",
    "Quantum readout is the operation that read the information from quantum bits (qubits) into classical bits. Quantum readout noise turns out to be the most significant source of error, which greatly affects the measurement fidelity. In most quantum algorithms, outputs are probability distributions of bit strings, obtained through repeated circuit executions. These bit strings exist in a space represented by $\\left \\{ 0,1 \\right \\} ^{N_q}$, where $N_q$ is the number of qubits. The observed probability of a specific bit string reflects its amplitude in the measured quantum superposition state."
   ]
  },
  {
   "cell_type": "code",
   "execution_count": 2,
   "metadata": {},
   "outputs": [],
   "source": [
    "# input cnf flie\n",
    "file_path = \"cnf_examples/uf50-01.cnf\"\n",
    "# if verbose\n",
    "verbose = True\n",
    "# cpuLim time (s). 0 means infinite\n",
    "cpuLim = 0\n",
    "# memLim . 0 means infinite\n",
    "memLim = 0\n",
    "# isStrict\n",
    "strictp = True"
   ]
  },
  {
   "cell_type": "code",
   "execution_count": 3,
   "metadata": {},
   "outputs": [
    {
     "name": "stderr",
     "output_type": "stream",
     "text": [
      "2024-04-15 12:38:01,705 - INFO: WARNING: for repeatability, setting FPU to use double precision\n",
      "2024-04-15 12:38:01,706 - INFO: sys.path.append('/home/JanusQ-main/examples/../janusq/hyqsat/python/')\n",
      "2024-04-15 12:38:01,707 - INFO: Quantum method:\n",
      "2024-04-15 12:38:01,708 - INFO: /home/JanusQ-main/examples/cnf_examples/uf50-01.cnf\n",
      "2024-04-15 12:38:02,833 - INFO: ============================[ Problem Statistics ]=============================\n",
      "2024-04-15 12:38:02,834 - INFO: |                                                                             |\n",
      "2024-04-15 12:38:02,835 - INFO: |  Number of variables:            50                                         |\n",
      "2024-04-15 12:38:02,836 - INFO: |  Number of clauses:             218                                         |\n",
      "2024-04-15 12:38:02,837 - INFO: ============================[ Search Statistics ]==============================\n",
      "2024-04-15 12:38:02,838 - INFO: | Conflicts |          ORIGINAL         |          LEARNT          | Progress |\n",
      "2024-04-15 12:38:02,839 - INFO: |           |    Vars  Clauses Literals |    Limit  Clauses Lit/Cl |          |\n",
      "2024-04-15 12:38:02,840 - INFO: ===============================================================================\n",
      "2024-04-15 12:38:02,841 - INFO: ===============================================================================\n",
      "2024-04-15 12:38:02,842 - INFO: restarts              : 1\n",
      "2024-04-15 12:38:02,843 - INFO: conflicts             : 9              (1 /sec)\n",
      "2024-04-15 12:38:02,844 - INFO: conflict cost         : 0.054 ms\n",
      "2024-04-15 12:38:02,844 - INFO: decisions             : 2              (0.00 % random) (0 /sec)\n",
      "2024-04-15 12:38:02,845 - INFO: decisions cost        : 0.02 ms\n",
      "2024-04-15 12:38:02,847 - INFO: propagations          : 178            (25 /sec)\n",
      "2024-04-15 12:38:02,848 - INFO: propagations cost     : 0.169 ms\n",
      "2024-04-15 12:38:02,849 - INFO: conflict literals     : 37             (5.13 % deleted)\n",
      "2024-04-15 12:38:02,850 - INFO: actual CPU time       : 7.2071 s\n",
      "2024-04-15 12:38:02,850 - INFO: this problem time     : 0.355 ms\n",
      "2024-04-15 12:38:02,851 - INFO: annealing time        : 0 ms\n",
      "2024-04-15 12:38:02,852 - INFO: quantum count         : 0\n",
      "2024-04-15 12:38:02,853 - INFO: simulate time         : 1.07241 s\n",
      "2024-04-15 12:38:02,853 - INFO: quantum success number   : 9\n",
      "2024-04-15 12:38:02,854 - INFO: quantum conflict number   : 13\n",
      "2024-04-15 12:38:02,855 - INFO: quantum one time solve number   : 0\n",
      "2024-04-15 12:38:02,855 - INFO: delta conflict time              : -1 ms\n",
      "2024-04-15 12:38:02,858 - INFO: \n",
      "2024-04-15 12:38:02,859 - INFO: SATISFIABLE\n",
      "2024-04-15 12:38:02,860 - INFO: SAT\n",
      "2024-04-15 12:38:02,860 - INFO: -1 2 -3 4 5 6 7 8 9 10 -11 12 -13 14 -15 -16 -17 -18 19 20 -21 -22 23 -24 -25 -26 27 -28 -29 -30 -31 -32 -33 -34 35 36 37 -38 39 -40 -41 -42 -43 -44 -45 -46 -47 48 49 -50 0\n",
      "2024-04-15 12:38:02,861 - INFO: ^0 1 ^2 3 4 5 6 7 8 9 ^10 11 ^12 13 ^14 ^15 ^16 ^17 18 19 ^20 ^21 22 ^23 ^24 ^25 26 ^27 ^28 ^29 ^30 ^31 ^32 ^33 34 35 36 ^37 38 ^39 ^40 ^41 ^42 ^43 ^44 ^45 ^46 47 48 ^49\n",
      "2024-04-15 12:38:02,862 - INFO: \n",
      "2024-04-15 12:38:02,864 - INFO: \n",
      "2024-04-15 12:38:02,864 - INFO: /home/JanusQ-main/examples/cnf_examples/uf50-01.cnf has been solved.\n"
     ]
    },
    {
     "data": {
      "text/plain": [
       "{'restarts': 1,\n",
       " 'conflicts': 9,\n",
       " 'conflict cost': 0.054,\n",
       " 'decisions': 0,\n",
       " 'propagations': 0,\n",
       " 'conflict literals': 37,\n",
       " 'actual CPU time': 7.2071,\n",
       " 'this problem time': 0.355,\n",
       " 'annealing time': 0.0,\n",
       " 'quantum count': 0,\n",
       " 'simulate time': 1.07241,\n",
       " 'quantum success number': 9,\n",
       " 'quantum conflict number': 13,\n",
       " 'quantum one time solve number': 0,\n",
       " 'isSatisfiable': True,\n",
       " 'isSat': True}"
      ]
     },
     "execution_count": 3,
     "metadata": {},
     "output_type": "execute_result"
    }
   ],
   "source": [
    "# solve by hyqsat\n",
    "solveByHyqsat(file_path, verb=verbose, cpuLim=cpuLim, memLim=memLim)"
   ]
  },
  {
   "cell_type": "code",
   "execution_count": 4,
   "metadata": {},
   "outputs": [
    {
     "name": "stderr",
     "output_type": "stream",
     "text": [
      "2024-04-15 12:38:02,992 - INFO: WARNING: for repeatability, setting FPU to use double precision\n",
      "2024-04-15 12:38:02,993 - INFO: Original method:\n",
      "2024-04-15 12:38:02,994 - INFO: /home/JanusQ-main/examples/cnf_examples/uf50-01.cnf\n",
      "2024-04-15 12:38:03,047 - INFO: ============================[ Problem Statistics ]=============================\n",
      "2024-04-15 12:38:03,048 - INFO: |                                                                             |\n",
      "2024-04-15 12:38:03,048 - INFO: |  Number of variables:            50                                         |\n",
      "2024-04-15 12:38:03,049 - INFO: |  Number of clauses:             218                                         |\n",
      "2024-04-15 12:38:03,050 - INFO: ============================[ Search Statistics ]==============================\n",
      "2024-04-15 12:38:03,050 - INFO: | Conflicts |          ORIGINAL         |          LEARNT          | Progress |\n",
      "2024-04-15 12:38:03,051 - INFO: |           |    Vars  Clauses Literals |    Limit  Clauses Lit/Cl |          |\n",
      "2024-04-15 12:38:03,051 - INFO: ===============================================================================\n",
      "2024-04-15 12:38:03,052 - INFO: ===============================================================================\n",
      "2024-04-15 12:38:03,052 - INFO: restarts              : 1\n",
      "2024-04-15 12:38:03,053 - INFO: conflicts             : 16             (296 /sec)\n",
      "2024-04-15 12:38:03,053 - INFO: conflict cost         : 0.107 ms\n",
      "2024-04-15 12:38:03,054 - INFO: decisions             : 36             (0.00 % random) (665 /sec)\n",
      "2024-04-15 12:38:03,054 - INFO: decisions cost        : 0.046 ms\n",
      "2024-04-15 12:38:03,055 - INFO: propagations          : 344            (6356 /sec)\n",
      "2024-04-15 12:38:03,059 - INFO: propagations cost     : 0.209 ms\n",
      "2024-04-15 12:38:03,060 - INFO: conflict literals     : 65             (19.75 % deleted)\n",
      "2024-04-15 12:38:03,060 - INFO: actual CPU time       : 0.054123 s\n",
      "2024-04-15 12:38:03,061 - INFO: this problem time     : 0.434 ms\n",
      "2024-04-15 12:38:03,062 - INFO: annealing time        : 0 ms\n",
      "2024-04-15 12:38:03,062 - INFO: quantum count         : 0\n",
      "2024-04-15 12:38:03,063 - INFO: simulate time         : 0 s\n",
      "2024-04-15 12:38:03,064 - INFO: quantum success number   : 0\n",
      "2024-04-15 12:38:03,064 - INFO: quantum conflict number   : 0\n",
      "2024-04-15 12:38:03,067 - INFO: quantum one time solve number   : 0\n",
      "2024-04-15 12:38:03,068 - INFO: delta conflict time              : -1 ms\n",
      "2024-04-15 12:38:03,069 - INFO: \n",
      "2024-04-15 12:38:03,069 - INFO: SATISFIABLE\n",
      "2024-04-15 12:38:03,070 - INFO: SAT\n",
      "2024-04-15 12:38:03,071 - INFO: -1 2 -3 4 5 6 7 8 9 -10 -11 12 -13 14 -15 -16 -17 -18 19 20 -21 -22 23 -24 -25 -26 27 -28 -29 -30 -31 -32 -33 -34 35 36 37 -38 39 -40 -41 -42 -43 -44 -45 -46 -47 48 49 -50 0\n",
      "2024-04-15 12:38:03,072 - INFO: ^0 1 ^2 3 4 5 6 7 8 ^9 ^10 11 ^12 13 ^14 ^15 ^16 ^17 18 19 ^20 ^21 22 ^23 ^24 ^25 26 ^27 ^28 ^29 ^30 ^31 ^32 ^33 34 35 36 ^37 38 ^39 ^40 ^41 ^42 ^43 ^44 ^45 ^46 47 48 ^49\n",
      "2024-04-15 12:38:03,073 - INFO: \n",
      "2024-04-15 12:38:03,073 - INFO: \n",
      "2024-04-15 12:38:03,074 - INFO: /home/JanusQ-main/examples/cnf_examples/uf50-01.cnf has been solved.\n"
     ]
    },
    {
     "data": {
      "text/plain": [
       "{'restarts': 1,\n",
       " 'conflicts': 16,\n",
       " 'conflict cost': 0.107,\n",
       " 'decisions': 0,\n",
       " 'propagations': 0,\n",
       " 'conflict literals': 65,\n",
       " 'actual CPU time': 0.054123,\n",
       " 'this problem time': 0.434,\n",
       " 'annealing time': 0.0,\n",
       " 'quantum count': 0,\n",
       " 'simulate time': 0.0,\n",
       " 'quantum success number': 0,\n",
       " 'quantum conflict number': 0,\n",
       " 'quantum one time solve number': 0,\n",
       " 'isSatisfiable': True,\n",
       " 'isSat': True}"
      ]
     },
     "execution_count": 4,
     "metadata": {},
     "output_type": "execute_result"
    }
   ],
   "source": [
    "# solve by minisat\n",
    "solveByMinisat(file_path, verb=verbose, cpuLim=cpuLim, memLim=memLim)"
   ]
  },
  {
   "cell_type": "code",
   "execution_count": null,
   "metadata": {},
   "outputs": [],
   "source": []
  }
 ],
 "metadata": {
  "kernelspec": {
   "display_name": "base",
   "language": "python",
   "name": "python3"
  },
  "language_info": {
   "codemirror_mode": {
    "name": "ipython",
    "version": 3
   },
   "file_extension": ".py",
   "mimetype": "text/x-python",
   "name": "python",
   "nbconvert_exporter": "python",
   "pygments_lexer": "ipython3",
   "version": "3.10.12"
  }
 },
 "nbformat": 4,
 "nbformat_minor": 2
}
