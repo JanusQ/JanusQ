{
 "cells": [
  {
   "cell_type": "markdown",
   "metadata": {},
   "source": [
    "# Solving 3-SAT Problem with Hybrid Quantum-Classical solver \n",
    "\n",
    "**Author:** Xinghui Jia \\& Siwei Tan\n",
    "\n",
    "**Date:** 9/4/2024\n",
    "\n",
    "Based on paper \"[Janus-CT: A Hybrid Approach for 3-SAT Problems by Integrating Quantum Annealer with CDCL][1]\"\n",
    "\n",
    "[1]: https://ieeexplore.ieee.org/abstract/document/10071022/\n",
    "\n",
    "\n",
    "A propositional satisfiability (SAT) problem is to find an assignment for each variable to satisfy a given Boolean formula. A typical SAT problem is composed of multiple clauses represented as a disjunction of Boolean variables. 3-SAT problem is a special case of the SAT problem that has no more than three variables in each clause. \n",
    "\n",
    "3-SAT problem is a fundamental problem in various applications, such as artificial intelligence, circuit analysis, and protein structure prediction.  Since the 3-SAT problem is an NP-complete problem, the time complexity of classical algorithms increases exponentially with the numbers of clauses and variables. In this notebook, we introduce Janus-SAT, a hybrid approach that integrates quantum annealing （QA） with the classical Conflict-Driven Clause Learning (CDCL) algorithm to enable end-to-end acceleration for solving 3-SAT problems. \n",
    "\n",
    "\n",
    "<div style=\"text-align:center;\">\n",
    "    <img src=\"./pictures/4-1.hyqsat.png\"  width=\"50%\" height=\"50%\">\n",
    "</div>\n",
    "\n",
    "The figure above shows the workflow of Janus-CT. It features a cross-iterative process, where the CDCL algorithm leverages the interpretation results of QA to guide the search and sends new clauses to the QA hardware for acceleration. The frontend receives unsatisfied clauses from the decision step and finds hard clauses that need to be deployed to the QA hardware. We perform a breadth-first traversal to generate a clause queue, where the head clauses have higher priority to be accelerated by QA. We then embed the clauses following the order to the QA hardware under topology constraints. Our embedding scheme effectively eliminates the time-consuming routing and adjustment, which reduces the embedding time to linear complexity. To minimize noise overhead, we also adjust the coefficients in the QA objective function.\n",
    "\n",
    "The frontend generates the embedding configuration with normalized coefficients and sends them to the QA hardware for acceleration. QA only needs to execute one sample rather than multiple samples as errors can be resolved during the next CDCL conflict resolving. The backend reads the outputs, e.g., energy, and variable state, to guide the CDCL exploration. In the backend, we estimate the satisfaction probability of the embedded clauses and adapt several feedback strategies. Similar to classic CDCL, Janus-CT follows propagation and conflict resolving steps. If all clauses are satisfied, Janus-CT outputs “satisfiable”, or it tries to resolve the conflict and returns to the decision step. In a word, Janus-CT algorithm takes advantage of both quantum computing and classical computing."
   ]
  },
  {
   "cell_type": "code",
   "execution_count": 1,
   "metadata": {},
   "outputs": [],
   "source": [
    "import sys\n",
    "sys.path.append('..')\n",
    "\n",
    "from janusq.hyqsat import solve_by_janusct, solve_by_minisat"
   ]
  },
  {
   "cell_type": "code",
   "execution_count": 2,
   "metadata": {},
   "outputs": [],
   "source": [
    "# Configure the model\n",
    "file_path = \"cnf_examples/uf50-01.cnf\"  # input cnf flie\n",
    "cpu_lim = 0  # limit the cpu time (s). 0 means infinite\n",
    "mem_lim = 0  # limit the memory 0 means infinite\n",
    "strictp = True  # isStrict"
   ]
  },
  {
   "cell_type": "markdown",
   "metadata": {},
   "source": [
    "### Using Janus-SAT API to Solve the Problem\n",
    "\n",
    "We can use a QA simulator or real-world QA hardware to solve the SAT roblem. For example, here we use the simualtor."
   ]
  },
  {
   "cell_type": "code",
   "execution_count": 4,
   "metadata": {},
   "outputs": [
    {
     "data": {
      "text/plain": [
       "{'restarts': 1,\n",
       " 'conflicts': 8,\n",
       " 'conflict cost': 0.063,\n",
       " 'decisions': 0,\n",
       " 'propagations': 0,\n",
       " 'conflict literals': 40,\n",
       " 'actual CPU time': 7.26835,\n",
       " 'annealing time': 0.0,\n",
       " 'quantum count': 0,\n",
       " 'quantum success number': 8,\n",
       " 'quantum conflict number': 13,\n",
       " 'quantum one time solve number': 0,\n",
       " 'isSatisfiable': True,\n",
       " 'isSat': True}"
      ]
     },
     "execution_count": 4,
     "metadata": {},
     "output_type": "execute_result"
    }
   ],
   "source": [
    "# solve by Janus-SAT\n",
    "solve_by_janusct(file_path, verb=False, cpu_lim=cpu_lim, mem_lim=mem_lim)"
   ]
  },
  {
   "cell_type": "markdown",
   "metadata": {},
   "source": [
    "Note that when using the simulator, the solving time is estimated as (CDCL time + number of QA $\\times$ 120 $\\mu s$)."
   ]
  },
  {
   "cell_type": "markdown",
   "metadata": {},
   "source": [
    "### Comparision to MiniSAT\n",
    "\n",
    "We compare it to the MiniSAT solver."
   ]
  },
  {
   "cell_type": "code",
   "execution_count": 5,
   "metadata": {},
   "outputs": [
    {
     "data": {
      "text/plain": [
       "{'restarts': 1,\n",
       " 'conflicts': 16,\n",
       " 'conflict cost': 0.109,\n",
       " 'decisions': 0,\n",
       " 'propagations': 0,\n",
       " 'conflict literals': 65,\n",
       " 'actual CPU time': 0.052606,\n",
       " 'annealing time': 0.0,\n",
       " 'quantum count': 0,\n",
       " 'quantum success number': 0,\n",
       " 'quantum conflict number': 0,\n",
       " 'quantum one time solve number': 0,\n",
       " 'isSatisfiable': True,\n",
       " 'isSat': True}"
      ]
     },
     "execution_count": 5,
     "metadata": {},
     "output_type": "execute_result"
    }
   ],
   "source": [
    "# solve by minisat\n",
    "solve_by_minisat(file_path, verb=False, cpu_lim=cpu_lim, mem_lim=mem_lim)"
   ]
  },
  {
   "cell_type": "code",
   "execution_count": null,
   "metadata": {},
   "outputs": [],
   "source": []
  }
 ],
 "metadata": {
  "kernelspec": {
   "display_name": "base",
   "language": "python",
   "name": "python3"
  },
  "language_info": {
   "codemirror_mode": {
    "name": "ipython",
    "version": 3
   },
   "file_extension": ".py",
   "mimetype": "text/x-python",
   "name": "python",
   "nbconvert_exporter": "python",
   "pygments_lexer": "ipython3",
   "version": "3.10.12"
  }
 },
 "nbformat": 4,
 "nbformat_minor": 2
}
