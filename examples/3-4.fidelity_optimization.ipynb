{
 "cells": [
  {
   "cell_type": "code",
   "execution_count": 1,
   "metadata": {},
   "outputs": [
    {
     "name": "stderr",
     "output_type": "stream",
     "text": [
      "2024-04-25 05:32:38,347\tWARNING services.py:1996 -- WARNING: The object store is using /tmp instead of /dev/shm because /dev/shm has only 67092480 bytes available. This will harm performance! You may be able to free up space by deleting files in /dev/shm. If you are inside a Docker container, you can increase /dev/shm size by passing '--shm-size=10.24gb' to 'docker run' (or add it to the run_options list in a Ray cluster config). Make sure to set this to more than 30% of available RAM.\n",
      "2024-04-25 05:32:38,486\tINFO worker.py:1724 -- Started a local Ray instance.\n"
     ]
    }
   ],
   "source": [
    "import sys\n",
    "sys.path.append('..')\n",
    "import os\n",
    "os.chdir(\"..\")\n",
    "import logging\n",
    "logging.basicConfig(level=logging.WARN)\n",
    "import ray\n",
    "ray.init(log_to_driver=False)\n",
    "from janusq.analysis.fidelity_prediction import FidelityModel\n",
    "from janusq.simulator.gate_error_model import GateErrorModel\n",
    "\n",
    "from janusq.analysis.vectorization import RandomwalkModel\n",
    "\n",
    "from janusq.data_objects.random_circuit import random_circuits\n",
    "from janusq.data_objects.backend import FullyConnectedBackend\n",
    "\n",
    "from janusq.simulator.noisy_simulator import NoisySimulator\n",
    "import random\n",
    "\n",
    "from janusq.tools.ray_func import map"
   ]
  },
  {
   "cell_type": "markdown",
   "metadata": {},
   "source": [
    "# Noise Optimization Based on JanusQ-CT\n",
    "\n",
    "\n",
    "**Author:** Congliang Lang \\& Siwei Tan  \n",
    "\n",
    "**Date:** 7/4/2024\n",
    "\n",
    "Based on \"[QuCT: A Framework for Analyzing Quantum Circuit by Extracting Contextual and Topological Features (MICRO 2023][1]\"\n",
    "\n",
    "[1]: https://scholar.google.com/scholar_url?url=https://dl.acm.org/doi/abs/10.1145/3613424.3614274%3Fcasa_token%3DffjIB1hQ4ZwAAAAA:8MajDLrDOC74WoeMf7r7AoQ-koxCa4E1TNqQg3GSDz03xUX6XdE3toNTM-YdM_e4rKEusMceJ6BGJg&hl=zh-CN&sa=T&oi=gsb&ct=res&cd=0&d=11146218754516883150&ei=42YSZpPlFL6s6rQPtt6x6Ac&scisig=AFWwaeYaiu2hyx8HUJ_7Buf9Mwom\n",
    "\n",
    "The accurate fidelity prediction enables JanusQ-CT to guide the noise optimization. In this notebook, we introduce the optimization strategies."
   ]
  },
  {
   "cell_type": "code",
   "execution_count": 2,
   "metadata": {},
   "outputs": [
    {
     "name": "stderr",
     "output_type": "stream",
     "text": [
      "100%|██████████| 84/84 [00:00<00:00, 87.44it/s] \n"
     ]
    }
   ],
   "source": [
    "# build a simulator\n",
    "\n",
    "n_qubits = 5\n",
    "n_steps = 1\n",
    "n_walks = 20\n",
    "backend = FullyConnectedBackend(n_qubits)\n",
    "\n",
    "circuits = random_circuits(backend, n_circuits=50, n_gate_list=list(range(10, 150, 10)), two_qubit_prob_list=[0.3, 0.4, 0.6], reverse=True)\n",
    "up_model = RandomwalkModel(n_steps = n_steps, n_walks = n_walks, backend = backend)\n",
    "up_model.train(circuits, multi_process=False, remove_redundancy = False)\n",
    "\n",
    "all_paths = up_model.all_paths()\n",
    "high_error_paths = random.choices(all_paths, k = 20)\n",
    "\n",
    "error_model = GateErrorModel.random_model(backend=backend, high_error_paths=high_error_paths)\n",
    "error_model.vec_model = up_model\n",
    "\n",
    "simulator = NoisySimulator(backend=backend, gate_error_model = error_model)"
   ]
  },
  {
   "cell_type": "code",
   "execution_count": 3,
   "metadata": {},
   "outputs": [
    {
     "name": "stderr",
     "output_type": "stream",
     "text": [
      "WARNING:root:len(train dataset) = 67, len(validation dataset) = 17\n",
      "WARNING:jax._src.lib.xla_bridge:No GPU/TPU found, falling back to CPU. (Set TF_CPP_MIN_LOG_LEVEL=0 and rerun for more info.)\n",
      "67it [00:00, 390846.13it/s]\n",
      "17it [00:00, 151708.87it/s]\n",
      "WARNING:root:epoch: 0, \t epoch loss = 88.63653564453125, \t validation loss = 14.182912826538086\n",
      "WARNING:root:epoch: 100, \t epoch loss = 34.140804290771484, \t validation loss = 5.9026288986206055\n",
      "WARNING:root:epoch: 200, \t epoch loss = 31.74888801574707, \t validation loss = 6.22467041015625\n",
      "WARNING:root:epoch: 300, \t epoch loss = 30.74235725402832, \t validation loss = 6.357661724090576\n",
      "WARNING:root:epoch: 400, \t epoch loss = 30.154115676879883, \t validation loss = 6.378535747528076\n",
      "WARNING:root:epoch: 500, \t epoch loss = 29.81549072265625, \t validation loss = 6.368782997131348\n",
      "WARNING:root:epoch: 600, \t epoch loss = 29.58676528930664, \t validation loss = 6.320346355438232\n",
      "WARNING:root:epoch: 700, \t epoch loss = 29.405101776123047, \t validation loss = 6.228764057159424\n",
      "WARNING:root:epoch: 800, \t epoch loss = 29.279367446899414, \t validation loss = 6.196342468261719\n",
      "WARNING:root:epoch: 900, \t epoch loss = 29.174102783203125, \t validation loss = 6.144226551055908\n",
      "WARNING:root:finish taining\n"
     ]
    }
   ],
   "source": [
    "# train a fidelity model\n",
    "ground_truth_fidelities = map(lambda circuit: simulator.obtain_circuit_fidelity(circuit)[0], circuits, show_progress=False, multi_process=False)\n",
    "\n",
    "fidelity_model = FidelityModel(up_model)\n",
    "fidelity_model.train((circuits, ground_truth_fidelities))"
   ]
  },
  {
   "cell_type": "code",
   "execution_count": 4,
   "metadata": {},
   "outputs": [],
   "source": [
    "# generate a set of benchmarking circuits\n",
    "\n",
    "from janusq.data_objects.algorithms import get_algorithm_circuits\n",
    "from janusq.optimizations.scheduling.scheduling_ct import Scheduler\n",
    "from janusq.optimizations.mapping.mapping_ct import Mapper\n",
    "algs = ['qft', 'hs', 'ising', 'qknn', 'qsvm', 'vqc', 'grover']\n",
    "benchmarking_circuits = get_algorithm_circuits(n_qubits, backend, algs)"
   ]
  },
  {
   "cell_type": "markdown",
   "metadata": {},
   "source": [
    "## Scheduling\n",
    "\n",
    "We can use Janus-CT to guide the scheduling."
   ]
  },
  {
   "cell_type": "code",
   "execution_count": 5,
   "metadata": {},
   "outputs": [
    {
     "name": "stdout",
     "output_type": "stream",
     "text": [
      "before scheduling:  0.9720016931385862 after scheduling:  0.9565717686009497\n",
      "before scheduling:  0.9825412098329267 after scheduling:  0.9834544400767603\n"
     ]
    }
   ],
   "source": [
    "scheduler = Scheduler(fidelity_model)\n",
    "\n",
    "baseline_fidelities, opt_fidelities = [], []\n",
    "for circuit in benchmarking_circuits:\n",
    "    baseline_fidelities.append(simulator.obtain_circuit_fidelity(circuit)[0])\n",
    "    \n",
    "    opt_circuit = scheduler.run(circuit, timeout=60)\n",
    "    opt_fidelity = simulator.obtain_circuit_fidelity(opt_circuit)[0]\n",
    "    \n",
    "    opt_fidelities.append(opt_fidelity)\n",
    "    print('before scheduling: ', baseline_fidelities[-1], 'after scheduling: ', opt_fidelities[-1])"
   ]
  },
  {
   "cell_type": "code",
   "execution_count": null,
   "metadata": {},
   "outputs": [
    {
     "data": {
      "text/plain": [
       "<matplotlib.legend.Legend at 0x2aade46bad40>"
      ]
     },
     "execution_count": 7,
     "metadata": {},
     "output_type": "execute_result"
    },
    {
     "data": {
      "image/png": "[encoded data removed]",
      "text/plain": [
       "<Figure size 1500x500 with 1 Axes>"
      ]
     },
     "metadata": {},
     "output_type": "display_data"
    },
    {
     "name": "stderr",
     "output_type": "stream",
     "text": [
      "*** SIGTERM received at time=1713661863 on cpu 6 ***\n",
      "PC: @     0x2aaaab548e2e  (unknown)  (unknown)\n",
      "    @     0x2aaaab465520  (unknown)  (unknown)\n",
      "[2024-04-21 01:11:03,492 E 6552 6552] logging.cc:361: *** SIGTERM received at time=1713661863 on cpu 6 ***\n",
      "[2024-04-21 01:11:03,538 E 6552 6552] logging.cc:361: PC: @     0x2aaaab548e2e  (unknown)  (unknown)\n",
      "[2024-04-21 01:11:03,580 E 6552 6552] logging.cc:361:     @     0x2aaaab465520  (unknown)  (unknown)\n"
     ]
    }
   ],
   "source": [
    "import matplotlib.pyplot as plt\n",
    "import numpy as np\n",
    "fig, axes = plt.subplots(figsize=(15, 5))\n",
    "x = [i for i in range(len(benchmarking_circuits))]\n",
    "x = np.array(x) * 20\n",
    "# axes.bar(x,reals_baseline,width =2,label='reals_baseline')\n",
    "\n",
    "\n",
    "baseline_fidelities = np.array(baseline_fidelities)\n",
    "opt_fidelities = np.array(opt_fidelities)\n",
    "axes.bar(x+4,1-baseline_fidelities,width =2,label='baseline')\n",
    "axes.bar(x+6,1-opt_fidelities,width =2,label='janusq scheduling')\n",
    "\n",
    "plt.title('comparision of error')\n",
    "axes.set_xticks(x)\n",
    "axes.set_xticklabels(algs)\n",
    "fig.legend()"
   ]
  },
  {
   "cell_type": "code",
   "execution_count": null,
   "metadata": {},
   "outputs": [],
   "source": []
  }
 ],
 "metadata": {
  "kernelspec": {
   "display_name": "Python 3 (ipykernel)",
   "language": "python",
   "name": "python3"
  },
  "language_info": {
   "codemirror_mode": {
    "name": "ipython",
    "version": 3
   },
   "file_extension": ".py",
   "mimetype": "text/x-python",
   "name": "python",
   "nbconvert_exporter": "python",
   "pygments_lexer": "ipython3",
   "version": "3.10.12"
  }
 },
 "nbformat": 4,
 "nbformat_minor": 4
}
