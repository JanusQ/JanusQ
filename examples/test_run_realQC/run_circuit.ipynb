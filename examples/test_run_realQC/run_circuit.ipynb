{
 "cells": [
  {
   "cell_type": "code",
   "execution_count": 10,
   "metadata": {},
   "outputs": [],
   "source": [
    "import sys\n",
    "sys.path.append('../..')\n",
    "import json\n",
    "import requests\n",
    "from janusq.data_objects.circuit import Circuit\n",
    "from qiskit import QuantumCircuit"
   ]
  },
  {
   "cell_type": "code",
   "execution_count": 12,
   "metadata": {},
   "outputs": [
    {
     "name": "stderr",
     "output_type": "stream",
     "text": [
      "2024-04-16 07:42:21,736 - DEBUG: Starting new HTTP connection (1): janusq.zju.edu.cn:80\n",
      "2024-04-16 07:42:21,744 - DEBUG: http://janusq.zju.edu.cn:80 \"POST /api1/circuit/time HTTP/1.1\" 200 185\n"
     ]
    },
    {
     "name": "stdout",
     "output_type": "stream",
     "text": [
      "{\"status\": 0, \"msg\": \"成功\", \"data\": {\"time\": {\"layout\": [0.5, 1, 1, 1.5], \"routing\": [0.3, 0.7, 1.0, 1.0], \"translation\": [1, 2, 2.5], \"optimization\": [0.4, 0.2, 0.2, 0.4, 0.5, 3]}}}\n",
      "[{\"name\": \"h\", \"qubits\": [0], \"params\": []}, {\"name\": \"cx\", \"qubits\": [0, 1], \"params\": []}, {\"name\": \"cx\", \"qubits\": [1, 2], \"params\": []}]\n"
     ]
    }
   ],
   "source": [
    "# test requests\n",
    "responese = requests.post(\"http://janusq.zju.edu.cn/api1/circuit/time\")\n",
    "print(responese.text)\n",
    "\n",
    "qc = QuantumCircuit(3)\n",
    "qc.h(0)\n",
    "qc.cx(0, 1)\n",
    "qc.cx(1, 2)\n",
    "circuit = Circuit(qc)\n",
    "print(json.dumps(circuit.gates))"
   ]
  },
  {
   "cell_type": "code",
   "execution_count": 3,
   "metadata": {},
   "outputs": [],
   "source": [
    "runUrl = \"http://janusq.zju.edu.cn/api1/circuit/run4tutorial\""
   ]
  },
  {
   "cell_type": "code",
   "execution_count": null,
   "metadata": {},
   "outputs": [],
   "source": [
    "def run4tutorial(circuit: Circuit, shots=None, chip=None, run_type=\"simulate\"):\n",
    "    if not isinstance(circuit, Circuit):\n",
    "        raise Exception(\"Not allowed cirucit type.\")\n",
    "    if shots is None:\n",
    "        shots = 3000\n",
    "    if not isinstance(shots, int):\n",
    "        raise Exception(\"shots type must be int\")\n",
    "    if run_type not in ['simulate', 'sqcg']:\n",
    "        raise Exception(\"run_type must be simulate or sqcg. simulate: simulator runs circuit. sqcg: run circuit with real QC.\")\n",
    "    if chip is None:\n",
    "        chip = 'all'\n",
    "    data = {\n",
    "        \"circuit\": circuit,\n",
    "        \"shots\": shots,\n",
    "        \"chip\": chip,\n",
    "        \"run_type\": run_type\n",
    "    }\n",
    "    headers = {'Content-Type': 'application/json'}\n",
    "    responese = requests.post(runUrl, json=json.dumps(data), headers=headers)\n",
    "    return json.loads(responese.text)"
   ]
  }
 ],
 "metadata": {
  "kernelspec": {
   "display_name": "Python 3",
   "language": "python",
   "name": "python3"
  },
  "language_info": {
   "codemirror_mode": {
    "name": "ipython",
    "version": 3
   },
   "file_extension": ".py",
   "mimetype": "text/x-python",
   "name": "python",
   "nbconvert_exporter": "python",
   "pygments_lexer": "ipython3",
   "version": "3.10.12"
  }
 },
 "nbformat": 4,
 "nbformat_minor": 2
}
