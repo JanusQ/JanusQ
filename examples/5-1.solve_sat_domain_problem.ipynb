{
 "cells": [
  {
   "cell_type": "markdown",
   "metadata": {},
   "source": [
    "# Solving 3-SAT Problem with Hybrid Quantum-Classical solver \n",
    "\n",
    "**Author:** Xinghui Jia \\& Siwei Tan\n",
    "\n",
    "**Date:** 9/4/2024\n",
    "\n",
    "Based on paper \"[Janus-CT: A Hybrid Approach for 3-SAT Problems by Integrating Quantum Annealer with CDCL][1]\"\n",
    "\n",
    "[1]: https://ieeexplore.ieee.org/abstract/document/10071022/\n",
    "\n",
    "\n",
    "A propositional satisfiability (SAT) problem is to find an assignment for each variable to satisfy a given Boolean formula. A typical SAT problem is composed of multiple clauses represented as a disjunction of Boolean variables. 3-SAT problem is a special case of the SAT problem that has no more than three variables in each clause. \n",
    "\n",
    "3-SAT problem is a fundamental problem in various applications, such as artificial intelligence, circuit analysis, and protein structure prediction. Since the 3-SAT problem is an NP-complete problem, the time complexity of classical algorithms increases exponentially with the number of clauses and variables. We observe that the classical CDCL algorithm has the advantage of solving larger problems, while QA is more suitable for solving small but hard problems. To combine their advantages, we introduce Janus-SAT in this notebook, a hybrid approach that integrates quantum annealing (QA) with the classical Conflict-Driven Clause Learning (CDCL) algorithm to enable end-to-end acceleration for solving 3-SAT problems. \n",
    "\n",
    "\n",
    "<div style=\"text-align:center;\">\n",
    "    <img src=\"./pictures/4-1.hyqsat.png\"  width=\"45%\" height=\"45%\">\n",
    "</div>\n",
    "\n",
    "The figure above shows the workflow of Janus-CT. It features a cross-iterative process. The CDCL algorithm searches for the solution. During the search, it identifies and sends the hard sub-problem to QA. Janus-CT designed a fast compilation flow to embed the problem and optimize the noise. It also designs multiple strategies to guide the search of CDCL using the QA results."
   ]
  },
  {
   "cell_type": "code",
   "execution_count": 1,
   "metadata": {},
   "outputs": [],
   "source": [
    "import sys\n",
    "import os\n",
    "import logging\n",
    "\n",
    "sys.path.append('..')\n",
    "\n",
    "from janusq.hyqsat import solve_by_janusct, solve_by_minisat"
   ]
  },
  {
   "cell_type": "code",
   "execution_count": 2,
   "metadata": {},
   "outputs": [],
   "source": [
    "# Configure the model\n",
    "file_path = \"cnf_examples/UF100/uf100-01.cnf\"  # input cnf flie\n",
    "cpu_lim = 0  # limit the cpu time (s). 0 means infinite\n",
    "mem_lim = 0  # limit the memory 0 means infinite\n",
    "strictp = True  # isStrict"
   ]
  },
  {
   "cell_type": "markdown",
   "metadata": {},
   "source": [
    "### Using Janus-SAT API to Solve the Problem\n",
    "\n",
    "We can use a QA simulator or real-world QA hardware to solve the SAT roblem. For example, here we use the simualtor."
   ]
  },
  {
   "cell_type": "code",
   "execution_count": 3,
   "metadata": {},
   "outputs": [
    {
     "data": {
      "text/plain": [
       "{'restarts': 1,\n",
       " 'conflicts': 7,\n",
       " 'conflict cost': 0.067,\n",
       " 'decisions': 4,\n",
       " 'decisions cost': 0.032,\n",
       " 'propagations': 325,\n",
       " 'propagations cost': 0.305,\n",
       " 'conflict literals': 50,\n",
       " 'actual CPU time': 7672.84,\n",
       " 'solving time': 4.035,\n",
       " 'annealing time': 3.48,\n",
       " 'simulation time': 1312.69,\n",
       " 'quantum count': 29,\n",
       " 'quantum success number': 11,\n",
       " 'quantum conflict number': 18,\n",
       " 'quantum one time solve number': 0,\n",
       " 'is satisfiable': True,\n",
       " 'is sat': True}"
      ]
     },
     "execution_count": 3,
     "metadata": {},
     "output_type": "execute_result"
    }
   ],
   "source": [
    "# solve by Janus-SAT\n",
    "solve_by_janusct(file_path, verb=False, cpu_lim=cpu_lim, mem_lim=mem_lim)"
   ]
  },
  {
   "cell_type": "markdown",
   "metadata": {},
   "source": [
    "Note that when using the simulator, the solving time is estimated as (CDCL time + number of QA $\\times$ 120 $\\mu s$)."
   ]
  },
  {
   "cell_type": "markdown",
   "metadata": {},
   "source": [
    "### Comparision to MiniSAT\n",
    "\n",
    "We compare it to the MiniSAT solver."
   ]
  },
  {
   "cell_type": "code",
   "execution_count": 4,
   "metadata": {},
   "outputs": [
    {
     "data": {
      "text/plain": [
       "{'restarts': 3,\n",
       " 'conflicts': 384,\n",
       " 'conflict cost': 2.588,\n",
       " 'decisions': 463,\n",
       " 'decisions cost': 0.436,\n",
       " 'propagations': 9130,\n",
       " 'propagations cost': 5.649,\n",
       " 'conflict literals': 2416,\n",
       " 'actual CPU time': 102.369,\n",
       " 'solving time': 10.346,\n",
       " 'annealing time': 0.0,\n",
       " 'simulation time': 0.0,\n",
       " 'quantum count': 0,\n",
       " 'quantum success number': 0,\n",
       " 'quantum conflict number': 0,\n",
       " 'quantum one time solve number': 0,\n",
       " 'is satisfiable': True,\n",
       " 'is sat': True}"
      ]
     },
     "execution_count": 4,
     "metadata": {},
     "output_type": "execute_result"
    }
   ],
   "source": [
    "# solve by minisat\n",
    "solve_by_minisat(file_path, verb=False, cpu_lim=cpu_lim, mem_lim=mem_lim)"
   ]
  },
  {
   "cell_type": "code",
   "execution_count": 5,
   "metadata": {},
   "outputs": [
    {
     "name": "stdout",
     "output_type": "stream",
     "text": [
      "{'restarts': {'janus': 12, 'minisat': 19}, 'conflicts': {'janus': 130, 'minisat': 1383}, 'conflict cost': {'janus': 0.9600000000000001, 'minisat': 9.043000000000001}, 'decisions': {'janus': 38, 'minisat': 1814}, 'decisions cost': {'janus': 0.29800000000000004, 'minisat': 1.7349999999999999}, 'propagations': {'janus': 3986, 'minisat': 32252}, 'propagations cost': {'janus': 3.468, 'minisat': 19.529999999999998}, 'conflict literals': {'janus': 782, 'minisat': 8726}, 'actual CPU time': {'janus': 88728.0, 'minisat': 852.031}, 'solving time': {'janus': 46.221000000000004, 'minisat': 36.023}, 'annealing time': {'janus': 39.720000000000006, 'minisat': 0.0}, 'simulation time': {'janus': 14152.242, 'minisat': 0.0}, 'quantum count': {'janus': 331, 'minisat': 0}, 'quantum success number': {'janus': 136, 'minisat': 0}, 'quantum conflict number': {'janus': 195, 'minisat': 0}, 'quantum one time solve number': {'janus': 0, 'minisat': 0}, 'is satisfiable': {'janus': 12, 'minisat': 12}, 'is sat': {'janus': 12, 'minisat': 12}}\n"
     ]
    }
   ],
   "source": [
    "all_result = {}\n",
    "dir_name = 'cnf_examples/test'\n",
    "for filename in os.listdir(dir_name):\n",
    "    janusq_res = solve_by_janusct(os.path.join(dir_name, filename), verb=False)\n",
    "    minisat_res = solve_by_minisat(os.path.join(dir_name, filename), verb=False)\n",
    "    for key in janusq_res:\n",
    "        if key not in all_result:\n",
    "            all_result[key] = {\n",
    "                'janus': 0,\n",
    "                'minisat': 0\n",
    "            }\n",
    "        all_result[key]['janus'] += janusq_res[key]\n",
    "        all_result[key]['minisat'] += minisat_res[key]\n",
    "\n",
    "print(all_result)    "
   ]
  },
  {
   "cell_type": "code",
   "execution_count": 6,
   "metadata": {},
   "outputs": [
    {
     "data": {
      "text/html": [
       "<div>\n",
       "<style scoped>\n",
       "    .dataframe tbody tr th:only-of-type {\n",
       "        vertical-align: middle;\n",
       "    }\n",
       "\n",
       "    .dataframe tbody tr th {\n",
       "        vertical-align: top;\n",
       "    }\n",
       "\n",
       "    .dataframe thead th {\n",
       "        text-align: right;\n",
       "    }\n",
       "</style>\n",
       "<table border=\"1\" class=\"dataframe\">\n",
       "  <thead>\n",
       "    <tr style=\"text-align: right;\">\n",
       "      <th></th>\n",
       "      <th>restarts</th>\n",
       "      <th>conflicts</th>\n",
       "      <th>conflict cost</th>\n",
       "      <th>decisions</th>\n",
       "      <th>decisions cost</th>\n",
       "      <th>propagations</th>\n",
       "      <th>propagations cost</th>\n",
       "      <th>conflict literals</th>\n",
       "      <th>actual CPU time</th>\n",
       "      <th>solving time</th>\n",
       "      <th>annealing time</th>\n",
       "      <th>simulation time</th>\n",
       "      <th>quantum count</th>\n",
       "      <th>quantum success number</th>\n",
       "      <th>quantum conflict number</th>\n",
       "      <th>quantum one time solve number</th>\n",
       "      <th>is satisfiable</th>\n",
       "      <th>is sat</th>\n",
       "    </tr>\n",
       "  </thead>\n",
       "  <tbody>\n",
       "    <tr>\n",
       "      <th>janus</th>\n",
       "      <td>12</td>\n",
       "      <td>130</td>\n",
       "      <td>0.960</td>\n",
       "      <td>38</td>\n",
       "      <td>0.298</td>\n",
       "      <td>3986</td>\n",
       "      <td>3.468</td>\n",
       "      <td>782</td>\n",
       "      <td>88728.000</td>\n",
       "      <td>46.221</td>\n",
       "      <td>39.72</td>\n",
       "      <td>14152.242</td>\n",
       "      <td>331</td>\n",
       "      <td>136</td>\n",
       "      <td>195</td>\n",
       "      <td>0</td>\n",
       "      <td>12</td>\n",
       "      <td>12</td>\n",
       "    </tr>\n",
       "    <tr>\n",
       "      <th>minisat</th>\n",
       "      <td>19</td>\n",
       "      <td>1383</td>\n",
       "      <td>9.043</td>\n",
       "      <td>1814</td>\n",
       "      <td>1.735</td>\n",
       "      <td>32252</td>\n",
       "      <td>19.530</td>\n",
       "      <td>8726</td>\n",
       "      <td>852.031</td>\n",
       "      <td>36.023</td>\n",
       "      <td>0.00</td>\n",
       "      <td>0.000</td>\n",
       "      <td>0</td>\n",
       "      <td>0</td>\n",
       "      <td>0</td>\n",
       "      <td>0</td>\n",
       "      <td>12</td>\n",
       "      <td>12</td>\n",
       "    </tr>\n",
       "  </tbody>\n",
       "</table>\n",
       "</div>"
      ],
      "text/plain": [
       "         restarts  conflicts  conflict cost  decisions  decisions cost  \\\n",
       "janus          12        130          0.960         38           0.298   \n",
       "minisat        19       1383          9.043       1814           1.735   \n",
       "\n",
       "         propagations  propagations cost  conflict literals  actual CPU time  \\\n",
       "janus            3986              3.468                782        88728.000   \n",
       "minisat         32252             19.530               8726          852.031   \n",
       "\n",
       "         solving time  annealing time  simulation time  quantum count  \\\n",
       "janus          46.221           39.72        14152.242            331   \n",
       "minisat        36.023            0.00            0.000              0   \n",
       "\n",
       "         quantum success number  quantum conflict number  \\\n",
       "janus                       136                      195   \n",
       "minisat                       0                        0   \n",
       "\n",
       "         quantum one time solve number  is satisfiable  is sat  \n",
       "janus                                0              12      12  \n",
       "minisat                              0              12      12  "
      ]
     },
     "execution_count": 6,
     "metadata": {},
     "output_type": "execute_result"
    }
   ],
   "source": [
    "import pandas as pd\n",
    "\n",
    "df = pd.DataFrame(all_result)\n",
    "df"
   ]
  }
 ],
 "metadata": {
  "kernelspec": {
   "display_name": "Python 3 (ipykernel)",
   "language": "python",
   "name": "python3"
  },
  "language_info": {
   "codemirror_mode": {
    "name": "ipython",
    "version": 3
   },
   "file_extension": ".py",
   "mimetype": "text/x-python",
   "name": "python",
   "nbconvert_exporter": "python",
   "pygments_lexer": "ipython3",
   "version": "3.10.14"
  }
 },
 "nbformat": 4,
 "nbformat_minor": 4
}
