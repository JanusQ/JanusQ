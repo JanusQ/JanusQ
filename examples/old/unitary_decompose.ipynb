{
 "cells": [
  {
   "cell_type": "code",
   "execution_count": 1,
   "metadata": {},
   "outputs": [],
   "source": [
    "import os\n",
    "os.chdir('/home/langcongliang/janusq')\n",
    "from qiskit import QuantumCircuit\n",
    "from qiskit.quantum_info import random_unitary\n",
    "from data_objects.circuit import qiskit_to_circuit\n",
    "from data_objects.backend import  LinearBackend\n",
    "\n",
    "import time\n",
    "\n",
    "n_qubits = 5\n",
    "backend = LinearBackend(n_qubits, 1)"
   ]
  },
  {
   "cell_type": "markdown",
   "metadata": {},
   "source": [
    "generate a random unitary"
   ]
  },
  {
   "cell_type": "code",
   "execution_count": 10,
   "metadata": {},
   "outputs": [
    {
     "data": {
      "text/plain": [
       "(32, 32)"
      ]
     },
     "execution_count": 10,
     "metadata": {},
     "output_type": "execute_result"
    }
   ],
   "source": [
    "unitary = random_unitary(2**n_qubits).data\n",
    "unitary.shape"
   ]
  },
  {
   "cell_type": "markdown",
   "metadata": {},
   "source": [
    "use benchmarking circuit unitary"
   ]
  },
  {
   "cell_type": "code",
   "execution_count": 2,
   "metadata": {},
   "outputs": [
    {
     "data": {
      "text/plain": [
       "(32, 32)"
      ]
     },
     "execution_count": 2,
     "metadata": {},
     "output_type": "execute_result"
    }
   ],
   "source": [
    "from data_objects.algorithms import get_algs\n",
    "unitary = get_algs(n_qubits, backend, ['ghz'], unitary= True)[0]\n",
    "unitary.shape"
   ]
  },
  {
   "cell_type": "code",
   "execution_count": 3,
   "metadata": {},
   "outputs": [
    {
     "data": {
      "text/plain": [
       "<memory at 0x7f3156deae90>"
      ]
     },
     "execution_count": 3,
     "metadata": {},
     "output_type": "execute_result"
    }
   ],
   "source": [
    "unitary.data"
   ]
  },
  {
   "cell_type": "markdown",
   "metadata": {},
   "source": [
    "qsd method"
   ]
  },
  {
   "cell_type": "code",
   "execution_count": 4,
   "metadata": {},
   "outputs": [],
   "source": [
    "from qiskit.synthesis.unitary.qsd import qs_decomposition\n",
    "\n",
    "start_time =time.time()\n",
    "qc = qs_decomposition(unitary)\n",
    "\n",
    "qsd_circuit = qiskit_to_circuit(qc)\n",
    "qsd_time = time.time() - start_time"
   ]
  },
  {
   "cell_type": "markdown",
   "metadata": {},
   "source": [
    "QuCT method"
   ]
  },
  {
   "cell_type": "code",
   "execution_count": 5,
   "metadata": {},
   "outputs": [
    {
     "name": "stderr",
     "output_type": "stream",
     "text": [
      "An NVIDIA GPU may be present on this machine, but a CUDA-enabled jaxlib is not installed. Falling back to cpu.\n",
      "/home/langcongliang/enter/envs/janusq/lib/python3.10/subprocess.py:1796: RuntimeWarning: os.fork() was called. os.fork() is incompatible with multithreaded code, and JAX is multithreaded, so this will likely lead to a deadlock.\n",
      "  self.pid = _posixsubprocess.fork_exec(\n"
     ]
    },
    {
     "name": "stdout",
     "output_type": "stream",
     "text": [
      "n_blocks of 5 qubits should be 4\n",
      "n_blocks of 5 qubits should be 4\n"
     ]
    },
    {
     "name": "stderr",
     "output_type": "stream",
     "text": [
      "2024-03-26 07:40:48,981\tINFO worker.py:1724 -- Started a local Ray instance.\n",
      "\u001b[36m(pid=1258138)\u001b[0m An NVIDIA GPU may be present on this machine, but a CUDA-enabled jaxlib is not installed. Falling back to cpu.\n"
     ]
    },
    {
     "name": "stdout",
     "output_type": "stream",
     "text": [
      "\u001b[36m(find_parmas_remote pid=1258138)\u001b[0m Epoch:     0 | Loss: 0.00001  | Dist: 0.00001 | Time: 0.715\n",
      "\u001b[36m(find_parmas_remote pid=1258138)\u001b[0m Epoch:   100 | Loss: 0.00003  | Dist: 0.00003 | Time: 0.004\n",
      "\u001b[36m(find_parmas_remote pid=1258138)\u001b[0m Epoch:   200 | Loss: 0.00001  | Dist: 0.00001 | Time: 0.004\n",
      "\u001b[36m(find_parmas_remote pid=1258138)\u001b[0m Epoch:   300 | Loss: 0.00000  | Dist: 0.00000 | Time: 0.004\n",
      "\u001b[36m(find_parmas_remote pid=1258138)\u001b[0m Epoch:   400 | Loss: 0.00002  | Dist: 0.00002 | Time: 0.004\n",
      "\u001b[36m(find_parmas_remote pid=1258138)\u001b[0m Epoch:   500 | Loss: 0.00000  | Dist: 0.00000 | Time: 0.004\n",
      "\u001b[36m(find_parmas_remote pid=1258138)\u001b[0m Epoch:   600 | Loss: 0.00000  | Dist: 0.00000 | Time: 0.009\n",
      "\u001b[36m(find_parmas_remote pid=1258138)\u001b[0m Epoch:   700 | Loss: 0.00001  | Dist: 0.00001 | Time: 0.009\n",
      "\u001b[36m(find_parmas_remote pid=1258138)\u001b[0m Epoch:   800 | Loss: 0.00000  | Dist: 0.00000 | Time: 0.009\n",
      "\u001b[36m(find_parmas_remote pid=1258138)\u001b[0m Epoch:   900 | Loss: 0.00000  | Dist: 0.00000 | Time: 0.009\n",
      "\u001b[36m(find_parmas_remote pid=1258138)\u001b[0m Epoch:  1000 | Loss: 0.00000  | Dist: 0.00000 | Time: 0.009\n",
      "\u001b[36m(find_parmas_remote pid=1258138)\u001b[0m Epoch:  1100 | Loss: 0.00000  | Dist: 0.00000 | Time: 0.009\n",
      "\u001b[36m(find_parmas_remote pid=1258138)\u001b[0m Epoch:  1200 | Loss: 0.00000  | Dist: 0.00000 | Time: 0.009\n",
      "\u001b[36m(find_parmas_remote pid=1258138)\u001b[0m Epoch:  1300 | Loss: 0.00000  | Dist: 0.00000 | Time: 0.009\n",
      "\u001b[36m(find_parmas_remote pid=1258138)\u001b[0m Epoch:  1400 | Loss: 0.00000  | Dist: 0.00000 | Time: 0.009\n",
      "\u001b[36m(find_parmas_remote pid=1258138)\u001b[0m Epoch:  1500 | Loss: 0.00003  | Dist: 0.00003 | Time: 0.009\n",
      "\u001b[36m(find_parmas_remote pid=1258138)\u001b[0m Epoch:     0 | Loss: 0.00000  | Dist: 0.00000 | Time: 0.032\n",
      "\u001b[36m(find_parmas_remote pid=1258138)\u001b[0m Epoch:   100 | Loss: 0.00000  | Dist: 0.00000 | Time: 0.004\n",
      "\u001b[36m(find_parmas_remote pid=1258138)\u001b[0m Epoch:   200 | Loss: 0.00000  | Dist: 0.00000 | Time: 0.004\n",
      "\u001b[36m(find_parmas_remote pid=1258138)\u001b[0m Epoch:   300 | Loss: 0.00000  | Dist: 0.00000 | Time: 0.004\n",
      "\u001b[36m(find_parmas_remote pid=1258138)\u001b[0m Epoch:   400 | Loss: 0.00000  | Dist: 0.00000 | Time: 0.004\n",
      "\u001b[36m(find_parmas_remote pid=1258138)\u001b[0m Epoch:   500 | Loss: 0.00000  | Dist: 0.00000 | Time: 0.004\n",
      "\u001b[36m(find_parmas_remote pid=1258138)\u001b[0m Epoch:     0 | Loss: 0.00000  | Dist: 0.00000 | Time: 0.005\n",
      "\u001b[36m(find_parmas_remote pid=1258138)\u001b[0m Epoch:   100 | Loss: 0.00000  | Dist: 0.00000 | Time: 0.004\n",
      "\u001b[36m(find_parmas_remote pid=1258138)\u001b[0m Epoch:   200 | Loss: 0.00000  | Dist: 0.00000 | Time: 0.004\n",
      "\u001b[36m(find_parmas_remote pid=1258138)\u001b[0m Epoch:   300 | Loss: 0.00000  | Dist: 0.00000 | Time: 0.004\n",
      "Decompose to 6 4-q unitaries. The number of solutions are 1\n"
     ]
    },
    {
     "name": "stderr",
     "output_type": "stream",
     "text": [
      "  0%|          | 0/1 [00:00<?, ?it/s]\u001b[36m(pid=1257973)\u001b[0m An NVIDIA GPU may be present on this machine, but a CUDA-enabled jaxlib is not installed. Falling back to cpu.\n",
      "\u001b[36m(pid=1258024)\u001b[0m An NVIDIA GPU may be present on this machine, but a CUDA-enabled jaxlib is not installed. Falling back to cpu.\n",
      "\u001b[36m(decompose_to_gates_remote pid=1258138)\u001b[0m iter_count= 0 now_dist= 0.2426698272970188, #gate = 11 \n",
      "\u001b[36m(decompose_to_gates_remote pid=1258138)\u001b[0m \n",
      "\u001b[36m(pid=1257313)\u001b[0m An NVIDIA GPU may be present on this machine, but a CUDA-enabled jaxlib is not installed. Falling back to cpu.\u001b[32m [repeated 133x across cluster] (Ray deduplicates logs by default. Set RAY_DEDUP_LOGS=0 to disable log deduplication, or see https://docs.ray.io/en/master/ray-observability/ray-logging.html#log-deduplication for more options.)\u001b[0m\n",
      "\u001b[36m(decompose_to_gates_remote pid=1258138)\u001b[0m iter_count= 1 now_dist= 0.20241892716023868, #gate = 34 \u001b[32m [repeated 5x across cluster]\u001b[0m\n",
      "\u001b[36m(decompose_to_gates_remote pid=1258138)\u001b[0m \u001b[32m [repeated 5x across cluster]\u001b[0m\n",
      "\u001b[36m(decompose_to_gates_remote pid=1257973)\u001b[0m iter_count= 2 now_dist= 0.19698206517132355, #gate = 26 \u001b[32m [repeated 4x across cluster]\u001b[0m\n",
      "\u001b[36m(decompose_to_gates_remote pid=1257973)\u001b[0m \u001b[32m [repeated 4x across cluster]\u001b[0m\n",
      "\u001b[36m(decompose_to_gates_remote pid=1258042)\u001b[0m iter_count= 3 now_dist= 0.19999712859720675, #gate = 32 \u001b[32m [repeated 4x across cluster]\u001b[0m\n",
      "\u001b[36m(decompose_to_gates_remote pid=1258042)\u001b[0m \u001b[32m [repeated 4x across cluster]\u001b[0m\n",
      "\u001b[36m(decompose_to_gates_remote pid=1258227)\u001b[0m iter_count= 4 now_dist= 0.21642991098484954, #gate = 29 \u001b[32m [repeated 2x across cluster]\u001b[0m\n",
      "\u001b[36m(decompose_to_gates_remote pid=1258227)\u001b[0m \u001b[32m [repeated 2x across cluster]\u001b[0m\n",
      "\u001b[36m(decompose_to_gates_remote pid=1258227)\u001b[0m iter_count= 5 now_dist= 0.21262798822857187, #gate = 29 \n",
      "\u001b[36m(decompose_to_gates_remote pid=1258227)\u001b[0m \n",
      "\u001b[36m(decompose_to_gates_remote pid=1258227)\u001b[0m iter_count= 6 now_dist= 0.2112734187264219, #gate = 29 \n",
      "\u001b[36m(decompose_to_gates_remote pid=1258227)\u001b[0m \n",
      "\u001b[36m(decompose_to_gates_remote pid=1258227)\u001b[0m iter_count= 7 now_dist= 0.2086008611988417, #gate = 29 \n",
      "\u001b[36m(decompose_to_gates_remote pid=1258227)\u001b[0m \n",
      "\u001b[36m(decompose_to_gates_remote pid=1258227)\u001b[0m iter_count= 8 now_dist= 0.2080404148110495, #gate = 29 \n",
      "\u001b[36m(decompose_to_gates_remote pid=1258227)\u001b[0m \n",
      "\u001b[36m(decompose_to_gates_remote pid=1258227)\u001b[0m iter_count= 9 now_dist= 0.1997872257004112, #gate = 40 \n",
      "\u001b[36m(decompose_to_gates_remote pid=1258227)\u001b[0m \n",
      "100%|██████████| 1/1 [01:21<00:00, 81.79s/it]\n"
     ]
    }
   ],
   "source": [
    "\n",
    "from analysis.unitary_decompostion import decompose\n",
    "\n",
    "start_time = time.time()\n",
    "quct_circuit = decompose(unitary, allowed_dist = 0.1, backend = backend)\n",
    "quct_time = time.time() - start_time"
   ]
  },
  {
   "cell_type": "markdown",
   "metadata": {},
   "source": [
    "qfast method"
   ]
  },
  {
   "cell_type": "code",
   "execution_count": 6,
   "metadata": {},
   "outputs": [],
   "source": [
    "from bqskit.compiler import Compiler\n",
    "from bqskit.ir.circuit import Circuit\n",
    "from bqskit.ir.gates import CircuitGate\n",
    "from bqskit.ir.gates.constant.cx import CNOTGate\n",
    "from bqskit.ir.gates.parameterized.u3 import U3Gate\n",
    "from bqskit.passes import QFASTDecompositionPass\n",
    "from bqskit.qis import UnitaryMatrix\n",
    "from bqskit.ext import bqskit_to_qiskit        \n",
    "circuit = Circuit(2)\n",
    "circuit.append_gate(CNOTGate(), (0, 1))\n",
    "circuit.append_gate(U3Gate(), (0,))\n",
    "cg = CircuitGate(circuit)\n",
    "circuit = Circuit.from_unitary(unitary)\n",
    "\n",
    "start_time = time.time()\n",
    "qfast = QFASTDecompositionPass(cg)\n",
    "circuit.perform(qfast)\n",
    "dist = circuit.get_unitary().get_distance_from(unitary)\n",
    "assert dist <= 1e-5\n",
    "\n",
    "qc = bqskit_to_qiskit(circuit)\n",
    "qfast_circuit = qiskit_to_circuit(qc)\n",
    "qfast_time = time.time() - start_time"
   ]
  },
  {
   "cell_type": "code",
   "execution_count": null,
   "metadata": {},
   "outputs": [],
   "source": [
    "\n",
    "synthesis_method_result = [qsd_circuit, qfast_circuit, quct_circuit]\n",
    "synthesis_method_time = [qsd_time, qfast_time, quct_time]\n",
    "for res, tim in synthesis_method_result, synthesis_method_time:\n",
    "    print(f\"#gate: {res.n_gates}, depth: {res.depth}, time: {tim} \\n\")"
   ]
  }
 ],
 "metadata": {
  "kernelspec": {
   "display_name": "Python 3 (ipykernel)",
   "language": "python",
   "name": "python3"
  },
  "language_info": {
   "codemirror_mode": {
    "name": "ipython",
    "version": 3
   },
   "file_extension": ".py",
   "mimetype": "text/x-python",
   "name": "python",
   "nbconvert_exporter": "python",
   "pygments_lexer": "ipython3",
   "version": "3.10.14"
  }
 },
 "nbformat": 4,
 "nbformat_minor": 4
}
