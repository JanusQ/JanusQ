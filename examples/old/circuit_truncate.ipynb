{
 "cells": [
  {
   "cell_type": "code",
   "execution_count": 1,
   "metadata": {},
   "outputs": [
    {
     "name": "stderr",
     "output_type": "stream",
     "text": [
      "2024-04-16 05:30:18,851\tWARNING services.py:1996 -- WARNING: The object store is using /tmp instead of /dev/shm because /dev/shm has only 67104768 bytes available. This will harm performance! You may be able to free up space by deleting files in /dev/shm. If you are inside a Docker container, you can increase /dev/shm size by passing '--shm-size=10.24gb' to 'docker run' (or add it to the run_options list in a Ray cluster config). Make sure to set this to more than 30% of available RAM.\n",
      "2024-04-16 05:30:18,998\tINFO worker.py:1724 -- Started a local Ray instance.\n"
     ]
    }
   ],
   "source": [
    "import sys\n",
    "sys.path.append('..')\n",
    "import os\n",
    "os.chdir(\"..\")\n",
    "import logging\n",
    "logging.basicConfig(level=logging.WARN)\n",
    "import ray\n",
    "ray.init(log_to_driver=False)#\n",
    "from janusq.analysis.fidelity_prediction import FidelityModel\n",
    "from janusq.baselines.fidelity_prediction.rb_prediction import RBModel\n",
    "\n",
    "from janusq.analysis.vectorization import RandomwalkModel\n",
    "\n",
    "from janusq.data_objects.backend import GridBackend\n",
    "\n",
    "from janusq.tools.ray_func import map\n",
    "\n",
    "from janusq.data_objects.circuit import SeperatableCircuit\n",
    "\n",
    "import numpy as np"
   ]
  },
  {
   "cell_type": "code",
   "execution_count": 10,
   "metadata": {},
   "outputs": [
    {
     "name": "stdout",
     "output_type": "stream",
     "text": [
      "2500\n"
     ]
    }
   ],
   "source": [
    "import io\n",
    "import pickle\n",
    "\n",
    "\n",
    "class RenameUnpickler(pickle.Unpickler):\n",
    "    def find_class(self, module, name):\n",
    "\n",
    "        renamed_module = module\n",
    "        if module.startswith(\"data_objects\"):# or module.startwith(\"analysis\") or module.startwith(\"data_objects\")\n",
    "            renamed_module = \"janusq.\" + module\n",
    "\n",
    "        return super(RenameUnpickler, self).find_class(renamed_module, name)\n",
    "\n",
    "\n",
    "def renamed_load(file_obj):\n",
    "    return RenameUnpickler(file_obj).load()\n",
    "\n",
    "\n",
    "\n",
    "import pickle\n",
    "with open(\"examples/dataset/fidelity_dataset_18q.pkl\", \"rb\") as f:\n",
    "    circuits: list[SeperatableCircuit] = renamed_load(f)   # TODO: 整理成circuits一个数组，fidelity一个数组的形式\n",
    "print(len(circuits))"
   ]
  },
  {
   "cell_type": "code",
   "execution_count": 11,
   "metadata": {},
   "outputs": [
    {
     "name": "stdout",
     "output_type": "stream",
     "text": [
      "10000 10000\n"
     ]
    }
   ],
   "source": [
    "sub_circuits, sub_fidelities = [], []\n",
    "for circuit in circuits:\n",
    "    for sub_cir in circuit.seperatable_circuits:\n",
    "        sub_circuits.append(sub_cir)\n",
    "        sub_fidelities.append(sub_cir.ground_truth_fidelity)\n",
    "\n",
    "print(len(sub_circuits), len(sub_fidelities))"
   ]
  },
  {
   "cell_type": "code",
   "execution_count": 12,
   "metadata": {},
   "outputs": [],
   "source": [
    "for cir in sub_circuits:\n",
    "    qubit_map = {}\n",
    "    for i, qubit in enumerate(cir.operated_qubits):\n",
    "        qubit_map[qubit] = i\n",
    "    cir.n_qubits = len(cir.operated_qubits)\n",
    "    cir.operated_qubits = list(range(cir.n_qubits))\n",
    "    \n",
    "    for i, g in enumerate(cir.gates):\n",
    "        g['id'] = i\n",
    "        for i in range(len(g['qubits'])):\n",
    "            g['qubits'][i] = qubit_map[g['qubits'][i]]\n"
   ]
  },
  {
   "cell_type": "code",
   "execution_count": 17,
   "metadata": {},
   "outputs": [
    {
     "data": {
      "text/plain": [
       "7500"
      ]
     },
     "execution_count": 17,
     "metadata": {},
     "output_type": "execute_result"
    }
   ],
   "source": [
    "target_circutis, target_fidelities = [], []\n",
    "for i, cir in enumerate(sub_circuits):\n",
    "    if cir.n_qubits == 5:\n",
    "        target_circutis.append(cir)\n",
    "        target_fidelities.append(sub_fidelities[i])\n",
    "len(target_circutis)"
   ]
  },
  {
   "cell_type": "code",
   "execution_count": 18,
   "metadata": {},
   "outputs": [],
   "source": [
    "import pickle\n",
    "pickle.dump((target_circutis, target_fidelities), open(\"fidelity_dataset_5q.pkl\",\"wb\"))"
   ]
  }
 ],
 "metadata": {
  "kernelspec": {
   "display_name": "Python 3",
   "language": "python",
   "name": "python3"
  },
  "language_info": {
   "codemirror_mode": {
    "name": "ipython",
    "version": 3
   },
   "file_extension": ".py",
   "mimetype": "text/x-python",
   "name": "python",
   "nbconvert_exporter": "python",
   "pygments_lexer": "ipython3",
   "version": "3.10.12"
  }
 },
 "nbformat": 4,
 "nbformat_minor": 2
}
