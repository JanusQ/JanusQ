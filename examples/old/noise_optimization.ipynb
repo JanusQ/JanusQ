{
 "cells": [
  {
   "cell_type": "markdown",
   "metadata": {},
   "source": [
    "import packages"
   ]
  },
  {
   "cell_type": "code",
   "execution_count": 9,
   "metadata": {},
   "outputs": [],
   "source": [
    "# import sys, os\n",
    "# from pathlib import Path\n",
    "# sys.path.append(str(Path(os.getcwd()))+'/..')\n",
    "\n",
    "import os\n",
    "os.chdir('..')\n",
    "\n",
    "from analysis.fidelity_prediction import FidelityModel\n",
    "from baselines.fidelity_prediction.rb_prediction import RBModel\n",
    "from simulator.gate_error_model import GateErrorModel\n",
    "\n",
    "from analysis.vectorization import RandomwalkModel\n",
    "\n",
    "from data_objects.random_circuit import random_circuits, random_circuit\n",
    "from data_objects.backend import Backend, LinearBackend, GridBackend, FullyConnectedBackend\n",
    "\n",
    "from simulator.noisy_simulator import NoisySimulator\n",
    "import random\n",
    "\n",
    "from tools.ray_func import map"
   ]
  },
  {
   "cell_type": "markdown",
   "metadata": {},
   "source": [
    "model settings"
   ]
  },
  {
   "cell_type": "code",
   "execution_count": 10,
   "metadata": {},
   "outputs": [],
   "source": [
    "n_qubits = 5\n",
    "n_steps = 2\n",
    "n_walks = 20\n",
    "backend = LinearBackend(n_qubits, 1)\n"
   ]
  },
  {
   "cell_type": "markdown",
   "metadata": {},
   "source": [
    "generate random circuit to train"
   ]
  },
  {
   "cell_type": "code",
   "execution_count": 11,
   "metadata": {},
   "outputs": [],
   "source": [
    "circuits = random_circuits(backend, n_circuits=1000, n_gate_list=[30, 50, 100], two_qubit_prob_list=[.4], reverse=True)"
   ]
  },
  {
   "cell_type": "markdown",
   "metadata": {},
   "source": [
    "train upstream model, turn a circuit to vectors using random walk"
   ]
  },
  {
   "cell_type": "code",
   "execution_count": 12,
   "metadata": {},
   "outputs": [
    {
     "name": "stdout",
     "output_type": "stream",
     "text": [
      "start random walk for 1002 circuits\n"
     ]
    },
    {
     "name": "stderr",
     "output_type": "stream",
     "text": [
      "100%|██████████| 1002/1002 [00:13<00:00, 75.99it/s]\n"
     ]
    },
    {
     "name": "stdout",
     "output_type": "stream",
     "text": [
      "count path\n",
      "device size after random walk = 9\n",
      "0's path table size = 75\n",
      "1's path table size = 150\n",
      "2's path table size = 197\n",
      "3's path table size = 150\n",
      "4's path table size = 75\n",
      "(0, 1)'s path table size = 95\n",
      "(1, 2)'s path table size = 146\n",
      "(2, 3)'s path table size = 146\n",
      "(3, 4)'s path table size = 95\n"
     ]
    }
   ],
   "source": [
    "vec_model = RandomwalkModel(n_steps = n_steps, n_walks = n_walks, backend = backend)\n",
    "gate_vecs_per_circuit = vec_model.train(circuits, multi_process=False, remove_redundancy = False)\n",
    "\n"
   ]
  },
  {
   "cell_type": "markdown",
   "metadata": {},
   "source": [
    "select interaction patterns randomly, simulate interaction between gates"
   ]
  },
  {
   "cell_type": "code",
   "execution_count": 13,
   "metadata": {},
   "outputs": [],
   "source": [
    "all_paths = vec_model.all_paths()\n",
    "high_error_paths = random.choices(all_paths, k = 20)\n",
    "\n",
    "error_model = GateErrorModel.random_model(backend=backend, high_error_paths=high_error_paths)\n",
    "error_model.vec_model = vec_model\n",
    "\n",
    "simulator = NoisySimulator(backend=backend, gate_error_model = error_model)\n",
    "ground_truth_fidelities = map(lambda circuit: simulator.obtain_circuit_fidelity(circuit)[0], circuits, show_progress=False, multi_process=True)"
   ]
  },
  {
   "cell_type": "markdown",
   "metadata": {},
   "source": [
    "train fidelity prediction model"
   ]
  },
  {
   "cell_type": "code",
   "execution_count": 14,
   "metadata": {},
   "outputs": [
    {
     "name": "stdout",
     "output_type": "stream",
     "text": [
      "len(train dataset) = 801, len(validation dataset) = 201\n"
     ]
    },
    {
     "name": "stderr",
     "output_type": "stream",
     "text": [
      "An NVIDIA GPU may be present on this machine, but a CUDA-enabled jaxlib is not installed. Falling back to cpu.\n"
     ]
    },
    {
     "name": "stdout",
     "output_type": "stream",
     "text": [
      "epoch: 0, \t epoch loss = 3643.7880859375, \t validation loss = 2.8403308391571045\n"
     ]
    },
    {
     "name": "stderr",
     "output_type": "stream",
     "text": [
      "An NVIDIA GPU may be present on this machine, but a CUDA-enabled jaxlib is not installed. Falling back to cpu.\n"
     ]
    },
    {
     "name": "stdout",
     "output_type": "stream",
     "text": [
      "epoch: 100, \t epoch loss = 294.140380859375, \t validation loss = 0.34145161509513855\n"
     ]
    },
    {
     "name": "stderr",
     "output_type": "stream",
     "text": [
      "An NVIDIA GPU may be present on this machine, but a CUDA-enabled jaxlib is not installed. Falling back to cpu.\n"
     ]
    },
    {
     "name": "stdout",
     "output_type": "stream",
     "text": [
      "epoch: 200, \t epoch loss = 259.24749755859375, \t validation loss = 0.30593249201774597\n"
     ]
    },
    {
     "name": "stderr",
     "output_type": "stream",
     "text": [
      "An NVIDIA GPU may be present on this machine, but a CUDA-enabled jaxlib is not installed. Falling back to cpu.\n"
     ]
    },
    {
     "name": "stdout",
     "output_type": "stream",
     "text": [
      "epoch: 300, \t epoch loss = 240.35653686523438, \t validation loss = 0.2865764796733856\n"
     ]
    },
    {
     "name": "stderr",
     "output_type": "stream",
     "text": [
      "An NVIDIA GPU may be present on this machine, but a CUDA-enabled jaxlib is not installed. Falling back to cpu.\n"
     ]
    },
    {
     "name": "stdout",
     "output_type": "stream",
     "text": [
      "epoch: 400, \t epoch loss = 226.6422119140625, \t validation loss = 0.2733851671218872\n"
     ]
    },
    {
     "name": "stderr",
     "output_type": "stream",
     "text": [
      "An NVIDIA GPU may be present on this machine, but a CUDA-enabled jaxlib is not installed. Falling back to cpu.\n"
     ]
    },
    {
     "name": "stdout",
     "output_type": "stream",
     "text": [
      "epoch: 500, \t epoch loss = 215.159912109375, \t validation loss = 0.2625362277030945\n"
     ]
    },
    {
     "name": "stderr",
     "output_type": "stream",
     "text": [
      "An NVIDIA GPU may be present on this machine, but a CUDA-enabled jaxlib is not installed. Falling back to cpu.\n"
     ]
    },
    {
     "name": "stdout",
     "output_type": "stream",
     "text": [
      "epoch: 600, \t epoch loss = 205.74412536621094, \t validation loss = 0.25464412569999695\n"
     ]
    },
    {
     "name": "stderr",
     "output_type": "stream",
     "text": [
      "An NVIDIA GPU may be present on this machine, but a CUDA-enabled jaxlib is not installed. Falling back to cpu.\n"
     ]
    },
    {
     "name": "stdout",
     "output_type": "stream",
     "text": [
      "epoch: 700, \t epoch loss = 198.04273986816406, \t validation loss = 0.24795739352703094\n"
     ]
    },
    {
     "name": "stderr",
     "output_type": "stream",
     "text": [
      "An NVIDIA GPU may be present on this machine, but a CUDA-enabled jaxlib is not installed. Falling back to cpu.\n"
     ]
    },
    {
     "name": "stdout",
     "output_type": "stream",
     "text": [
      "epoch: 800, \t epoch loss = 191.90753173828125, \t validation loss = 0.24267011880874634\n"
     ]
    },
    {
     "name": "stderr",
     "output_type": "stream",
     "text": [
      "An NVIDIA GPU may be present on this machine, but a CUDA-enabled jaxlib is not installed. Falling back to cpu.\n"
     ]
    },
    {
     "name": "stdout",
     "output_type": "stream",
     "text": [
      "epoch: 900, \t epoch loss = 187.05735778808594, \t validation loss = 0.23899640142917633\n",
      "finish taining\n"
     ]
    }
   ],
   "source": [
    "fidelity_model = FidelityModel(vec_model)\n",
    "fidelity_model.train((circuits, ground_truth_fidelities))"
   ]
  },
  {
   "cell_type": "markdown",
   "metadata": {},
   "source": [
    "prepare benchmark circuit"
   ]
  },
  {
   "cell_type": "code",
   "execution_count": 15,
   "metadata": {},
   "outputs": [],
   "source": [
    "from data_objects.algorithms import get_algs\n",
    "from optimizations.scheduling.scheduling_ct import Scheduler\n",
    "from optimizations.mapping.mapping_ct import Mapper\n",
    "scheduler = Scheduler(fidelity_model)\n",
    "mapper = Mapper(fidelity_model)\n",
    "\n",
    "algs = ['qft', 'hs', 'ising', 'qknn', 'qsvm', 'vqc', 'ghz', 'grover']\n",
    "benchmarking_circuits = get_algs(n_qubits, backend, algs)"
   ]
  },
  {
   "cell_type": "markdown",
   "metadata": {},
   "source": [
    "scheduling optimize and mapping optimize"
   ]
  },
  {
   "cell_type": "code",
   "execution_count": 16,
   "metadata": {},
   "outputs": [
    {
     "name": "stdout",
     "output_type": "stream",
     "text": [
      "before scheduling:  0.7796157504008621 after scheduling:  0.7246540833456592\n",
      "before selection: 0.37702417 after selection: 0.37702417\n",
      "before mapping:  0.8171105895641915 after mapping:  0.8423593356909024\n",
      "\n",
      "\n",
      "before scheduling:  0.5767192456023078 after scheduling:  0.5772416372380585\n",
      "before selection: 0.7333364 after selection: 0.7333364\n",
      "before mapping:  0.6311199106340426 after mapping:  0.7259243644359175\n",
      "\n",
      "\n",
      "before scheduling:  0.6718115651314944 after scheduling:  0.8237990546728048\n",
      "before selection: 0.64050984 after selection: 0.6405099\n",
      "before mapping:  0.6818916852324699 after mapping:  0.5661681038839569\n",
      "\n",
      "\n",
      "before scheduling:  0.5763657999604754 after scheduling:  0.6650683067573752\n",
      "before selection: 0.51898104 after selection: 0.5189811\n",
      "before mapping:  0.5961363606771461 after mapping:  0.6378208686813547\n",
      "\n",
      "\n",
      "before scheduling:  0.5670383551766487 after scheduling:  0.6568080972280069\n",
      "before selection: 0.6463035 after selection: 0.64630365\n",
      "before mapping:  0.652150670825161 after mapping:  0.6347090222532159\n",
      "\n",
      "\n",
      "before scheduling:  0.7652441660732874 after scheduling:  0.76961216456382\n",
      "before selection: -0.12937881 after selection: -0.12937883\n",
      "before mapping:  0.7683026383590263 after mapping:  0.7718572940616953\n",
      "\n",
      "\n",
      "before scheduling:  0.07138381927428891 after scheduling:  0.0966514913380141\n",
      "before selection: 0.79481244 after selection: 0.7948126\n",
      "before mapping:  0.038484399131070435 after mapping:  0.030541113501680865\n",
      "\n",
      "\n",
      "before scheduling:  0.2685259899601794 after scheduling:  0.2683524596367284\n",
      "before selection: 0.12432704 after selection: 0.124327056\n",
      "before mapping:  0.2674157989220297 after mapping:  0.26914455543501375\n",
      "\n",
      "\n"
     ]
    }
   ],
   "source": [
    "no_opt, scheduling_opt, no_mapping, mapping_opt = [],[],[],[]\n",
    "for circuit in benchmarking_circuits:\n",
    "    opt_circuit = scheduler.run(circuit, timeout=30)\n",
    "    \n",
    "    before_opt_fidelity = simulator.obtain_circuit_fidelity(circuit)[0]\n",
    "    after_opt_fidelity = simulator.obtain_circuit_fidelity(opt_circuit)[0]\n",
    "    print('before scheduling: ', before_opt_fidelity, 'after scheduling: ', after_opt_fidelity)\n",
    "    no_opt.append(before_opt_fidelity)\n",
    "    scheduling_opt.append(after_opt_fidelity)\n",
    "\n",
    "    mapping_backend = LinearBackend(n_qubits)\n",
    "    \n",
    "    opt_circuit, candicates = mapper.run(circuit, mapping_backend, return_candidates=True)\n",
    "    \n",
    "    before_opt_fidelity = [\n",
    "        simulator.obtain_circuit_fidelity(circuit)[0]\n",
    "        for circuit in candicates\n",
    "    ]\n",
    "    before_opt_fidelity = sum(before_opt_fidelity)/len(before_opt_fidelity)\n",
    "    after_opt_fidelity = simulator.obtain_circuit_fidelity(opt_circuit)[0]\n",
    "    no_mapping.append(before_opt_fidelity)\n",
    "    mapping_opt.append(after_opt_fidelity)\n",
    "    print('before mapping: ', before_opt_fidelity, 'after mapping: ', after_opt_fidelity)\n",
    "    print('\\n')\n",
    "    \n",
    "# print(no_opt.mean())\n",
    "# print(scheduling_opt.mean())\n",
    "# print(no_mapping.mean())\n",
    "# print(mapping_opt.mean())"
   ]
  },
  {
   "cell_type": "code",
   "execution_count": 17,
   "metadata": {},
   "outputs": [
    {
     "data": {
      "image/png": "[encoded data removed]",
      "text/plain": [
       "<Figure size 1500x1000 with 1 Axes>"
      ]
     },
     "metadata": {},
     "output_type": "display_data"
    }
   ],
   "source": [
    "import matplotlib.pyplot as plt\n",
    "import numpy as np\n",
    "fig, axes = plt.subplots(figsize=(15, 10))  \n",
    "x = [i for i in range(len(benchmarking_circuits))]\n",
    "x = np.array(x) * 20\n",
    "# axes.bar(x,reals_baseline,width =2,label='reals_baseline')\n",
    "\n",
    "\n",
    "no_opt = np.array(no_opt)\n",
    "scheduling_opt = np.array(scheduling_opt)\n",
    "no_mapping = np.array(no_mapping)\n",
    "mapping_opt = np.array(mapping_opt)\n",
    "axes.bar(x+2,scheduling_opt/no_opt,width =2,label='reals_scheduling')\n",
    "axes.bar(x+4,no_mapping/no_opt,width =2,label='reals_no_mapping')\n",
    "axes.bar(x+6,mapping_opt/no_opt,width =2,label='reals_mapping')\n",
    "\n",
    "axes.set_xticks(x)\n",
    "axes.set_xticklabels(algs)\n",
    "fig.legend()\n",
    "fig.savefig('improve.svg')"
   ]
  },
  {
   "cell_type": "markdown",
   "metadata": {},
   "source": [
    "remove real world noise"
   ]
  },
  {
   "cell_type": "code",
   "execution_count": 18,
   "metadata": {},
   "outputs": [
    {
     "name": "stdout",
     "output_type": "stream",
     "text": [
      "7\n",
      "20\n"
     ]
    }
   ],
   "source": [
    "all_path_errors = fidelity_model.get_all_path_errors()\n",
    "top_k = len(all_path_errors) // 10\n",
    "identified_path = set(path for path, error in all_path_errors[:top_k])\n",
    "\n",
    "remain_path = set(high_error_paths) - identified_path\n",
    "\n",
    "\n",
    "\n",
    "print(len(remain_path))\n",
    "print(len(high_error_paths))\n",
    "\n",
    "\n",
    "opt_error_model = GateErrorModel.random_model(backend=backend, high_error_paths=remain_path)\n",
    "opt_error_model.vec_model = vec_model\n",
    "\n",
    "opt_simulator = NoisySimulator(backend=backend, gate_error_model = error_model)\n",
    "opt_ground_truth_fidelities = map(lambda circuit: simulator.obtain_circuit_fidelity(circuit)[0], circuits, show_progress=False, multi_process=True)"
   ]
  },
  {
   "cell_type": "markdown",
   "metadata": {},
   "source": [
    "Through the fidelity model, we find the path that is most likely to generate noise. We can physically avoid such paths, thereby effectively improving fidelity."
   ]
  },
  {
   "cell_type": "code",
   "execution_count": 19,
   "metadata": {},
   "outputs": [
    {
     "name": "stdout",
     "output_type": "stream",
     "text": [
      "0.5832225548902196 0.5837449101796408\n"
     ]
    }
   ],
   "source": [
    "print(np.array(ground_truth_fidelities).mean(), np.array(opt_ground_truth_fidelities).mean())"
   ]
  },
  {
   "cell_type": "code",
   "execution_count": null,
   "metadata": {},
   "outputs": [],
   "source": []
  }
 ],
 "metadata": {
  "kernelspec": {
   "display_name": "janusq",
   "language": "python",
   "name": "python3"
  },
  "language_info": {
   "codemirror_mode": {
    "name": "ipython",
    "version": 3
   },
   "file_extension": ".py",
   "mimetype": "text/x-python",
   "name": "python",
   "nbconvert_exporter": "python",
   "pygments_lexer": "ipython3",
   "version": "3.10.14"
  }
 },
 "nbformat": 4,
 "nbformat_minor": 2
}
