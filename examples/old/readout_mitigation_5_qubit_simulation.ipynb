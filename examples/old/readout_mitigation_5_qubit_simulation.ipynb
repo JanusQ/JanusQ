{
 "cells": [
  {
   "cell_type": "markdown",
   "metadata": {},
   "source": [
    "**Readout Calibration Introduction**\n",
    "\n",
    "Quantum readout is the process of extracting information from quantum bits (qubits) and converting it into classical bits. In most quantum algorithms, outputs are probability distributions of bit strings, obtained through repeated circuit executions. These bit strings exist in a space represented by $\\left \\{ 0,1 \\right \\} ^{N_q}$, where $N_q$ is the number of qubits. The observed probability of a specific bit string reflects its amplitude in the measured quantum superposition state. At a physical level, readout involves probing the qubit system and estimating its quantum state using physical quantities. For instance, in superconducting transmon qubits, readout is achieved by coupling the qubit's frequency $\\omega_q$ with the frequency of a readout resonator $\\omega_r$. The state of each qubit is classified based on the frequency shift detected in the readout resonator.\n",
    "\n",
    "$$\n",
    "\\begin{equation*} \n",
    "    \\begin{aligned}\n",
    "        \\Delta \\omega_r = g^2/|\\omega_q-\\omega_r|\n",
    "    \\end{aligned}\n",
    "\\end{equation*}\n",
    "$$\n",
    "where $g$ is a constant coupling strength[<sup>[1]</sup>](#R1). By comparing the drift with a threshold, we can discriminate whether each bit is 0 or 1 in the bit string. "
   ]
  },
  {
   "cell_type": "markdown",
   "metadata": {},
   "source": [
    "**Matrix-based Calibration**\n",
    "\n",
    "Mathematically, readout error perturbs the probability distribution, expressed as a linear transformation from the ideal distribution $P_{\\text{ideal}}$ to the measured distribution $P_{\\text{measured}}$:\n",
    "\n",
    "$$\n",
    "\\begin{equation*} \n",
    "\\small\n",
    "P_{measured} = M P_{ideal},\n",
    "\\end{equation*}\n",
    "$$\n",
    "where $M$ is defined as the noise matrix with the size of $2^{N_q} \\times 2^{N_q}$. Theoretically, the noise matrix can be characterized by running benchmarking circuits with every basis state as input.\n",
    "\n",
    "<div style=\"text-align:center;\">\n",
    "    <img src=\"background.jpg\"  width=\"50%\" height=\"50%\">\n",
    "</div>\n",
    "\n",
    "\n",
    "In step 1 of Figure , $2^{N_q}$ benchmarking circuits are executed, preparing all possible basis states (no superposition). We assume the initial state to be ideal, prepared by high-fidelity single-qubit gates, similar to prior works[<sup>[2]</sup>](#R2)[<sup>[3]</sup>](#R3). The noise matrix is then filled based on the output probability distribution after execution:\n",
    "\n",
    "$$\n",
    "\\begin{equation*} \n",
    "\\begin{aligned}\n",
    "& M[x][y]=P(measure=x ~~|~~ prepare=y).\n",
    "\\end{aligned}\n",
    "\\end{equation*}\n",
    "$$\n",
    "\n",
    "After getting the noise matrix $M$, we can calibrate any measured probability distribution from this quantum device using its inverse $M^{-1}$, namely calibration matrix. The calibration is conducted via an MVM operator between the measured distribution and the calibration matrix:\n",
    "$$\n",
    "\\begin{equation*} \n",
    "\\small\n",
    "P_{calibrated} = M^{-1} P_{measured}.\n",
    "\\end{equation*}\n",
    "$$\n",
    "The step 2 in Figure is an example of a 2-qubit calibration. \n",
    "\n",
    "The existing methodologies[<sup>[4]</sup>](#R4)[<sup>[5]</sup>](#R5)[<sup>[6]</sup>](#R6) are fundamentally limited in either scalability or accuracy. Inspired by the classical finite element method (FEM), a formal method to model the complex interaction between elements, we present our calibration framework named QuFEM."
   ]
  },
  {
   "cell_type": "code",
   "execution_count": 1,
   "metadata": {},
   "outputs": [
    {
     "name": "stderr",
     "output_type": "stream",
     "text": [
      "/home/zhanghanyu/anaconda3/envs/read_sp/lib/python3.11/site-packages/tqdm/auto.py:21: TqdmWarning: IProgress not found. Please update jupyter and ipywidgets. See https://ipywidgets.readthedocs.io/en/stable/user_install.html\n",
      "  from .autonotebook import tqdm as notebook_tqdm\n",
      "2024-04-02 08:17:48,891\tINFO util.py:154 -- Missing packages: ['ipywidgets']. Run `pip install -U ipywidgets`, then restart the notebook server for rich notebook output.\n"
     ]
    }
   ],
   "source": [
    "import os\n",
    "os.chdir('..')\n",
    "\n",
    "from simulator.noisy_simulator import NoisySimulator\n",
    "from data_objects.backend import LinearBackend\n",
    "from simulator.readout_error_model import ReadoutErrorModel\n",
    "from optimizations.readout_mitigation.fem import Mitigator\n",
    "from optimizations.readout_mitigation.fem import IterativeSamplingProtocol, EnumeratedProtocol\n",
    "from data_objects.algorithms import get_algs, ibu_response_matrix\n",
    "from qiskit.quantum_info.analysis import hellinger_fidelity\n",
    "from optimizations.readout_mitigation.fem.tools import npformat_to_statuscnt,statuscnt_to_npformat\n",
    "from time import time\n",
    "import pickle\n",
    "import matplotlib.pyplot as plt\n",
    "import logging\n",
    "logging.getLogger('qiskit').setLevel(logging.ERROR)"
   ]
  },
  {
   "cell_type": "markdown",
   "metadata": {},
   "source": [
    "**Run a 5-qubit GHZ Circuit on the Simulator**\n",
    "\n",
    "+ n_qubits: The number of qubits\n",
    "\n",
    "+ samples: Circuit sampling frequency\n",
    "\n",
    "+ output_noise: The noisy output\n",
    "\n",
    "+ output_ideal: The ideal result\n",
    "\n",
    "**Linear Backend Simulator**\n",
    "\n",
    "+ topology: Each qubit is connected to its two adjacent qubits\n",
    "\n",
    "+ adjlist: Describes the distance relationship between qubits"
   ]
  },
  {
   "cell_type": "code",
   "execution_count": 2,
   "metadata": {},
   "outputs": [
    {
     "name": "stdout",
     "output_type": "stream",
     "text": [
      "Uncalibrated Algorithm Fidelity :  0.7510968013443864\n"
     ]
    }
   ],
   "source": [
    "n_qubits = 5\n",
    "samples = 10000\n",
    "backend = LinearBackend(n_qubits, 1)\n",
    "simulator = NoisySimulator(\n",
    "    backend, readout_error_model = ReadoutErrorModel.random_model(backend))\n",
    "\n",
    "circuit = get_algs(n_qubits, backend, algs = ['ghz'])[0]\n",
    "output_noise = simulator.execute(circuit,samples)\n",
    "\n",
    "outout_ideal = {'1'*n_qubits:samples*0.5,'0'*n_qubits:samples*0.5}\n",
    "print(\"Uncalibrated Algorithm Fidelity : \",hellinger_fidelity(outout_ideal,output_noise))"
   ]
  },
  {
   "cell_type": "markdown",
   "metadata": {},
   "source": [
    "**Baseline: Iterative Bayesian Unfolding**\n",
    "\n",
    "The Google Quantum Team introduces the Iterative Bayesian Updates (IBU)[<sup>[4]</sup>](#R4) method, which iteratively utilizes new measurement data. This approach combines prior information with fresh data using Bayesian inference to derive the posterior distribution of the system's state. Through successive iterations, this posterior distribution gradually refines, thereby improving the precision of quantum system calibration. Let $\\vec{p}$ be the noisy distribution, $\\vec{\\theta } ^{k}$ be the kth iteration guess of the error-mitigated distribution and $R$ be the noise matrix. Then, the IBU update rule is:\n",
    "$$\n",
    "    \\begin{aligned}\\vec{\\theta } ^{k+1} &=\\sum_{i=1}^{2^{n} } p_{i} \\cdot \\frac{R_{i}\\odot \\vec{\\theta } ^{k} }{R_{i}\\vec{\\theta } ^{k} }\\\\&= \\vec{\\theta } ^{k}\\odot \\left ( R^{T} \\left ( \\vec{p}\\oslash R \\vec{\\theta } ^{k} \\right )  \\right ) \\end{aligned}\n",
    "$$\n",
    "Here, $\\odot$ is element-wise multiplication, and $\\oslash$ is elementwise division."
   ]
  },
  {
   "cell_type": "markdown",
   "metadata": {},
   "source": [
    "**IBU Parameterss**\n",
    "\n",
    "+ matrices: a list of 2x2 conditional probability tables representing error probabilities for each qubit\n",
    "\n",
    "+ method: \"reduced\" or \"full\"\n",
    "\n",
    "+ max_iters: Maximum number of iterations\n",
    "\n",
    "+ tol: Convergence value\n",
    "\n",
    "+ ham_dist: Hamming distance"
   ]
  },
  {
   "cell_type": "code",
   "execution_count": 3,
   "metadata": {},
   "outputs": [
    {
     "name": "stderr",
     "output_type": "stream",
     "text": [
      "2024-04-02 08:18:00.296210: W tensorflow/compiler/tf2tensorrt/utils/py_utils.cc:38] TF-TRT Warning: Could not find TensorRT\n"
     ]
    }
   ],
   "source": [
    "from baselines.readout_calibration.IBU.src.IBU import IBU\n",
    "from baselines.readout_calibration.IBU.utils.qc_utils import *\n",
    "from baselines.readout_calibration.IBU.utils.data_utils import *\n",
    "\n",
    "matrices = []\n",
    "for i in range(n_qubits):\n",
    "    qc_t_0 = ibu_response_matrix(n_qubits, backend,i,0)[0]\n",
    "    qc_t_1 = ibu_response_matrix(n_qubits, backend,i,1)[0]\n",
    "    output_0 = simulator.execute(qc_t_0,1000)\n",
    "    output_1 = simulator.execute(qc_t_1,1000)\n",
    "    p_0_0 = output_0['0']/1000\n",
    "    p_1_1 = output_1['1']/1000\n",
    "    mat = np.array([[p_0_0, 1-p_0_0], [1-p_1_1, p_1_1]])\n",
    "    matrices.append(mat)\n",
    "\n",
    "\n",
    "params = {\n",
    "    \"exp_name\": \"ghz\",\n",
    "    \"method\": \"reduced\",  \n",
    "    \"library\": \"jax\",  \n",
    "    \"num_qubits\": n_qubits,\n",
    "    \"max_iters\": 1000,\n",
    "    \"tol\": 1e-5,\n",
    "    \"use_log\": False,  \n",
    "    \"verbose\": True,\n",
    "    \"init\": \"unif\",  \n",
    "    \"smoothing\": 1e-8,\n",
    "    \"ham_dist\": 3\n",
    "}"
   ]
  },
  {
   "cell_type": "code",
   "execution_count": 4,
   "metadata": {},
   "outputs": [
    {
     "name": "stderr",
     "output_type": "stream",
     "text": [
      "INFO:jax._src.xla_bridge:Unable to initialize backend 'cuda': \n",
      "INFO:jax._src.xla_bridge:Unable to initialize backend 'rocm': module 'jaxlib.xla_extension' has no attribute 'GpuAllocatorConfig'\n",
      "INFO:jax._src.xla_bridge:Unable to initialize backend 'tpu': INTERNAL: Failed to open libtpu.so: libtpu.so: cannot open shared object file: No such file or directory\n",
      "WARNING:jax._src.xla_bridge:An NVIDIA GPU may be present on this machine, but a CUDA-enabled jaxlib is not installed. Falling back to cpu.\n"
     ]
    },
    {
     "name": "stdout",
     "output_type": "stream",
     "text": [
      "Processing dictionary of counts...\n"
     ]
    },
    {
     "name": "stderr",
     "output_type": "stream",
     "text": [
      "Computing strings within Hamming radius 1: 100%|██████████| 31/31 [00:00<00:00, 247663.66it/s]\n",
      "Counts to vector: 100%|██████████| 31/31 [00:00<00:00, 596437.72it/s]\n",
      "Encoding observed bitstrings as matrix: 100%|██████████| 31/31 [00:00<00:00, 360175.69it/s]\n",
      "Encoding expanded set of bitstrings as matrix: 100%|██████████| 32/32 [00:00<00:00, 357913.94it/s]\n"
     ]
    },
    {
     "name": "stdout",
     "output_type": "stream",
     "text": [
      "Initializing guess with uniform distribution over the expanded set of bitstrings...\n"
     ]
    },
    {
     "name": "stderr",
     "output_type": "stream",
     "text": [
      "IBU Iteration:   6%|▌         | 56/1000 [00:00<00:14, 63.89it/s]\n"
     ]
    },
    {
     "name": "stdout",
     "output_type": "stream",
     "text": [
      "Waiting for JAX to return control flow...\n",
      "Algorithm Fidelity with IBU :  0.9513115286827087\n",
      "IBU time:  0.9220092296600342\n"
     ]
    }
   ],
   "source": [
    "ibu = IBU(matrices, params)\n",
    "ibu.set_obs(dict(output_noise))\n",
    "ibu.initialize_guess()\n",
    "t_ibu_1 = time()\n",
    "t_sol, max_iters, tracker = ibu.train(params[\"max_iters\"], tol=params[\"tol\"], soln=outout_ideal)\n",
    "t_ibu_2 = time()\n",
    "outout_ibu = ibu.guess_as_dict()\n",
    "t_ibu = t_ibu_2 - t_ibu_1\n",
    "\n",
    "print(\"Algorithm Fidelity with IBU : \",hellinger_fidelity(outout_ideal,outout_ibu).item())\n",
    "print(\"IBU time: \",t_ibu)"
   ]
  },
  {
   "cell_type": "markdown",
   "metadata": {},
   "source": [
    "**QuFEM: Fast and Accurate Quantum Readout Calibration Using the Finite Element Method**\n",
    "\n",
    "QuFEM is a framework for calibrating the measurement error using finite element method. It reduces the time complexity of benchmarking circuits for noise matrix characterization from exponential $\\mathscr{O}(2^n)$ to polynomial $\\mathscr{O}(n^2)$ and accelerates the end-to-end calibration.\n",
    "\n",
    "<div style=\"text-align:center;\">\n",
    "    <img src=\"FEM.jpg\"  width=\"40%\" height=\"40%\">\n",
    "</div>\n",
    "\n",
    "QuFEM divides the qubits involved in the measured circuit output into multiple groups. It defines the circuit output $P_{measured}$ as $P_{1}$, and the calibration output $P_{calibrated}$ as $P_{L+1}$. QuFEM reformulates the calibration as an iterative process with a series of sub-noise matrices.\n",
    "$$\n",
    "\\begin{aligned} \n",
    "    \\text{Iter. 1:~~~} & P_{2} = (M_{1,1} \\otimes M_{1,2} \\otimes \\cdots M_{1,K})^{-1} P_{1}, \\\\\n",
    "    \\text{Iter. 2:~~~} & P_{3} = (M_{2,1} \\otimes M_{2,2} \\otimes \\cdots M_{2,K})^{-1} P_{2}, \\\\\n",
    "    &  \\cdots, \\\\\n",
    "    \\text{Iter. $L$:~~~} & P_{L+1} = (M_{L,1} \\otimes M_{L,2} \\otimes \\cdots M_{L,K})^{-1} P_{L}, \\\\\n",
    "\\end{aligned}\n",
    "$$\n",
    "where $M_{i,j}$ is the sub-noise matrix of the $j^{{\\th}}$ qubit group in the $i^{{\\th}}$ iteration. $\\otimes$ is the tensor-product to composite these sub-noise matrices. $P_2$ to $P_L$ serve as the intermediate probability distributions that iteratively approximate the ideal probability distribution."
   ]
  },
  {
   "cell_type": "markdown",
   "metadata": {},
   "source": [
    "**Benchmarking Circuit Generation**\n",
    "\n",
    "To reduce the number of benchmarking circuits and maintain high accuracy, we identify the circuits that enable the high qubit interactions and profile their execution results, while the circuits with low interactions mainly involve qubit-independent errors so that their outputs can be easily modeled without program executions. We define a metric $\\theta$ to distinguish the critical interaction.\n",
    "$$\n",
    "    \\begin{aligned}\n",
    "        \\theta = \\frac{interact(q_i.ideal=x \\rightarrow q_j.ideal=y)}{num(q_i.ideal=x \\rightarrow q_j.ideal=y)}  \\\\\n",
    "    \\end{aligned}\n",
    "$$\n",
    " $\\theta$ naturally decreases with the number of benchmarking circuits. We set a threshold $\\alpha$ to specify the desired accuracy and reduce the number of benchmarking circuits.\n"
   ]
  },
  {
   "cell_type": "code",
   "execution_count": 5,
   "metadata": {},
   "outputs": [
    {
     "name": "stdout",
     "output_type": "stream",
     "text": [
      "new filter:  (1, 3, 1, 2)\n",
      "new filter:  (3, 4, 0, 0)\n",
      "new filter:  (4, 0, 1, 0)\n",
      "new filter:  (4, 0, 1, 0)\n",
      "new filter:  (2, 1, 0, 0)\n",
      "new filter:  (2, 1, 0, 0)\n",
      "new filter:  (3, 1, 0, 2)\n",
      "new filter:  (4, 1, 1, 0)\n",
      "new filter:  (1, 4, 1, 0)\n",
      "new filter:  (3, 4, 0, 0)\n",
      "new filter:  (2, 3, 0, 2)\n",
      "new filter:  (3, 1, 1, 0)\n",
      "new filter:  (4, 0, 0, 0)\n",
      "new filter:  (3, 1, 0, 1)\n",
      "new filter:  (3, 1, 0, 0)\n",
      "new filter:  (2, 3, 0, 0)\n",
      "new filter:  (1, 4, 1, 1)\n",
      "new filter:  (1, 2, 1, 2)\n",
      "new filter:  (1, 2, 1, 0)\n",
      "new filter:  (2, 3, 0, 1)\n",
      "new filter:  (4, 1, 1, 1)\n",
      "new filter:  (1, 2, 1, 2)\n",
      "new filter:  (1, 4, 1, 2)\n",
      "new filter:  (3, 2, 0, 0)\n",
      "new filter:  (2, 4, 0, 1)\n",
      "new filter:  (2, 3, 0, 1)\n",
      "new filter:  (3, 2, 0, 1)\n",
      "new filter:  (4, 3, 1, 0)\n",
      "new filter:  (2, 4, 0, 2)\n",
      "new filter:  (2, 0, 0, 1)\n",
      "new filter:  (3, 2, 0, 2)\n",
      "new filter:  (3, 4, 0, 1)\n",
      "new filter:  (1, 3, 1, 2)\n",
      "new filter:  (4, 2, 1, 0)\n",
      "new filter:  (4, 3, 1, 2)\n",
      "new filter:  (2, 1, 0, 2)\n",
      "new filter:  (3, 2, 0, 2)\n",
      "new filter:  (3, 1, 1, 1)\n",
      "new filter:  (3, 4, 1, 2)\n",
      "new filter:  (4, 2, 1, 2)\n",
      "new filter:  (4, 3, 1, 1)\n",
      "new filter:  (4, 2, 0, 0)\n",
      "new filter:  (3, 4, 1, 0)\n",
      "new filter:  (3, 1, 1, 0)\n",
      "new filter:  (4, 0, 1, 1)\n",
      "new filter:  (3, 4, 0, 2)\n",
      "new filter:  (4, 1, 0, 2)\n",
      "new filter:  (3, 0, 0, 1)\n",
      "new filter:  (2, 0, 0, 2)\n",
      "new filter:  (1, 0, 1, 2)\n",
      "new filter:  (3, 2, 1, 0)\n",
      "new filter:  (0, 1, 0, 1)\n",
      "new filter:  (3, 1, 0, 2)\n",
      "new filter:  (3, 2, 1, 1)\n",
      "new filter:  (4, 1, 1, 2)\n",
      "new filter:  (4, 1, 0, 1)\n",
      "new filter:  (4, 0, 1, 2)\n",
      "new filter:  (3, 4, 1, 1)\n",
      "new filter:  (3, 0, 0, 2)\n",
      "new filter:  (0, 3, 0, 0)\n",
      "new filter:  (3, 2, 1, 2)\n",
      "new filter:  (3, 4, 1, 2)\n",
      "new filter:  (4, 3, 0, 1)\n",
      "new filter:  (4, 1, 0, 0)\n",
      "new filter:  (2, 0, 1, 0)\n",
      "new filter:  (4, 1, 0, 0)\n",
      "new filter:  (4, 2, 0, 1)\n",
      "new filter:  (3, 1, 1, 2)\n",
      "new filter:  (3, 0, 1, 2)\n",
      "new filter:  (4, 0, 0, 1)\n",
      "new filter:  (0, 2, 0, 0)\n",
      "new filter:  (4, 2, 0, 2)\n",
      "new filter:  (4, 3, 0, 2)\n",
      "new filter:  (4, 0, 0, 2)\n",
      "new filter:  (0, 1, 0, 0)\n",
      "new filter:  (0, 4, 0, 0)\n",
      "new filter:  (2, 0, 1, 0)\n",
      "new filter:  (0, 1, 0, 0)\n",
      "new filter:  (0, 4, 0, 1)\n",
      "new filter:  (0, 2, 0, 1)\n",
      "new filter:  (1, 1, 1, 1)\n",
      "new filter:  (2, 2, 0, 0)\n",
      "new filter:  (0, 4, 0, 2)\n",
      "new filter:  (0, 4, 0, 2)\n",
      "new filter:  (3, 3, 0, 0)\n",
      "new filter:  (4, 4, 1, 1)\n",
      "new filter:  (2, 3, 1, 0)\n",
      "new filter:  (0, 2, 0, 2)\n",
      "new filter:  (2, 4, 1, 2)\n",
      "new filter:  (2, 4, 1, 0)\n",
      "new filter:  (2, 3, 1, 1)\n",
      "new filter:  (1, 0, 0, 0)\n",
      "new filter:  (3, 3, 1, 1)\n",
      "new filter:  (2, 1, 1, 0)\n",
      "new filter:  (0, 1, 0, 2)\n",
      "new filter:  (0, 3, 0, 2)\n",
      "new filter:  (2, 4, 1, 2)\n",
      "new filter:  (2, 0, 1, 1)\n",
      "new filter:  (4, 4, 0, 0)\n",
      "new filter:  (0, 2, 1, 0)\n",
      "new filter:  (2, 1, 1, 2)\n",
      "new filter:  (2, 3, 1, 2)\n",
      "new filter:  (1, 2, 0, 0)\n",
      "new filter:  (2, 0, 1, 2)\n",
      "new filter:  (0, 3, 1, 0)\n",
      "new filter:  (0, 3, 1, 2)\n",
      "new filter:  (0, 1, 1, 1)\n",
      "new filter:  (1, 3, 0, 0)\n",
      "new filter:  (0, 4, 1, 1)\n",
      "new filter:  (0, 1, 1, 0)\n",
      "new filter:  (1, 4, 0, 1)\n",
      "new filter:  (0, 3, 1, 2)\n",
      "new filter:  (0, 2, 1, 1)\n",
      "new filter:  (0, 3, 1, 1)\n",
      "new filter:  (0, 1, 1, 2)\n",
      "new filter:  (0, 2, 1, 2)\n",
      "new filter:  (1, 3, 0, 1)\n",
      "new filter:  (0, 4, 1, 2)\n",
      "new filter:  (1, 4, 0, 2)\n",
      "当 threshold =  0.0001 被薅空了\n",
      "The originally required number of circuits :  242\n",
      "The number of circuits required by QUFEM :  242\n"
     ]
    },
    {
     "name": "stderr",
     "output_type": "stream",
     "text": [
      "/home/zhanghanyu/JanusQ/optimizations/readout_mitigation/fem/benchmarking.py:289: RuntimeWarning: invalid value encountered in divide\n",
      "  iter_states_error = states_error / states_count\n"
     ]
    }
   ],
   "source": [
    "protocol = EnumeratedProtocol(n_qubits)\n",
    "real_bstrs, circuits_protocol = protocol.gen_circuits()\n",
    "\n",
    "all_statuscnts = [\n",
    "    simulator.execute(cir_protocol, samples)\n",
    "    for cir_protocol in circuits_protocol\n",
    "]\n",
    "\n",
    "protocol_dataset = [statuscnt_to_npformat(p) for p in all_statuscnts]\n",
    "protocol_dataset_all =  [[x, y] for x, y in zip(real_bstrs, protocol_dataset)]\n",
    "protocol_iterative = IterativeSamplingProtocol(backend, hyper = 1, n_samples_iter = 5, threshold = 1e-4)\n",
    "statuscnts = protocol_iterative.get_data(protocol_dataset_all)\n",
    "\n",
    "protocol_statuscnts = [npformat_to_statuscnt(statuscnts[i][1]) for i in range(len(statuscnts))]\n",
    "bstrs = [statuscnts[i][0] for i in range(len(statuscnts))]\n",
    "\n",
    "print(\"The originally required number of circuits : \",len(all_statuscnts))\n",
    "print(\"The number of circuits required by QUFEM : \",len(statuscnts))"
   ]
  },
  {
   "cell_type": "markdown",
   "metadata": {},
   "source": [
    "**Weighted Graph Construction and Qubit Partition**\n",
    "\n",
    "We use various grouping schemes in calibration to address local qubit interactions, aiming to maximize locality within groups. To achieve this, qubit interactions are quantified using a weighted graph.\n",
    "For each shot of the circuit execution, the operation and the readout output of a qubit are recorded as a triple:\n",
    "- *ideal* $\\in \\{0, 1, \\varnothing\\}$: This value records the ideal~(initial) basis state that the qubit is prepared in the circuit.\n",
    "- *measured* $\\in \\{0, 1, \\varnothing\\}$: This value records the measured output of the qubit in this shot.\n",
    "- *ef* $\\in \\{0, 1\\}$: This is the abbreviation of the error flag, where 0 means the measured output matches the ideal result, and 1 means the error occurs.\n",
    "\n",
    " An interaction $q_i.ideal=x \\rightarrow q_j.ideal=y$ is defined as:\n",
    "\\begin{equation*} \n",
    "    \\begin{aligned}\n",
    "        &\\text{interact}(q_i.\\text{ideal}=x \\rightarrow q_j.\\text{ideal}=y)= \\\\\n",
    "        & ~~~~~~~~~~~\\big| p(q_j.\\text{ef}=1~|~C1, C2)-p(q_j.\\text{ef}=1~|~C2)\\big|\\\\\n",
    "        & \\text{C1: } q_i.\\text{ideal}=x,~~~\\text{C2: } q_j.\\text{ideal}=y\n",
    "    \\end{aligned}\n",
    "\\end{equation*}\n",
    "where $x \\in \\{0, 1, \\varnothing\\}$, $y \\in \\{0, 1\\}$.\n",
    "\n",
    "The weight between two qubits by collecting all cases of interactions:\n",
    "\\begin{equation*} \n",
    "\\begin{aligned}\n",
    "    weight(q_i,q_j) = & \\sum_{\\mathclap{x\\in\\{0, 1, \\varnothing\\}, y\\in\\{0,1\\}}} \\text{interact}(q_i.\\text{ideal}=x \\rightarrow q_j.\\text{ideal}=y) \\\\\n",
    "    + & \\sum_{\\mathclap{x\\in\\{0, 1, \\varnothing\\}, y\\in\\{0,1\\}}} \\text{interact}(q_j.\\text{ideal}=x \\rightarrow q_i.\\text{ideal}=y) \n",
    "\\end{aligned} \n",
    "\\end{equation*}\n",
    "We then construct a qubit graph. The edge of the graph is labeled by the weight. We leverage the MAX-CUT solver to partition qubits in the graph into groups.\n"
   ]
  },
  {
   "cell_type": "markdown",
   "metadata": {},
   "source": [
    "**QuFEM Parameterss**\n",
    "\n",
    "+ n_iters: Iteration count\n",
    "\n",
    "+ roup_size: Group size\n",
    "\n",
    "+ partation_methods: \"random\" or \"max-cut\""
   ]
  },
  {
   "cell_type": "code",
   "execution_count": 7,
   "metadata": {},
   "outputs": [
    {
     "name": "stderr",
     "output_type": "stream",
     "text": [
      "0it [00:00, ?it/s]"
     ]
    },
    {
     "name": "stderr",
     "output_type": "stream",
     "text": [
      "242it [00:00, 492.68it/s]\n",
      "242it [00:00, 1758.87it/s]\n"
     ]
    },
    {
     "name": "stdout",
     "output_type": "stream",
     "text": [
      "Algorithm Fidelity with QuFEM using max-cut method:  0.9955995113508916\n",
      "QuFEM time:  0.004447460174560547\n",
      "Algorithm Fidelity with QuFEM using random method':  0.9955585389073167\n"
     ]
    }
   ],
   "source": [
    "mitigator = Mitigator(n_qubits, n_iters = 2)\n",
    "scores = mitigator.init((bstrs, protocol_statuscnts), group_size=2, partation_methods=[\n",
    "                         'max-cut'],multi_process=False)\n",
    "\n",
    "t_qufem_1 = time()\n",
    "output_fem = npformat_to_statuscnt(mitigator.mitigate(output_noise))\n",
    "t_qufem_2 = time()\n",
    "t_qufem = t_qufem_2-t_qufem_1\n",
    "print(\"Algorithm Fidelity with QuFEM using max-cut method: \",hellinger_fidelity(outout_ideal,output_fem))\n",
    "print(\"QuFEM time: \",t_qufem)\n",
    "\n",
    "scores_random = mitigator.init((bstrs, protocol_statuscnts), group_size=2, partation_methods=[\n",
    "                         'random'],multi_process=False)\n",
    "output_fem_rd = npformat_to_statuscnt(mitigator.mitigate(output_noise))\n",
    "print(\"Algorithm Fidelity with QuFEM using random method': \",hellinger_fidelity(outout_ideal,output_fem_rd))"
   ]
  },
  {
   "cell_type": "markdown",
   "metadata": {},
   "source": [
    "**Random or Max-cut**"
   ]
  },
  {
   "cell_type": "code",
   "execution_count": 17,
   "metadata": {},
   "outputs": [
    {
     "data": {
      "image/png": "[encoded data removed]",
      "text/plain": [
       "<Figure size 640x480 with 1 Axes>"
      ]
     },
     "metadata": {},
     "output_type": "display_data"
    }
   ],
   "source": [
    "values = [hellinger_fidelity(outout_ideal,output_fem), hellinger_fidelity(outout_ideal,output_fem_rd)]\n",
    "labels = ['max-cut', 'random']\n",
    "\n",
    "\n",
    "plt.bar(labels, values)\n",
    "for i in range(len(labels)):\n",
    "    plt.text(i, values[i], round(values[i], 6), ha='center', va='bottom')\n",
    "\n",
    "plt.title('Random or Max-cut')\n",
    "plt.ylabel('Fidelity')\n",
    "plt.show()"
   ]
  },
  {
   "cell_type": "code",
   "execution_count": 14,
   "metadata": {},
   "outputs": [
    {
     "data": {
      "image/png": "[encoded data removed]",
      "text/plain": [
       "<Figure size 1000x500 with 2 Axes>"
      ]
     },
     "metadata": {},
     "output_type": "display_data"
    }
   ],
   "source": [
    "values_fid = [hellinger_fidelity(outout_ideal,output_noise), hellinger_fidelity(outout_ideal,outout_ibu).item(), hellinger_fidelity(outout_ideal,output_fem)]\n",
    "labels_fid = ['RAW', 'IBU', 'QuFEM']\n",
    "\n",
    "bar_width = 0.3\n",
    "\n",
    "fig, axs = plt.subplots(1, 2, figsize=(10, 5))\n",
    "\n",
    "axs[0].bar(labels_fid, values_fid, width=bar_width)\n",
    "axs[0].set_title('Fidelity Comparison')\n",
    "for i, value in enumerate(values_fid):\n",
    "    axs[0].text(i, value, '{:.4f}'.format(value), ha='center', va='bottom')\n",
    "\n",
    "\n",
    "values_t = [t_ibu, t_qufem]\n",
    "labels_t = [ 'IBU', 'QuFEM']\n",
    "\n",
    "axs[1].bar(labels_t, values_t, width=0.16, color='orange')\n",
    "axs[1].set_title('Time Comparison')\n",
    "\n",
    "for i, value in enumerate(values_t):\n",
    "    axs[1].text(i, value, '{:.4f}'.format(value), ha='center', va='bottom')\n",
    "\n",
    "plt.tight_layout()\n",
    "plt.show()"
   ]
  },
  {
   "cell_type": "markdown",
   "metadata": {},
   "source": [
    "**Results**\n",
    "\n",
    "We propose QuFEM to calibrate the measurement error. First, we formulate the calibration as a series of tensor-product operations involving sub-noise matrices, where the matrix is iteratively updated with the probability distribution. Then, we introduce how to generate the benchmarking circuits with low time complexity for characterization. Experiments demonstrate that Qufem has higher fidelity and faster calibration speed compared to IBU (reduced = 3)."
   ]
  },
  {
   "cell_type": "markdown",
   "metadata": {},
   "source": [
    "**References**\n",
    "\n",
    "\n",
    "\n",
    "<div><a name=\"R1\"></a>\n",
    "[1] Philip Krantz, Morten Kjaergaard, et al. A quantum engineer’s guide to\n",
    "superconducting qubits[J]. Applied Physics Reviews, 2019.\n",
    "</div>\n",
    "\n",
    "\n",
    "<div><a name=\"R2\"></a>\n",
    "[2] Sergey Bravyi, Sarah Sheldon, et al. Mitigating measurement errors in multiqubit experi-\n",
    "ments[J]. Physical Review A, 2021.\n",
    "</div>\n",
    "\n",
    "<div><a name=\"R3\"></a>\n",
    "[2] P. Rebentrost, M. Mohseni, et al. Quantum support vector\n",
    "machine for big feature and big data classification[J]. Physical Review\n",
    "Letters, 2013.\n",
    "</div>\n",
    "\n",
    "\n",
    "<div><a name=\"R4\"></a>\n",
    "[4] Satzinger K J, Liu Y J, Smith A, et al. Realizing topologically ordered states on a quantum processor[J]. Science, 2021.\n",
    "</div>\n",
    "\n",
    "<div><a name=\"R5\"></a>\n",
    "[5] Nation P D, Kang H, Sundaresan N, et al. Scalable mitigation of measurement errors on quantum computers[J]. PRX Quantum, 2021.\n",
    "</div>\n",
    "\n",
    "<div><a name=\"R6\"></a>\n",
    "[6] Bravyi S, Sheldon S, Kandala A, et al. Mitigating measurement errors in multiqubit experiments[J]. Physical Review A, 2021.\n",
    "</div>\n",
    "\n",
    "<div><a name=\"R7\"></a>\n",
    "[7]  Beijing Academy of Quantum Information Sciences. Quafu quantum cloud computing platform. https://quafu.baqis.ac.cn/\n",
    "</div>\n",
    "\n",
    "\n",
    "\n"
   ]
  }
 ],
 "metadata": {
  "kernelspec": {
   "display_name": "read_sp",
   "language": "python",
   "name": "python3"
  },
  "language_info": {
   "codemirror_mode": {
    "name": "ipython",
    "version": 3
   },
   "file_extension": ".py",
   "mimetype": "text/x-python",
   "name": "python",
   "nbconvert_exporter": "python",
   "pygments_lexer": "ipython3",
   "version": "3.11.8"
  }
 },
 "nbformat": 4,
 "nbformat_minor": 2
}
