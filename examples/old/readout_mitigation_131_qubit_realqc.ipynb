{
 "cells": [
  {
   "cell_type": "markdown",
   "metadata": {},
   "source": []
  },
  {
   "cell_type": "code",
   "execution_count": null,
   "metadata": {},
   "outputs": [],
   "source": [
    "import os\n",
    "os.chdir('..')\n",
    "\n",
    "from optimizations.readout_mitigation.fem import Mitigator\n",
    "from qiskit.quantum_info.analysis import hellinger_fidelity\n",
    "from optimizations.readout_mitigation.fem.tools import npformat_to_statuscnt,downsample\n",
    "from time import time\n",
    "import pickle\n",
    "import matplotlib.pyplot as plt\n",
    "import logging\n",
    "logging.getLogger('qiskit').setLevel(logging.ERROR)"
   ]
  },
  {
   "cell_type": "markdown",
   "metadata": {},
   "source": [
    "We run a GHZ circuit on the QuaFu quantum computer and load its data. Then, we compare its fidelity with the ideal results without noise."
   ]
  },
  {
   "cell_type": "code",
   "execution_count": 2,
   "metadata": {},
   "outputs": [],
   "source": [
    "ghz_output = pickle.load(file=open('/home/zhanghanyu/JanusQ/dataset/ghz_error','rb'))\n",
    "\n",
    "samples = 10000\n",
    "un_fid = []\n",
    "for i in range(len(ghz_output)):\n",
    "    n_qubits = 6+i*2\n",
    "    ghz_noisy = ghz_output[i]\n",
    "    outout_ideal = {'1'*n_qubits:samples*0.5,'0'*n_qubits:samples*0.5}\n",
    "    un_fid.append(hellinger_fidelity(ghz_noisy,outout_ideal))\n"
   ]
  },
  {
   "cell_type": "markdown",
   "metadata": {},
   "source": [
    "**IBU (reduced = 3)**\n",
    "\n",
    "To utilize the IBU method, measure the benchmark circuit on the QuaFu quantum computer and load its data. Then, we calibrate the results of the GHZ circuit using IBU method."
   ]
  },
  {
   "cell_type": "code",
   "execution_count": 3,
   "metadata": {},
   "outputs": [
    {
     "name": "stderr",
     "output_type": "stream",
     "text": [
      "2024-04-02 07:09:08.454323: W tensorflow/compiler/tf2tensorrt/utils/py_utils.cc:38] TF-TRT Warning: Could not find TensorRT\n",
      "INFO:jax._src.xla_bridge:Unable to initialize backend 'cuda': \n",
      "INFO:jax._src.xla_bridge:Unable to initialize backend 'rocm': module 'jaxlib.xla_extension' has no attribute 'GpuAllocatorConfig'\n",
      "INFO:jax._src.xla_bridge:Unable to initialize backend 'tpu': INTERNAL: Failed to open libtpu.so: libtpu.so: cannot open shared object file: No such file or directory\n",
      "WARNING:jax._src.xla_bridge:An NVIDIA GPU may be present on this machine, but a CUDA-enabled jaxlib is not installed. Falling back to cpu.\n"
     ]
    },
    {
     "name": "stdout",
     "output_type": "stream",
     "text": [
      "Processing dictionary of counts...\n"
     ]
    },
    {
     "name": "stderr",
     "output_type": "stream",
     "text": [
      "Computing strings within Hamming radius 1: 100%|██████████| 64/64 [00:00<00:00, 311410.04it/s]\n",
      "Counts to vector: 100%|██████████| 64/64 [00:00<00:00, 990536.74it/s]\n",
      "Encoding observed bitstrings as matrix: 100%|██████████| 64/64 [00:00<00:00, 522247.97it/s]\n",
      "Encoding expanded set of bitstrings as matrix: 100%|██████████| 64/64 [00:00<00:00, 519217.52it/s]\n"
     ]
    },
    {
     "name": "stdout",
     "output_type": "stream",
     "text": [
      "Initializing guess with uniform distribution over the expanded set of bitstrings...\n"
     ]
    },
    {
     "name": "stderr",
     "output_type": "stream",
     "text": [
      "IBU Iteration:   7%|▋         | 66/1000 [00:01<00:16, 56.60it/s]\n"
     ]
    },
    {
     "name": "stdout",
     "output_type": "stream",
     "text": [
      "Waiting for JAX to return control flow...\n",
      "Processing dictionary of counts...\n"
     ]
    },
    {
     "name": "stderr",
     "output_type": "stream",
     "text": [
      "Computing strings within Hamming radius 1: 100%|██████████| 175/175 [00:00<00:00, 304565.64it/s]\n",
      "Counts to vector: 100%|██████████| 175/175 [00:00<00:00, 1679641.19it/s]\n",
      "Encoding observed bitstrings as matrix: 100%|██████████| 175/175 [00:00<00:00, 634950.87it/s]\n",
      "Encoding expanded set of bitstrings as matrix: 100%|██████████| 256/256 [00:00<00:00, 654720.62it/s]\n"
     ]
    },
    {
     "name": "stdout",
     "output_type": "stream",
     "text": [
      "Initializing guess with uniform distribution over the expanded set of bitstrings...\n"
     ]
    },
    {
     "name": "stderr",
     "output_type": "stream",
     "text": [
      "IBU Iteration:   4%|▍         | 38/1000 [00:00<00:10, 93.11it/s]\n"
     ]
    },
    {
     "name": "stdout",
     "output_type": "stream",
     "text": [
      "Waiting for JAX to return control flow...\n",
      "Processing dictionary of counts...\n"
     ]
    },
    {
     "name": "stderr",
     "output_type": "stream",
     "text": [
      "Computing strings within Hamming radius 1: 100%|██████████| 346/346 [00:00<00:00, 259286.97it/s]\n",
      "Counts to vector: 100%|██████████| 346/346 [00:00<00:00, 2015596.09it/s]\n",
      "Encoding observed bitstrings as matrix: 100%|██████████| 346/346 [00:00<00:00, 602920.31it/s]\n",
      "Encoding expanded set of bitstrings as matrix: 100%|██████████| 875/875 [00:00<00:00, 611058.28it/s]\n"
     ]
    },
    {
     "name": "stdout",
     "output_type": "stream",
     "text": [
      "Initializing guess with uniform distribution over the expanded set of bitstrings...\n"
     ]
    },
    {
     "name": "stderr",
     "output_type": "stream",
     "text": [
      "IBU Iteration:   8%|▊         | 79/1000 [00:00<00:06, 148.80it/s]\n"
     ]
    },
    {
     "name": "stdout",
     "output_type": "stream",
     "text": [
      "Waiting for JAX to return control flow...\n",
      "Processing dictionary of counts...\n"
     ]
    },
    {
     "name": "stderr",
     "output_type": "stream",
     "text": [
      "Computing strings within Hamming radius 1: 100%|██████████| 582/582 [00:00<00:00, 228715.91it/s]\n",
      "Counts to vector: 100%|██████████| 582/582 [00:00<00:00, 2169853.27it/s]\n",
      "Encoding observed bitstrings as matrix: 100%|██████████| 582/582 [00:00<00:00, 561814.71it/s]\n",
      "Encoding expanded set of bitstrings as matrix: 100%|██████████| 2058/2058 [00:00<00:00, 570740.39it/s]\n"
     ]
    },
    {
     "name": "stdout",
     "output_type": "stream",
     "text": [
      "Initializing guess with uniform distribution over the expanded set of bitstrings...\n"
     ]
    },
    {
     "name": "stderr",
     "output_type": "stream",
     "text": [
      "IBU Iteration:   9%|▉         | 93/1000 [00:01<00:10, 87.55it/s] \n"
     ]
    },
    {
     "name": "stdout",
     "output_type": "stream",
     "text": [
      "Waiting for JAX to return control flow...\n",
      "Processing dictionary of counts...\n"
     ]
    },
    {
     "name": "stderr",
     "output_type": "stream",
     "text": [
      "Computing strings within Hamming radius 1: 100%|██████████| 830/830 [00:00<00:00, 198385.70it/s]\n",
      "Counts to vector: 100%|██████████| 830/830 [00:00<00:00, 2206129.48it/s]\n",
      "Encoding observed bitstrings as matrix: 100%|██████████| 830/830 [00:00<00:00, 522399.81it/s]\n",
      "Encoding expanded set of bitstrings as matrix: 100%|██████████| 3796/3796 [00:00<00:00, 511076.88it/s]\n"
     ]
    },
    {
     "name": "stdout",
     "output_type": "stream",
     "text": [
      "Initializing guess with uniform distribution over the expanded set of bitstrings...\n"
     ]
    },
    {
     "name": "stderr",
     "output_type": "stream",
     "text": [
      "IBU Iteration:  12%|█▏        | 116/1000 [00:02<00:17, 49.85it/s]"
     ]
    },
    {
     "name": "stdout",
     "output_type": "stream",
     "text": [
      "Waiting for JAX to return control flow...\n"
     ]
    },
    {
     "name": "stderr",
     "output_type": "stream",
     "text": [
      "\n"
     ]
    },
    {
     "name": "stdout",
     "output_type": "stream",
     "text": [
      "Processing dictionary of counts...\n"
     ]
    },
    {
     "name": "stderr",
     "output_type": "stream",
     "text": [
      "Computing strings within Hamming radius 1: 100%|██████████| 1122/1122 [00:00<00:00, 170408.79it/s]\n",
      "Counts to vector: 100%|██████████| 1122/1122 [00:00<00:00, 2269049.70it/s]\n",
      "Encoding observed bitstrings as matrix: 100%|██████████| 1122/1122 [00:00<00:00, 478252.96it/s]\n",
      "Encoding expanded set of bitstrings as matrix: 100%|██████████| 6329/6329 [00:00<00:00, 480962.26it/s]"
     ]
    },
    {
     "name": "stdout",
     "output_type": "stream",
     "text": [
      "Initializing guess with uniform distribution over the expanded set of bitstrings...\n"
     ]
    },
    {
     "name": "stderr",
     "output_type": "stream",
     "text": [
      "\n",
      "IBU Iteration:  10%|█         | 104/1000 [00:03<00:29, 30.53it/s]"
     ]
    },
    {
     "name": "stdout",
     "output_type": "stream",
     "text": [
      "Waiting for JAX to return control flow...\n"
     ]
    },
    {
     "name": "stderr",
     "output_type": "stream",
     "text": [
      "\n"
     ]
    }
   ],
   "source": [
    "from baselines.readout_calibration.IBU.src.IBU import IBU\n",
    "from baselines.readout_calibration.IBU.utils.qc_utils import *\n",
    "from baselines.readout_calibration.IBU.utils.data_utils import *\n",
    "matrices = pickle.load(file=open('/home/zhanghanyu/JanusQ/dataset/matrices_16.pickle','rb'))\n",
    "t_ibu_new = []\n",
    "ibu_fid = []\n",
    "for i in range(len(ghz_output)):\n",
    "    n_qubits = 6+i*2\n",
    "    params = {\n",
    "        \"exp_name\": \"ghz\",\n",
    "        \"method\": \"reduced\",  \n",
    "        \"library\": \"jax\",  \n",
    "        \"num_qubits\": n_qubits,\n",
    "        \"max_iters\": 1000,\n",
    "        \"tol\": 1e-5,\n",
    "        \"use_log\": False,  \n",
    "        \"verbose\": True,\n",
    "        \"init\": \"unif\",  \n",
    "        \"smoothing\": 1e-8,\n",
    "        \"ham_dist\": 3\n",
    "    }\n",
    "\n",
    "    matrices_ibu = matrices[:n_qubits]\n",
    "    outout_ideal = {'1'*n_qubits:samples*0.5,'0'*n_qubits:samples*0.5}\n",
    "\n",
    "\n",
    "    ibu_new = IBU(matrices_ibu, params)\n",
    "    ghz_noisy = ghz_output[i]\n",
    "    ibu_new.set_obs(dict(ghz_noisy))\n",
    "    t_ibu_new_1 = time()\n",
    "    ibu_new.initialize_guess()\n",
    "    t_sol_new, max_iters_new, tracker_new = ibu_new.train(params[\"max_iters\"], tol=params[\"tol\"], soln=outout_ideal)\n",
    "    t_ibu_new_2 = time()\n",
    "    outout_ibu_new = ibu_new.guess_as_dict()\n",
    "\n",
    "    t_ibu_new.append(t_ibu_new_2-t_ibu_new_1)\n",
    "    ibu_fid.append(hellinger_fidelity(outout_ideal,outout_ibu_new).item())\n",
    "\n"
   ]
  },
  {
   "cell_type": "markdown",
   "metadata": {},
   "source": [
    "**QuFEM**\n",
    "\n",
    "We measure the benchmark circuit required for QuFEM on the QuaFu quantum computer and load its data. Then, we calibrate the results of the GHZ circuit using QuFEM method."
   ]
  },
  {
   "cell_type": "code",
   "execution_count": 4,
   "metadata": {},
   "outputs": [],
   "source": [
    "t_qufem_new = []\n",
    "qufem_fid = []\n",
    "mitigator = pickle.load(file=open('/home/zhanghanyu/JanusQ/dataset/mitigator.pickle','rb'))\n",
    "benchmark = pickle.load(file=open('/home/zhanghanyu/JanusQ/dataset/protocol_16.pickle','rb'))\n",
    "miti = []\n",
    "for i in range(len(ghz_output)):\n",
    "    n_qubits = 6+i*2\n",
    "    benchmark_circuits = downsample(benchmark,[i for i in range(n_qubits)])\n",
    "\n",
    "    outout_ideal = {'1'*n_qubits:samples*0.5,'0'*n_qubits:samples*0.5}\n",
    "\n",
    "    bstrs = []\n",
    "    for key in benchmark_circuits.keys():\n",
    "        bstrs.append(np.array(list(key), dtype=np.int8))\n",
    "\n",
    "    protocol_statuscnts = []\n",
    "    for value in benchmark_circuits.values():\n",
    "        protocol_statuscnts.append(value)\n",
    "\n",
    "    \n",
    "    t_qufem_1_new = time()\n",
    "    output_fem = mitigator[i].mitigate(ghz_output[i])\n",
    "    t_qufem_2_new = time()\n",
    "    output_fem = npformat_to_statuscnt(output_fem)\n",
    "\n",
    "    t_qufem_new.append(t_qufem_2_new-t_qufem_1_new)\n",
    "    qufem_fid.append(hellinger_fidelity(outout_ideal,output_fem))\n"
   ]
  },
  {
   "cell_type": "markdown",
   "metadata": {},
   "source": [
    "**Fidelity Comparison**"
   ]
  },
  {
   "cell_type": "code",
   "execution_count": 5,
   "metadata": {},
   "outputs": [
    {
     "data": {
      "image/png": "[encoded data removed]",
      "text/plain": [
       "<Figure size 640x480 with 1 Axes>"
      ]
     },
     "metadata": {},
     "output_type": "display_data"
    }
   ],
   "source": [
    "x = [6+i*2 for i in range(len(ghz_output))]\n",
    "\n",
    "plt.plot(x, un_fid, label='RAW', marker='^', linestyle='-')\n",
    "plt.plot(x, ibu_fid, label='IBU', marker='^', linestyle='-')\n",
    "plt.plot(x, qufem_fid, label='QuFEM', marker='^', linestyle='-')\n",
    "plt.xticks(x) \n",
    "plt.title('Fidelity Comparison')\n",
    "plt.xlabel('#qubits')\n",
    "plt.ylabel('fidelity')\n",
    "\n",
    "plt.legend()\n",
    "\n",
    "plt.show()\n"
   ]
  },
  {
   "cell_type": "markdown",
   "metadata": {},
   "source": [
    "**Time Comparison**"
   ]
  },
  {
   "cell_type": "code",
   "execution_count": 6,
   "metadata": {},
   "outputs": [
    {
     "data": {
      "image/png": "[encoded data removed]",
      "text/plain": [
       "<Figure size 640x480 with 1 Axes>"
      ]
     },
     "metadata": {},
     "output_type": "display_data"
    }
   ],
   "source": [
    "x = [6+i*2 for i in range(len(ghz_output))]\n",
    "\n",
    "plt.plot(x, t_ibu_new, label='IBU', marker='^', linestyle='-')\n",
    "plt.plot(x, t_qufem_new, label='QuFEM', marker='^', linestyle='-')\n",
    "plt.xticks(x) \n",
    "plt.title('Time Comparison')\n",
    "plt.xlabel('#qubits')\n",
    "plt.ylabel('time')\n",
    "\n",
    "plt.legend()\n",
    "\n",
    "plt.show()"
   ]
  },
  {
   "cell_type": "markdown",
   "metadata": {},
   "source": [
    "**Results**\n",
    "\n",
    "We propose QuFEM to calibrate the measurement error. First, we formulate the calibration as a series of tensor-product operations involving sub-noise matrices, where the matrix is iteratively updated with the probability distribution. Then, we introduce how to generate the benchmarking circuits with low time complexity for characterization. Experiments demonstrate that Qufem has higher fidelity and faster calibration speed compared to IBU (reduced = 3)."
   ]
  },
  {
   "cell_type": "markdown",
   "metadata": {},
   "source": [
    "**References**\n",
    "\n",
    "\n",
    "\n",
    "<div><a name=\"R1\"></a>\n",
    "[1] Philip Krantz, Morten Kjaergaard, et al. A quantum engineer’s guide to\n",
    "superconducting qubits[J]. Applied Physics Reviews, 2019.\n",
    "</div>\n",
    "\n",
    "\n",
    "<div><a name=\"R2\"></a>\n",
    "[2] Sergey Bravyi, Sarah Sheldon, et al. Mitigating measurement errors in multiqubit experi-\n",
    "ments[J]. Physical Review A, 2021.\n",
    "</div>\n",
    "\n",
    "<div><a name=\"R3\"></a>\n",
    "[2] P. Rebentrost, M. Mohseni, et al. Quantum support vector\n",
    "machine for big feature and big data classification[J]. Physical Review\n",
    "Letters, 2013.\n",
    "</div>\n",
    "\n",
    "\n",
    "<div><a name=\"R4\"></a>\n",
    "[4] Satzinger K J, Liu Y J, Smith A, et al. Realizing topologically ordered states on a quantum processor[J]. Science, 2021.\n",
    "</div>\n",
    "\n",
    "<div><a name=\"R5\"></a>\n",
    "[5] Nation P D, Kang H, Sundaresan N, et al. Scalable mitigation of measurement errors on quantum computers[J]. PRX Quantum, 2021.\n",
    "</div>\n",
    "\n",
    "<div><a name=\"R6\"></a>\n",
    "[6] Bravyi S, Sheldon S, Kandala A, et al. Mitigating measurement errors in multiqubit experiments[J]. Physical Review A, 2021.\n",
    "</div>\n",
    "\n",
    "<div><a name=\"R7\"></a>\n",
    "[7]  Beijing Academy of Quantum Information Sciences. Quafu quantum cloud computing platform. https://quafu.baqis.ac.cn/\n",
    "</div>\n",
    "\n",
    "\n",
    "\n"
   ]
  }
 ],
 "metadata": {
  "kernelspec": {
   "display_name": "read_sp",
   "language": "python",
   "name": "python3"
  },
  "language_info": {
   "codemirror_mode": {
    "name": "ipython",
    "version": 3
   },
   "file_extension": ".py",
   "mimetype": "text/x-python",
   "name": "python",
   "nbconvert_exporter": "python",
   "pygments_lexer": "ipython3",
   "version": "3.11.8"
  }
 },
 "nbformat": 4,
 "nbformat_minor": 2
}
