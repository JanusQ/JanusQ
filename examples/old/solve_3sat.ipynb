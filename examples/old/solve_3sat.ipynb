{
 "cells": [
  {
   "cell_type": "code",
   "execution_count": 1,
   "metadata": {},
   "outputs": [
    {
     "name": "stderr",
     "output_type": "stream",
     "text": [
      "/home/jiaxinghui/JanusQ/janusq/examples/../hyqsat\n",
      "/home/jiaxinghui/JanusQ/janusq/examples/../hyqsat/pyTest.py\n",
      "/home/jiaxinghui/JanusQ/janusq/examples/../hyqsat/./minisat_core\n",
      "/home/jiaxinghui/JanusQ/janusq/examples/../hyqsat/python/\n"
     ]
    }
   ],
   "source": [
    "import sys\n",
    "sys.path.append('..')\n",
    "\n",
    "from hyqsat import solveByHyqsat, solveByMinisat"
   ]
  },
  {
   "cell_type": "code",
   "execution_count": 2,
   "metadata": {},
   "outputs": [],
   "source": [
    "# input cnf flie\n",
    "file_path = \"cnf_examples/uf50-01.cnf\"\n",
    "# if verbose\n",
    "verbose = True\n",
    "# cpuLim time (s). 0 means infinite\n",
    "cpuLim = 0\n",
    "# memLim . 0 means infinite\n",
    "memLim = 0\n",
    "# isStrict\n",
    "strictp = True"
   ]
  },
  {
   "cell_type": "code",
   "execution_count": 3,
   "metadata": {},
   "outputs": [
    {
     "name": "stderr",
     "output_type": "stream",
     "text": [
      "WARNING: for repeatability, setting FPU to use double precision\n",
      "sys.path.append('/home/jiaxinghui/JanusQ/janusq/examples/../hyqsat/python/')\n",
      "Quantum method:\n",
      "/home/jiaxinghui/JanusQ/janusq/examples/cnf_examples/uf50-01.cnf\n"
     ]
    },
    {
     "name": "stderr",
     "output_type": "stream",
     "text": [
      "============================[ Problem Statistics ]=============================\n",
      "|                                                                             |\n",
      "|  Number of variables:            50                                         |\n",
      "|  Number of clauses:             218                                         |\n",
      "============================[ Search Statistics ]==============================\n",
      "| Conflicts |          ORIGINAL         |          LEARNT          | Progress |\n",
      "|           |    Vars  Clauses Literals |    Limit  Clauses Lit/Cl |          |\n",
      "===============================================================================\n",
      "===============================================================================\n",
      "restarts              : 1\n",
      "conflicts             : 6              (2 /sec)\n",
      "conflict cost         : 0.061 ms\n",
      "decisions             : 4              (0.00 % random) (1 /sec)\n",
      "decisions cost        : 0.033 ms\n",
      "propagations          : 158            (40 /sec)\n",
      "propagations cost     : 0.245 ms\n",
      "conflict literals     : 26             (16.13 % deleted)\n",
      "actual CPU time       : 3.9174 s\n",
      "this problem time     : 0.49 ms\n",
      "annealing time        : 0 ms\n",
      "quantum count         : 0\n",
      "simulate time         : 2.90935 s\n",
      "quantum success number   : 10\n",
      "quantum conflict number   : 9\n",
      "quantum one time solve number   : 0\n",
      "delta conflict time              : -1 ms\n",
      "\n",
      "SATISFIABLE\n",
      "SAT\n",
      "-1 2 -3 4 5 6 7 8 9 -10 -11 12 -13 14 -15 -16 -17 -18 19 20 -21 -22 23 -24 -25 -26 27 -28 -29 -30 -31 -32 -33 -34 35 36 37 -38 39 -40 -41 -42 -43 -44 -45 -46 -47 48 49 -50 0\n",
      "^0 1 ^2 3 4 5 6 7 8 ^9 ^10 11 ^12 13 ^14 ^15 ^16 ^17 18 19 ^20 ^21 22 ^23 ^24 ^25 26 ^27 ^28 ^29 ^30 ^31 ^32 ^33 34 35 36 ^37 38 ^39 ^40 ^41 ^42 ^43 ^44 ^45 ^46 47 48 ^49\n",
      "\n",
      "\n",
      "/home/jiaxinghui/JanusQ/janusq/examples/cnf_examples/uf50-01.cnf has been solved.\n"
     ]
    }
   ],
   "source": [
    "# solve by hyqsat\n",
    "solveByHyqsat(file_path, verb=verbose, cpuLim=cpuLim, memLim=memLim)"
   ]
  },
  {
   "cell_type": "code",
   "execution_count": 4,
   "metadata": {},
   "outputs": [
    {
     "name": "stderr",
     "output_type": "stream",
     "text": [
      "WARNING: for repeatability, setting FPU to use double precision\n",
      "Original method:\n",
      "/home/jiaxinghui/JanusQ/janusq/examples/cnf_examples/uf50-01.cnf\n",
      "============================[ Problem Statistics ]=============================\n",
      "|                                                                             |\n",
      "|  Number of variables:            50                                         |\n",
      "|  Number of clauses:             218                                         |\n",
      "============================[ Search Statistics ]==============================\n",
      "| Conflicts |          ORIGINAL         |          LEARNT          | Progress |\n",
      "|           |    Vars  Clauses Literals |    Limit  Clauses Lit/Cl |          |\n",
      "===============================================================================\n",
      "===============================================================================\n",
      "restarts              : 1\n",
      "conflicts             : 16             (255 /sec)\n",
      "conflict cost         : 0.136 ms\n",
      "decisions             : 36             (0.00 % random) (575 /sec)\n",
      "decisions cost        : 0.059 ms\n",
      "propagations          : 344            (5492 /sec)\n",
      "propagations cost     : 0.297 ms\n",
      "conflict literals     : 65             (19.75 % deleted)\n",
      "actual CPU time       : 0.062633 s\n",
      "this problem time     : 0.583 ms\n",
      "annealing time        : 0 ms\n",
      "quantum count         : 0\n",
      "simulate time         : 0 s\n",
      "quantum success number   : 0\n",
      "quantum conflict number   : 0\n",
      "quantum one time solve number   : 0\n",
      "delta conflict time              : -1 ms\n",
      "\n",
      "SATISFIABLE\n",
      "SAT\n",
      "-1 2 -3 4 5 6 7 8 9 -10 -11 12 -13 14 -15 -16 -17 -18 19 20 -21 -22 23 -24 -25 -26 27 -28 -29 -30 -31 -32 -33 -34 35 36 37 -38 39 -40 -41 -42 -43 -44 -45 -46 -47 48 49 -50 0\n",
      "^0 1 ^2 3 4 5 6 7 8 ^9 ^10 11 ^12 13 ^14 ^15 ^16 ^17 18 19 ^20 ^21 22 ^23 ^24 ^25 26 ^27 ^28 ^29 ^30 ^31 ^32 ^33 34 35 36 ^37 38 ^39 ^40 ^41 ^42 ^43 ^44 ^45 ^46 47 48 ^49\n",
      "\n",
      "\n",
      "/home/jiaxinghui/JanusQ/janusq/examples/cnf_examples/uf50-01.cnf has been solved.\n"
     ]
    }
   ],
   "source": [
    "# solve by minisat\n",
    "solveByMinisat(file_path, verb=verbose, cpuLim=cpuLim, memLim=memLim)"
   ]
  },
  {
   "cell_type": "code",
   "execution_count": null,
   "metadata": {},
   "outputs": [],
   "source": []
  }
 ],
 "metadata": {
  "kernelspec": {
   "display_name": "base",
   "language": "python",
   "name": "python3"
  },
  "language_info": {
   "codemirror_mode": {
    "name": "ipython",
    "version": 3
   },
   "file_extension": ".py",
   "mimetype": "text/x-python",
   "name": "python",
   "nbconvert_exporter": "python",
   "pygments_lexer": "ipython3",
   "version": "3.10.14"
  }
 },
 "nbformat": 4,
 "nbformat_minor": 2
}
