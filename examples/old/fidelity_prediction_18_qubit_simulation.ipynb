{
 "cells": [
  {
   "cell_type": "markdown",
   "metadata": {},
   "source": [
    "import packages"
   ]
  },
  {
   "cell_type": "code",
   "execution_count": 1,
   "metadata": {},
   "outputs": [],
   "source": [
    "# import sys, os\n",
    "# from pathlib import Path\n",
    "# sys.path.append(str(Path(os.getcwd()))+'/..')\n",
    "\n",
    "import os\n",
    "os.chdir('..')\n",
    "\n",
    "from analysis.fidelity_prediction import FidelityModel\n",
    "from baselines.fidelity_prediction.rb_prediction import RBModel\n",
    "from simulator.gate_error_model import GateErrorModel\n",
    "\n",
    "from analysis.vectorization import RandomwalkModel\n",
    "\n",
    "from data_objects.random_circuit import random_circuits, random_circuit\n",
    "from data_objects.backend import Backend, LinearBackend, GridBackend, FullyConnectedBackend\n",
    "\n",
    "from simulator.noisy_simulator import NoisySimulator\n",
    "import random\n",
    "\n",
    "from tools.ray_func import map\n"
   ]
  },
  {
   "cell_type": "markdown",
   "metadata": {},
   "source": [
    "model settings"
   ]
  },
  {
   "cell_type": "code",
   "execution_count": 2,
   "metadata": {},
   "outputs": [],
   "source": [
    "n_qubits = 18\n",
    "n_steps = 2\n",
    "n_walks = 20\n",
    "backend = LinearBackend(n_qubits, 1)\n"
   ]
  },
  {
   "cell_type": "markdown",
   "metadata": {},
   "source": [
    "generate random circuit to train"
   ]
  },
  {
   "cell_type": "code",
   "execution_count": null,
   "metadata": {},
   "outputs": [],
   "source": [
    "circuits = random_circuits(backend, n_circuits=500, n_gate_list=[30, 50, 100], two_qubit_prob_list=[.4], reverse=True)"
   ]
  },
  {
   "cell_type": "markdown",
   "metadata": {},
   "source": [
    "train upstream model, turn a circuit to vectors using random walk"
   ]
  },
  {
   "cell_type": "code",
   "execution_count": null,
   "metadata": {},
   "outputs": [
    {
     "name": "stdout",
     "output_type": "stream",
     "text": [
      "start random walk for 501 circuits\n"
     ]
    },
    {
     "name": "stderr",
     "output_type": "stream",
     "text": [
      "100%|██████████| 501/501 [00:06<00:00, 78.08it/s] \n"
     ]
    },
    {
     "name": "stdout",
     "output_type": "stream",
     "text": [
      "count path\n",
      "device size after random walk = 9\n",
      "0's path table size = 75\n",
      "1's path table size = 150\n",
      "2's path table size = 197\n",
      "3's path table size = 150\n",
      "4's path table size = 75\n",
      "(0, 1)'s path table size = 95\n",
      "(1, 2)'s path table size = 146\n",
      "(2, 3)'s path table size = 146\n",
      "(3, 4)'s path table size = 95\n"
     ]
    }
   ],
   "source": [
    "vec_model = RandomwalkModel(n_steps = n_steps, n_walks = n_walks, backend = backend)\n",
    "gate_vecs_per_circuit = vec_model.train(circuits, multi_process=False, remove_redundancy = False)"
   ]
  },
  {
   "cell_type": "markdown",
   "metadata": {},
   "source": [
    "select interaction patterns randomly, simulate interaction between gates"
   ]
  },
  {
   "cell_type": "code",
   "execution_count": null,
   "metadata": {},
   "outputs": [],
   "source": [
    "all_paths = vec_model.all_paths()\n",
    "high_error_paths = random.choices(all_paths, k = 20)\n",
    "\n",
    "error_model = GateErrorModel.random_model(backend=backend, high_error_paths=high_error_paths)\n",
    "error_model.vec_model = vec_model\n",
    "\n",
    "simulator = NoisySimulator(backend=backend, gate_error_model = error_model)\n",
    "ground_truth_fidelities = map(lambda circuit: simulator.obtain_circuit_fidelity(circuit)[0], circuits, show_progress=False, multi_process=True)"
   ]
  },
  {
   "cell_type": "markdown",
   "metadata": {},
   "source": [
    "train fidelity prediction model"
   ]
  },
  {
   "cell_type": "code",
   "execution_count": null,
   "metadata": {},
   "outputs": [
    {
     "name": "stderr",
     "output_type": "stream",
     "text": [
      "An NVIDIA GPU may be present on this machine, but a CUDA-enabled jaxlib is not installed. Falling back to cpu.\n"
     ]
    },
    {
     "name": "stdout",
     "output_type": "stream",
     "text": [
      "len(train dataset) = 400, len(validation dataset) = 101\n",
      "epoch: 0, \t epoch loss = 3770.66259765625, \t validation loss = 6.224177837371826\n",
      "epoch: 100, \t epoch loss = 773.9028930664062, \t validation loss = 1.8807038068771362\n",
      "epoch: 200, \t epoch loss = 459.62591552734375, \t validation loss = 1.3457980155944824\n",
      "epoch: 300, \t epoch loss = 387.0428771972656, \t validation loss = 1.2294397354125977\n",
      "epoch: 400, \t epoch loss = 344.41131591796875, \t validation loss = 1.1326135396957397\n",
      "epoch: 500, \t epoch loss = 307.116455078125, \t validation loss = 1.0325236320495605\n",
      "epoch: 600, \t epoch loss = 276.13623046875, \t validation loss = 0.9459999799728394\n",
      "epoch: 700, \t epoch loss = 251.72381591796875, \t validation loss = 0.876919150352478\n",
      "epoch: 800, \t epoch loss = 231.47145080566406, \t validation loss = 0.8180903792381287\n",
      "epoch: 900, \t epoch loss = 213.94674682617188, \t validation loss = 0.766452431678772\n",
      "finish taining\n"
     ]
    }
   ],
   "source": [
    "fidelity_model = FidelityModel(vec_model)\n",
    "fidelity_model.train((circuits, ground_truth_fidelities))"
   ]
  },
  {
   "cell_type": "markdown",
   "metadata": {},
   "source": [
    "predict on test dataset"
   ]
  },
  {
   "cell_type": "code",
   "execution_count": null,
   "metadata": {},
   "outputs": [
    {
     "name": "stdout",
     "output_type": "stream",
     "text": [
      "[0.7051999999999999, 0.6843999999999999, 0.5862, 0.3728, 0.7407999999999999, 0.8042, 0.8022000000000002, 0.7734, 0.6442000000000001, 0.8866000000000002, 0.5471999999999999, 0.5396, 0.6237999999999999, 0.651, 0.7642, 0.7382000000000001, 0.6554, 0.6900000000000001, 0.4633999999999999, 0.7328, 0.4002, 0.788, 0.4072, 0.43079999999999996, 0.4842000000000001, 0.6610000000000001, 0.24880000000000005, 0.5038, 0.32520000000000004, 0.30400000000000005, 0.4946, 0.4915999999999999, 0.45499999999999996, 0.6628000000000001, 0.41679999999999995, 0.19600000000000004, 0.21939999999999998, 0.14480000000000004, 0.17100000000000004, 0.1516000000000001, 0.3412, 0.14040000000000002, 0.4497999999999999, 0.2172, 0.4299999999999999, 0.26860000000000006, 0.19960000000000006, 0.4567999999999999, 0.4016, 0.21260000000000004, 0.18080000000000016]\n",
      "[Array(0.6608869, dtype=float32), Array(0.6247604, dtype=float32), Array(0.64236873, dtype=float32), Array(0.5618794, dtype=float32), Array(0.69217706, dtype=float32), Array(0.7588291, dtype=float32), Array(0.7113339, dtype=float32), Array(0.6636757, dtype=float32), Array(0.5962085, dtype=float32), Array(0.7468894, dtype=float32), Array(0.56146276, dtype=float32), Array(0.6211749, dtype=float32), Array(0.6733429, dtype=float32), Array(0.6315436, dtype=float32), Array(0.6747308, dtype=float32), Array(0.675282, dtype=float32), Array(0.63612235, dtype=float32), Array(0.6145195, dtype=float32), Array(0.49734485, dtype=float32), Array(0.5633503, dtype=float32), Array(0.48046088, dtype=float32), Array(0.72566646, dtype=float32), Array(0.48018676, dtype=float32), Array(0.49278057, dtype=float32), Array(0.5104204, dtype=float32), Array(0.4951123, dtype=float32), Array(0.40935785, dtype=float32), Array(0.48319316, dtype=float32), Array(0.47413236, dtype=float32), Array(0.47891396, dtype=float32), Array(0.5898556, dtype=float32), Array(0.5105154, dtype=float32), Array(0.5179037, dtype=float32), Array(0.53771216, dtype=float32), Array(0.36540192, dtype=float32), Array(0.2199932, dtype=float32), Array(0.24423406, dtype=float32), Array(0.26170257, dtype=float32), Array(0.34419328, dtype=float32), Array(0.15394005, dtype=float32), Array(0.2510052, dtype=float32), Array(0.26161593, dtype=float32), Array(0.38305926, dtype=float32), Array(0.26948172, dtype=float32), Array(0.32109612, dtype=float32), Array(0.27766332, dtype=float32), Array(0.16920465, dtype=float32), Array(0.4068988, dtype=float32), Array(0.25625172, dtype=float32), Array(0.38585168, dtype=float32), Array(0.28891838, dtype=float32)]\n"
     ]
    }
   ],
   "source": [
    "test_circuits = random_circuits(backend, n_circuits=50, n_gate_list=[30, 50, 100], two_qubit_prob_list=[.4], reverse=True)\n",
    "test_ground_truth_fidelities = map(lambda circuit: simulator.obtain_circuit_fidelity(circuit)[0], test_circuits, show_progress=False, multi_process=True)\n",
    "\n",
    "test_predicts= []\n",
    "for test_cir in test_circuits:\n",
    "    test_predicts.append(fidelity_model.predict_circuit_fidelity(test_cir))\n",
    "print(test_ground_truth_fidelities)\n",
    "print(test_predicts)"
   ]
  },
  {
   "cell_type": "markdown",
   "metadata": {},
   "source": [
    "compare with RB predict model"
   ]
  },
  {
   "cell_type": "code",
   "execution_count": null,
   "metadata": {},
   "outputs": [
    {
     "name": "stdout",
     "output_type": "stream",
     "text": [
      "[0.9087011626351813, 0.7758030965384289, 0.7994830480958711, 0.7396075453719695, 0.7760607627365118, 0.9228510740484697, 0.8145671854721591, 0.8864710275682284, 0.8949891937923592, 0.7934994819209237, 0.7798037879718112, 0.8733277611136399, 0.8646689677866424, 0.8293431239317204, 0.7705280169632022, 0.7958722152492719, 0.8010201752113163, 0.8216787065044853, 0.7111595761473025, 0.7518635604183198, 0.7306439263009161, 0.7723446561574304, 0.6241369095928204, 0.6865435004822139, 0.7746077733195673, 0.8328771008955906, 0.6737689776183271, 0.7878174144969367, 0.6709338668291787, 0.7264632101357454, 0.7234063763258862, 0.7922968568781775, 0.6018155325587142, 0.7239650978371289, 0.5803222140778819, 0.4000097634957905, 0.5643767640877658, 0.39121250228205084, 0.4938635604195252, 0.4238845649025567, 0.42218357963209396, 0.5443475425503982, 0.588601100525215, 0.48485635223191853, 0.6274526132863091, 0.49461254007053207, 0.5051832247144242, 0.5792808141973335, 0.5218066090145087, 0.6092490064540538, 0.48667481605206736]\n"
     ]
    }
   ],
   "source": [
    "rb_modle = RBModel(simulator)\n",
    "test_rb_predicts= []\n",
    "for test_cir in test_circuits:\n",
    "    test_rb_predicts.append(rb_modle.get_rb_fidelity(test_cir))\n",
    "\n",
    "print(test_rb_predicts)"
   ]
  },
  {
   "cell_type": "markdown",
   "metadata": {},
   "source": [
    "export excel"
   ]
  },
  {
   "cell_type": "code",
   "execution_count": null,
   "metadata": {},
   "outputs": [],
   "source": [
    "# TODO: on real world quantum hardware\n",
    "all_path_errors = []\n",
    "\n",
    "\n",
    "all_path_errors = fidelity_model.get_all_path_errors()\n",
    "from openpyxl import Workbook\n",
    "\n",
    "wb = Workbook()\n",
    "ws = wb.active\n",
    "\n",
    "ws['A1'] = 'Path'\n",
    "ws['B1'] = 'error'\n",
    "ws['C1'] = 'in noise model'\n",
    "\n",
    "for path,error in all_path_errors:\n",
    "    ws.append((path , error, path in high_error_paths))\n",
    "\n",
    "wb.save('all_path_errors.xlsx')\n"
   ]
  }
 ],
 "metadata": {
  "kernelspec": {
   "display_name": "janusq",
   "language": "python",
   "name": "python3"
  },
  "language_info": {
   "codemirror_mode": {
    "name": "ipython",
    "version": 3
   },
   "file_extension": ".py",
   "mimetype": "text/x-python",
   "name": "python",
   "nbconvert_exporter": "python",
   "pygments_lexer": "ipython3",
   "version": "3.11.7"
  }
 },
 "nbformat": 4,
 "nbformat_minor": 2
}
