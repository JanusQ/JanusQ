{
 "cells": [
  {
   "cell_type": "markdown",
   "metadata": {},
   "source": [
    "# Extend Janus-CT To Identify Bugs in the Quantum Circuit\n",
    "\n",
    "**Author:** Congliang Lang \\& Siwei Tan  \n",
    "\n",
    "**Date:** 15/4/2024\n",
    "\n",
    "Based on \"[QuCT: A Framework for Analyzing Quantum Circuit by Extracting Contextual and Topological Features (MICRO 2023][1]\"\n",
    "\n",
    "[1]: https://scholar.google.com/scholar_url?url=https://dl.acm.org/doi/abs/10.1145/3613424.3614274%3Fcasa_token%3DffjIB1hQ4ZwAAAAA:8MajDLrDOC74WoeMf7r7AoQ-koxCa4E1TNqQg3GSDz03xUX6XdE3toNTM-YdM_e4rKEusMceJ6BGJg&hl=zh-CN&sa=T&oi=gsb&ct=res&cd=0&d=11146218754516883150&ei=42YSZpPlFL6s6rQPtt6x6Ac&scisig=AFWwaeYaiu2hyx8HUJ_7Buf9Mwom\n",
    "\n",
    "The vectorization of Janus-CT can be extended to more downstream tasks. For example, in this notebook, we use Janus-CT to identify the potential bugs in the quantum algorithm implementation. We apply a data driven method that traing a model to predict the error rate "
   ]
  },
  {
   "cell_type": "code",
   "execution_count": 1,
   "metadata": {},
   "outputs": [
    {
     "name": "stderr",
     "output_type": "stream",
     "text": [
      "2024-04-16 11:28:22,542\tWARNING services.py:1996 -- WARNING: The object store is using /tmp instead of /dev/shm because /dev/shm has only 67059712 bytes available. This will harm performance! You may be able to free up space by deleting files in /dev/shm. If you are inside a Docker container, you can increase /dev/shm size by passing '--shm-size=10.24gb' to 'docker run' (or add it to the run_options list in a Ray cluster config). Make sure to set this to more than 30% of available RAM.\n",
      "2024-04-16 11:28:22,686\tINFO worker.py:1724 -- Started a local Ray instance.\n"
     ]
    }
   ],
   "source": [
    "import sys\n",
    "sys.path.append('..')\n",
    "import os\n",
    "os.chdir(\"..\")\n",
    "import logging\n",
    "logging.basicConfig(level=logging.WARN)\n",
    "import ray\n",
    "ray.init(log_to_driver=False)\n",
    "\n",
    "from janusq.data_objects.algorithms import get_algorithm_circuits\n",
    "import random\n",
    "import seaborn as sns\n",
    "import numpy as np\n",
    "from collections import defaultdict\n",
    "import pandas as pd\n",
    "import jax.numpy as jnp\n",
    "\n",
    "from janusq.analysis.vectorization import RandomwalkModel\n",
    "\n",
    "from janusq.tools.ray_func import map\n",
    "from janusq.data_objects.backend import LinearBackend\n",
    "import copy\n",
    "import statistics\n",
    "from janusq.data_objects.circuit import Circuit"
   ]
  },
  {
   "cell_type": "code",
   "execution_count": 2,
   "metadata": {},
   "outputs": [],
   "source": [
    "from collections import Counter\n",
    "\n",
    "class BugIdentificationModel:\n",
    "    def __init__(self, vec_model: RandomwalkModel) -> None:\n",
    "        self.vec_model = vec_model\n",
    "    \n",
    "    def train(self, algorithm_to_circuirts: dict[str, list[Circuit]]):\n",
    "        self.total_vecs = []\n",
    "        self.functionalities = []\n",
    "        \n",
    "        for algorithm, circuits in algorithm_to_circuirts.items():\n",
    "            for circuit in circuits:\n",
    "                vecs = self.vec_model.vectorize(circuit)\n",
    "                self.total_vecs += vecs\n",
    "                self.functionalities += [algorithm] * len(vecs)\n",
    "\n",
    "    def identify_bug(self, circuit, top_k = 3):\n",
    "        gate_vecs = self.vec_model.vectorize(circuit)\n",
    "        \n",
    "        functionalities_per_gate = []\n",
    "        all_functionalities = []\n",
    "        for analyzed_vec in gate_vecs:\n",
    "            dists = np.sqrt(np.sum((self.total_vecs - analyzed_vec)**2, axis=1))\n",
    "            \n",
    "            top_dist_indices = np.argsort(dists)[:top_k]\n",
    "            nearest_functionalities = self.functionalities[top_dist_indices]\n",
    "            # nearest_dists = dists[top_dist_indices]\n",
    "            \n",
    "            functionalities_per_gate.append(nearest_functionalities)\n",
    "            all_functionalities += nearest_functionalities\n",
    "        \n",
    "        top_functionalities = Counter(all_functionalities).most_common(top_k)\n",
    "        \n",
    "        error_gate_indices = []\n",
    "        for i, possible_functionalities in enumerate(functionalities_per_gate):\n",
    "            if any([functionality in top_functionalities for functionality in possible_functionalities]):\n",
    "                continue\n",
    "            error_gate_indices.append(i)\n",
    "        \n",
    "        return error_gate_indices\n",
    "\n"
   ]
  },
  {
   "cell_type": "code",
   "execution_count": 3,
   "metadata": {},
   "outputs": [],
   "source": [
    "# def scan(n_qubits, n_steps, n_walks, n_bugs):\n",
    "#     alg2success_num, alg2bug_num, alg2error_num, alg_to_n_identified = defaultdict(int), defaultdict(int),defaultdict(int),defaultdict(int)\n",
    "\n",
    "\n",
    "                    \n",
    "#         alg_to_n_identified[alg_name] += 1\n",
    "\n",
    "#         alg2bug_num[alg_name] += len(bug_gate_ids)\n",
    "#         for bug_gate_idx in bug_gate_ids:\n",
    "#             if alg_name not in [algorithms[i] for i in gate_to_nearest_circuits[bug_gate_idx]]:\n",
    "#                 alg2success_num[alg_name] += 1\n",
    "\n",
    "    \n",
    "#     def bug_detect(alg_name, n_qubits):\n",
    "#         circuit_id = f'{alg_name}_{n_qubits}'\n",
    "\n",
    "#         current_circuit = id2circuit[circuit_id]\n",
    "        \n",
    "#         bug_circuit, bug_gate_ids = construct_negatives(current_circuit, n_bugs = n_bugs) \n",
    "\n",
    "#         find_bug(bug_circuit, bug_gate_ids)\n",
    "\n",
    "\n",
    "#     for alg_name in algorithms:\n",
    "#         bug_detect(alg_name, n_qubits)\n",
    "\n",
    "\n",
    "#     print('bug_size', n_bugs)\n",
    "#     print('alg2success_num=', alg2success_num)\n",
    "#     print('alg2bug_num=', alg2bug_num)\n",
    "#     print('alg2error_num=', alg2error_num)\n",
    "#     print('alg2identify_num=', alg_to_n_identified)\n",
    "    \n",
    "#     return alg2success_num, alg2bug_num, alg2error_num, alg_to_n_identified\n",
    "    \n",
    "# @ray.remote(max_calls=6)\n",
    "# def scan_remote(n_qubits, n_steps, n_walks, n_bugs):\n",
    "#     return scan(n_qubits, n_steps, n_walks, n_bugs)"
   ]
  },
  {
   "cell_type": "code",
   "execution_count": 4,
   "metadata": {},
   "outputs": [],
   "source": [
    "def construct_negatives(circuit, n_bugs, basis_gates):\n",
    "    \n",
    "    n_qubits = circuit.n_qubits\n",
    "    bug_circuit = copy.deepcopy(circuit)\n",
    "    \n",
    "    \n",
    "\n",
    "    bug_start = random.randint(0, max(circuit.n_gates - 1 - n_bugs, 1))\n",
    "    bug_end = bug_start + n_bugs\n",
    "    bug_gate_ids = list(range(bug_start, min(bug_end, circuit.n_gates)))\n",
    "\n",
    "    for bug_gate_id in bug_gate_ids:\n",
    "        \n",
    "        gate = bug_circuit.gates[bug_gate_id]\n",
    "\n",
    "        name = random.choice(basis_gates) # ['rx', 'ry', 'rz', 'h', 'cz', 'cx']\n",
    "\n",
    "        params = np.random.random((3,1)) * 2 * np.pi\n",
    "        params = params.tolist()\n",
    "        \n",
    "        qubit1 = random.randint(0, n_qubits - 1)\n",
    "        qubit2 = random.choice([qubit for qubit in range(n_qubits) if qubit != qubit1])\n",
    "        qubits = [qubit1, qubit2]\n",
    "        \n",
    "        gate['name'] = name\n",
    "        if name in ('rx', 'ry', 'rz'):\n",
    "            gate['qubits'] = qubits[:1]\n",
    "            gate['params'] = params[:1]\n",
    "            \n",
    "        elif name in ('cz', 'cx'):\n",
    "            gate['qubits'] = qubits\n",
    "            gate['params'] = []\n",
    "            \n",
    "        elif name in ('h'):\n",
    "            gate['qubits'] = qubits[:1]\n",
    "            gate['params'] = []\n",
    "            \n",
    "        elif name in ('u'):\n",
    "            gate['qubits'] = qubits[:1]\n",
    "            gate['params'] = params\n",
    "            \n",
    "        else:\n",
    "            logging.error(\"no such gate\")\n",
    "            return circuit\n",
    "\n",
    "    bug_circuit.name = bug_circuit.name\n",
    "    return bug_circuit, bug_gate_ids"
   ]
  },
  {
   "cell_type": "code",
   "execution_count": 5,
   "metadata": {},
   "outputs": [
    {
     "name": "stderr",
     "output_type": "stream",
     "text": [
      "0it [00:00, ?it/s]\n"
     ]
    }
   ],
   "source": [
    "algorithm_to_circuirts = ['qft', 'hs', 'ising', 'qknn', 'qsvm', 'vqc', 'ghz', 'grover']\n",
    "algorithm_to_circuirts = defaultdict(list)\n",
    "algorithm_circuits = []\n",
    "\n",
    "backend = LinearBackend(10)\n",
    "vec_model = RandomwalkModel(n_steps = 3, n_walks = 30, backend = backend)\n",
    "\n",
    "for n_qubits in range(5, backend.n_qubits):\n",
    "    for algorithm, circuit in zip(algorithm_to_circuirts, get_algorithm_circuits(n_qubits, backend, algorithm_to_circuirts)):\n",
    "        algorithm_to_circuirts[algorithm].append(circuit)\n",
    "        algorithm_circuits.append(circuit)\n",
    "\n",
    "vec_model.train(algorithm_circuits)"
   ]
  },
  {
   "cell_type": "code",
   "execution_count": 6,
   "metadata": {},
   "outputs": [],
   "source": [
    "bug_indentify_model = BugIdentificationModel(vec_model)\n",
    "bug_indentify_model.train(algorithm_to_circuirts)"
   ]
  },
  {
   "cell_type": "code",
   "execution_count": 7,
   "metadata": {},
   "outputs": [
    {
     "ename": "IndexError",
     "evalue": "list index out of range",
     "output_type": "error",
     "traceback": [
      "\u001b[0;31m---------------------------------------------------------------------------\u001b[0m",
      "\u001b[0;31mIndexError\u001b[0m                                Traceback (most recent call last)",
      "Cell \u001b[0;32mIn[7], line 1\u001b[0m\n\u001b[0;32m----> 1\u001b[0m circuit \u001b[38;5;241m=\u001b[39m \u001b[43mrandom\u001b[49m\u001b[38;5;241;43m.\u001b[39;49m\u001b[43mchoice\u001b[49m\u001b[43m(\u001b[49m\u001b[43malgorithm_circuits\u001b[49m\u001b[43m)\u001b[49m\n\u001b[1;32m      2\u001b[0m bug_circuit, bug_gate_ids \u001b[38;5;241m=\u001b[39m construct_negatives(circuit, n_bugs\u001b[38;5;241m=\u001b[39m\u001b[38;5;241m4\u001b[39m, basis_gates\u001b[38;5;241m=\u001b[39m backend\u001b[38;5;241m.\u001b[39mbasis_gates)\n\u001b[1;32m      3\u001b[0m predict_indices \u001b[38;5;241m=\u001b[39m bug_indentify_model\u001b[38;5;241m.\u001b[39midentify_bug(bug_circuit)\n",
      "File \u001b[0;32m/usr/lib/python3.10/random.py:378\u001b[0m, in \u001b[0;36mRandom.choice\u001b[0;34m(self, seq)\u001b[0m\n\u001b[1;32m    376\u001b[0m \u001b[38;5;250m\u001b[39m\u001b[38;5;124;03m\"\"\"Choose a random element from a non-empty sequence.\"\"\"\u001b[39;00m\n\u001b[1;32m    377\u001b[0m \u001b[38;5;66;03m# raises IndexError if seq is empty\u001b[39;00m\n\u001b[0;32m--> 378\u001b[0m \u001b[38;5;28;01mreturn\u001b[39;00m \u001b[43mseq\u001b[49m\u001b[43m[\u001b[49m\u001b[38;5;28;43mself\u001b[39;49m\u001b[38;5;241;43m.\u001b[39;49m\u001b[43m_randbelow\u001b[49m\u001b[43m(\u001b[49m\u001b[38;5;28;43mlen\u001b[39;49m\u001b[43m(\u001b[49m\u001b[43mseq\u001b[49m\u001b[43m)\u001b[49m\u001b[43m)\u001b[49m\u001b[43m]\u001b[49m\n",
      "\u001b[0;31mIndexError\u001b[0m: list index out of range"
     ]
    }
   ],
   "source": [
    "circuit = random.choice(algorithm_circuits)\n",
    "bug_circuit, bug_gate_ids = construct_negatives(circuit, n_bugs=4, basis_gates= backend.basis_gates)\n",
    "predict_indices = bug_indentify_model.identify_bug(bug_circuit)\n",
    "\n",
    "correct_rate = 0\n",
    "for predict_indice in predict_indices:\n",
    "    if predict_indice in bug_gate_ids:\n",
    "        correct_rate+=1\n",
    "\n",
    "print(str.format(\"correct_rate: {}\"),  correct_rate * 100 / len(bug_gate_ids))"
   ]
  },
  {
   "cell_type": "code",
   "execution_count": null,
   "metadata": {},
   "outputs": [],
   "source": [
    "results = {}\n",
    "qubit_range = list(range(5,8))\n",
    "for n_qubits in qubit_range:\n",
    "    for n_steps in range(2, 5):\n",
    "        n_walks = n_steps * 16\n",
    "        for n_bugs in range(1, 4):\n",
    "            key = (n_qubits, n_steps, n_walks, n_bugs)\n",
    "            \n",
    "            future = scan_remote.remote(*key)\n",
    "            results[key] = future"
   ]
  },
  {
   "cell_type": "code",
   "execution_count": null,
   "metadata": {},
   "outputs": [],
   "source": [
    "for key, future in results.items():\n",
    "    result = ray.get(results[key])\n",
    "    results[key] = result"
   ]
  },
  {
   "cell_type": "code",
   "execution_count": null,
   "metadata": {},
   "outputs": [],
   "source": [
    "results"
   ]
  },
  {
   "cell_type": "code",
   "execution_count": null,
   "metadata": {},
   "outputs": [],
   "source": [
    "alg_to_n_qubit_to_n_success = defaultdict(lambda: defaultdict(int))\n",
    "alg_to_n_qubit_to_n_bugs = defaultdict(lambda: defaultdict(int))\n",
    "\n",
    "\n",
    "for key, result in results.items():\n",
    "    n_qubits, n_steps, n_walks, n_bugs = key\n",
    "\n",
    "    for alg_name in algorithm_to_circuirts:\n",
    "        alg_name = f'{alg_name}_{n_qubits}'\n",
    "        alg_to_n_qubit_to_n_success[alg_name][n_qubits] += result[0][alg_name]\n",
    "\n",
    "    for alg_name in algorithm_to_circuirts:\n",
    "        alg_name = f'{alg_name}_{n_qubits}'\n",
    "        alg_to_n_qubit_to_n_bugs[alg_name][n_qubits] += result[1][alg_name]\n",
    "            \n"
   ]
  },
  {
   "cell_type": "code",
   "execution_count": null,
   "metadata": {},
   "outputs": [],
   "source": [
    "def combine(dict1, dict2, default_value = 1):\n",
    "    all_values = []\n",
    "    new_dict = defaultdict(lambda: defaultdict(lambda: default_value))\n",
    "    for k1, v1 in dict1.items():\n",
    "        for k2, v2 in v1.items():\n",
    "            new_dict[k1][k2] = v2 / dict2[k1][k2]\n",
    "            all_values.append(v2 / dict2[k1][k2])\n",
    "    \n",
    "    return new_dict, np.array(all_values)"
   ]
  },
  {
   "cell_type": "code",
   "execution_count": null,
   "metadata": {},
   "outputs": [],
   "source": [
    "alg2n_qubit2success_rate, all_values = combine(alg_to_n_qubit_to_n_success, alg_to_n_qubit_to_n_bugs)\n",
    "alg2n_qubit2success_rate\n",
    "# , np.mean(all_values)"
   ]
  },
  {
   "cell_type": "code",
   "execution_count": null,
   "metadata": {},
   "outputs": [],
   "source": [
    "data = np.zeros((len(qubit_range) , len(algorithm_to_circuirts)))\n",
    "\n",
    "for r_i, n_qubits in enumerate(qubit_range):\n",
    "    for c_i, alg_name in enumerate(algorithm_to_circuirts):\n",
    "        alg_name = f'{alg_name}_{n_qubits}'\n",
    "        data[r_i][c_i] = alg2n_qubit2success_rate[alg_name][n_qubits]\n",
    "\n",
    "df = pd.DataFrame(data, index=qubit_range, columns=algorithm_to_circuirts)\n",
    "fig = sns.heatmap(data=df,cmap='OrRd')"
   ]
  }
 ],
 "metadata": {
  "kernelspec": {
   "display_name": "Python 3.9.13 ('ISCA')",
   "language": "python",
   "name": "python3"
  },
  "language_info": {
   "codemirror_mode": {
    "name": "ipython",
    "version": 3
   },
   "file_extension": ".py",
   "mimetype": "text/x-python",
   "name": "python",
   "nbconvert_exporter": "python",
   "pygments_lexer": "ipython3",
   "version": "3.10.12"
  },
  "orig_nbformat": 4,
  "vscode": {
   "interpreter": {
    "hash": "a5cb17940ec456bfd6f6b24ecec011f7bb1827da42833da90014f36a02c01967"
   }
  }
 },
 "nbformat": 4,
 "nbformat_minor": 2
}
