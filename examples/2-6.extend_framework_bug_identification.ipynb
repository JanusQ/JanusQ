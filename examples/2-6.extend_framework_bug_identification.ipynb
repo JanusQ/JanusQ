{
 "cells": [
  {
   "cell_type": "markdown",
   "metadata": {},
   "source": [
    "# Extend Janus-CT To Identify Bugs in the Quantum Circuit\n",
    "\n",
    "**Author:** Congliang Lang \\& Siwei Tan  \n",
    "\n",
    "**Date:** 15/4/2024\n",
    "\n",
    "Based on \"[QuCT: A Framework for Analyzing Quantum Circuit by Extracting Contextual and Topological Features (MICRO 2023][1]\"\n",
    "\n",
    "[1]: https://scholar.google.com/scholar_url?url=https://dl.acm.org/doi/abs/10.1145/3613424.3614274%3Fcasa_token%3DffjIB1hQ4ZwAAAAA:8MajDLrDOC74WoeMf7r7AoQ-koxCa4E1TNqQg3GSDz03xUX6XdE3toNTM-YdM_e4rKEusMceJ6BGJg&hl=zh-CN&sa=T&oi=gsb&ct=res&cd=0&d=11146218754516883150&ei=42YSZpPlFL6s6rQPtt6x6Ac&scisig=AFWwaeYaiu2hyx8HUJ_7Buf9Mwom\n",
    "\n",
    "The vectorization of Janus-CT can be extended to more downstream tasks. For example, in this notebook, we use Janus-CT to identify the potential bugs in the quantum algorithm implementation. We apply a data driven method that traing a model to predict the error rate "
   ]
  },
  {
   "cell_type": "code",
   "execution_count": 1,
   "metadata": {},
   "outputs": [
    {
     "name": "stderr",
     "output_type": "stream",
     "text": [
      "2024-04-16 12:18:53,785\tWARNING services.py:1996 -- WARNING: The object store is using /tmp instead of /dev/shm because /dev/shm has only 67043328 bytes available. This will harm performance! You may be able to free up space by deleting files in /dev/shm. If you are inside a Docker container, you can increase /dev/shm size by passing '--shm-size=10.24gb' to 'docker run' (or add it to the run_options list in a Ray cluster config). Make sure to set this to more than 30% of available RAM.\n",
      "2024-04-16 12:18:53,926\tINFO worker.py:1724 -- Started a local Ray instance.\n"
     ]
    }
   ],
   "source": [
    "import sys\n",
    "sys.path.append('..')\n",
    "import os\n",
    "os.chdir(\"..\")\n",
    "import logging\n",
    "logging.basicConfig(level=logging.WARN)\n",
    "import ray\n",
    "ray.init(log_to_driver=False)\n",
    "\n",
    "from janusq.data_objects.algorithms import get_algorithm_circuits\n",
    "import random\n",
    "import seaborn as sns\n",
    "import numpy as np\n",
    "from collections import defaultdict\n",
    "import pandas as pd\n",
    "import jax.numpy as jnp\n",
    "\n",
    "from janusq.analysis.vectorization import RandomwalkModel\n",
    "\n",
    "from janusq.tools.ray_func import map\n",
    "from janusq.data_objects.backend import LinearBackend\n",
    "import copy\n",
    "import statistics\n",
    "from janusq.data_objects.circuit import Circuit"
   ]
  },
  {
   "cell_type": "code",
   "execution_count": 2,
   "metadata": {},
   "outputs": [],
   "source": [
    "from collections import Counter\n",
    "\n",
    "class BugIdentificationModel:\n",
    "    def __init__(self, vec_model: RandomwalkModel) -> None:\n",
    "        self.vec_model = vec_model\n",
    "    \n",
    "    def train(self, algorithm_to_circuirts: dict[str, list[Circuit]]):\n",
    "        self.total_vecs = []\n",
    "        self.functionalities = []\n",
    "        \n",
    "        algorithm_names = list(algorithm_to_circuirts.keys())\n",
    "        for algorithm_name, circuits in algorithm_to_circuirts.items():\n",
    "            for circuit in circuits:\n",
    "                vecs = self.vec_model.vectorize(circuit)\n",
    "                self.total_vecs += list(vecs)\n",
    "                self.functionalities += [algorithm_names.index(algorithm_name)] * len(vecs)\n",
    "\n",
    "        self.total_vecs = np.array(self.total_vecs)\n",
    "        self.functionalities = np.array(self.functionalities)\n",
    "\n",
    "    def identify_bug(self, circuit, top_k = 3):\n",
    "        gate_vecs = self.vec_model.vectorize(circuit)\n",
    "        \n",
    "        functionalities_per_gate = []\n",
    "        all_functionalities = []\n",
    "        for analyzed_vec in gate_vecs:\n",
    "            dists = np.sqrt(np.sum((self.total_vecs - analyzed_vec)**2, axis=1))\n",
    "            \n",
    "            top_dist_indices = np.argsort(dists)[:top_k]\n",
    "            nearest_functionalities = self.functionalities[top_dist_indices]\n",
    "            # nearest_dists = dists[top_dist_indices]\n",
    "            nearest_functionalities = nearest_functionalities.tolist()\n",
    "            functionalities_per_gate.append(nearest_functionalities)\n",
    "            all_functionalities += nearest_functionalities\n",
    "        \n",
    "        top_functionalities = [\n",
    "            functionality\n",
    "            for functionality, count in Counter(all_functionalities).most_common(top_k)\n",
    "        ]\n",
    "        \n",
    "        error_gate_indices = []\n",
    "        for i, possible_functionalities in enumerate(functionalities_per_gate):\n",
    "            if len([functionality for functionality in possible_functionalities if functionality in top_functionalities]) != 0:\n",
    "                continue\n",
    "            error_gate_indices.append(i)\n",
    "        \n",
    "        return error_gate_indices"
   ]
  },
  {
   "cell_type": "code",
   "execution_count": 3,
   "metadata": {},
   "outputs": [],
   "source": [
    "def construct_negatives(circuit, n_bugs, basis_gates):\n",
    "    \n",
    "    n_qubits = circuit.n_qubits\n",
    "    bug_circuit = copy.deepcopy(circuit)\n",
    "    \n",
    "    \n",
    "\n",
    "    bug_start = random.randint(0, max(circuit.n_gates - 1 - n_bugs, 1))\n",
    "    bug_end = bug_start + n_bugs\n",
    "    bug_gate_ids = list(range(bug_start, min(bug_end, circuit.n_gates)))\n",
    "\n",
    "    for bug_gate_id in bug_gate_ids:\n",
    "        \n",
    "        gate = bug_circuit.gates[bug_gate_id]\n",
    "\n",
    "        name = random.choice(basis_gates) # ['rx', 'ry', 'rz', 'h', 'cz', 'cx']\n",
    "\n",
    "        params = np.random.random((3,1)) * 2 * np.pi\n",
    "        params = params.tolist()\n",
    "        \n",
    "        qubit1 = random.randint(0, n_qubits - 1)\n",
    "        qubit2 = random.choice([qubit for qubit in range(n_qubits) if qubit != qubit1])\n",
    "        qubits = [qubit1, qubit2]\n",
    "        \n",
    "        gate['name'] = name\n",
    "        if name in ('rx', 'ry', 'rz'):\n",
    "            gate['qubits'] = qubits[:1]\n",
    "            gate['params'] = params[:1]\n",
    "            \n",
    "        elif name in ('cz', 'cx'):\n",
    "            gate['qubits'] = qubits\n",
    "            gate['params'] = []\n",
    "            \n",
    "        elif name in ('h'):\n",
    "            gate['qubits'] = qubits[:1]\n",
    "            gate['params'] = []\n",
    "            \n",
    "        elif name in ('u'):\n",
    "            gate['qubits'] = qubits[:1]\n",
    "            gate['params'] = params\n",
    "            \n",
    "        else:\n",
    "            logging.error(\"no such gate\")\n",
    "            return circuit\n",
    "\n",
    "    bug_circuit.name = bug_circuit.name\n",
    "    return bug_circuit, bug_gate_ids"
   ]
  },
  {
   "cell_type": "code",
   "execution_count": 4,
   "metadata": {},
   "outputs": [
    {
     "name": "stderr",
     "output_type": "stream",
     "text": [
      "100%|██████████| 16/16 [00:03<00:00,  5.07it/s]\n"
     ]
    }
   ],
   "source": [
    "algorithm_names = ['qft', 'hs', 'ising', 'qknn', 'qsvm', 'vqc', 'ghz', 'grover']\n",
    "algorithm_to_circuirts = defaultdict(list)\n",
    "algorithm_circuits = []\n",
    "\n",
    "backend = LinearBackend(6)\n",
    "vec_model = RandomwalkModel(n_steps = 3, n_walks = 30, backend = backend, alpha=.5)\n",
    "\n",
    "for n_qubits in range(5, backend.n_qubits + 1):\n",
    "    for algorithm, circuit in zip(algorithm_names, get_algorithm_circuits(n_qubits, backend, algorithm_names)):\n",
    "        algorithm_to_circuirts[algorithm].append(circuit)\n",
    "        algorithm_circuits.append(circuit)\n",
    "\n",
    "vec_model.train(algorithm_circuits)"
   ]
  },
  {
   "cell_type": "code",
   "execution_count": 5,
   "metadata": {},
   "outputs": [],
   "source": [
    "bug_indentify_model = BugIdentificationModel(vec_model)\n",
    "bug_indentify_model.train(algorithm_to_circuirts)"
   ]
  },
  {
   "cell_type": "code",
   "execution_count": 8,
   "metadata": {},
   "outputs": [
    {
     "name": "stdout",
     "output_type": "stream",
     "text": [
      "[1, 2, 3, 4] []\n"
     ]
    }
   ],
   "source": [
    "circuit = random.choice(algorithm_circuits)\n",
    "bug_circuit, bug_gate_indices = construct_negatives(circuit, n_bugs=4, basis_gates= backend.basis_gates)\n",
    "predict_indices = bug_indentify_model.identify_bug(bug_circuit)\n",
    "\n",
    "print(bug_gate_indices, predict_indices)\n",
    "\n",
    "# correct_rate = 0\n",
    "# for predict_indice in predict_indices:\n",
    "#     if predict_indice in bug_gate_ids:\n",
    "#         correct_rate+=1\n",
    "\n",
    "# print(str.format(\"identify_rate: {}\",  correct_rate * 100 / len(bug_gate_ids)))"
   ]
  },
  {
   "cell_type": "code",
   "execution_count": null,
   "metadata": {},
   "outputs": [],
   "source": []
  }
 ],
 "metadata": {
  "kernelspec": {
   "display_name": "Python 3.9.13 ('ISCA')",
   "language": "python",
   "name": "python3"
  },
  "language_info": {
   "codemirror_mode": {
    "name": "ipython",
    "version": 3
   },
   "file_extension": ".py",
   "mimetype": "text/x-python",
   "name": "python",
   "nbconvert_exporter": "python",
   "pygments_lexer": "ipython3",
   "version": "3.10.12"
  },
  "orig_nbformat": 4,
  "vscode": {
   "interpreter": {
    "hash": "a5cb17940ec456bfd6f6b24ecec011f7bb1827da42833da90014f36a02c01967"
   }
  }
 },
 "nbformat": 4,
 "nbformat_minor": 2
}
