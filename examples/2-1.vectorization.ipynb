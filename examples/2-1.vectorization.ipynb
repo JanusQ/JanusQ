{
 "cells": [
  {
   "cell_type": "markdown",
   "metadata": {},
   "source": [
    "# Vectorization Model Of Janus-CT\n",
    "**Author:** Siwei Tan  \n",
    "\n",
    "**Date:** 7/4/2024\n",
    "\n",
    "Based on \"[QuCT: A Framework for Analyzing Quantum Circuit by Extracting Contextual and Topological Features (MICRO 2023][1]\"\n",
    "\n",
    "[1]: https://scholar.google.com/scholar_url?url=https://dl.acm.org/doi/abs/10.1145/3613424.3614274%3Fcasa_token%3DffjIB1hQ4ZwAAAAA:8MajDLrDOC74WoeMf7r7AoQ-koxCa4E1TNqQg3GSDz03xUX6XdE3toNTM-YdM_e4rKEusMceJ6BGJg&hl=zh-CN&sa=T&oi=gsb&ct=res&cd=0&d=11146218754516883150&ei=42YSZpPlFL6s6rQPtt6x6Ac&scisig=AFWwaeYaiu2hyx8HUJ_7Buf9Mwom\n",
    "\n",
    "In the current Noisy Intermediate-Scale Quantum era, quantum circuit analysis is an essential technique for designing high-performance quantum programs. Current analysis methods exhibit either accuracy limitations or high computational complexity for obtaining precise results. To reduce this tradeoff, we propose Janus-CT, a unified framework for extracting, analyzing, and optimizing quantum circuits. The main innovation of Janus-CT is to vectorize each gate with each element, quantitatively describing the degree of the interaction with neighboring gates. Extending from the vectorization model, we can develope multiple downstream models for fidelity prediction and unitary decomposition, etc. In this tutorial, we introduce the APIs of the vectorization model of Janus-CT."
   ]
  },
  {
   "cell_type": "code",
   "execution_count": 1,
   "metadata": {},
   "outputs": [],
   "source": [
    "%matplotlib inline\n",
    "\n",
    "import logging\n",
    "logging.basicConfig(level=logging.WARN)\n",
    "import sys\n",
    "sys.path.append('..')\n",
    "import os\n",
    "os.chdir(\"..\")\n",
    "from janusq.analysis.vectorization import RandomwalkModel, extract_device\n",
    "\n",
    "from janusq.data_objects.random_circuit import random_circuits, random_circuit\n",
    "from janusq.data_objects.backend import GridBackend\n",
    "\n",
    "import random\n",
    "import numpy as np\n"
   ]
  },
  {
   "cell_type": "markdown",
   "metadata": {},
   "source": [
    "## Vectorization Flow\n",
    "Below is the workflow to vectorize a gate in the quantum circuit. The gate is vectorized by two steps. The first step runs random walks to extract circuit features in the neighbor of the gates. the second step use a table comparison to generate the gate vector.\n",
    "\n",
    "<div style=\"text-align:center;\">\n",
    "    <img src=\"pictures/2-1.feature_extraction.jpg\"  width=\"70%\" height=\"70%\">\n",
    "</div>"
   ]
  },
  {
   "cell_type": "markdown",
   "metadata": {},
   "source": [
    "## Random walk\n",
    "We apply random walk to extract the topological and contextual information of gates in the quantum circuit. Here is a example of random walk."
   ]
  },
  {
   "cell_type": "code",
   "execution_count": 2,
   "metadata": {},
   "outputs": [
    {
     "name": "stdout",
     "output_type": "stream",
     "text": [
      "      ┌───────────────┐   ░ ┌───────────────────┐ ░ ┌──────────────┐ ░ \n",
      "q_0: ─┤ U(3π/5,2π,2π) ├───░─┤ U(7π/5,2π/5,3π/5) ├─░─┤ U(2π/5,2π,π) ├─░─\n",
      "      ├───────────────┴┐  ░ └─┬────────────────┬┘ ░ ├─────────────┬┘ ░ \n",
      "q_1: ─┤ U(7π/5,9π/5,π) ├──░───┤ U(π,4π/5,4π/5) ├──░─┤ U(π,4π/5,π) ├──░─\n",
      "      └┬─────────────┬─┘  ░   └────────────────┘  ░ └─────────────┘  ░ \n",
      "q_2: ──┤ U(π,9π/5,π) ├────░───────────■───────────░────────■─────────░─\n",
      "     ┌─┴─────────────┴──┐ ░         ┌─┴─┐         ░      ┌─┴─┐       ░ \n",
      "q_3: ┤ U(4π/5,3π/5,π/5) ├─░─────────┤ X ├─────────░──────┤ X ├───────░─\n",
      "     └──────────────────┘ ░         └───┘         ░      └───┘       ░ \n",
      "target gate: {'name': 'u', 'qubits': [1], 'params': [3.141592653589793, 2.5132741228718345, 3.141592653589793]}\n",
      "generate paths: {'u,1', 'u,1-parallel-u,0-parallel-cx,2,3', 'u,1-parallel-u,0-former-u,0', 'u,1-parallel-cx,2,3', 'u,1-parallel-u,0-former-cx,2,3', 'u,1-parallel-u,0-former-u,1', 'u,1-former-u,1', 'u,1-parallel-u,0', 'u,1-former-cx,2,3', 'u,1-former-u,0'}\n"
     ]
    }
   ],
   "source": [
    "# generate a circuit\n",
    "from janusq.analysis.vectorization import walk_from_gate\n",
    "\n",
    "backend = GridBackend(2, 2)\n",
    "circuit = random_circuit(backend, 10, .5, False)\n",
    "print(circuit)\n",
    "\n",
    "# choose a target gate\n",
    "gate = random.choice(circuit.gates)\n",
    "\n",
    "# apply random walk\n",
    "paths = walk_from_gate(circuit, gate, 4, 2, backend.adjlist)\n",
    "\n",
    "print('target gate:', gate)\n",
    "print('generate paths:', paths)"
   ]
  },
  {
   "cell_type": "markdown",
   "metadata": {},
   "source": [
    "The code generates 4 paths. Each path has at most 2 steps. A step is represented as \"gate type,qubits-dependency-gate type,qubits\". For example, \"u,4-parallel-u,0-parallel-u,8\" means that a U gate on qubit 4 is executed in parallel with U gates on qubits 0 and 8. "
   ]
  },
  {
   "cell_type": "markdown",
   "metadata": {},
   "source": [
    "## Construction of Path Table\n",
    "\n",
    "For a gate that requires vectorization, we compare it with a path table. The path table is off-line generated by applying random walks to a circuit dataset. To limits the size of the table, the table is usually hardware-specific."
   ]
  },
  {
   "cell_type": "code",
   "execution_count": 3,
   "metadata": {},
   "outputs": [
    {
     "name": "stderr",
     "output_type": "stream",
     "text": [
      "100%|█████████████████████████████████████████| 102/102 [00:08<00:00, 12.57it/s]\n"
     ]
    },
    {
     "name": "stdout",
     "output_type": "stream",
     "text": [
      "length of the path table is 445\n"
     ]
    }
   ],
   "source": [
    "# define the information of the quantum device\n",
    "n_qubits = 6\n",
    "backend = GridBackend(2, 3)\n",
    "\n",
    "# generate a dataset including varous random circuits\n",
    "circuit_dataset = random_circuits(backend, n_circuits=100, n_gate_list=[30, 50, 100], two_qubit_prob_list=[.4], reverse=True)\n",
    "\n",
    "# apply random work to consturct the vectorization model with a path table\n",
    "n_steps = 1\n",
    "n_walks = 100\n",
    "vec_model = RandomwalkModel(n_steps = n_steps, n_walks = n_walks, backend = backend, alpha= .5)\n",
    "vec_model.train(circuit_dataset, multi_process=False)\n",
    "\n",
    "print('length of the path table is', len(vec_model.pathtable))"
   ]
  },
  {
   "cell_type": "markdown",
   "metadata": {},
   "source": [
    "# Gate Vectorization\n",
    "\n",
    "As mentioned above, the vectorization of a gate is performed by comparing the generated paths with a path table. In JanusQ, we provide a api to do this. Below is a example of it."
   ]
  },
  {
   "cell_type": "code",
   "execution_count": 4,
   "metadata": {},
   "outputs": [
    {
     "name": "stdout",
     "output_type": "stream",
     "text": [
      "vector is [0.5 0.5 0.5 1.  0.5 0.5 0.5 0.  0.  0.5 0.  0.  0.  0.  0.  0.  0.  0.\n",
      " 0.  0.  0.  0.  0.  0.  0.  0.  0.  0.  0.  0.  0.  0.  0.  0.  0.  0.\n",
      " 0. ]\n"
     ]
    }
   ],
   "source": [
    "# generate a circuit\n",
    "circuit = random_circuit(backend, 10, .5, False)\n",
    "\n",
    "# choose a target gate\n",
    "gate = random.choice(circuit.gates)\n",
    "\n",
    "# vectorization\n",
    "vec = vec_model.vectorize(circuit, [gate])[0]\n",
    "print('vector is', vec)"
   ]
  },
  {
   "cell_type": "markdown",
   "metadata": {},
   "source": [
    "The indexes of the non-zero elements in the vector is same to the indexes of the generated paths in the path table, which is verified by following codes."
   ]
  },
  {
   "cell_type": "code",
   "execution_count": 5,
   "metadata": {},
   "outputs": [
    {
     "name": "stdout",
     "output_type": "stream",
     "text": [
      "[0, 1, 2, 3, 4, 5, 6, 9] = [0, 1, 2, 3, 4, 5, 6, 9]\n"
     ]
    }
   ],
   "source": [
    "indexes = np.argwhere(vec > 0).flatten()\n",
    "generated_paths = walk_from_gate(circuit, gate, 100, 1, backend.adjlist)\n",
    "device = extract_device(gate)\n",
    "\n",
    "print(list(indexes), '=', sorted([vec_model.path_index(device, path) for path in generated_paths]))"
   ]
  },
  {
   "cell_type": "markdown",
   "metadata": {},
   "source": [
    "## Sub-circuit Reconstruction\n",
    "The vectorization of JanusQ-CT also allows the reconstruction of the sub-circuit around the gate by its vector."
   ]
  },
  {
   "cell_type": "code",
   "execution_count": 6,
   "metadata": {},
   "outputs": [
    {
     "name": "stdout",
     "output_type": "stream",
     "text": [
      "     ┌─────────────────────────┐  ░                            ░ \n",
      "q_0: ┤ U(1.6901,5.5371,2.0636) ├──░─────────────■──────────────░─\n",
      "     └┬────────────────────────┤  ░           ┌─┴─┐            ░ \n",
      "q_1: ─┤ U(3.8836,4.5828,2.641) ├──░───────────┤ X ├────────────░─\n",
      "     ┌┴────────────────────────┴┐ ░ ┌─────────┴───┴──────────┐ ░ \n",
      "q_2: ┤ U(1.3986,0.70865,1.0175) ├─░─┤ U(5.8366,4.8723,5.759) ├─░─\n",
      "     ├─────────────────────────┬┘ ░ └────────────────────────┘ ░ \n",
      "q_3: ┤ U(3.0165,4.4937,5.8311) ├──░────────────────────────────░─\n",
      "     ├─────────────────────────┴┐ ░                            ░ \n",
      "q_4: ┤ U(0.86723,5.0657,4.1385) ├─░────────────────────────────░─\n",
      "     └┬────────────────────────┬┘ ░                            ░ \n",
      "q_5: ─┤ U(3.5087,11.859,4.166) ├──░────────────────────────────░─\n",
      "      └────────────────────────┘  ░                            ░ \n"
     ]
    }
   ],
   "source": [
    "circuit = vec_model.reconstruct(device, vec)\n",
    "print(circuit)"
   ]
  }
 ],
 "metadata": {
  "kernelspec": {
   "display_name": "Python 3 (ipykernel)",
   "language": "python",
   "name": "python3"
  },
  "language_info": {
   "codemirror_mode": {
    "name": "ipython",
    "version": 3
   },
   "file_extension": ".py",
   "mimetype": "text/x-python",
   "name": "python",
   "nbconvert_exporter": "python",
   "pygments_lexer": "ipython3",
   "version": "3.10.12"
  }
 },
 "nbformat": 4,
 "nbformat_minor": 4
}
