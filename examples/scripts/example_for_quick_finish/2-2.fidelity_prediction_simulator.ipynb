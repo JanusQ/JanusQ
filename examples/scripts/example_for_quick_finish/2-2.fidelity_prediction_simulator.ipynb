{
 "cells": [
  {
   "cell_type": "markdown",
   "metadata": {},
   "source": [
    "# Fidelity Prediction Of JanusQ-CT on Quantum Simualtor\n",
    "\n",
    "**Author:** Congliang Lang \\& Siwei Tan  \n",
    "\n",
    "**Date:** 7/4/2024\n",
    "\n",
    "Based on \"[QuCT: A Framework for Analyzing Quantum Circuit by Extracting Contextual and Topological Features (MICRO 2023][1]\"\n",
    "\n",
    "[1]: https://scholar.google.com/scholar_url?url=https://dl.acm.org/doi/abs/10.1145/3613424.3614274%3Fcasa_token%3DffjIB1hQ4ZwAAAAA:8MajDLrDOC74WoeMf7r7AoQ-koxCa4E1TNqQg3GSDz03xUX6XdE3toNTM-YdM_e4rKEusMceJ6BGJg&hl=zh-CN&sa=T&oi=gsb&ct=res&cd=0&d=11146218754516883150&ei=42YSZpPlFL6s6rQPtt6x6Ac&scisig=AFWwaeYaiu2hyx8HUJ_7Buf9Mwom\n",
    "\n",
    "JanusQ enables an accurate fidelity prediction by considering the gate-dependent error (e.g. crosstalk and pulse distortion). Specifially, JanusQ uses a vectorization model to extract the topological and contextual information of circuits and intergate this information into the prediction. \n",
    "\n",
    "In this notebook, we introduce the fidelity prediction on the simulator. We also introduce the prediction on ther real world quantum device in the \"[2-3.fidelity_prediction_realqc.ipynb][2]\"\n",
    "\n",
    "[2]: https://github.com/JanusQ/JanusQ/blob/main/janusq/examples/fidelity_prediction_18_qubit_realqc.ipynb\n"
   ]
  },
  {
   "cell_type": "code",
   "execution_count": 1,
   "metadata": {},
   "outputs": [
    {
     "name": "stderr",
     "output_type": "stream",
     "text": [
      "2024-04-16 10:51:06,584\tWARNING services.py:1996 -- WARNING: The object store is using /tmp instead of /dev/shm because /dev/shm has only 67100672 bytes available. This will harm performance! You may be able to free up space by deleting files in /dev/shm. If you are inside a Docker container, you can increase /dev/shm size by passing '--shm-size=10.24gb' to 'docker run' (or add it to the run_options list in a Ray cluster config). Make sure to set this to more than 30% of available RAM.\n",
      "2024-04-16 10:51:06,730\tINFO worker.py:1724 -- Started a local Ray instance.\n"
     ]
    }
   ],
   "source": [
    "%matplotlib inline\n",
    "import sys\n",
    "sys.path.append('..')\n",
    "import os\n",
    "os.chdir(\"..\")\n",
    "import logging\n",
    "logging.basicConfig(level=logging.WARN)\n",
    "import ray\n",
    "ray.init(log_to_driver=False)\n",
    "from janusq.analysis.fidelity_prediction import FidelityModel\n",
    "from janusq.baselines.fidelity_prediction.rb_prediction import RBModel\n",
    "from janusq.simulator.gate_error_model import GateErrorModel\n",
    "\n",
    "from janusq.analysis.vectorization import RandomwalkModel\n",
    "\n",
    "from janusq.data_objects.random_circuit import random_circuits, random_circuit\n",
    "from janusq.data_objects.backend import Backend, LinearBackend, GridBackend, FullyConnectedBackend\n",
    "\n",
    "from janusq.simulator.noisy_simulator import NoisySimulator\n",
    "import random\n",
    "\n",
    "from janusq.tools.ray_func import map\n",
    "import numpy as np\n"
   ]
  },
  {
   "cell_type": "markdown",
   "metadata": {},
   "source": [
    "## Constructing a vectorization model\n",
    "\n",
    "JanusQ provides a simualtor that can model the gate-dependent error. To intialize this simulator, we first define a backend and construct a vectorization model."
   ]
  },
  {
   "cell_type": "code",
   "execution_count": 2,
   "metadata": {},
   "outputs": [],
   "source": [
    "# define a 5-qubit backend\n",
    "n_qubits = 5\n",
    "n_steps = 1\n",
    "n_walks = 20\n",
    "backend = LinearBackend(n_qubits, 1)"
   ]
  },
  {
   "cell_type": "code",
   "execution_count": 3,
   "metadata": {},
   "outputs": [
    {
     "name": "stderr",
     "output_type": "stream",
     "text": [
      "100%|██████████| 300/300 [00:01<00:00, 152.46it/s]\n"
     ]
    }
   ],
   "source": [
    "circuits = random_circuits(backend, n_circuits=300, n_gate_list=[30, 50, 100], two_qubit_prob_list=[.4], reverse=True)\n",
    "\n",
    "vec_model = RandomwalkModel(n_steps = n_steps, n_walks = n_walks, backend = backend)\n",
    "vec_model.train(circuits, multi_process=False, remove_redundancy = False)\n",
    "\n"
   ]
  },
  {
   "cell_type": "markdown",
   "metadata": {},
   "source": [
    "## Defining a simulator"
   ]
  },
  {
   "cell_type": "markdown",
   "metadata": {},
   "source": [
    "The high gate-dependent errors in the simulator are represented by 1-step paths. The interaction is modeled by applying an RX operator with a random angle $[-\\pi/20, \\pi/20]$. In other words, the two gates of a 1-step path will be added with the RX operator if this path is injected with a noise."
   ]
  },
  {
   "cell_type": "code",
   "execution_count": 4,
   "metadata": {},
   "outputs": [],
   "source": [
    "# select 20 paths to represents sigificant interactions\n",
    "all_paths = vec_model.all_paths()\n",
    "high_error_paths = random.choices(all_paths, k = 20)\n",
    "\n",
    "# inject these paths into the error model of the simulator\n",
    "error_model = GateErrorModel.random_model(backend=backend, high_error_paths=high_error_paths)\n",
    "error_model.vec_model = vec_model\n",
    "\n",
    "# construct the simualtor\n",
    "simulator = NoisySimulator(backend=backend, gate_error_model = error_model)"
   ]
  },
  {
   "cell_type": "markdown",
   "metadata": {},
   "source": [
    "We can use this simualtor to collect ground-truth fidelities."
   ]
  },
  {
   "cell_type": "code",
   "execution_count": 5,
   "metadata": {},
   "outputs": [
    {
     "name": "stderr",
     "output_type": "stream",
     "text": [
      "100%|██████████| 30/30 [00:10<00:00,  2.77it/s]\n"
     ]
    }
   ],
   "source": [
    "ground_truth_fidelities = map(lambda circuit: simulator.obtain_circuit_fidelity(circuit)[0], circuits, show_progress=True, multi_process=True)"
   ]
  },
  {
   "cell_type": "markdown",
   "metadata": {},
   "source": [
    "## Fidelity prediction\n",
    "\n",
    "JanusQ-CT formulates the error $E$ of each gate as the dot-product between its vector $v_i$ and a weight vector $W$. The fidelity of the circuit $F_{circuit}$ is represented as the product of the gate fidelities (1 - gate error):\n",
    "\\begin{equation}\n",
    "\\begin{aligned}\n",
    "    & E(v_i) = W^\\top v_i, \\\\\n",
    "    & F_{circuit} = \\prod_{g_i \\in G} (1- E(v_i)) \\prod_{q \\in Q} MF_{q}.\n",
    "\\end{aligned}\n",
    "\\end{equation}\n",
    "The weight vector $W$ is trained by the stochastic gradient descent algorithm based on a fidelity dataset, consisting of the circuits and their ground-truth fidelities on the quantum devices."
   ]
  },
  {
   "cell_type": "code",
   "execution_count": 6,
   "metadata": {},
   "outputs": [
    {
     "name": "stderr",
     "output_type": "stream",
     "text": [
      "240it [00:00, 572275.70it/s]\n",
      "60it [00:00, 351477.99it/s]\n"
     ]
    }
   ],
   "source": [
    "# intialize the model and train weight vector W\n",
    "fidelity_model = FidelityModel(vec_model)\n",
    "fidelity_model.train((circuits, ground_truth_fidelities), multi_process = True)"
   ]
  },
  {
   "cell_type": "markdown",
   "metadata": {},
   "source": [
    "### Evaluate the Fidelity Prediction Model\n",
    "\n",
    "JanusQ-CT is more accurate compared to previous method, such as the [random benchmarking][3]. We build a random benchmarking model to suggest that.\n",
    "\n",
    "[3]: https://journals.aps.org/pra/abstract/10.1103/PhysRevA.77.012307"
   ]
  },
  {
   "cell_type": "code",
   "execution_count": null,
   "metadata": {},
   "outputs": [],
   "source": [
    "from janusq.baselines.fidelity_prediction.rb_prediction import RBModel\n",
    "rb_model = RBModel(simulator, multi_process = True)"
   ]
  },
  {
   "cell_type": "code",
   "execution_count": null,
   "metadata": {},
   "outputs": [],
   "source": [
    "# generate fidelity dataset\n",
    "benchmarking_circuits = random_circuits(backend, n_circuits=300, n_gate_list=[30, 50, 100], two_qubit_prob_list=[.4], reverse=True)\n",
    "benchmarking_fidelities = np.array(map(lambda circuit: simulator.obtain_circuit_fidelity(circuit)[0], benchmarking_circuits, show_progress=True, multi_process=True))\n",
    "\n",
    "rb_fidelities = np.array(map(lambda circuit: rb_model.predict_circuit_fidelity(circuit), benchmarking_circuits))\n",
    "janusct_fidelities = np.array(map(lambda circuit: fidelity_model.predict_circuit_fidelity(circuit), benchmarking_circuits))"
   ]
  },
  {
   "cell_type": "code",
   "execution_count": null,
   "metadata": {},
   "outputs": [],
   "source": [
    "\n",
    "import matplotlib.pyplot as plt\n",
    "from janusq.tools.plot import plot_scaater\n",
    "\n",
    "durations = np.array([cir.duration for cir in benchmarking_circuits])\n",
    "\n",
    "fig_quct, axes_quct = plot_scaater(benchmarking_fidelities, janusct_fidelities, durations, title = f\"janusct inaccuracy = {np.abs(benchmarking_fidelities - janusct_fidelities).mean()}\")\n",
    "fig_rb, axes_rb = plot_scaater(benchmarking_fidelities, rb_fidelities, durations, title = f\"rb inaccuracy = {np.abs(benchmarking_fidelities - rb_fidelities).mean()}\")\n"
   ]
  }
 ],
 "metadata": {
  "kernelspec": {
   "display_name": "janusq",
   "language": "python",
   "name": "python3"
  },
  "language_info": {
   "codemirror_mode": {
    "name": "ipython",
    "version": 3
   },
   "file_extension": ".py",
   "mimetype": "text/x-python",
   "name": "python",
   "nbconvert_exporter": "python",
   "pygments_lexer": "ipython3",
   "version": "3.10.12"
  }
 },
 "nbformat": 4,
 "nbformat_minor": 2
}
