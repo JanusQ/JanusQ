{
 "cells": [
  {
   "cell_type": "markdown",
   "metadata": {},
   "source": [
    "# Extend Janus-CT To Identify Bugs in Quantum Circuit\n",
    "\n",
    "**Author:** Congliang Lang \\& Siwei Tan  \n",
    "\n",
    "**Date:** 15/4/2024\n",
    "\n",
    "Based on \"[QuCT: A Framework for Analyzing Quantum Circuit by Extracting Contextual and Topological Features (MICRO 2023][1]\"\n",
    "\n",
    "[1]: https://scholar.google.com/scholar_url?url=https://dl.acm.org/doi/abs/10.1145/3613424.3614274%3Fcasa_token%3DffjIB1hQ4ZwAAAAA:8MajDLrDOC74WoeMf7r7AoQ-koxCa4E1TNqQg3GSDz03xUX6XdE3toNTM-YdM_e4rKEusMceJ6BGJg&hl=zh-CN&sa=T&oi=gsb&ct=res&cd=0&d=11146218754516883150&ei=42YSZpPlFL6s6rQPtt6x6Ac&scisig=AFWwaeYaiu2hyx8HUJ_7Buf9Mwom\n",
    "\n",
    "The vectorization of Janus-CT can be extended to more downstream tasks. For example, in this notebook, we use Janus-CT to identify the potential bugs in the quantum algorithm implementation. We apply a data driven method that traing a model to predict the error rate "
   ]
  },
  {
   "cell_type": "code",
   "execution_count": 1,
   "metadata": {},
   "outputs": [
    {
     "name": "stderr",
     "output_type": "stream",
     "text": [
      "2024-04-20 16:42:03,287\tERROR services.py:1329 -- Failed to start the dashboard \n",
      "2024-04-20 16:42:03,349\tERROR services.py:1354 -- Error should be written to 'dashboard.log' or 'dashboard.err'. We are printing the last 20 lines for you. See 'https://docs.ray.io/en/master/ray-observability/ray-logging.html#logging-directory-structure' to find where the log file is.\n",
      "2024-04-20 16:42:03,361\tERROR services.py:1398 -- \n",
      "The last 20 lines of /tmp/ray/session_2024-04-20_16-41-35_264172_672/logs/dashboard.log (it contains the error message from the dashboard): \n",
      "2024-04-20 16:41:55,283\tINFO utils.py:123 -- Module ray.dashboard.modules.actor.actor_head cannot be loaded because we cannot import all dependencies. Install this module using `pip install 'ray[default]'` for the full dashboard functionality. Error: No module named 'aiohttp'\n",
      "2024-04-20 16:41:57,825\tINFO utils.py:123 -- Module ray.dashboard.modules.data.data_head cannot be loaded because we cannot import all dependencies. Install this module using `pip install 'ray[default]'` for the full dashboard functionality. Error: No module named 'aiohttp'\n",
      "2024-04-20 16:41:59,074\tINFO utils.py:123 -- Module ray.dashboard.modules.event.event_head cannot be loaded because we cannot import all dependencies. Install this module using `pip install 'ray[default]'` for the full dashboard functionality. Error: No module named 'aiohttp'\n",
      "2024-04-20 16:41:59,103\tINFO utils.py:123 -- Module ray.dashboard.modules.healthz.healthz_agent cannot be loaded because we cannot import all dependencies. Install this module using `pip install 'ray[default]'` for the full dashboard functionality. Error: No module named 'aiohttp'\n",
      "2024-04-20 16:41:59,122\tINFO utils.py:123 -- Module ray.dashboard.modules.healthz.healthz_head cannot be loaded because we cannot import all dependencies. Install this module using `pip install 'ray[default]'` for the full dashboard functionality. Error: No module named 'aiohttp'\n",
      "2024-04-20 16:41:59,910\tINFO utils.py:123 -- Module ray.dashboard.modules.job.job_agent cannot be loaded because we cannot import all dependencies. Install this module using `pip install 'ray[default]'` for the full dashboard functionality. Error: No module named 'aiohttp'\n",
      "2024-04-20 16:41:59,917\tINFO utils.py:123 -- Module ray.dashboard.modules.job.job_head cannot be loaded because we cannot import all dependencies. Install this module using `pip install 'ray[default]'` for the full dashboard functionality. Error: No module named 'aiohttp'\n",
      "2024-04-20 16:41:59,956\tINFO utils.py:123 -- Module ray.dashboard.modules.log.log_agent cannot be loaded because we cannot import all dependencies. Install this module using `pip install 'ray[default]'` for the full dashboard functionality. Error: No module named 'aiohttp'\n",
      "\n",
      "2024-04-20 16:42:03,558\tWARNING services.py:1996 -- WARNING: The object store is using /tmp instead of /dev/shm because /dev/shm has only 67108864 bytes available. This will harm performance! You may be able to free up space by deleting files in /dev/shm. If you are inside a Docker container, you can increase /dev/shm size by passing '--shm-size=0.37gb' to 'docker run' (or add it to the run_options list in a Ray cluster config). Make sure to set this to more than 30% of available RAM.\n",
      "2024-04-20 16:42:06,342\tINFO worker.py:1724 -- Started a local Ray instance.\n"
     ]
    }
   ],
   "source": [
    "import sys\n",
    "sys.path.append('..')\n",
    "import os\n",
    "os.chdir(\"..\")\n",
    "import logging\n",
    "logging.basicConfig(level=logging.WARN)\n",
    "import ray\n",
    "ray.init(log_to_driver=False)\n",
    "\n",
    "from janusq.data_objects.algorithms import get_algorithm_circuits\n",
    "import random\n",
    "import numpy as np\n",
    "from collections import defaultdict\n",
    "from janusq.analysis.vectorization import RandomwalkModel\n",
    "from janusq.data_objects.backend import LinearBackend\n",
    "from janusq.data_objects.circuit import Circuit"
   ]
  },
  {
   "cell_type": "markdown",
   "metadata": {},
   "source": [
    "As shown in the following codes, the downstream model should be a Python class that take the upstream model as a attribute. This enables the model to extract topological and contextual information for further analysis. For example, in the bug identification, we use this information to guess the functionalities of each gate in the circuit and identify abnormal gates as bugs. "
   ]
  },
  {
   "cell_type": "code",
   "execution_count": 2,
   "metadata": {},
   "outputs": [],
   "source": [
    "from collections import Counter\n",
    "\n",
    "class BugIdentificationModel:\n",
    "    def __init__(self, up_model: RandomwalkModel) -> None:\n",
    "        '''\n",
    "        description: bug identification model based on upstream model\n",
    "        param {RandomwalkModel} up_model: random walk and turn gates to vecs\n",
    "        '''\n",
    "        self.up_model = up_model\n",
    "    \n",
    "    def train(self, algorithm_to_circuirts: dict[str, list[Circuit]]):\n",
    "        '''\n",
    "        description: use algorithm as train dataset and mark circuit functionality\n",
    "        param {dict[str, list[Circuit]]} algorithm_to_circuirts: algorithms \n",
    "        '''\n",
    "        self.total_vecs = []\n",
    "        self.functionalities = []\n",
    "        \n",
    "        algorithm_names = list(algorithm_to_circuirts.keys())\n",
    "        for algorithm_name, circuits in algorithm_to_circuirts.items():\n",
    "            for circuit in circuits:\n",
    "                vecs = self.up_model.vectorize(circuit)\n",
    "                self.total_vecs += list(vecs)\n",
    "                self.functionalities += [algorithm_names.index(algorithm_name)] * len(vecs)\n",
    "\n",
    "        self.total_vecs = np.array(self.total_vecs)\n",
    "        self.functionalities = np.array(self.functionalities)\n",
    "\n",
    "    \n",
    "    def identify_bug(self, circuit: Circuit, top_k = 3, dist_threshold = .2):\n",
    "        '''\n",
    "        description: identify bug by computing distance between vecs and its functionalities\n",
    "        param {Circuit} circuit: circuit to be identifed\n",
    "        param {int} top_k: select k bug candidates\n",
    "        param {float} dist_threshold: distance threshold\n",
    "        '''\n",
    "        gate_vecs = self.up_model.vectorize(circuit)\n",
    "        \n",
    "        functionalities_per_gate = []\n",
    "        all_functionalities = []\n",
    "        for analyzed_vec in gate_vecs:\n",
    "            dists = np.sqrt(np.sum((self.total_vecs - analyzed_vec)**2, axis=1))\n",
    "            \n",
    "            nearest_dist_indices = np.argsort(dists)[:top_k]\n",
    "            nearest_dists = dists[nearest_dist_indices]\n",
    "            \n",
    "            nearest_dist_indices = nearest_dist_indices[nearest_dists < dist_threshold]\n",
    "            \n",
    "            nearest_functionalities = self.functionalities[nearest_dist_indices]\n",
    "            functionalities_per_gate.append(nearest_functionalities)\n",
    "            all_functionalities += list(nearest_functionalities)\n",
    "        \n",
    "        top_functionalities = [\n",
    "            functionality\n",
    "            for functionality, count in Counter(all_functionalities).most_common(top_k)\n",
    "            if count / circuit.n_gates > 0.2\n",
    "        ]\n",
    "        \n",
    "        predicted_gate_indices = []\n",
    "        for i, possible_functionalities in enumerate(functionalities_per_gate):\n",
    "            if len([functionality for functionality in possible_functionalities if functionality in top_functionalities]) != 0:\n",
    "                continue\n",
    "            predicted_gate_indices.append(i)\n",
    "        \n",
    "        # print(circuit)\n",
    "        return predicted_gate_indices"
   ]
  },
  {
   "cell_type": "markdown",
   "metadata": {},
   "source": [
    "Unlike traditional debugging approaches that need to repeatedly process large samples, our bug identification method provides a one-shot solution by using the gate vectors from the upstream model. It takes advantage of many reusable modules that compose the algorithm. For example, the quantum Fourier transformation~(QFT) module, and the Grover module are often applied to find the best decision strategy or estimate the expectation of discrete random processes. This opens the door to inferring the possible functionality of a gate by comparing its vector to a standard vector list derived from quantum algorithms. This vector list refers to an algorithm dataset that is generated offline from widely-used algorithms, where each vector is labeled with a functionality. Note that in contrast to fidelity datasets, this dataset is hardware-independent.\n",
    "\n",
    "\n",
    "Since a gate vector involves multiple paths, it can be viewed as an abstraction of a module in the circuit. To infer the functionality of a given gate, we first calculate the distance between the vector of this gate and the vector in the standard vector list. We label their functionalities to this gate if distances are below a threshold. \n",
    "\n",
    "<div style=\"text-align:center;\">\n",
    "    <img src=\"pictures/2-6.detect_bug.jpg\"  width=\"60%\" height=\"60%\">\n",
    "</div>\n",
    "\n",
    "For example, the figure above illustrates the distances between the vector of the CZ gate in the third layer and four standard vectors from the dataset. By setting a threshold of 0.7, this CZ gate is labeled with QFT and Quantum support vector machine~(QSVM) functionality.\n",
    "\n",
    "\n",
    "<div style=\"text-align:center;\">\n",
    "    <img src=\"pictures/2-6.algorithm.png\"  width=\"60%\" height=\"60%\">\n",
    "</div>\n",
    "\n",
    "After labeling all gates in the circuit, we then apply Algorithm 1 to detect the gates that may exhibit bugs. Assuming that bugs only occur in a sub-circuit, we define a parameter $N_b$ as the maximum number of gates that can be involved in a bug. For each gate vector, we first regard it as a bug (line 1-2). We then collect the neighboring gates $G_{nb}$ that can be visited within ($N_b+1$) steps (line 3). The functionality that is shared by the most gates in $G_{nb}$ is denoted as $m_func$ (line 4).\n",
    "For each functionality of the input vector, its gate is not identified as a bug in two cases: \n",
    "\n",
    "* If the functionality of this gate follows the most frequent functionality of neighboring gates that most gates have. (line 6-7).\n",
    "* If $num$ exceeds $N_b$, the functionality of the sub-circuit, with more than $N_b$ gates, is identical. There is therefore a high probability that this gate is not a bug (line 8-10). \n"
   ]
  },
  {
   "cell_type": "code",
   "execution_count": 3,
   "metadata": {},
   "outputs": [],
   "source": [
    "\n",
    "def construct_negatives(circuit: Circuit, n_error_gates:int, basis_gates):\n",
    "    '''\n",
    "    description: construct bug circuit\n",
    "    param {Circuit} circuit: construct bug circuit base on circuit \n",
    "    param {ing} n_error_gates: number of bug\n",
    "    param {list} basis_gates: asic types of error gates\n",
    "    '''\n",
    "    \n",
    "    n_qubits = circuit.n_qubits\n",
    "    bug_circuit = circuit.copy()\n",
    "    for gate in bug_circuit.gates:\n",
    "        gate.vec = None\n",
    "    import time\n",
    "    random.seed(time.time())\n",
    "    bug_start = random.randint(0, max(circuit.n_gates - 1 - n_error_gates, 1))\n",
    "    bug_end = bug_start + n_error_gates\n",
    "    bug_gate_ids = list(range(bug_start, min(bug_end, circuit.n_gates)))\n",
    "\n",
    "    for bug_gate_id in bug_gate_ids:\n",
    "        \n",
    "        gate = bug_circuit.gates[bug_gate_id]\n",
    "\n",
    "        name = random.choice(basis_gates) # ['rx', 'ry', 'rz', 'h', 'cz', 'cx']\n",
    "\n",
    "        params = np.random.random((3,)) * 2 * np.pi\n",
    "        params = params.tolist()\n",
    "        \n",
    "        qubit1 = random.randint(0, n_qubits - 1)\n",
    "        qubit2 = random.choice([qubit for qubit in range(n_qubits) if qubit != qubit1])\n",
    "        qubits = [qubit1, qubit2]\n",
    "        \n",
    "        gate['name'] = name\n",
    "        if name in ('rx', 'ry', 'rz'):\n",
    "            gate['qubits'] = qubits[:1]\n",
    "            gate['params'] = params[:1]\n",
    "            \n",
    "        elif name in ('cz', 'cx'):\n",
    "            gate['qubits'] = qubits\n",
    "            gate['params'] = []\n",
    "            \n",
    "        elif name in ('h'):\n",
    "            gate['qubits'] = qubits[:1]\n",
    "            gate['params'] = []\n",
    "            \n",
    "        elif name in ('u'):\n",
    "            gate['qubits'] = qubits[:1]\n",
    "            gate['params'] = params\n",
    "            \n",
    "        else:\n",
    "            logging.error(\"no such gate\")\n",
    "            return circuit\n",
    "\n",
    "    bug_circuit.name = bug_circuit.name\n",
    "    return bug_circuit, bug_gate_ids"
   ]
  },
  {
   "cell_type": "code",
   "execution_count": 4,
   "metadata": {},
   "outputs": [
    {
     "name": "stderr",
     "output_type": "stream",
     "text": [
      "100%|███████████████████████████████████████████| 32/32 [01:04<00:00,  2.03s/it]\n"
     ]
    }
   ],
   "source": [
    "algorithm_names = ['qft', 'hs', 'ising', 'qknn', 'qsvm', 'vqc', 'ghz', 'grover'] # 8 programs\n",
    "algorithm_to_circuirts = defaultdict(list)\n",
    "algorithm_circuits = []\n",
    "\n",
    "backend = LinearBackend(8)\n",
    "up_model = RandomwalkModel(n_steps = 2, n_walks = 30, backend = backend, decay=.5)\n",
    "\n",
    "for n_qubits in range(5, backend.n_qubits + 1):\n",
    "    for algorithm, circuit in zip(algorithm_names, get_algorithm_circuits(n_qubits, backend, algorithm_names)):\n",
    "        algorithm_to_circuirts[algorithm].append(circuit)\n",
    "        algorithm_circuits.append(circuit)\n",
    "\n",
    "up_model.train(algorithm_circuits)"
   ]
  },
  {
   "cell_type": "code",
   "execution_count": 5,
   "metadata": {},
   "outputs": [],
   "source": [
    "bug_indentify_model = BugIdentificationModel(up_model)\n",
    "bug_indentify_model.train(algorithm_to_circuirts)"
   ]
  },
  {
   "cell_type": "code",
   "execution_count": 6,
   "metadata": {},
   "outputs": [
    {
     "name": "stdout",
     "output_type": "stream",
     "text": [
      "algrithm: qft_5, identify_rate: 100.0\n",
      "algrithm: hs_5, identify_rate: 33.333333333333336\n",
      "algrithm: ising_5, identify_rate: 100.0\n",
      "algrithm: qknn_5, identify_rate: 100.0\n",
      "algrithm: qsvm_5, identify_rate: 66.66666666666667\n",
      "algrithm: vqc_5, identify_rate: 100.0\n",
      "algrithm: ghz_5, identify_rate: 33.333333333333336\n",
      "algrithm: grover_5, identify_rate: 100.0\n",
      "algrithm: qft_6, identify_rate: 100.0\n",
      "algrithm: hs_6, identify_rate: 100.0\n",
      "algrithm: ising_6, identify_rate: 100.0\n",
      "algrithm: qknn_6, identify_rate: 100.0\n",
      "algrithm: qsvm_6, identify_rate: 33.333333333333336\n",
      "algrithm: vqc_6, identify_rate: 100.0\n",
      "algrithm: ghz_6, identify_rate: 66.66666666666667\n",
      "algrithm: grover_6, identify_rate: 100.0\n",
      "algrithm: qft_7, identify_rate: 100.0\n",
      "algrithm: hs_7, identify_rate: 100.0\n",
      "algrithm: ising_7, identify_rate: 100.0\n",
      "algrithm: qknn_7, identify_rate: 100.0\n",
      "algrithm: qsvm_7, identify_rate: 33.333333333333336\n",
      "algrithm: vqc_7, identify_rate: 100.0\n",
      "algrithm: ghz_7, identify_rate: 0.0\n",
      "algrithm: grover_7, identify_rate: 100.0\n",
      "algrithm: qft_8, identify_rate: 100.0\n",
      "algrithm: hs_8, identify_rate: 0.0\n",
      "algrithm: ising_8, identify_rate: 100.0\n",
      "algrithm: qknn_8, identify_rate: 100.0\n",
      "algrithm: qsvm_8, identify_rate: 33.333333333333336\n",
      "algrithm: vqc_8, identify_rate: 100.0\n",
      "algrithm: ghz_8, identify_rate: 66.66666666666667\n",
      "algrithm: grover_8, identify_rate: 100.0\n"
     ]
    }
   ],
   "source": [
    "# evaluate the model\n",
    "for circuit in algorithm_circuits:\n",
    "    error_circuit, error_gate_indices = construct_negatives(circuit, n_error_gates=3, basis_gates= backend.basis_gates)\n",
    "    predict_indices = bug_indentify_model.identify_bug(error_circuit)\n",
    "\n",
    "    correct_rate = 0\n",
    "    for predict_indice in predict_indices:\n",
    "        if predict_indice in error_gate_indices:\n",
    "            correct_rate+=1\n",
    "\n",
    "    print(str.format(\"algrithm: {}, identify_rate: {}\", error_circuit.name, correct_rate * 100 / len(error_gate_indices)))"
   ]
  },
  {
   "cell_type": "code",
   "execution_count": null,
   "metadata": {},
   "outputs": [],
   "source": []
  }
 ],
 "metadata": {
  "kernelspec": {
   "display_name": "Python 3 (ipykernel)",
   "language": "python",
   "name": "python3"
  },
  "language_info": {
   "codemirror_mode": {
    "name": "ipython",
    "version": 3
   },
   "file_extension": ".py",
   "mimetype": "text/x-python",
   "name": "python",
   "nbconvert_exporter": "python",
   "pygments_lexer": "ipython3",
   "version": "3.10.12"
  },
  "vscode": {
   "interpreter": {
    "hash": "a5cb17940ec456bfd6f6b24ecec011f7bb1827da42833da90014f36a02c01967"
   }
  }
 },
 "nbformat": 4,
 "nbformat_minor": 4
}
