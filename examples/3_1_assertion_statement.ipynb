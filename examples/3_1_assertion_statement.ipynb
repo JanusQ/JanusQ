{
 "cells": [
  {
   "cell_type": "markdown",
   "metadata": {},
   "source": [
    "# Assertion Statement of MorphQPV (TBD)\n",
    "\n",
    "**Author:** Debin Xiang\n",
    "\n",
    "**Date:** 10/12/2024\n",
    "\n",
    "Based on paper \"[MorphQPV: Exploiting Isomorphism in Quantum Programs to Facilitate Confident Verification][1]\" (ASPLOS 2024)\n",
    "\n",
    "[1]: https://dl.acm.org/doi/10.1145/3620666.3651360"
   ]
  }
 ],
 "metadata": {
  "kernelspec": {
   "display_name": "Python 3 (ipykernel)",
   "language": "python",
   "name": "python3"
  },
  "language_info": {
   "codemirror_mode": {
    "name": "ipython",
    "version": 3
   },
   "file_extension": ".py",
   "mimetype": "text/x-python",
   "name": "python",
   "nbconvert_exporter": "python",
   "pygments_lexer": "ipython3",
   "version": "3.10.12"
  },
  "vscode": {
   "interpreter": {
    "hash": "a5cb17940ec456bfd6f6b24ecec011f7bb1827da42833da90014f36a02c01967"
   }
  }
 },
 "nbformat": 4,
 "nbformat_minor": 4
}
