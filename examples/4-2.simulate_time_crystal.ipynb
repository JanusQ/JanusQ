{
 "cells": [
  {
   "cell_type": "markdown",
   "metadata": {},
   "source": [
    "# Simulate Time Crystal\n",
    "\n",
    "**Author:** Chenning Tao\n",
    "\n",
    "**Date:** 13/4/2024\n",
    "\n",
    "Based on paper \"[Digital quantum simulation of Floquet symmetry-protected topological phases][1]\"\n",
    "\n",
    "[1]: https://www.nature.com/articles/s41586-022-04854-3\n",
    "\n",
    "\n",
    "In this part, we will demonstrate how to simulate topology time crystal using Qiskit on our cloud platform and compare the simulated result with the real experiment result."
   ]
  },
  {
   "cell_type": "markdown",
   "metadata": {},
   "source": [
    "## Build circuit function for FSPT phase\n",
    "\n",
    "The circuit if based on the this time-periodic Hamiltonian transformation:\n",
    "$$\\begin{gathered}\n",
    "H(t)= \\begin{cases}H_1, & \\text { for } 0 \\leq t<T^{\\prime}, \\\\\n",
    "H_2, & \\text { for } T^{\\prime} \\leq t<T,\\end{cases} \\\\\n",
    "H_1 \\equiv\\left(\\frac{\\pi}{2}-\\delta\\right) \\sum_k \\hat{\\sigma}_k^x, \\\\\n",
    "H_2 \\equiv-\\sum_k\\left[J_k \\hat{\\sigma}_{k-1}^z \\hat{\\sigma}_k^x \\hat{\\sigma}_{k+1}^z+V_k \\hat{\\sigma}_k^x \\hat{\\sigma}_{k+1}^x+h_k \\hat{\\sigma}_k^x\\right]\n",
    "\\end{gathered}$$\n",
    "\n",
    "And the correspond circuit is shown in the figure.\n",
    "\n",
    "<div style=\"text-align:center;\">\n",
    "    <img src=\"./pictures/4-2.circuit.png\"  width=\"50%\" height=\"50%\">\n",
    "</div>"
   ]
  },
  {
   "cell_type": "markdown",
   "metadata": {},
   "source": [
    "The $H_1$ corresponds to the circuit in green background."
   ]
  },
  {
   "cell_type": "code",
   "execution_count": 1,
   "metadata": {},
   "outputs": [
    {
     "name": "stdout",
     "output_type": "stream",
     "text": [
      "     ┌────────────┐\n",
      "q_0: ┤ Rx(3.1102) ├\n",
      "     ├────────────┤\n",
      "q_1: ┤ Rx(3.1102) ├\n",
      "     ├────────────┤\n",
      "q_2: ┤ Rx(3.1102) ├\n",
      "     ├────────────┤\n",
      "q_3: ┤ Rx(3.1102) ├\n",
      "     ├────────────┤\n",
      "q_4: ┤ Rx(3.1102) ├\n",
      "     ├────────────┤\n",
      "q_5: ┤ Rx(3.1102) ├\n",
      "     ├────────────┤\n",
      "q_6: ┤ Rx(3.1102) ├\n",
      "     ├────────────┤\n",
      "q_7: ┤ Rx(3.1102) ├\n",
      "     └────────────┘\n"
     ]
    }
   ],
   "source": [
    "# import necessary dependencies\n",
    "import qiskit\n",
    "import numpy as np\n",
    "from qiskit import *\n",
    "\n",
    "# define the number of qubits, in this tutorial we use 8 qubits\n",
    "num_qubits = 8\n",
    "\n",
    "# construct the quantum circuit corrsponding to H1\n",
    "def H1_FSPT(qc):\n",
    "    # apply RX gates to all qubits with angle 0.99*pi\n",
    "    for j in range(num_qubits):\n",
    "        qc.rx(np.pi * 0.99, j)\n",
    "    return qc\n",
    "\n",
    "qc = QuantumCircuit(num_qubits)\n",
    "print(H1_FSPT(qc))"
   ]
  },
  {
   "cell_type": "markdown",
   "metadata": {},
   "source": [
    "The $H_2$ corresponds to the circuit in yellow background. For the parameter of RY (Jk), we use randomly generated value from uniform distribution."
   ]
  },
  {
   "cell_type": "code",
   "execution_count": 2,
   "metadata": {},
   "outputs": [
    {
     "name": "stdout",
     "output_type": "stream",
     "text": [
      "                                                            \n",
      "q_0: ────■────────────────────────────────────────────■─────\n",
      "     ┌───┴───┐          ┌──────────────┐          ┌───┴────┐\n",
      "q_1: ┤ Rz(π) ├────■─────┤ Ry(-0.81469) ├────■─────┤ Rz(-π) ├\n",
      "     └───────┘┌───┴───┐ ├─────────────┬┘┌───┴────┐└────────┘\n",
      "q_2: ────■────┤ Rz(π) ├─┤ Ry(-1.4917) ├─┤ Rz(-π) ├────■─────\n",
      "     ┌───┴───┐└───────┘ ├─────────────┴┐└────────┘┌───┴────┐\n",
      "q_3: ┤ Rz(π) ├────■─────┤ Ry(-0.99346) ├────■─────┤ Rz(-π) ├\n",
      "     └───────┘┌───┴───┐ └┬────────────┬┘┌───┴────┐└────────┘\n",
      "q_4: ────■────┤ Rz(π) ├──┤ Ry(-1.275) ├─┤ Rz(-π) ├────■─────\n",
      "     ┌───┴───┐└───────┘┌─┴────────────┴┐└────────┘┌───┴────┐\n",
      "q_5: ┤ Rz(π) ├────■────┤ Ry(-0.078105) ├────■─────┤ Rz(-π) ├\n",
      "     └───────┘┌───┴───┐└┬─────────────┬┘┌───┴────┐└────────┘\n",
      "q_6: ────■────┤ Rz(π) ├─┤ Ry(-1.3783) ├─┤ Rz(-π) ├────■─────\n",
      "     ┌───┴───┐└───────┘ └─────────────┘ └────────┘┌───┴────┐\n",
      "q_7: ┤ Rz(π) ├────────────────────────────────────┤ Rz(-π) ├\n",
      "     └───────┘                                    └────────┘\n"
     ]
    }
   ],
   "source": [
    "# construct the quantum circuit corrsponding to H2\n",
    "from scipy.stats import uniform\n",
    "def H2_FSPT(qc):\n",
    "    # apply CRZ, the control qubit is odd, the target qubit is even, angle is pi\n",
    "    for j in range(1, num_qubits, 2):\n",
    "        qc.crz(np.pi, j-1, j)\n",
    "    # apply CRZ\n",
    "    for j in range(2, num_qubits, 2):\n",
    "        qc.crz(np.pi, j-1, j)\n",
    "\n",
    "    # apply RY\n",
    "    # generate the parameter from uniform distribution\n",
    "    rand_values = uniform.rvs(-1, 1, size=num_qubits-2)\n",
    "    for j in range(1, num_qubits-1):\n",
    "        qc.ry(-2*(1 + rand_values[j-1]), j)\n",
    "\n",
    "    # apply CRZ\n",
    "    for j in range(2, num_qubits, 2):\n",
    "        qc.crz(-np.pi, j-1, j)\n",
    "\n",
    "    for j in range(1, num_qubits, 2):\n",
    "        qc.crz(-np.pi, j-1, j)\n",
    "\n",
    "    return qc\n",
    "\n",
    "# show the quantum circuit\n",
    "qc = QuantumCircuit(num_qubits)\n",
    "print(H2_FSPT(qc))"
   ]
  },
  {
   "cell_type": "markdown",
   "metadata": {},
   "source": [
    "# Build the circuit\n",
    "\n",
    "We build the circuit using the above function according to the time step and add some initialization and measurement for the circuit."
   ]
  },
  {
   "cell_type": "code",
   "execution_count": 3,
   "metadata": {},
   "outputs": [],
   "source": [
    "def build_circuit(n):\n",
    "    qc = QuantumCircuit(num_qubits)\n",
    "\n",
    "    # initialize the quantum state random orthogonal state of |0> and |1>\n",
    "    for i in range(1, num_qubits - 1):\n",
    "        if np.random.rand() > 0.5:\n",
    "            qc.x(i)\n",
    "\n",
    "    # build circuit\n",
    "    for i in range(1, n+1):\n",
    "        # if is odd\n",
    "        if i % 2 == 1:\n",
    "            qc = H1_FSPT(qc)\n",
    "        else:\n",
    "            qc = H2_FSPT(qc)\n",
    "\n",
    "    qc.measure_all()\n",
    "    return qc\n"
   ]
  },
  {
   "cell_type": "markdown",
   "metadata": {},
   "source": [
    "# Simulating\n",
    "\n",
    "For each duration of time step, we caculate the expection based on the measurement result.\n",
    "\n",
    "$$\\overline{\\left\\langle\\sigma_j^z(t)\\right\\rangle} = p_0 - p_1 = 1 - 2\\times p_1$$"
   ]
  },
  {
   "cell_type": "code",
   "execution_count": 4,
   "metadata": {},
   "outputs": [
    {
     "name": "stdout",
     "output_type": "stream",
     "text": [
      "        ┌────────────┐                                                »\n",
      "   q_0: ┤ Rx(3.1102) ├───────────────■────────────────────────────────»\n",
      "        └┬─────────┬─┘┌────────────┐ │ZZ(-π/2)                        »\n",
      "   q_1: ─┤ Rz(π/2) ├──┤ Ry(-π/100) ├─■──────────────────────■─────────»\n",
      "        ┌┴─────────┴─┐└────────────┘           ┌─────────┐  │ZZ(-π/2) »\n",
      "   q_2: ┤ Rx(-π/100) ├───────────────■─────────┤ Rz(π/2) ├──■─────────»\n",
      "        └┬─────────┬─┘┌────────────┐ │ZZ(-π/2) └─────────┘            »\n",
      "   q_3: ─┤ Rz(π/2) ├──┤ Ry(-π/100) ├─■──────────────────────■─────────»\n",
      "        ┌┴─────────┴─┐└────────────┘           ┌─────────┐  │ZZ(-π/2) »\n",
      "   q_4: ┤ Rx(3.1102) ├───────────────■─────────┤ Rz(π/2) ├──■─────────»\n",
      "        ├────────────┤ ┌─────────┐   │ZZ(-π/2) └─────────┘            »\n",
      "   q_5: ┤ Rx(3.1102) ├─┤ Rz(π/2) ├───■──────────────────────■─────────»\n",
      "        ├────────────┤ └─────────┘             ┌─────────┐  │ZZ(-π/2) »\n",
      "   q_6: ┤ Rx(-π/100) ├───────────────■─────────┤ Rz(π/2) ├──■─────────»\n",
      "        ├────────────┤ ┌─────────┐   │ZZ(-π/2) ├─────────┴┐           »\n",
      "   q_7: ┤ Rx(3.1102) ├─┤ Rz(π/2) ├───■─────────┤ Rz(-π/2) ├───────────»\n",
      "        └────────────┘ └─────────┘             └──────────┘           »\n",
      "meas: 8/══════════════════════════════════════════════════════════════»\n",
      "                                                                      »\n",
      "«                                                                      ░ ┌─┐   »\n",
      "«   q_0: ────────────────────────────────────────────────────■─────────░─┤M├───»\n",
      "«         ┌─────────────┐                       ┌──────────┐ │ZZ(π/2)  ░ └╥┘┌─┐»\n",
      "«   q_1: ─┤ Ry(-1.3586) ├──────────────■────────┤ Rz(-π/2) ├─■─────────░──╫─┤M├»\n",
      "«         ├─────────────┴┐┌──────────┐ │ZZ(π/2) └──────────┘           ░  ║ └╥┘»\n",
      "«   q_2: ─┤ Ry(-0.16417) ├┤ Rz(-π/2) ├─■─────────────────────■─────────░──╫──╫─»\n",
      "«         ├─────────────┬┘└──────────┘          ┌──────────┐ │ZZ(π/2)  ░  ║  ║ »\n",
      "«   q_3: ─┤ Ry(-1.7531) ├──────────────■────────┤ Rz(-π/2) ├─■─────────░──╫──╫─»\n",
      "«        ┌┴─────────────┴┐┌──────────┐ │ZZ(π/2) └──────────┘           ░  ║  ║ »\n",
      "«   q_4: ┤ Ry(-0.068793) ├┤ Rz(-π/2) ├─■─────────────────────■─────────░──╫──╫─»\n",
      "«        └┬─────────────┬┘└──────────┘          ┌──────────┐ │ZZ(π/2)  ░  ║  ║ »\n",
      "«   q_5: ─┤ Ry(-1.4015) ├──────────────■────────┤ Rz(-π/2) ├─■─────────░──╫──╫─»\n",
      "«         ├─────────────┴┐┌──────────┐ │ZZ(π/2) └──────────┘           ░  ║  ║ »\n",
      "«   q_6: ─┤ Ry(-0.34064) ├┤ Rz(-π/2) ├─■──────────■────────────────────░──╫──╫─»\n",
      "«         └──────────────┘└──────────┘            │ZZ(π/2)             ░  ║  ║ »\n",
      "«   q_7: ─────────────────────────────────────────■────────────────────░──╫──╫─»\n",
      "«                                                                      ░  ║  ║ »\n",
      "«meas: 8/═════════════════════════════════════════════════════════════════╩══╩═»\n",
      "«                                                                         0  1 »\n",
      "«                          \n",
      "«   q_0: ──────────────────\n",
      "«                          \n",
      "«   q_1: ──────────────────\n",
      "«        ┌─┐               \n",
      "«   q_2: ┤M├───────────────\n",
      "«        └╥┘┌─┐            \n",
      "«   q_3: ─╫─┤M├────────────\n",
      "«         ║ └╥┘┌─┐         \n",
      "«   q_4: ─╫──╫─┤M├─────────\n",
      "«         ║  ║ └╥┘┌─┐      \n",
      "«   q_5: ─╫──╫──╫─┤M├──────\n",
      "«         ║  ║  ║ └╥┘┌─┐   \n",
      "«   q_6: ─╫──╫──╫──╫─┤M├───\n",
      "«         ║  ║  ║  ║ └╥┘┌─┐\n",
      "«   q_7: ─╫──╫──╫──╫──╫─┤M├\n",
      "«         ║  ║  ║  ║  ║ └╥┘\n",
      "«meas: 8/═╩══╩══╩══╩══╩══╩═\n",
      "«         2  3  4  5  6  7 \n",
      "-1.0 -1.0\n"
     ]
    },
    {
     "name": "stderr",
     "output_type": "stream",
     "text": [
      "/tmp/ipykernel_3915681/664076633.py:4: DeprecationWarning: The 'qiskit.Aer' entry point is deprecated and will be removed in Qiskit 1.0. You should use 'qiskit_aer.Aer' directly instead.\n",
      "  backend = Aer.get_backend('qasm_simulator')\n"
     ]
    }
   ],
   "source": [
    "# run the quantum circuit\n",
    "qc = build_circuit(2)\n",
    "from qiskit import Aer, execute\n",
    "backend = Aer.get_backend('qasm_simulator')\n",
    "qc = transpile(qc, backend)\n",
    "res = backend.run(qc, shots=100).result().get_counts()\n",
    "\n",
    "# calculate the expectation value of the Z operator\n",
    "def expectation_value(res, i):\n",
    "    total_counts = sum(res.values())\n",
    "    p1 = 0\n",
    "    for bitstring, count in res.items():\n",
    "        if bitstring[i] == '1':\n",
    "            p1 += count / total_counts\n",
    "    return 1 - 2*p1\n",
    "\n",
    "print(qc)\n",
    "print(expectation_value(res, 0), expectation_value(res, 7))"
   ]
  },
  {
   "cell_type": "markdown",
   "metadata": {},
   "source": [
    "# Draw the result\n",
    "\n",
    "We can compare our result with the experiment result. For each point in the figure, we generate and run teh circuit for 100 times (ATTENTION: this could take a while!).\n",
    "\n",
    "<div style=\"text-align:center;\">\n",
    "    <img src=\"./pictures/4-2.result.png\"  width=\"50%\" height=\"50%\">\n",
    "</div>"
   ]
  },
  {
   "cell_type": "code",
   "execution_count": 5,
   "metadata": {},
   "outputs": [],
   "source": [
    "import matplotlib.pyplot as plt\n",
    "\n",
    "res = []\n",
    "\n",
    "# collect the result for time step from 1 to 40\n",
    "for i in range(1, 40):\n",
    "    # repeat 100 times\n",
    "    res0 = 0\n",
    "    res4 = 0\n",
    "    res7 = 0\n",
    "    for _ in range(100):\n",
    "        qc = build_circuit(i)\n",
    "        qc = transpile(qc, backend)\n",
    "        result = backend.run(qc, shots=100).result().get_counts()\n",
    "        res_0 = expectation_value(result, 0)\n",
    "        res_4 = expectation_value(result, 4)\n",
    "        res_7 = expectation_value(result, 7)\n",
    "        res0 += res_0\n",
    "        res4 += res_4\n",
    "        res7 += res_7\n",
    "    res0 /= 100\n",
    "    res4 /= 100\n",
    "    res7 /= 100\n",
    "    res.append([res0, res4, res7])\n",
    "\n",
    "# plot the result\n",
    "plt.plot(res)\n",
    "plt.xlabel('Time step')\n",
    "plt.ylabel(r'$\\overline{\\left\\langle\\sigma^z\\right\\rangle}$')\n",
    "plt.legend(['qubit 0', 'qubit 4', 'qubit 7'])\n",
    "plt.show()"
   ]
  },
  {
   "cell_type": "markdown",
   "metadata": {},
   "source": [
    "The result will look like this:\n",
    "\n",
    "<div style=\"text-align:center;\">\n",
    "    <img src=\"./pictures/4-2.result_sim.png\"  width=\"50%\" height=\"50%\">\n",
    "</div>"
   ]
  },
  {
   "cell_type": "code",
   "execution_count": null,
   "metadata": {},
   "outputs": [],
   "source": []
  }
 ],
 "metadata": {
  "kernelspec": {
   "display_name": "qiskit-old",
   "language": "python",
   "name": "python3"
  },
  "language_info": {
   "codemirror_mode": {
    "name": "ipython",
    "version": 3
   },
   "file_extension": ".py",
   "mimetype": "text/x-python",
   "name": "python",
   "nbconvert_exporter": "python",
   "pygments_lexer": "ipython3",
   "version": "3.10.12"
  }
 },
 "nbformat": 4,
 "nbformat_minor": 2
}
