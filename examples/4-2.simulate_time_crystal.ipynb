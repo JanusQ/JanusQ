{
 "cells": [
  {
   "cell_type": "markdown",
   "metadata": {},
   "source": [
    "# Simulate Topological Time Crystal\n",
    "\n",
    "**Author:** Chenning Tao\n",
    "\n",
    "**Date:** 13/4/2024\n",
    "\n",
    "Based on paper \"[Digital quantum simulation of Floquet symmetry-protected topological phases][1]\"\n",
    "\n",
    "[1]: https://www.nature.com/articles/s41586-022-04854-3\n",
    "\n",
    "\n",
    "In this part, we will demonstrate how to simulate topology time crystal using Qiskit on our cloud platform and compare the simulated result with the real experiment result."
   ]
  },
  {
   "cell_type": "markdown",
   "metadata": {},
   "source": [
    "### Floquet Symmetry-protected Topological Time Phase （FSPT）\n",
    "\n",
    "Time crystal 是什么, Floquet Symmetry-protected Topological Time Phase的crystal是什么, 放下那个分类图，再哪里，基于下面俩特征进行分类\n",
    "\n",
    "1. 特性1\n",
    "2. 特性2\n",
    "\n",
    "\n",
    "These features are reflected on the time-periodic Hamiltonian of the qubits:\n",
    "$$\\begin{gathered}\n",
    "H(t)= \\begin{cases}H_1, & \\text { for } 0 \\leq t<T^{\\prime}, \\\\\n",
    "H_2, & \\text { for } T^{\\prime} \\leq t<T,\\end{cases} \\\\\n",
    "H_1 \\equiv\\left(\\frac{\\pi}{2}-\\delta\\right) \\sum_k \\hat{\\sigma}_k^x, \\\\\n",
    "H_2 \\equiv-\\sum_k\\left[J_k \\hat{\\sigma}_{k-1}^z \\hat{\\sigma}_k^x \\hat{\\sigma}_{k+1}^z+V_k \\hat{\\sigma}_k^x \\hat{\\sigma}_{k+1}^x+h_k \\hat{\\sigma}_k^x\\right]\n",
    "\\end{gathered}$$\n",
    "where H1 ...., H2...\n"
   ]
  },
  {
   "cell_type": "markdown",
   "metadata": {},
   "source": [
    "## Build circuit function for FSPT phase\n",
    "\n",
    "The Hamiltonian mentioned above can be decomposed into the circuit shown in the figure.\n",
    "\n",
    "<div style=\"text-align:center;\">\n",
    "    <img src=\"./pictures/4-2.circuit.png\"  width=\"45%\" height=\"45%\">\n",
    "</div>"
   ]
  },
  {
   "cell_type": "markdown",
   "metadata": {},
   "source": [
    "The $H_1$ corresponds to the circuit in green background."
   ]
  },
  {
   "cell_type": "code",
   "execution_count": 1,
   "metadata": {},
   "outputs": [
    {
     "name": "stdout",
     "output_type": "stream",
     "text": [
      "     ┌────────────┐\n",
      "q_0: ┤ Rx(3.1102) ├\n",
      "     ├────────────┤\n",
      "q_1: ┤ Rx(3.1102) ├\n",
      "     ├────────────┤\n",
      "q_2: ┤ Rx(3.1102) ├\n",
      "     ├────────────┤\n",
      "q_3: ┤ Rx(3.1102) ├\n",
      "     ├────────────┤\n",
      "q_4: ┤ Rx(3.1102) ├\n",
      "     ├────────────┤\n",
      "q_5: ┤ Rx(3.1102) ├\n",
      "     ├────────────┤\n",
      "q_6: ┤ Rx(3.1102) ├\n",
      "     ├────────────┤\n",
      "q_7: ┤ Rx(3.1102) ├\n",
      "     └────────────┘\n"
     ]
    }
   ],
   "source": [
    "# import necessary dependencies\n",
    "import qiskit\n",
    "import numpy as np\n",
    "from qiskit import *\n",
    "\n",
    "# define the number of qubits, in this tutorial we use 8 qubits\n",
    "num_qubits = 8\n",
    "\n",
    "# construct the quantum circuit corrsponding to H1\n",
    "def H1_FSPT(qc):\n",
    "    # apply RX gates to all qubits with angle 0.99*pi\n",
    "    for j in range(num_qubits):\n",
    "        qc.rx(np.pi * 0.99, j)\n",
    "    return qc\n",
    "\n",
    "qc = QuantumCircuit(num_qubits)\n",
    "print(H1_FSPT(qc))"
   ]
  },
  {
   "cell_type": "markdown",
   "metadata": {},
   "source": [
    "The $H_2$ corresponds to the circuit in yellow background. For the parameter of RY (Jk), we use randomly generated value from uniform distribution."
   ]
  },
  {
   "cell_type": "code",
   "execution_count": 21,
   "metadata": {},
   "outputs": [
    {
     "name": "stdout",
     "output_type": "stream",
     "text": [
      "                                                          \n",
      "q_0: ────■──────────────────────────────────────────■─────\n",
      "     ┌───┴───┐          ┌────────────┐          ┌───┴────┐\n",
      "q_1: ┤ Rz(π) ├────■─────┤ Ry(1.9953) ├────■─────┤ Rz(-π) ├\n",
      "     └───────┘┌───┴───┐ ├────────────┤┌───┴────┐└────────┘\n",
      "q_2: ────■────┤ Rz(π) ├─┤ Ry(1.9976) ├┤ Rz(-π) ├────■─────\n",
      "     ┌───┴───┐└───────┘┌┴────────────┤└────────┘┌───┴────┐\n",
      "q_3: ┤ Rz(π) ├────■────┤ Ry(0.65881) ├────■─────┤ Rz(-π) ├\n",
      "     └───────┘┌───┴───┐├─────────────┤┌───┴────┐└────────┘\n",
      "q_4: ────■────┤ Rz(π) ├┤ Ry(-1.9142) ├┤ Rz(-π) ├────■─────\n",
      "     ┌───┴───┐└───────┘└┬────────────┤└────────┘┌───┴────┐\n",
      "q_5: ┤ Rz(π) ├────■─────┤ Ry(5.2618) ├────■─────┤ Rz(-π) ├\n",
      "     └───────┘┌───┴───┐ ├────────────┤┌───┴────┐└────────┘\n",
      "q_6: ────■────┤ Rz(π) ├─┤ Ry(4.4142) ├┤ Rz(-π) ├────■─────\n",
      "     ┌───┴───┐└───────┘ └────────────┘└────────┘┌───┴────┐\n",
      "q_7: ┤ Rz(π) ├──────────────────────────────────┤ Rz(-π) ├\n",
      "     └───────┘                                  └────────┘\n"
     ]
    }
   ],
   "source": [
    "# construct the quantum circuit corrsponding to H2\n",
    "from scipy.stats import uniform\n",
    "def H2_FSPT(qc):\n",
    "    # apply CRZ, the control qubit is odd, the target qubit is even, angle is pi\n",
    "    for j in range(1, num_qubits, 2):\n",
    "        qc.crz(np.pi, j-1, j)\n",
    "    # apply CRZ\n",
    "    for j in range(2, num_qubits, 2):\n",
    "        qc.crz(np.pi, j-1, j)\n",
    "\n",
    "    # apply RY\n",
    "    # generate the parameter from uniform distribution\n",
    "    rand_values = uniform.rvs(-4, 4, size=num_qubits-2)\n",
    "    for j in range(1, num_qubits-1):\n",
    "        qc.ry(-2*(1 + rand_values[j-1]), j)\n",
    "\n",
    "    # apply CRZ\n",
    "    for j in range(2, num_qubits, 2):\n",
    "        qc.crz(-np.pi, j-1, j)\n",
    "\n",
    "    for j in range(1, num_qubits, 2):\n",
    "        qc.crz(-np.pi, j-1, j)\n",
    "\n",
    "    return qc\n",
    "\n",
    "# show the quantum circuit\n",
    "qc = QuantumCircuit(num_qubits)\n",
    "print(H2_FSPT(qc))"
   ]
  },
  {
   "cell_type": "markdown",
   "metadata": {},
   "source": [
    "# Build the circuit\n",
    "\n",
    "We build the circuit using the above function according to the time step and add some initialization and measurement for the circuit."
   ]
  },
  {
   "cell_type": "code",
   "execution_count": 58,
   "metadata": {},
   "outputs": [],
   "source": [
    "def build_circuit(n):\n",
    "    qc = QuantumCircuit(num_qubits)\n",
    "\n",
    "    reversed = []\n",
    "    # initialize the quantum state random orthogonal state of |0> and |1>\n",
    "    for i in range(0, num_qubits):\n",
    "        if np.random.rand() > 0.5:\n",
    "            qc.x(i)\n",
    "            reversed.append(num_qubits-i-1)\n",
    "\n",
    "    # build circuit\n",
    "    for i in range(1, n+1):\n",
    "        # if is odd\n",
    "        if i % 2 == 1:\n",
    "            qc = H1_FSPT(qc)\n",
    "        else:\n",
    "            qc = H2_FSPT(qc)\n",
    "\n",
    "    qc.measure_all()\n",
    "    return qc, reversed\n"
   ]
  },
  {
   "cell_type": "markdown",
   "metadata": {},
   "source": [
    "# Simulating\n",
    "\n",
    "For each duration of time step, we caculate the expection based on the measurement result.\n",
    "\n",
    "$$\\overline{\\left\\langle\\sigma_j^z(t)\\right\\rangle} = p_0 - p_1 = 1 - 2\\times p_1$$"
   ]
  },
  {
   "cell_type": "code",
   "execution_count": 1,
   "metadata": {},
   "outputs": [
    {
     "ename": "NameError",
     "evalue": "name 'build_circuit' is not defined",
     "output_type": "error",
     "traceback": [
      "\u001b[0;31m---------------------------------------------------------------------------\u001b[0m",
      "\u001b[0;31mNameError\u001b[0m                                 Traceback (most recent call last)",
      "Cell \u001b[0;32mIn[1], line 2\u001b[0m\n\u001b[1;32m      1\u001b[0m \u001b[38;5;66;03m# run the quantum circuit\u001b[39;00m\n\u001b[0;32m----> 2\u001b[0m qc, \u001b[38;5;28mreversed\u001b[39m \u001b[38;5;241m=\u001b[39m \u001b[43mbuild_circuit\u001b[49m(\u001b[38;5;241m1\u001b[39m)\n\u001b[1;32m      3\u001b[0m \u001b[38;5;28;01mfrom\u001b[39;00m \u001b[38;5;21;01mqiskit\u001b[39;00m \u001b[38;5;28;01mimport\u001b[39;00m Aer, execute\n\u001b[1;32m      4\u001b[0m backend \u001b[38;5;241m=\u001b[39m Aer\u001b[38;5;241m.\u001b[39mget_backend(\u001b[38;5;124m'\u001b[39m\u001b[38;5;124mqasm_simulator\u001b[39m\u001b[38;5;124m'\u001b[39m)\n",
      "\u001b[0;31mNameError\u001b[0m: name 'build_circuit' is not defined"
     ]
    }
   ],
   "source": [
    "# run the quantum circuit\n",
    "qc, reversed = build_circuit(1)\n",
    "from qiskit import Aer, execute\n",
    "backend = Aer.get_backend('qasm_simulator')\n",
    "\n",
    "# TODO: noisy\n",
    "\n",
    "qc = transpile(qc, backend)\n",
    "res = backend.run(qc, shots=100).result().get_counts()\n",
    "\n",
    "# calculate the expectation value of the Z operator\n",
    "def expectation_value(res, i, reversed):\n",
    "    total_counts = sum(res.values())\n",
    "    p1 = 0\n",
    "    for bitstring, count in res.items():\n",
    "        if bitstring[i] == '1':\n",
    "            p1 += count / total_counts\n",
    "    if i in reversed:\n",
    "        return -(1-2*p1)\n",
    "    return 1 - 2*p1\n",
    "\n",
    "print(qc)\n",
    "for i in range(8):\n",
    "    print(i, expectation_value(res, i, reversed))"
   ]
  },
  {
   "cell_type": "markdown",
   "metadata": {},
   "source": [
    "# Draw the result\n",
    "\n",
    "We can compare our result with the experiment result. For each point in the figure, we generate and run teh circuit for 100 times (ATTENTION: this could take a while!).\n",
    "\n",
    "<div style=\"text-align:center;\">\n",
    "    <img src=\"./pictures/4-2.result.png\"  width=\"50%\" height=\"50%\">\n",
    "</div>"
   ]
  },
  {
   "cell_type": "code",
   "execution_count": 2,
   "metadata": {},
   "outputs": [
    {
     "ename": "NameError",
     "evalue": "name 'build_circuit' is not defined",
     "output_type": "error",
     "traceback": [
      "\u001b[0;31m---------------------------------------------------------------------------\u001b[0m",
      "\u001b[0;31mNameError\u001b[0m                                 Traceback (most recent call last)",
      "Cell \u001b[0;32mIn[2], line 13\u001b[0m\n\u001b[1;32m     11\u001b[0m repeat_time \u001b[38;5;241m=\u001b[39m \u001b[38;5;241m20\u001b[39m\n\u001b[1;32m     12\u001b[0m \u001b[38;5;28;01mfor\u001b[39;00m _ \u001b[38;5;129;01min\u001b[39;00m \u001b[38;5;28mrange\u001b[39m(repeat_time):\n\u001b[0;32m---> 13\u001b[0m     qc, \u001b[38;5;28mreversed\u001b[39m \u001b[38;5;241m=\u001b[39m \u001b[43mbuild_circuit\u001b[49m(i)\n\u001b[1;32m     14\u001b[0m     qc \u001b[38;5;241m=\u001b[39m transpile(qc, backend)\n\u001b[1;32m     15\u001b[0m     result \u001b[38;5;241m=\u001b[39m backend\u001b[38;5;241m.\u001b[39mrun(qc, shots\u001b[38;5;241m=\u001b[39m\u001b[38;5;241m100\u001b[39m)\u001b[38;5;241m.\u001b[39mresult()\u001b[38;5;241m.\u001b[39mget_counts()\n",
      "\u001b[0;31mNameError\u001b[0m: name 'build_circuit' is not defined"
     ]
    }
   ],
   "source": [
    "import matplotlib.pyplot as plt\n",
    "\n",
    "res = []\n",
    "\n",
    "# collect the result for time step from 1 to 40\n",
    "for i in range(0, 40):\n",
    "    # repeat 100 times\n",
    "    res0 = 0\n",
    "    res4 = 0\n",
    "    res7 = 0\n",
    "    repeat_time = 20\n",
    "    for _ in range(repeat_time):\n",
    "        qc, reversed = build_circuit(i)\n",
    "        qc = transpile(qc, backend)\n",
    "        result = backend.run(qc, shots=100).result().get_counts()\n",
    "        res_0 = expectation_value(result, 0, reversed)\n",
    "        res_4 = expectation_value(result, 4, reversed)\n",
    "        res_7 = expectation_value(result, 7, reversed)\n",
    "        res0 += res_0\n",
    "        res4 += res_4\n",
    "        res7 += res_7\n",
    "    res0 /= repeat_time\n",
    "    res4 /= repeat_time\n",
    "    res7 /= repeat_time\n",
    "    res.append([res0, res7, res4])\n",
    "\n",
    "# plot the result\n",
    "# TODO: 小一些\n",
    "plt.plot(res)\n",
    "plt.xlabel('Time step')\n",
    "plt.ylabel(r'$\\overline{\\left\\langle\\sigma^z\\right\\rangle}$')\n",
    "plt.legend(['qubit 0', 'qubit 7', 'qubit 4'])\n",
    "plt.show()"
   ]
  },
  {
   "cell_type": "markdown",
   "metadata": {},
   "source": [
    "TODO:\n",
    "    解释pattern"
   ]
  },
  {
   "cell_type": "code",
   "execution_count": null,
   "metadata": {},
   "outputs": [],
   "source": []
  }
 ],
 "metadata": {
  "kernelspec": {
   "display_name": "qiskit-old",
   "language": "python",
   "name": "python3"
  },
  "language_info": {
   "codemirror_mode": {
    "name": "ipython",
    "version": 3
   },
   "file_extension": ".py",
   "mimetype": "text/x-python",
   "name": "python",
   "nbconvert_exporter": "python",
   "pygments_lexer": "ipython3",
   "version": "3.10.12"
  }
 },
 "nbformat": 4,
 "nbformat_minor": 2
}
