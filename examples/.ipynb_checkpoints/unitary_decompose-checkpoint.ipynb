{
 "cells": [
  {
   "cell_type": "code",
   "execution_count": 1,
   "metadata": {},
   "outputs": [],
   "source": [
    "import os\n",
    "os.chdir('/home/langcongliang/janusq')\n",
    "from qiskit import QuantumCircuit\n",
    "from qiskit.quantum_info import random_unitary\n",
    "from data_objects.circuit import qiskit_to_circuit\n",
    "from data_objects.backend import  LinearBackend\n",
    "\n",
    "import time\n",
    "\n",
    "n_qubits = 5\n",
    "backend = LinearBackend(n_qubits, 1)"
   ]
  },
  {
   "cell_type": "markdown",
   "metadata": {},
   "source": [
    "generate a random unitary"
   ]
  },
  {
   "cell_type": "code",
   "execution_count": 2,
   "metadata": {},
   "outputs": [
    {
     "data": {
      "text/plain": [
       "(16, 16)"
      ]
     },
     "execution_count": 2,
     "metadata": {},
     "output_type": "execute_result"
    }
   ],
   "source": [
    "unitary = random_unitary(2**n_qubits).data\n",
    "unitary.shape"
   ]
  },
  {
   "cell_type": "markdown",
   "metadata": {},
   "source": [
    "use benchmarking circuit unitary"
   ]
  },
  {
   "cell_type": "code",
   "execution_count": 3,
   "metadata": {},
   "outputs": [
    {
     "name": "stderr",
     "output_type": "stream",
     "text": [
      "/tmp/ipykernel_739960/4185899387.py:3: DeprecationWarning: The return type of saved unitaries has been changed from a `numpy.ndarray` to a `qiskit.quantum_info.Operator` as of qiskit-aer 0.10. Accessing numpy array attributes is deprecated and will result in an error in a future release. To continue using saved result objects as arrays you can explicitly cast them using  `np.asarray(object)`.\n",
      "  unitary.shape\n"
     ]
    },
    {
     "data": {
      "text/plain": [
       "(16, 16)"
      ]
     },
     "execution_count": 3,
     "metadata": {},
     "output_type": "execute_result"
    }
   ],
   "source": [
    "from data_objects.algorithms import get_algs\n",
    "unitary = get_algs(n_qubits, backend, ['ghz'], unitary= True)[0]\n",
    "unitary.shape"
   ]
  },
  {
   "cell_type": "markdown",
   "metadata": {},
   "source": [
    "qsd method"
   ]
  },
  {
   "cell_type": "code",
   "execution_count": 4,
   "metadata": {},
   "outputs": [],
   "source": [
    "from qiskit.synthesis.unitary.qsd import qs_decomposition\n",
    "\n",
    "start_time =time.time()\n",
    "qc = qs_decomposition(unitary)\n",
    "\n",
    "qsd_circuit = qiskit_to_circuit(qc)\n",
    "qsd_time = time.time() - start_time"
   ]
  },
  {
   "cell_type": "markdown",
   "metadata": {},
   "source": []
  },
  {
   "cell_type": "code",
   "execution_count": 5,
   "metadata": {},
   "outputs": [
    {
     "name": "stderr",
     "output_type": "stream",
     "text": [
      "Compiler interrupted.\n"
     ]
    }
   ],
   "source": []
  },
  {
   "cell_type": "markdown",
   "metadata": {},
   "source": [
    "QuCT method"
   ]
  },
  {
   "cell_type": "code",
   "execution_count": null,
   "metadata": {},
   "outputs": [
    {
     "ename": "",
     "evalue": "",
     "output_type": "error",
     "traceback": [
      "\u001b[1;31mRunning cells with 'janusq' requires the ipykernel package.\n",
      "\u001b[1;31mRun the following command to install 'ipykernel' into the Python environment. \n",
      "\u001b[1;31mCommand: 'conda install -n janusq ipykernel --update-deps --force-reinstall'"
     ]
    }
   ],
   "source": [
    "\n",
    "from analysis.unitary_decompostion import decompose\n",
    "\n",
    "start_time = time.time()\n",
    "quct_circuit = decompose(unitary, allowed_dist = 1e-5, backend = backend)\n",
    "quct_time = time.time() - start_time"
   ]
  },
  {
   "cell_type": "markdown",
   "metadata": {},
   "source": [
    "qfast method"
   ]
  },
  {
   "cell_type": "code",
   "execution_count": null,
   "metadata": {},
   "outputs": [],
   "source": [
    "from bqskit.compiler import Compiler\n",
    "from bqskit.ir.circuit import Circuit\n",
    "from bqskit.ir.gates import CircuitGate\n",
    "from bqskit.ir.gates.constant.cx import CNOTGate\n",
    "from bqskit.ir.gates.parameterized.u3 import U3Gate\n",
    "from bqskit.passes import QFASTDecompositionPass\n",
    "from bqskit.qis import UnitaryMatrix\n",
    "from bqskit.ext import bqskit_to_qiskit        \n",
    "circuit = Circuit(2)\n",
    "circuit.append_gate(CNOTGate(), (0, 1))\n",
    "circuit.append_gate(U3Gate(), (0,))\n",
    "cg = CircuitGate(circuit)\n",
    "circuit = Circuit.from_unitary(unitary)\n",
    "\n",
    "start_time = time.time()\n",
    "qfast = QFASTDecompositionPass(cg)\n",
    "circuit.perform(qfast)\n",
    "dist = circuit.get_unitary().get_distance_from(unitary)\n",
    "assert dist <= 1e-5\n",
    "\n",
    "qc = bqskit_to_qiskit(circuit)\n",
    "qfast_circuit = qiskit_to_circuit(qc)\n",
    "qfast_time = time.time() - start_time"
   ]
  },
  {
   "cell_type": "code",
   "execution_count": null,
   "metadata": {},
   "outputs": [],
   "source": [
    "\n",
    "synthesis_method_result = [qsd_circuit, qfast_circuit, quct_circuit]\n",
    "synthesis_method_time = [qsd_time, qfast_time, quct_time]\n",
    "for res, tim in synthesis_method_result, synthesis_method_time:\n",
    "    print(f\"#gate: {res.n_gates}, depth: {res.depth}, time: {tim} \\n\")"
   ]
  }
 ],
 "metadata": {
  "kernelspec": {
   "display_name": "Python 3 (ipykernel)",
   "language": "python",
   "name": "python3"
  },
  "language_info": {
   "codemirror_mode": {
    "name": "ipython",
    "version": 3
   },
   "file_extension": ".py",
   "mimetype": "text/x-python",
   "name": "python",
   "nbconvert_exporter": "python",
   "pygments_lexer": "ipython3",
   "version": "3.10.14"
  }
 },
 "nbformat": 4,
 "nbformat_minor": 4
}
