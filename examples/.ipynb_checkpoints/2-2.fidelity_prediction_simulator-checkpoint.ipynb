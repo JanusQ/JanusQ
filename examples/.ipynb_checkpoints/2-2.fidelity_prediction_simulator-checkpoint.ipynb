{
 "cells": [
  {
   "cell_type": "markdown",
   "metadata": {},
   "source": [
    "# Fidelity Prediction Of JanusQ-CT on Quantum Simualtor\n",
    "\n",
    "**Author:** Congliang Lang \\& Siwei Tan  \n",
    "\n",
    "**Date:** 7/4/2024\n",
    "\n",
    "Based on \"[QuCT: A Framework for Analyzing Quantum Circuit by Extracting Contextual and Topological Features (MICRO 2023][1]\"\n",
    "\n",
    "[1]: https://scholar.google.com/scholar_url?url=https://dl.acm.org/doi/abs/10.1145/3613424.3614274%3Fcasa_token%3DffjIB1hQ4ZwAAAAA:8MajDLrDOC74WoeMf7r7AoQ-koxCa4E1TNqQg3GSDz03xUX6XdE3toNTM-YdM_e4rKEusMceJ6BGJg&hl=zh-CN&sa=T&oi=gsb&ct=res&cd=0&d=11146218754516883150&ei=42YSZpPlFL6s6rQPtt6x6Ac&scisig=AFWwaeYaiu2hyx8HUJ_7Buf9Mwom\n",
    "\n",
    "JanusQ enables an accurate fidelity prediction by considering the gate-dependent error (e.g. crosstalk and pulse distortion). Specifially, JanusQ uses a vectorization model to extract the topological and contextual information of circuits and intergate this information into the prediction. \n",
    "\n",
    "In this notebook, we introduce the fidelity prediction on the simulator. We also introduce the prediction on ther real world quantum device in the \"[2-3.fidelity_prediction_realqc.ipynb][2]\"\n",
    "\n",
    "[2]: https://github.com/JanusQ/JanusQ/blob/main/janusq/examples/fidelity_prediction_18_qubit_realqc.ipynb\n"
   ]
  },
  {
   "cell_type": "code",
   "execution_count": 1,
   "metadata": {},
   "outputs": [
    {
     "name": "stderr",
     "output_type": "stream",
     "text": [
      "2024-04-20 17:06:20,894\tWARNING services.py:1996 -- WARNING: The object store is using /tmp instead of /dev/shm because /dev/shm has only 67100672 bytes available. This will harm performance! You may be able to free up space by deleting files in /dev/shm. If you are inside a Docker container, you can increase /dev/shm size by passing '--shm-size=1.57gb' to 'docker run' (or add it to the run_options list in a Ray cluster config). Make sure to set this to more than 30% of available RAM.\n",
      "2024-04-20 17:06:22,440\tINFO worker.py:1724 -- Started a local Ray instance.\n"
     ]
    }
   ],
   "source": [
    "%matplotlib inline\n",
    "import sys\n",
    "sys.path.append('..')\n",
    "import os\n",
    "os.chdir(\"..\")\n",
    "import logging\n",
    "logging.basicConfig(level=logging.WARN)\n",
    "import ray\n",
    "ray.init(log_to_driver=False)\n",
    "from janusq.analysis.fidelity_prediction import FidelityModel\n",
    "from janusq.baselines.fidelity_prediction.rb_prediction import RBModel\n",
    "from janusq.simulator.gate_error_model import GateErrorModel\n",
    "\n",
    "from janusq.analysis.vectorization import RandomwalkModel\n",
    "\n",
    "from janusq.data_objects.random_circuit import random_circuits\n",
    "from janusq.data_objects.backend import  LinearBackend\n",
    "\n",
    "from janusq.simulator.noisy_simulator import NoisySimulator\n",
    "import random\n",
    "\n",
    "from janusq.tools.ray_func import map\n",
    "import numpy as np\n"
   ]
  },
  {
   "cell_type": "markdown",
   "metadata": {},
   "source": [
    "## Constructing a vectorization model\n",
    "\n",
    "JanusQ provides a simualtor that can model the gate-dependent error. To intialize this simulator, we first define a backend and construct a vectorization model."
   ]
  },
  {
   "cell_type": "code",
   "execution_count": 2,
   "metadata": {},
   "outputs": [],
   "source": [
    "# define a 5-qubit backend\n",
    "n_qubits = 5\n",
    "n_steps = 1\n",
    "n_walks = 20\n",
    "backend = LinearBackend(n_qubits, 1)"
   ]
  },
  {
   "cell_type": "code",
   "execution_count": 3,
   "metadata": {},
   "outputs": [
    {
     "name": "stderr",
     "output_type": "stream",
     "text": [
      "100%|█████████████████████████████████████████| 300/300 [00:12<00:00, 23.15it/s]\n"
     ]
    }
   ],
   "source": [
    "circuits = random_circuits(backend, n_circuits=300, n_gate_list=[30, 50, 100], two_qubit_prob_list=[.4], reverse=True)\n",
    "\n",
    "vec_model = RandomwalkModel(n_steps = n_steps, n_walks = n_walks, backend = backend)\n",
    "vec_model.train(circuits, multi_process=False, remove_redundancy = False)\n",
    "\n"
   ]
  },
  {
   "cell_type": "markdown",
   "metadata": {},
   "source": [
    "## Defining a simulator"
   ]
  },
  {
   "cell_type": "markdown",
   "metadata": {},
   "source": [
    "The high gate-dependent errors in the simulator are represented by 1-step paths. The interaction is modeled by applying an RX operator with a random angle $[-\\pi/20, \\pi/20]$. In other words, the two gates of a 1-step path will be added with the RX operator if this path is injected with a noise."
   ]
  },
  {
   "cell_type": "code",
   "execution_count": 4,
   "metadata": {},
   "outputs": [],
   "source": [
    "# select 20 paths to represents sigificant interactions\n",
    "all_paths = vec_model.all_paths()\n",
    "high_error_paths = random.choices(all_paths, k = 20)\n",
    "\n",
    "# inject these paths into the error model of the simulator\n",
    "error_model = GateErrorModel.random_model(backend=backend, high_error_paths=high_error_paths)\n",
    "error_model.vec_model = vec_model\n",
    "\n",
    "# construct the simualtor\n",
    "simulator = NoisySimulator(backend=backend, gate_error_model = error_model)"
   ]
  },
  {
   "cell_type": "markdown",
   "metadata": {},
   "source": [
    "We can use this simualtor to collect ground-truth fidelities."
   ]
  },
  {
   "cell_type": "code",
   "execution_count": 5,
   "metadata": {},
   "outputs": [
    {
     "name": "stderr",
     "output_type": "stream",
     "text": [
      "100%|████████████████████████████████████████████| 8/8 [15:51<00:00, 118.98s/it]\n"
     ]
    }
   ],
   "source": [
    "ground_truth_fidelities = map(lambda circuit: simulator.obtain_circuit_fidelity(circuit)[0], circuits, show_progress=True, multi_process=False)"
   ]
  },
  {
   "cell_type": "markdown",
   "metadata": {},
   "source": [
    "## Fidelity prediction\n",
    "\n",
    "JanusQ-CT formulates the error $E$ of each gate as the dot-product between its vector $v_i$ and a weight vector $W$. The fidelity of the circuit $F_{circuit}$ is represented as the product of the gate fidelities (1 - gate error):\n",
    "\\begin{equation}\n",
    "\\begin{aligned}\n",
    "    & E(v_i) = W^\\top v_i, \\\\\n",
    "    & F_{circuit} = \\prod_{g_i \\in G} (1- E(v_i)) \\prod_{q \\in Q} MF_{q}.\n",
    "\\end{aligned}\n",
    "\\end{equation}\n",
    "The weight vector $W$ is trained by the stochastic gradient descent algorithm based on a fidelity dataset, consisting of the circuits and their ground-truth fidelities on the quantum devices."
   ]
  },
  {
   "cell_type": "code",
   "execution_count": 6,
   "metadata": {},
   "outputs": [
    {
     "name": "stderr",
     "output_type": "stream",
     "text": [
      "240it [00:00, 55874.39it/s]\n",
      "60it [00:00, 50543.93it/s]\n"
     ]
    }
   ],
   "source": [
    "# intialize the model and train weight vector W\n",
    "fidelity_model = FidelityModel(vec_model)\n",
    "fidelity_model.train((circuits, ground_truth_fidelities), multi_process = True)"
   ]
  },
  {
   "cell_type": "markdown",
   "metadata": {},
   "source": [
    "### Evaluate the Fidelity Prediction Model\n",
    "\n",
    "JanusQ-CT is more accurate compared to previous method, such as the [random benchmarking][3]. We build a random benchmarking model to suggest that.\n",
    "\n",
    "[3]: https://journals.aps.org/pra/abstract/10.1103/PhysRevA.77.012307"
   ]
  },
  {
   "cell_type": "code",
   "execution_count": 7,
   "metadata": {},
   "outputs": [
    {
     "name": "stderr",
     "output_type": "stream",
     "text": [
      "  0%|                                                     | 0/1 [14:17<?, ?it/s]\n"
     ]
    },
    {
     "ename": "OutOfMemoryError",
     "evalue": "Task was killed due to the node running low on memory.\nMemory on the node (IP: 172.17.0.2, ID: 70422997dbee7a45e985b8573f06f193008208f510c2b07bfb9ddbe6) where the task (task ID: 7497b1d85d14407a7b32f4435f09e9648de2060c01000000, name=_map, pid=10477, memory used=0.33GB) was running was 7.27GB / 7.66GB (0.950002), which exceeds the memory usage threshold of 0.95. Ray killed this worker (ID: 1672ce8a3f6deb5f11f0a09c01b6744b6da3cafb0c20a74daadcfb85) because it was the most recently scheduled task; to see more information about memory usage on this node, use `ray logs raylet.out -ip 172.17.0.2`. To see the logs of the worker, use `ray logs worker-1672ce8a3f6deb5f11f0a09c01b6744b6da3cafb0c20a74daadcfb85*out -ip 172.17.0.2. Top 10 memory users:\nPID\tMEM(GB)\tCOMMAND\n6552\t1.66\t/usr/bin/qemu-x86_64 /usr/bin/python3 /usr/bin/python3 -m ipykernel_launcher -f /root/.local/share/j...\n5908\t0.61\t/usr/bin/qemu-x86_64 /usr/bin/python3 /usr/bin/python3 -m ipykernel_launcher -f /root/.local/share/j...\n6555\t0.38\t/usr/bin/qemu-x86_64 /usr/bin/python3 /usr/bin/python3 -m ipykernel_launcher -f /root/.local/share/j...\n10477\t0.33\t/usr/bin/qemu-x86_64 /usr/bin/python3 /usr/bin/python3 /usr/local/lib/python3.10/dist-packages/ray/_...\n6039\t0.14\t/usr/local/lib/python3.10/dist-packages/ray/core/src/ray/raylet/raylet --raylet_socket_name=/tmp/ray...\n5946\t0.13\t/usr/bin/qemu-x86_64 /usr/local/lib/python3.10/dist-packages/ray/core/src/ray/gcs/gcs_server /usr/lo...\n6598\t0.13\t/usr/bin/qemu-x86_64 /usr/local/lib/python3.10/dist-packages/ray/core/src/ray/gcs/gcs_server /usr/lo...\n6906\t0.12\t/usr/bin/qemu-x86_64 /usr/bin/python3 /usr/bin/python3 -u /usr/local/lib/python3.10/dist-packages/ra...\n6718\t0.12\t/usr/bin/qemu-x86_64 /usr/bin/python3 /usr/bin/python3 /usr/local/lib/python3.10/dist-packages/ray/d...\n6001\t0.12\t/usr/bin/qemu-x86_64 /usr/bin/python3 /usr/bin/python3 /usr/local/lib/python3.10/dist-packages/ray/d...\nRefer to the documentation on how to address the out of memory issue: https://docs.ray.io/en/latest/ray-core/scheduling/ray-oom-prevention.html. Consider provisioning more memory on this node or reducing task parallelism by requesting more CPUs per task. To adjust the kill threshold, set the environment variable `RAY_memory_usage_threshold` when starting Ray. To disable worker killing, set the environment variable `RAY_memory_monitor_refresh_ms` to zero.",
     "output_type": "error",
     "traceback": [
      "\u001b[0;31m---------------------------------------------------------------------------\u001b[0m",
      "\u001b[0;31mOutOfMemoryError\u001b[0m                          Traceback (most recent call last)",
      "Cell \u001b[0;32mIn[7], line 2\u001b[0m\n\u001b[1;32m      1\u001b[0m \u001b[38;5;28;01mfrom\u001b[39;00m \u001b[38;5;21;01mjanusq\u001b[39;00m\u001b[38;5;21;01m.\u001b[39;00m\u001b[38;5;21;01mbaselines\u001b[39;00m\u001b[38;5;21;01m.\u001b[39;00m\u001b[38;5;21;01mfidelity_prediction\u001b[39;00m\u001b[38;5;21;01m.\u001b[39;00m\u001b[38;5;21;01mrb_prediction\u001b[39;00m \u001b[38;5;28;01mimport\u001b[39;00m RBModel\n\u001b[0;32m----> 2\u001b[0m rb_model \u001b[38;5;241m=\u001b[39m \u001b[43mRBModel\u001b[49m\u001b[43m(\u001b[49m\u001b[43msimulator\u001b[49m\u001b[43m,\u001b[49m\u001b[43m \u001b[49m\u001b[43mmulti_process\u001b[49m\u001b[43m \u001b[49m\u001b[38;5;241;43m=\u001b[39;49m\u001b[43m \u001b[49m\u001b[38;5;28;43;01mTrue\u001b[39;49;00m\u001b[43m)\u001b[49m\n",
      "File \u001b[0;32m/JanusQ/janusq/baselines/fidelity_prediction/rb_prediction.py:34\u001b[0m, in \u001b[0;36mRBModel.__init__\u001b[0;34m(self, simulator, multi_process)\u001b[0m\n\u001b[1;32m     31\u001b[0m qubits \u001b[38;5;241m=\u001b[39m backend\u001b[38;5;241m.\u001b[39minvolvod_qubits\n\u001b[1;32m     32\u001b[0m couplers \u001b[38;5;241m=\u001b[39m \u001b[38;5;28mlist\u001b[39m(backend\u001b[38;5;241m.\u001b[39mcoupling_map)\n\u001b[0;32m---> 34\u001b[0m qubit_errors \u001b[38;5;241m=\u001b[39m \u001b[38;5;28;43mmap\u001b[39;49m\u001b[43m(\u001b[49m\u001b[43mget_error_1q\u001b[49m\u001b[43m,\u001b[49m\u001b[43m \u001b[49m\u001b[43mqubits\u001b[49m\u001b[43m,\u001b[49m\u001b[43m \u001b[49m\u001b[43mmulti_process\u001b[49m\u001b[43m \u001b[49m\u001b[38;5;241;43m=\u001b[39;49m\u001b[43m \u001b[49m\u001b[43mmulti_process\u001b[49m\u001b[43m,\u001b[49m\u001b[43m \u001b[49m\u001b[43mshow_progress\u001b[49m\u001b[38;5;241;43m=\u001b[39;49m\u001b[43m \u001b[49m\u001b[38;5;28;43;01mTrue\u001b[39;49;00m\u001b[43m,\u001b[49m\u001b[43m \u001b[49m\u001b[43msimulator\u001b[49m\u001b[43m \u001b[49m\u001b[38;5;241;43m=\u001b[39;49m\u001b[43m \u001b[49m\u001b[43msimulator\u001b[49m\u001b[43m)\u001b[49m\n\u001b[1;32m     35\u001b[0m coupler_errors \u001b[38;5;241m=\u001b[39m \u001b[38;5;28mmap\u001b[39m(get_error_2q, couplers, multi_process \u001b[38;5;241m=\u001b[39m multi_process, show_progress\u001b[38;5;241m=\u001b[39m \u001b[38;5;28;01mTrue\u001b[39;00m, error_1qs \u001b[38;5;241m=\u001b[39m qubit_errors, simulator \u001b[38;5;241m=\u001b[39m simulator)\n\u001b[1;32m     37\u001b[0m \u001b[38;5;66;03m# may raise ValueError: `x0` is infeasible.\u001b[39;00m\n",
      "File \u001b[0;32m/JanusQ/janusq/tools/ray_func.py:53\u001b[0m, in \u001b[0;36mmap\u001b[0;34m(func, data, multi_process, n_process, show_progress, **kwargs)\u001b[0m\n\u001b[1;32m     51\u001b[0m     \u001b[38;5;28;01mfor\u001b[39;00m sub_dataset \u001b[38;5;129;01min\u001b[39;00m batch(data, batch_size\u001b[38;5;241m=\u001b[39mbatch_size):\n\u001b[1;32m     52\u001b[0m         futures\u001b[38;5;241m.\u001b[39mappend(_map\u001b[38;5;241m.\u001b[39mremote(sub_dataset, \u001b[38;5;241m*\u001b[39m\u001b[38;5;241m*\u001b[39mkwargs))\n\u001b[0;32m---> 53\u001b[0m     futures \u001b[38;5;241m=\u001b[39m \u001b[43mwait\u001b[49m\u001b[43m(\u001b[49m\u001b[43mfutures\u001b[49m\u001b[43m,\u001b[49m\u001b[43m \u001b[49m\u001b[43mshow_progress\u001b[49m\u001b[38;5;241;43m=\u001b[39;49m\u001b[43mshow_progress\u001b[49m\u001b[43m)\u001b[49m\n\u001b[1;32m     54\u001b[0m     \u001b[38;5;28;01mreturn\u001b[39;00m reduce(\u001b[38;5;28;01mlambda\u001b[39;00m a, b: a \u001b[38;5;241m+\u001b[39m b, futures)\n\u001b[1;32m     55\u001b[0m \u001b[38;5;28;01melse\u001b[39;00m:\n",
      "File \u001b[0;32m/JanusQ/janusq/tools/ray_func.py:89\u001b[0m, in \u001b[0;36mwait\u001b[0;34m(future, show_progress)\u001b[0m\n\u001b[1;32m     87\u001b[0m     results \u001b[38;5;241m=\u001b[39m []\n\u001b[1;32m     88\u001b[0m     \u001b[38;5;28;01mfor\u001b[39;00m future \u001b[38;5;129;01min\u001b[39;00m pb(futures, show_progress):\n\u001b[0;32m---> 89\u001b[0m         results\u001b[38;5;241m.\u001b[39mappend(\u001b[43mwait\u001b[49m\u001b[43m(\u001b[49m\u001b[43mfuture\u001b[49m\u001b[43m)\u001b[49m)\n\u001b[1;32m     90\u001b[0m     \u001b[38;5;28;01mreturn\u001b[39;00m results\n\u001b[1;32m     91\u001b[0m \u001b[38;5;28;01melif\u001b[39;00m is_ray_future(future):\n",
      "File \u001b[0;32m/JanusQ/janusq/tools/ray_func.py:92\u001b[0m, in \u001b[0;36mwait\u001b[0;34m(future, show_progress)\u001b[0m\n\u001b[1;32m     90\u001b[0m     \u001b[38;5;28;01mreturn\u001b[39;00m results\n\u001b[1;32m     91\u001b[0m \u001b[38;5;28;01melif\u001b[39;00m is_ray_future(future):\n\u001b[0;32m---> 92\u001b[0m     \u001b[38;5;28;01mreturn\u001b[39;00m \u001b[43mray\u001b[49m\u001b[38;5;241;43m.\u001b[39;49m\u001b[43mget\u001b[49m\u001b[43m(\u001b[49m\u001b[43mfuture\u001b[49m\u001b[43m)\u001b[49m\n\u001b[1;32m     93\u001b[0m \u001b[38;5;28;01melif\u001b[39;00m \u001b[38;5;28misinstance\u001b[39m(future, Future):\n\u001b[1;32m     94\u001b[0m     \u001b[38;5;28;01mreturn\u001b[39;00m future\u001b[38;5;241m.\u001b[39mresult()\n",
      "File \u001b[0;32m/usr/local/lib/python3.10/dist-packages/ray/_private/auto_init_hook.py:22\u001b[0m, in \u001b[0;36mwrap_auto_init.<locals>.auto_init_wrapper\u001b[0;34m(*args, **kwargs)\u001b[0m\n\u001b[1;32m     19\u001b[0m \u001b[38;5;129m@wraps\u001b[39m(fn)\n\u001b[1;32m     20\u001b[0m \u001b[38;5;28;01mdef\u001b[39;00m \u001b[38;5;21mauto_init_wrapper\u001b[39m(\u001b[38;5;241m*\u001b[39margs, \u001b[38;5;241m*\u001b[39m\u001b[38;5;241m*\u001b[39mkwargs):\n\u001b[1;32m     21\u001b[0m     auto_init_ray()\n\u001b[0;32m---> 22\u001b[0m     \u001b[38;5;28;01mreturn\u001b[39;00m \u001b[43mfn\u001b[49m\u001b[43m(\u001b[49m\u001b[38;5;241;43m*\u001b[39;49m\u001b[43margs\u001b[49m\u001b[43m,\u001b[49m\u001b[43m \u001b[49m\u001b[38;5;241;43m*\u001b[39;49m\u001b[38;5;241;43m*\u001b[39;49m\u001b[43mkwargs\u001b[49m\u001b[43m)\u001b[49m\n",
      "File \u001b[0;32m/usr/local/lib/python3.10/dist-packages/ray/_private/client_mode_hook.py:103\u001b[0m, in \u001b[0;36mclient_mode_hook.<locals>.wrapper\u001b[0;34m(*args, **kwargs)\u001b[0m\n\u001b[1;32m    101\u001b[0m     \u001b[38;5;28;01mif\u001b[39;00m func\u001b[38;5;241m.\u001b[39m\u001b[38;5;18m__name__\u001b[39m \u001b[38;5;241m!=\u001b[39m \u001b[38;5;124m\"\u001b[39m\u001b[38;5;124minit\u001b[39m\u001b[38;5;124m\"\u001b[39m \u001b[38;5;129;01mor\u001b[39;00m is_client_mode_enabled_by_default:\n\u001b[1;32m    102\u001b[0m         \u001b[38;5;28;01mreturn\u001b[39;00m \u001b[38;5;28mgetattr\u001b[39m(ray, func\u001b[38;5;241m.\u001b[39m\u001b[38;5;18m__name__\u001b[39m)(\u001b[38;5;241m*\u001b[39margs, \u001b[38;5;241m*\u001b[39m\u001b[38;5;241m*\u001b[39mkwargs)\n\u001b[0;32m--> 103\u001b[0m \u001b[38;5;28;01mreturn\u001b[39;00m \u001b[43mfunc\u001b[49m\u001b[43m(\u001b[49m\u001b[38;5;241;43m*\u001b[39;49m\u001b[43margs\u001b[49m\u001b[43m,\u001b[49m\u001b[43m \u001b[49m\u001b[38;5;241;43m*\u001b[39;49m\u001b[38;5;241;43m*\u001b[39;49m\u001b[43mkwargs\u001b[49m\u001b[43m)\u001b[49m\n",
      "File \u001b[0;32m/usr/local/lib/python3.10/dist-packages/ray/_private/worker.py:2626\u001b[0m, in \u001b[0;36mget\u001b[0;34m(object_refs, timeout)\u001b[0m\n\u001b[1;32m   2624\u001b[0m             \u001b[38;5;28;01mraise\u001b[39;00m value\u001b[38;5;241m.\u001b[39mas_instanceof_cause()\n\u001b[1;32m   2625\u001b[0m         \u001b[38;5;28;01melse\u001b[39;00m:\n\u001b[0;32m-> 2626\u001b[0m             \u001b[38;5;28;01mraise\u001b[39;00m value\n\u001b[1;32m   2628\u001b[0m \u001b[38;5;28;01mif\u001b[39;00m is_individual_id:\n\u001b[1;32m   2629\u001b[0m     values \u001b[38;5;241m=\u001b[39m values[\u001b[38;5;241m0\u001b[39m]\n",
      "\u001b[0;31mOutOfMemoryError\u001b[0m: Task was killed due to the node running low on memory.\nMemory on the node (IP: 172.17.0.2, ID: 70422997dbee7a45e985b8573f06f193008208f510c2b07bfb9ddbe6) where the task (task ID: 7497b1d85d14407a7b32f4435f09e9648de2060c01000000, name=_map, pid=10477, memory used=0.33GB) was running was 7.27GB / 7.66GB (0.950002), which exceeds the memory usage threshold of 0.95. Ray killed this worker (ID: 1672ce8a3f6deb5f11f0a09c01b6744b6da3cafb0c20a74daadcfb85) because it was the most recently scheduled task; to see more information about memory usage on this node, use `ray logs raylet.out -ip 172.17.0.2`. To see the logs of the worker, use `ray logs worker-1672ce8a3f6deb5f11f0a09c01b6744b6da3cafb0c20a74daadcfb85*out -ip 172.17.0.2. Top 10 memory users:\nPID\tMEM(GB)\tCOMMAND\n6552\t1.66\t/usr/bin/qemu-x86_64 /usr/bin/python3 /usr/bin/python3 -m ipykernel_launcher -f /root/.local/share/j...\n5908\t0.61\t/usr/bin/qemu-x86_64 /usr/bin/python3 /usr/bin/python3 -m ipykernel_launcher -f /root/.local/share/j...\n6555\t0.38\t/usr/bin/qemu-x86_64 /usr/bin/python3 /usr/bin/python3 -m ipykernel_launcher -f /root/.local/share/j...\n10477\t0.33\t/usr/bin/qemu-x86_64 /usr/bin/python3 /usr/bin/python3 /usr/local/lib/python3.10/dist-packages/ray/_...\n6039\t0.14\t/usr/local/lib/python3.10/dist-packages/ray/core/src/ray/raylet/raylet --raylet_socket_name=/tmp/ray...\n5946\t0.13\t/usr/bin/qemu-x86_64 /usr/local/lib/python3.10/dist-packages/ray/core/src/ray/gcs/gcs_server /usr/lo...\n6598\t0.13\t/usr/bin/qemu-x86_64 /usr/local/lib/python3.10/dist-packages/ray/core/src/ray/gcs/gcs_server /usr/lo...\n6906\t0.12\t/usr/bin/qemu-x86_64 /usr/bin/python3 /usr/bin/python3 -u /usr/local/lib/python3.10/dist-packages/ra...\n6718\t0.12\t/usr/bin/qemu-x86_64 /usr/bin/python3 /usr/bin/python3 /usr/local/lib/python3.10/dist-packages/ray/d...\n6001\t0.12\t/usr/bin/qemu-x86_64 /usr/bin/python3 /usr/bin/python3 /usr/local/lib/python3.10/dist-packages/ray/d...\nRefer to the documentation on how to address the out of memory issue: https://docs.ray.io/en/latest/ray-core/scheduling/ray-oom-prevention.html. Consider provisioning more memory on this node or reducing task parallelism by requesting more CPUs per task. To adjust the kill threshold, set the environment variable `RAY_memory_usage_threshold` when starting Ray. To disable worker killing, set the environment variable `RAY_memory_monitor_refresh_ms` to zero."
     ]
    }
   ],
   "source": [
    "from janusq.baselines.fidelity_prediction.rb_prediction import RBModel\n",
    "rb_model = RBModel(simulator, multi_process = False)"
   ]
  },
  {
   "cell_type": "code",
   "execution_count": null,
   "metadata": {},
   "outputs": [],
   "source": [
    "# generate fidelity dataset\n",
    "benchmarking_circuits = random_circuits(backend, n_circuits=300, n_gate_list=[30, 50, 100], two_qubit_prob_list=[.4], reverse=True)\n",
    "benchmarking_fidelities = np.array(map(lambda circuit: simulator.obtain_circuit_fidelity(circuit)[0], benchmarking_circuits, show_progress=True, multi_process=True))\n",
    "\n",
    "rb_fidelities = np.array(map(lambda circuit: rb_model.predict_circuit_fidelity(circuit), benchmarking_circuits))\n",
    "janusct_fidelities = np.array(map(lambda circuit: fidelity_model.predict_circuit_fidelity(circuit), benchmarking_circuits))"
   ]
  },
  {
   "cell_type": "code",
   "execution_count": null,
   "metadata": {},
   "outputs": [],
   "source": [
    "\n",
    "import matplotlib.pyplot as plt\n",
    "from janusq.tools.plot import plot_scaater\n",
    "\n",
    "durations = np.array([cir.duration for cir in benchmarking_circuits])\n",
    "\n",
    "fig_quct, axes_quct = plot_scaater(benchmarking_fidelities, janusct_fidelities, durations, title = f\"janusct inaccuracy = {np.abs(benchmarking_fidelities - janusct_fidelities).mean()}\")\n",
    "fig_rb, axes_rb = plot_scaater(benchmarking_fidelities, rb_fidelities, durations, title = f\"rb inaccuracy = {np.abs(benchmarking_fidelities - rb_fidelities).mean()}\")\n"
   ]
  }
 ],
 "metadata": {
  "kernelspec": {
   "display_name": "Python 3 (ipykernel)",
   "language": "python",
   "name": "python3"
  },
  "language_info": {
   "codemirror_mode": {
    "name": "ipython",
    "version": 3
   },
   "file_extension": ".py",
   "mimetype": "text/x-python",
   "name": "python",
   "nbconvert_exporter": "python",
   "pygments_lexer": "ipython3",
   "version": "3.10.12"
  }
 },
 "nbformat": 4,
 "nbformat_minor": 4
}
