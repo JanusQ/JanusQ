{
 "cells": [
  {
   "cell_type": "markdown",
   "metadata": {},
   "source": [
    "# Fidelity Prediction Of JanusQ-CT on Real Quantum Device\n",
    "\n",
    "**Author:** Congliang Lang \\& Siwei Tan  \n",
    "\n",
    "**Date:** 7/4/2024\n",
    "\n",
    "Based on \"[QuCT: A Framework for Analyzing Quantum Circuit by Extracting Contextual and Topological Features (MICRO 2023][1]\"\n",
    "\n",
    "[1]: https://scholar.google.com/scholar_url?url=https://dl.acm.org/doi/abs/10.1145/3613424.3614274%3Fcasa_token%3DffjIB1hQ4ZwAAAAA:8MajDLrDOC74WoeMf7r7AoQ-koxCa4E1TNqQg3GSDz03xUX6XdE3toNTM-YdM_e4rKEusMceJ6BGJg&hl=zh-CN&sa=T&oi=gsb&ct=res&cd=0&d=11146218754516883150&ei=42YSZpPlFL6s6rQPtt6x6Ac&scisig=AFWwaeYaiu2hyx8HUJ_7Buf9Mwom\n",
    "\n",
    "\n",
    "In this notebook, we use the fidelity dataset of a custom superconducting quantum devices to evaluate the fidelity prediction model of Janus-CT. This device is custom with 18 Xmon qubits arranged in a 6×3 grid qubit topology and use RX, RY, RZ, and CZ gates as basis gates, with gate times of 30 ns and 60 ns for single-qubit and two-qubit gates, respectively. The single-qubit gate fidelity, two-qubit fidelity and measurement are 99.97\\%, 99.16\\% and 94.91\\%, repsecitvely, are benchmarked by isolated RB. For simultaneous RB, the single-qubit and two-qubit fidelities of both devices are above 99\\% and 98\\%, respectively.\n",
    "\n",
    "<div style=\"text-align:center;\">\n",
    "    <img src=\"pictures/2-3.processor_topology.jpg\"  width=\"20%\" height=\"20%\">\n",
    "</div>"
   ]
  },
  {
   "cell_type": "code",
   "execution_count": 1,
   "metadata": {},
   "outputs": [
    {
     "name": "stderr",
     "output_type": "stream",
     "text": [
      "2024-04-21 01:09:11,961\tWARNING services.py:1996 -- WARNING: The object store is using /tmp instead of /dev/shm because /dev/shm has only 67055616 bytes available. This will harm performance! You may be able to free up space by deleting files in /dev/shm. If you are inside a Docker container, you can increase /dev/shm size by passing '--shm-size=0.32gb' to 'docker run' (or add it to the run_options list in a Ray cluster config). Make sure to set this to more than 30% of available RAM.\n",
      "2024-04-21 01:09:13,570\tINFO worker.py:1724 -- Started a local Ray instance.\n"
     ]
    }
   ],
   "source": [
    "import sys\n",
    "sys.path.append('..')\n",
    "import os\n",
    "os.chdir(\"..\")\n",
    "import logging\n",
    "logging.basicConfig(level=logging.WARN)\n",
    "import ray\n",
    "ray.init(log_to_driver=False)#\n",
    "from janusq.analysis.fidelity_prediction import FidelityModel\n",
    "from janusq.baselines.fidelity_prediction.rb_prediction import RBModel\n",
    "\n",
    "from janusq.analysis.vectorization import RandomwalkModel\n",
    "\n",
    "from janusq.data_objects.backend import  GridBackend\n",
    "\n",
    "from janusq.tools.ray_func import map\n",
    "\n",
    "\n",
    "import numpy as np"
   ]
  },
  {
   "cell_type": "markdown",
   "metadata": {},
   "source": [
    "## Load fidelity dataset"
   ]
  },
  {
   "cell_type": "code",
   "execution_count": 2,
   "metadata": {},
   "outputs": [
    {
     "name": "stdout",
     "output_type": "stream",
     "text": [
      "2500\n"
     ]
    }
   ],
   "source": [
    "from janusq.dataset import real_qc_18bit\n",
    "\n",
    "circuits = real_qc_18bit\n",
    "print(len(circuits))\n"
   ]
  },
  {
   "cell_type": "code",
   "execution_count": 3,
   "metadata": {},
   "outputs": [],
   "source": [
    "# limit the number of circuits to speedup the model construction\n",
    "# circuits = circuits[:200]"
   ]
  },
  {
   "cell_type": "code",
   "execution_count": 4,
   "metadata": {},
   "outputs": [
    {
     "name": "stdout",
     "output_type": "stream",
     "text": [
      "10000 10000\n"
     ]
    }
   ],
   "source": [
    "sub_circuits, sub_fidelities = [], []\n",
    "for circuit in circuits:\n",
    "    for sub_cir in circuit.seperatable_circuits:\n",
    "        sub_circuits.append(sub_cir)\n",
    "        sub_fidelities.append(sub_cir.ground_truth_fidelity)\n",
    "\n",
    "print(len(sub_circuits), len(sub_fidelities))"
   ]
  },
  {
   "cell_type": "markdown",
   "metadata": {},
   "source": [
    "A large amount of zero-valued fidelities means less valid information, which negatively affects the training convergence and the model accuracy. For large-scale quantum device, e.g., 18-qubit device, we use seperable circuits to pervent the final fidelity from vanishing to zero due to a large number of gates. To address this, the separable circuits used in the fidelity dataset restrict the entangled qubits into sub-circuits within a small number of qubits.\n",
    "\n",
    "<div style=\"text-align:center;\">\n",
    "    <img src=\"pictures/2-3.lagre_fidelity.jpg\"  width=\"40%\" height=\"40%\">\n",
    "</div>"
   ]
  },
  {
   "cell_type": "code",
   "execution_count": 5,
   "metadata": {},
   "outputs": [],
   "source": [
    "# generate train datset and test dataset\n",
    "\n",
    "from sklearn.model_selection import train_test_split\n",
    "train_cirucits, test_circuits, train_fidelities, test_fidelities = train_test_split(sub_circuits,  sub_fidelities, test_size=.2)"
   ]
  },
  {
   "cell_type": "markdown",
   "metadata": {},
   "source": [
    "## Build Vectorization Model\n",
    "\n",
    "To train the fidelity prediction model, we first build the vectorization model for the quanutm device."
   ]
  },
  {
   "cell_type": "code",
   "execution_count": 6,
   "metadata": {},
   "outputs": [
    {
     "name": "stderr",
     "output_type": "stream",
     "text": [
      " 38%|████████████████▌                           | 3/8 [30:49<51:22, 616.49s/it]\n"
     ]
    },
    {
     "ename": "OutOfMemoryError",
     "evalue": "Task was killed due to the node running low on memory.\nMemory on the node (IP: 172.17.0.2, ID: 4b9c2231a84da8f552bff9a5304c85d0c7f76541665c03e84b1ded46) where the task (task ID: 965714499d3cdadcb6e4d37834f170785f25976101000000, name=_map, pid=15849, memory used=1.08GB) was running was 7.29GB / 7.66GB (0.951573), which exceeds the memory usage threshold of 0.95. Ray killed this worker (ID: 980c24807719ab5abf9e2be80e5dba68e7aa40b960974170fbbd3932) because it was the most recently scheduled task; to see more information about memory usage on this node, use `ray logs raylet.out -ip 172.17.0.2`. To see the logs of the worker, use `ray logs worker-980c24807719ab5abf9e2be80e5dba68e7aa40b960974170fbbd3932*out -ip 172.17.0.2. Top 10 memory users:\nPID\tMEM(GB)\tCOMMAND\n12364\t2.14\t/usr/bin/qemu-x86_64 /usr/bin/python3 /usr/bin/python3 -m ipykernel_launcher -f /root/.local/share/j...\n15849\t1.08\t/usr/bin/qemu-x86_64 /usr/bin/python3 /usr/bin/python3 /usr/local/lib/python3.10/dist-packages/ray/_...\n12986\t0.46\t/usr/bin/qemu-x86_64 /usr/bin/python3 /usr/bin/python3 -m ipykernel_launcher -f /root/.local/share/j...\n13258\t0.43\t/usr/bin/qemu-x86_64 /usr/bin/python3 /usr/bin/python3 -m ipykernel_launcher -f /root/.local/share/j...\n16026\t0.16\t/usr/bin/qemu-x86_64 /usr/bin/python3 /usr/bin/python3 /usr/local/lib/python3.10/dist-packages/ray/_...\n13710\t0.14\t/usr/bin/qemu-x86_64 /usr/bin/python3 /usr/bin/python3 /usr/local/lib/python3.10/dist-packages/ray/d...\n13656\t0.14\t/usr/bin/qemu-x86_64 /usr/local/lib/python3.10/dist-packages/ray/core/src/ray/gcs/gcs_server /usr/lo...\n13750\t0.12\t/usr/bin/qemu-x86_64 /usr/bin/python3 /usr/bin/python3 -u /usr/local/lib/python3.10/dist-packages/ra...\n13115\t0.12\t/usr/bin/qemu-x86_64 /usr/local/lib/python3.10/dist-packages/ray/core/src/ray/raylet/raylet /usr/loc...\n13024\t0.11\t/usr/bin/qemu-x86_64 /usr/local/lib/python3.10/dist-packages/ray/core/src/ray/gcs/gcs_server /usr/lo...\nRefer to the documentation on how to address the out of memory issue: https://docs.ray.io/en/latest/ray-core/scheduling/ray-oom-prevention.html. Consider provisioning more memory on this node or reducing task parallelism by requesting more CPUs per task. To adjust the kill threshold, set the environment variable `RAY_memory_usage_threshold` when starting Ray. To disable worker killing, set the environment variable `RAY_memory_monitor_refresh_ms` to zero.",
     "output_type": "error",
     "traceback": [
      "\u001b[0;31m---------------------------------------------------------------------------\u001b[0m",
      "\u001b[0;31mOutOfMemoryError\u001b[0m                          Traceback (most recent call last)",
      "Cell \u001b[0;32mIn[6], line 7\u001b[0m\n\u001b[1;32m      4\u001b[0m backend \u001b[38;5;241m=\u001b[39m GridBackend(\u001b[38;5;241m3\u001b[39m,\u001b[38;5;241m6\u001b[39m)\n\u001b[1;32m      6\u001b[0m vec_model \u001b[38;5;241m=\u001b[39m RandomwalkModel(n_steps \u001b[38;5;241m=\u001b[39m n_steps, n_walks \u001b[38;5;241m=\u001b[39m n_walks, backend \u001b[38;5;241m=\u001b[39m backend)\n\u001b[0;32m----> 7\u001b[0m \u001b[43mvec_model\u001b[49m\u001b[38;5;241;43m.\u001b[39;49m\u001b[43mtrain\u001b[49m\u001b[43m(\u001b[49m\u001b[43mcircuits\u001b[49m\u001b[43m,\u001b[49m\u001b[43m \u001b[49m\u001b[43mmulti_process\u001b[49m\u001b[43m \u001b[49m\u001b[38;5;241;43m=\u001b[39;49m\u001b[43m \u001b[49m\u001b[38;5;28;43;01mTrue\u001b[39;49;00m\u001b[43m,\u001b[49m\u001b[43m \u001b[49m\u001b[43mremove_redundancy\u001b[49m\u001b[43m \u001b[49m\u001b[38;5;241;43m=\u001b[39;49m\u001b[43m \u001b[49m\u001b[38;5;28;43;01mFalse\u001b[39;49;00m\u001b[43m)\u001b[49m\n",
      "File \u001b[0;32m/JanusQ/janusq/analysis/vectorization.py:246\u001b[0m, in \u001b[0;36mRandomwalkModel.train\u001b[0;34m(self, circuits, multi_process, n_process, remove_redundancy, return_value)\u001b[0m\n\u001b[1;32m    243\u001b[0m n_steps \u001b[38;5;241m=\u001b[39m \u001b[38;5;28mself\u001b[39m\u001b[38;5;241m.\u001b[39mn_steps\n\u001b[1;32m    244\u001b[0m n_walks \u001b[38;5;241m=\u001b[39m \u001b[38;5;28mself\u001b[39m\u001b[38;5;241m.\u001b[39mn_walks\n\u001b[0;32m--> 246\u001b[0m paths_per_circuit: \u001b[38;5;28mlist\u001b[39m[\u001b[38;5;28mlist\u001b[39m[\u001b[38;5;28mstr\u001b[39m]] \u001b[38;5;241m=\u001b[39m \u001b[38;5;28;43mmap\u001b[39;49m\u001b[43m(\u001b[49m\u001b[43mwalk_on_circuit\u001b[49m\u001b[43m,\u001b[49m\u001b[43m \u001b[49m\u001b[43mcircuits\u001b[49m\u001b[43m,\u001b[49m\u001b[43m \u001b[49m\u001b[43mmulti_process\u001b[49m\u001b[43m,\u001b[49m\u001b[43m \u001b[49m\u001b[43mn_process\u001b[49m\u001b[43m,\u001b[49m\u001b[43m \u001b[49m\u001b[43mshow_progress\u001b[49m\u001b[38;5;241;43m=\u001b[39;49m\u001b[38;5;28;43;01mTrue\u001b[39;49;00m\u001b[43m,\u001b[49m\u001b[43m \u001b[49m\u001b[43mn_steps\u001b[49m\u001b[38;5;241;43m=\u001b[39;49m\u001b[43mn_steps\u001b[49m\u001b[43m,\u001b[49m\u001b[43m \u001b[49m\u001b[43mn_walks\u001b[49m\u001b[38;5;241;43m=\u001b[39;49m\u001b[43mn_walks\u001b[49m\u001b[43m,\u001b[49m\n\u001b[1;32m    247\u001b[0m \u001b[43m                        \u001b[49m\u001b[43madjlist\u001b[49m\u001b[38;5;241;43m=\u001b[39;49m\u001b[43madjlist\u001b[49m\u001b[43m,\u001b[49m\u001b[43m \u001b[49m\u001b[43mdirections\u001b[49m\u001b[38;5;241;43m=\u001b[39;49m\u001b[38;5;28;43mself\u001b[39;49m\u001b[38;5;241;43m.\u001b[39;49m\u001b[43mdirections\u001b[49m\u001b[43m)\u001b[49m\n\u001b[1;32m    248\u001b[0m path_coexist_count \u001b[38;5;241m=\u001b[39m {}\n\u001b[1;32m    250\u001b[0m logging\u001b[38;5;241m.\u001b[39minfo(\u001b[38;5;124m'\u001b[39m\u001b[38;5;124mcount path\u001b[39m\u001b[38;5;124m'\u001b[39m)\n",
      "File \u001b[0;32m/JanusQ/janusq/tools/ray_func.py:53\u001b[0m, in \u001b[0;36mmap\u001b[0;34m(func, data, multi_process, n_process, show_progress, **kwargs)\u001b[0m\n\u001b[1;32m     51\u001b[0m     \u001b[38;5;28;01mfor\u001b[39;00m sub_dataset \u001b[38;5;129;01min\u001b[39;00m batch(data, batch_size\u001b[38;5;241m=\u001b[39mbatch_size):\n\u001b[1;32m     52\u001b[0m         futures\u001b[38;5;241m.\u001b[39mappend(_map\u001b[38;5;241m.\u001b[39mremote(sub_dataset, \u001b[38;5;241m*\u001b[39m\u001b[38;5;241m*\u001b[39mkwargs))\n\u001b[0;32m---> 53\u001b[0m     futures \u001b[38;5;241m=\u001b[39m \u001b[43mwait\u001b[49m\u001b[43m(\u001b[49m\u001b[43mfutures\u001b[49m\u001b[43m,\u001b[49m\u001b[43m \u001b[49m\u001b[43mshow_progress\u001b[49m\u001b[38;5;241;43m=\u001b[39;49m\u001b[43mshow_progress\u001b[49m\u001b[43m)\u001b[49m\n\u001b[1;32m     54\u001b[0m     \u001b[38;5;28;01mreturn\u001b[39;00m reduce(\u001b[38;5;28;01mlambda\u001b[39;00m a, b: a \u001b[38;5;241m+\u001b[39m b, futures)\n\u001b[1;32m     55\u001b[0m \u001b[38;5;28;01melse\u001b[39;00m:\n",
      "File \u001b[0;32m/JanusQ/janusq/tools/ray_func.py:89\u001b[0m, in \u001b[0;36mwait\u001b[0;34m(future, show_progress)\u001b[0m\n\u001b[1;32m     87\u001b[0m     results \u001b[38;5;241m=\u001b[39m []\n\u001b[1;32m     88\u001b[0m     \u001b[38;5;28;01mfor\u001b[39;00m future \u001b[38;5;129;01min\u001b[39;00m pb(futures, show_progress):\n\u001b[0;32m---> 89\u001b[0m         results\u001b[38;5;241m.\u001b[39mappend(\u001b[43mwait\u001b[49m\u001b[43m(\u001b[49m\u001b[43mfuture\u001b[49m\u001b[43m)\u001b[49m)\n\u001b[1;32m     90\u001b[0m     \u001b[38;5;28;01mreturn\u001b[39;00m results\n\u001b[1;32m     91\u001b[0m \u001b[38;5;28;01melif\u001b[39;00m is_ray_future(future):\n",
      "File \u001b[0;32m/JanusQ/janusq/tools/ray_func.py:92\u001b[0m, in \u001b[0;36mwait\u001b[0;34m(future, show_progress)\u001b[0m\n\u001b[1;32m     90\u001b[0m     \u001b[38;5;28;01mreturn\u001b[39;00m results\n\u001b[1;32m     91\u001b[0m \u001b[38;5;28;01melif\u001b[39;00m is_ray_future(future):\n\u001b[0;32m---> 92\u001b[0m     \u001b[38;5;28;01mreturn\u001b[39;00m \u001b[43mray\u001b[49m\u001b[38;5;241;43m.\u001b[39;49m\u001b[43mget\u001b[49m\u001b[43m(\u001b[49m\u001b[43mfuture\u001b[49m\u001b[43m)\u001b[49m\n\u001b[1;32m     93\u001b[0m \u001b[38;5;28;01melif\u001b[39;00m \u001b[38;5;28misinstance\u001b[39m(future, Future):\n\u001b[1;32m     94\u001b[0m     \u001b[38;5;28;01mreturn\u001b[39;00m future\u001b[38;5;241m.\u001b[39mresult()\n",
      "File \u001b[0;32m/usr/local/lib/python3.10/dist-packages/ray/_private/auto_init_hook.py:22\u001b[0m, in \u001b[0;36mwrap_auto_init.<locals>.auto_init_wrapper\u001b[0;34m(*args, **kwargs)\u001b[0m\n\u001b[1;32m     19\u001b[0m \u001b[38;5;129m@wraps\u001b[39m(fn)\n\u001b[1;32m     20\u001b[0m \u001b[38;5;28;01mdef\u001b[39;00m \u001b[38;5;21mauto_init_wrapper\u001b[39m(\u001b[38;5;241m*\u001b[39margs, \u001b[38;5;241m*\u001b[39m\u001b[38;5;241m*\u001b[39mkwargs):\n\u001b[1;32m     21\u001b[0m     auto_init_ray()\n\u001b[0;32m---> 22\u001b[0m     \u001b[38;5;28;01mreturn\u001b[39;00m \u001b[43mfn\u001b[49m\u001b[43m(\u001b[49m\u001b[38;5;241;43m*\u001b[39;49m\u001b[43margs\u001b[49m\u001b[43m,\u001b[49m\u001b[43m \u001b[49m\u001b[38;5;241;43m*\u001b[39;49m\u001b[38;5;241;43m*\u001b[39;49m\u001b[43mkwargs\u001b[49m\u001b[43m)\u001b[49m\n",
      "File \u001b[0;32m/usr/local/lib/python3.10/dist-packages/ray/_private/client_mode_hook.py:103\u001b[0m, in \u001b[0;36mclient_mode_hook.<locals>.wrapper\u001b[0;34m(*args, **kwargs)\u001b[0m\n\u001b[1;32m    101\u001b[0m     \u001b[38;5;28;01mif\u001b[39;00m func\u001b[38;5;241m.\u001b[39m\u001b[38;5;18m__name__\u001b[39m \u001b[38;5;241m!=\u001b[39m \u001b[38;5;124m\"\u001b[39m\u001b[38;5;124minit\u001b[39m\u001b[38;5;124m\"\u001b[39m \u001b[38;5;129;01mor\u001b[39;00m is_client_mode_enabled_by_default:\n\u001b[1;32m    102\u001b[0m         \u001b[38;5;28;01mreturn\u001b[39;00m \u001b[38;5;28mgetattr\u001b[39m(ray, func\u001b[38;5;241m.\u001b[39m\u001b[38;5;18m__name__\u001b[39m)(\u001b[38;5;241m*\u001b[39margs, \u001b[38;5;241m*\u001b[39m\u001b[38;5;241m*\u001b[39mkwargs)\n\u001b[0;32m--> 103\u001b[0m \u001b[38;5;28;01mreturn\u001b[39;00m \u001b[43mfunc\u001b[49m\u001b[43m(\u001b[49m\u001b[38;5;241;43m*\u001b[39;49m\u001b[43margs\u001b[49m\u001b[43m,\u001b[49m\u001b[43m \u001b[49m\u001b[38;5;241;43m*\u001b[39;49m\u001b[38;5;241;43m*\u001b[39;49m\u001b[43mkwargs\u001b[49m\u001b[43m)\u001b[49m\n",
      "File \u001b[0;32m/usr/local/lib/python3.10/dist-packages/ray/_private/worker.py:2626\u001b[0m, in \u001b[0;36mget\u001b[0;34m(object_refs, timeout)\u001b[0m\n\u001b[1;32m   2624\u001b[0m             \u001b[38;5;28;01mraise\u001b[39;00m value\u001b[38;5;241m.\u001b[39mas_instanceof_cause()\n\u001b[1;32m   2625\u001b[0m         \u001b[38;5;28;01melse\u001b[39;00m:\n\u001b[0;32m-> 2626\u001b[0m             \u001b[38;5;28;01mraise\u001b[39;00m value\n\u001b[1;32m   2628\u001b[0m \u001b[38;5;28;01mif\u001b[39;00m is_individual_id:\n\u001b[1;32m   2629\u001b[0m     values \u001b[38;5;241m=\u001b[39m values[\u001b[38;5;241m0\u001b[39m]\n",
      "\u001b[0;31mOutOfMemoryError\u001b[0m: Task was killed due to the node running low on memory.\nMemory on the node (IP: 172.17.0.2, ID: 4b9c2231a84da8f552bff9a5304c85d0c7f76541665c03e84b1ded46) where the task (task ID: 965714499d3cdadcb6e4d37834f170785f25976101000000, name=_map, pid=15849, memory used=1.08GB) was running was 7.29GB / 7.66GB (0.951573), which exceeds the memory usage threshold of 0.95. Ray killed this worker (ID: 980c24807719ab5abf9e2be80e5dba68e7aa40b960974170fbbd3932) because it was the most recently scheduled task; to see more information about memory usage on this node, use `ray logs raylet.out -ip 172.17.0.2`. To see the logs of the worker, use `ray logs worker-980c24807719ab5abf9e2be80e5dba68e7aa40b960974170fbbd3932*out -ip 172.17.0.2. Top 10 memory users:\nPID\tMEM(GB)\tCOMMAND\n12364\t2.14\t/usr/bin/qemu-x86_64 /usr/bin/python3 /usr/bin/python3 -m ipykernel_launcher -f /root/.local/share/j...\n15849\t1.08\t/usr/bin/qemu-x86_64 /usr/bin/python3 /usr/bin/python3 /usr/local/lib/python3.10/dist-packages/ray/_...\n12986\t0.46\t/usr/bin/qemu-x86_64 /usr/bin/python3 /usr/bin/python3 -m ipykernel_launcher -f /root/.local/share/j...\n13258\t0.43\t/usr/bin/qemu-x86_64 /usr/bin/python3 /usr/bin/python3 -m ipykernel_launcher -f /root/.local/share/j...\n16026\t0.16\t/usr/bin/qemu-x86_64 /usr/bin/python3 /usr/bin/python3 /usr/local/lib/python3.10/dist-packages/ray/_...\n13710\t0.14\t/usr/bin/qemu-x86_64 /usr/bin/python3 /usr/bin/python3 /usr/local/lib/python3.10/dist-packages/ray/d...\n13656\t0.14\t/usr/bin/qemu-x86_64 /usr/local/lib/python3.10/dist-packages/ray/core/src/ray/gcs/gcs_server /usr/lo...\n13750\t0.12\t/usr/bin/qemu-x86_64 /usr/bin/python3 /usr/bin/python3 -u /usr/local/lib/python3.10/dist-packages/ra...\n13115\t0.12\t/usr/bin/qemu-x86_64 /usr/local/lib/python3.10/dist-packages/ray/core/src/ray/raylet/raylet /usr/loc...\n13024\t0.11\t/usr/bin/qemu-x86_64 /usr/local/lib/python3.10/dist-packages/ray/core/src/ray/gcs/gcs_server /usr/lo...\nRefer to the documentation on how to address the out of memory issue: https://docs.ray.io/en/latest/ray-core/scheduling/ray-oom-prevention.html. Consider provisioning more memory on this node or reducing task parallelism by requesting more CPUs per task. To adjust the kill threshold, set the environment variable `RAY_memory_usage_threshold` when starting Ray. To disable worker killing, set the environment variable `RAY_memory_monitor_refresh_ms` to zero."
     ]
    }
   ],
   "source": [
    "n_qubits = 18\n",
    "n_steps = 1\n",
    "n_walks = 20\n",
    "backend = GridBackend(3,6)\n",
    "\n",
    "vec_model = RandomwalkModel(n_steps = n_steps, n_walks = n_walks, backend = backend)\n",
    "vec_model.train(circuits, multi_process = False, remove_redundancy = False)"
   ]
  },
  {
   "cell_type": "markdown",
   "metadata": {},
   "source": [
    "## Train Fidelity Model"
   ]
  },
  {
   "cell_type": "code",
   "execution_count": null,
   "metadata": {},
   "outputs": [],
   "source": [
    "fidelity_model = FidelityModel(vec_model)\n",
    "fidelity_model.train((train_cirucits, train_fidelities), multi_process = False)"
   ]
  },
  {
   "cell_type": "markdown",
   "metadata": {},
   "source": [
    "Janus-CT can also evaluate the weight of each path to identify high source of error. For example, when two gates leads to high error when they are in the same layer. It may result from crosstalk."
   ]
  },
  {
   "cell_type": "code",
   "execution_count": null,
   "metadata": {},
   "outputs": [],
   "source": [
    "fidelity_model.plot_path_error()"
   ]
  },
  {
   "cell_type": "markdown",
   "metadata": {},
   "source": [
    "## Compare to Random Benchmarking"
   ]
  },
  {
   "cell_type": "code",
   "execution_count": null,
   "metadata": {},
   "outputs": [],
   "source": [
    "# load the 1-q fidelities and 2-q fidelities of rb \n",
    "fidelity_1q_rb = {0: 0.9994094148043156, 1: 0.9993508083886652, 2: 0.9993513578387458, 3: 0.9996978330672296, 4: 0.9997258463524775, \n",
    "                           5: 0.9993898065578337, 6: 0.9998335484697743, 7: 0.9997460044815009,  8: 0.9997219426985601, 9: 0.9992924485427597, \n",
    "                           10: 0.9994018918682177, 11: 0.9998410411794697, 12: 0.9994231683912435, 13: 0.9995938422219371, 14: 0.9947661045069707, \n",
    "                           15: 0.9997576786354693, 16: 0.9998387638441334,  17: 0.9996691783504945} \n",
    "fidelity_2q_rb = {(5,11): 0.993651602350742, (11,17): 0.9943374306798481,  (4,5): 0.9810612795342519,  (10,11): 0.9915544427978213,  \n",
    "                           (16,17): 0.9908639448675425,  (4,10): 0.9914941121128581,  (10,16): 0.9868303060599511,  (3,4): 0.9899226069903224,  \n",
    "                           (9,10): 0.9945250360193374,  (15,16): 0.9933864398113101,  (3,9): 0.991508018299962,  (9,15): 0.993773364368622,  \n",
    "                           (2,3): 0.9802169505904027,  (8,9): 0.9912794178832776,  (14,15): 0.9867247971867894,  (2,8): 0.9765590682588615,  \n",
    "                           (8,14): 0.9863913339619792,  (1,2): 0.9713229087974011,  (7,8): 0.9908463216114999,  (13,14): 0.9564265490465305,  \n",
    "                           (1,7): 0.9856880460026779,  (7,13): 0.9935440562158602,  (0,1): 0.9833453296232256,  (6,7): 0.9939901490743566,  \n",
    "                           (12,13): 0.9821366244436676,  (0,6): 0.9861987068804432,  (6,12): 0.9863008252688662} \n"
   ]
  },
  {
   "cell_type": "code",
   "execution_count": null,
   "metadata": {},
   "outputs": [],
   "source": [
    "rb_fidelities = np.array(map(lambda circuit: RBModel.get_rb_fidelity(circuit, fidelity_1q_rb, fidelity_2q_rb), test_circuits))\n",
    "janusct_fidelities = np.array(map(lambda circuit: fidelity_model.predict_circuit_fidelity(circuit), test_circuits))\n"
   ]
  },
  {
   "cell_type": "code",
   "execution_count": null,
   "metadata": {},
   "outputs": [],
   "source": [
    "\n",
    "from janusq.tools.plot import plot_scaater\n",
    "\n",
    "durations = np.array([cir.duration for cir in test_circuits])\n",
    "\n",
    "fig_quct, axes_quct = plot_scaater(test_fidelities, janusct_fidelities, durations, title = f\"janusct inaccuracy = {np.abs(test_fidelities - janusct_fidelities).mean()}\")\n",
    "fig_rb, axes_rb = plot_scaater(test_fidelities, rb_fidelities, durations, title = f\"rb inaccuracy = {np.abs(test_fidelities - rb_fidelities).mean()}\")"
   ]
  }
 ],
 "metadata": {
  "kernelspec": {
   "display_name": "Python 3 (ipykernel)",
   "language": "python",
   "name": "python3"
  },
  "language_info": {
   "codemirror_mode": {
    "name": "ipython",
    "version": 3
   },
   "file_extension": ".py",
   "mimetype": "text/x-python",
   "name": "python",
   "nbconvert_exporter": "python",
   "pygments_lexer": "ipython3",
   "version": "3.10.12"
  }
 },
 "nbformat": 4,
 "nbformat_minor": 4
}
