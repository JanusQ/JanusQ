{
 "cells": [
  {
   "cell_type": "markdown",
   "metadata": {},
   "source": [
    "# Simulate Topological Time Crystal\n",
    "\n",
    "**Author:** Chenning Tao\n",
    "\n",
    "**Date:** 13/4/2024\n",
    "\n",
    "Based on paper \"[Digital quantum simulation of Floquet symmetry-protected topological phases][1]\"\n",
    "\n",
    "[1]: https://www.nature.com/articles/s41586-022-04854-3\n",
    "\n",
    "\n",
    "In this part, we will demonstrate how to simulate topology time crystal using Qiskit on our cloud platform and compare the simulated result with the real experiment result."
   ]
  },
  {
   "cell_type": "markdown",
   "metadata": {},
   "source": [
    "### Floquet Symmetry-protected Topological Time Phase（FSPT）\n",
    "\n",
    "Time crystal is a quantum system of particles whose lowest-energy state is one in which the particles are in repetitive motion, which can be seen as a new phase. And topological time crystal introduced in the paper is floquet symmetry-proteded topological time phase, which is a non-equilibrium topological phase enabled by time-periodic driving.\n",
    "\n",
    "These features are reflected on the time-periodic Hamiltonian of the qubits:\n",
    "$$\\begin{gathered}\n",
    "H(t)= \\begin{cases}H_1, & \\text { for } 0 \\leq t<T^{\\prime}, \\\\\n",
    "H_2, & \\text { for } T^{\\prime} \\leq t<T,\\end{cases} \\\\\n",
    "H_1 \\equiv\\left(\\frac{\\pi}{2}-\\delta\\right) \\sum_k \\hat{\\sigma}_k^x, \\\\\n",
    "H_2 \\equiv-\\sum_k\\left[J_k \\hat{\\sigma}_{k-1}^z \\hat{\\sigma}_k^x \\hat{\\sigma}_{k+1}^z+V_k \\hat{\\sigma}_k^x \\hat{\\sigma}_{k+1}^x+h_k \\hat{\\sigma}_k^x\\right]\n",
    "\\end{gathered}$$\n",
    "where H1 is the sum of on-body Pauli operators on different sites and introduces periodic driving, H2 includes interaction among neighboring sites, which introduces the subtle many-body properties in this system.\n"
   ]
  },
  {
   "cell_type": "markdown",
   "metadata": {},
   "source": [
    "## Build circuit function for FSPT phase\n",
    "\n",
    "The Hamiltonian mentioned above can be decomposed into the circuit shown in the figure.\n",
    "\n",
    "<div style=\"text-align:center;\">\n",
    "    <img src=\"./pictures/4-2.circuit.png\"  width=\"45%\" height=\"45%\">\n",
    "</div>"
   ]
  },
  {
   "cell_type": "markdown",
   "metadata": {},
   "source": [
    "The $H_1$ corresponds to the circuit in green background. This governing Hamiltonian H1 is the sum of one-body Pauli operators on different sites and introduces periodic driving. "
   ]
  },
  {
   "cell_type": "code",
   "execution_count": null,
   "metadata": {},
   "outputs": [],
   "source": [
    "# import necessary dependencies\n",
    "import sys\n",
    "import numpy as np\n",
    "sys.path.append('../')\n",
    "from janusq.data_objects.circuit import Circuit\n",
    "from janusq.cloud_interface import submit, get_result\n",
    "import matplotlib.pyplot as plt\n",
    "\n",
    "# define the number of qubits, in this tutorial we use 8 qubits\n",
    "num_qubits = 8\n",
    "\n",
    "# construct the quantum circuit corrsponding to H1\n",
    "def H1_FSPT(qc, layer):\n",
    "    # apply RX gates to all qubits with angle 0.99*pi\n",
    "    for j in range(num_qubits):\n",
    "        qc.rx(np.pi * 0.99, j, layer)\n",
    "    return qc\n",
    "\n",
    "qc = Circuit([], 8)\n",
    "qc = H1_FSPT(qc, 0)\n",
    "print(qc)\n"
   ]
  },
  {
   "cell_type": "markdown",
   "metadata": {},
   "source": [
    "The $H_2$ corresponds to the circuit in yellow background. For the parameter of RY (Jk), we use randomly generated value from uniform distribution."
   ]
  },
  {
   "cell_type": "code",
   "execution_count": null,
   "metadata": {},
   "outputs": [],
   "source": [
    "# construct the quantum circuit corrsponding to H2\n",
    "from scipy.stats import uniform\n",
    "# generate the parameter from uniform distribution\n",
    "Jk = uniform.rvs(0, 2, size=num_qubits-2)\n",
    "def H2_FSPT(qc, Jk, layer):\n",
    "    # apply CRZ, the control qubit is odd, the target qubit is even, angle is pi\n",
    "    for j in range(1, num_qubits, 2):\n",
    "        qc.crz(np.pi, j-1, j, layer)\n",
    "    # apply CRZ\n",
    "    for j in range(2, num_qubits, 2):\n",
    "        qc.crz(np.pi, j-1, j, layer+1)\n",
    "\n",
    "    # apply RY\n",
    "    for j in range(1, num_qubits-1):\n",
    "        qc.ry(-2*Jk[j-1], j, layer+2)\n",
    "\n",
    "    # apply CRZ\n",
    "    for j in range(2, num_qubits, 2):\n",
    "        qc.crz(-np.pi, j-1, j, layer+3)\n",
    "\n",
    "    for j in range(1, num_qubits, 2):\n",
    "        qc.crz(-np.pi, j-1, j, layer+4)\n",
    "\n",
    "    return qc\n",
    "\n",
    "print(H2_FSPT(qc, Jk, 1))"
   ]
  },
  {
   "cell_type": "markdown",
   "metadata": {},
   "source": [
    "## Build the circuit\n",
    "\n",
    "We build the circuit using the above function according to the time step and add some initialization for the circuit."
   ]
  },
  {
   "cell_type": "code",
   "execution_count": null,
   "metadata": {},
   "outputs": [],
   "source": [
    "def build_circuit(n, Jk):\n",
    "    qc = Circuit([], num_qubits)\n",
    "\n",
    "    reversed = []\n",
    "    # initialize the quantum state random orthogonal state of |0> and |1>\n",
    "    for i in range(0, num_qubits):\n",
    "        if np.random.rand() > 0.5:\n",
    "            qc.x(i, 0)\n",
    "            reversed.append(num_qubits-i-1)\n",
    "            \n",
    "    # build circuit\n",
    "    current_layer = 1\n",
    "    for i in range(1, n+1):\n",
    "        # if is odd\n",
    "        if i % 2 == 1:\n",
    "            qc = H1_FSPT(qc, current_layer)\n",
    "            current_layer += 1\n",
    "        else:\n",
    "            qc = H2_FSPT(qc, Jk, current_layer)\n",
    "            current_layer += 5\n",
    "\n",
    "    return qc, reversed\n",
    "\n",
    "# generate the parameter from uniform distribution\n",
    "Jk = uniform.rvs(0, 2, size=num_qubits-2)\n",
    "# generate the circuit and get the reversed qubits\n",
    "qc, reversed = build_circuit(2, Jk)\n",
    "print(qc)"
   ]
  },
  {
   "cell_type": "markdown",
   "metadata": {},
   "source": [
    "## Caculate the expection result\n",
    "For each duration of time step, we caculate the expection based on the measurement result.\n",
    "\n",
    "$$\\overline{\\left\\langle\\sigma_j^z(t)\\right\\rangle} = p_0 - p_1 = 1 - 2\\times p_1$$"
   ]
  },
  {
   "cell_type": "code",
   "execution_count": null,
   "metadata": {},
   "outputs": [],
   "source": [
    "# calculate the expectation value of the Z operator\n",
    "def expectation_value(res, i, reversed):\n",
    "    total_counts = sum(res.values())\n",
    "    p1 = 0\n",
    "    for bitstring, count in res.items():\n",
    "        if bitstring[i] == '1':\n",
    "            p1 += count / total_counts\n",
    "    if i in reversed:\n",
    "        return -(1-2*p1)\n",
    "    return 1 - 2*p1"
   ]
  },
  {
   "cell_type": "markdown",
   "metadata": {},
   "source": [
    "## Simulate\n",
    "With the above functions, we can run a single simualtion with the defined number of time step."
   ]
  },
  {
   "cell_type": "code",
   "execution_count": null,
   "metadata": {},
   "outputs": [],
   "source": [
    "import time\n",
    "# generate the parameter from uniform distribution\n",
    "Jk = uniform.rvs(0, 2, size=num_qubits-2)\n",
    "# generate the circuit and get the reversed qubits\n",
    "qc, reversed = build_circuit(2, Jk)\n",
    "\n",
    "shots = 100\n",
    "run_type = 'simulator'\n",
    "\n",
    "result_id = submit(circuit=qc, shots=shots, run_type=run_type, API_TOKEN='1')\n",
    "res = get_result(result_id['data']['result_id'], run_type=run_type)\n",
    "\n",
    "# calculate the expectation value\n",
    "for i in range(num_qubits):\n",
    "    print(expectation_value(res, i, reversed))"
   ]
  },
  {
   "cell_type": "markdown",
   "metadata": {},
   "source": [
    "## Draw the result\n",
    "\n",
    "We can compare our result with the experiment result. For each point in the figure, we generate and run teh circuit for 20 times (ATTENTION: this could take a while!).\n",
    "\n",
    "<div style=\"text-align:center;\">\n",
    "    <img src=\"./pictures/4-2.result.png\"  width=\"50%\" height=\"50%\">\n",
    "</div>"
   ]
  },
  {
   "cell_type": "code",
   "execution_count": null,
   "metadata": {},
   "outputs": [],
   "source": [
    "def collect_result(num_timestep, dis_pram, run_type, shots):\n",
    "    res = []\n",
    "    # collect the result for time step from 1 to num_timestep\n",
    "    for i in range(0, num_timestep):\n",
    "        res0 = 0\n",
    "        res_mid = 0\n",
    "        res7 = 0\n",
    "        repeat_time = 20\n",
    "        for _ in range(repeat_time):\n",
    "            # generate the parameter from uniform distribution\n",
    "            Jk = uniform.rvs(0, dis_pram, size=num_qubits-2)\n",
    "            qc, reversed = build_circuit(i, Jk)\n",
    "            result_id = submit(circuit=qc, shots=shots, run_type=run_type, API_TOKEN='1')\n",
    "            result = get_result(result_id['data']['result_id'], run_type=run_type)\n",
    "            res_0 = expectation_value(result, 0, reversed)\n",
    "            mid = 0\n",
    "            for j in range(1, num_qubits-1):\n",
    "                mid += expectation_value(result, j, reversed)\n",
    "            res_7 = expectation_value(result, num_qubits-1, reversed)\n",
    "            res0 += res_0\n",
    "            res7 += res_7\n",
    "            res_mid += mid / (num_qubits-2)\n",
    "        res0 /= repeat_time\n",
    "        res_mid /= repeat_time\n",
    "        res7 /= repeat_time\n",
    "        res.append([res0, res7, res_mid])\n",
    "    return res"
   ]
  },
  {
   "cell_type": "code",
   "execution_count": null,
   "metadata": {},
   "outputs": [],
   "source": [
    "import matplotlib.pyplot as plt\n",
    "\n",
    "res = collect_result(20, dis_pram=2, run_type='simulator', shots=100)\n",
    "res_t = list(map(list, zip(*tmp)))  \n",
    "\n",
    "# plot the result\n",
    "plt.plot(res_t[0], color='b', label='qubit 0')\n",
    "plt.plot(res_t[1], color='r', label='qubit 7') \n",
    "plt.plot(res_t[2], color='grey', label='bulk')\n",
    "\n",
    "plt.cla()\n",
    "plt.xlabel('Time step')\n",
    "plt.ylabel(r'$\\overline{\\left\\langle\\sigma^z\\right\\rangle}$')\n",
    "plt.legend()\n",
    "plt.show()\n"
   ]
  },
  {
   "cell_type": "markdown",
   "metadata": {},
   "source": [
    "And we can see the experiment result in the left. The y-axis is the expectation of $\\sigma_z$, which is equal to $P_0 – P_1$. We can see from the figure that for topological time crystal, only the qubits on the edge show period oscillation, while the inner qubits show no apparent pattern. And for the normal thermal phase, all qubits show no apparent pattern.\n"
   ]
  },
  {
   "cell_type": "markdown",
   "metadata": {},
   "source": [
    "## Run on real hardware\n",
    "For our JanusQ platform, if we set the run_type to `sqcg`, it will run on our quantum chip."
   ]
  },
  {
   "cell_type": "code",
   "execution_count": null,
   "metadata": {},
   "outputs": [],
   "source": [
    "for i in range(0, 10):\n",
    "    res0 = 0\n",
    "    res_mid = 0\n",
    "    res7 = 0\n",
    "    repeat_time = 20\n",
    "    for _ in range(repeat_time):\n",
    "        # generate the parameter from uniform distribution\n",
    "        Jk = uniform.rvs(0, dis_pram, size=num_qubits-2)\n",
    "        qc, reversed = build_circuit(i, Jk)\n",
    "        result_id = submit(circuit=qc, shots=3000, run_type='sqcg', API_TOKEN='1')\n",
    "        result = get_result(result_id['data']['result_id'], run_type=run_type)\n",
    "        res_0 = expectation_value(result, 0, reversed)\n",
    "        mid = 0\n",
    "        for j in range(1, num_qubits-1):\n",
    "            mid += expectation_value(result, j, reversed)\n",
    "        res_7 = expectation_value(result, num_qubits-1, reversed)\n",
    "        res0 += res_0\n",
    "        res7 += res_7\n",
    "        res_mid += mid / (num_qubits-2)\n",
    "    res0 /= repeat_time\n",
    "    res_mid /= repeat_time\n",
    "    res7 /= repeat_time\n",
    "    res.append([res0, res7, res_mid])\n",
    "    \n",
    "    tmp = res\n",
    "    res_t = list(map(list, zip(*tmp)))  \n",
    "\n",
    "    # plot the result\n",
    "    plt.plot(res_t[0], color='b', label='qubit 0')\n",
    "    plt.plot(res_t[1], color='r', label='qubit 7') \n",
    "    plt.plot(res_t[2], color='grey', label='bulk')\n",
    "\n",
    "    plt.cla()\n",
    "    plt.xlabel('Time step')\n",
    "    plt.ylabel(r'$\\overline{\\left\\langle\\sigma^z\\right\\rangle}$')\n",
    "    plt.legend()\n",
    "    plt.show()\n"
   ]
  }
 ],
 "metadata": {
  "kernelspec": {
   "display_name": "Python 3 (ipykernel)",
   "language": "python",
   "name": "python3"
  },
  "language_info": {
   "codemirror_mode": {
    "name": "ipython",
    "version": 3
   },
   "file_extension": ".py",
   "mimetype": "text/x-python",
   "name": "python",
   "nbconvert_exporter": "python",
   "pygments_lexer": "ipython3",
   "version": "3.10.12"
  }
 },
 "nbformat": 4,
 "nbformat_minor": 4
}
